{
 "cells": [
  {
   "cell_type": "markdown",
   "metadata": {},
   "source": [
    "Author: Hnin Pwint Tin, 20 May 2021\n",
    "\n",
    "Social and Information Network Analysis, 2021 Autumn\n",
    "\n",
    "Master of Data Science and Innovation , University of Technology Sydney\n",
    "\n",
    "This is the data preparation script part-4 for network data visualisation assessment task - AT3"
   ]
  },
  {
   "cell_type": "code",
   "execution_count": 12,
   "metadata": {},
   "outputs": [
    {
     "data": {
      "text/plain": [
       "(209929, 36)"
      ]
     },
     "execution_count": 12,
     "metadata": {},
     "output_type": "execute_result"
    }
   ],
   "source": [
    "import pandas as pd\n",
    "kaggle_data = pd.read_csv(\"data/Kaggle/file.csv\")\n",
    "kaggle_data.head()\n",
    "kaggle_data.shape"
   ]
  },
  {
   "cell_type": "code",
   "execution_count": 13,
   "metadata": {},
   "outputs": [],
   "source": [
    "filter_data = kaggle_data[kaggle_data['language'] == 'en'] [['conversation_id', 'id', 'created_at', 'user_id', 'username', 'reply_to', 'tweet']]"
   ]
  },
  {
   "cell_type": "code",
   "execution_count": 21,
   "metadata": {},
   "outputs": [
    {
     "data": {
      "text/plain": [
       "188437"
      ]
     },
     "execution_count": 21,
     "metadata": {},
     "output_type": "execute_result"
    }
   ],
   "source": [
    "# filter_data.groupby('conversation_id').count()\n",
    "len(filter_data['conversation_id'].unique())"
   ]
  },
  {
   "cell_type": "code",
   "execution_count": 15,
   "metadata": {},
   "outputs": [],
   "source": [
    "import ast\n",
    "\n",
    "### Convert String {'user_id': '355989081', 'username': 'ANI'} to dictionary to extact user_id and \n",
    "filter_data[\"reply_to_user_id\"] = filter_data[\"reply_to\"].map(lambda x: (ast.literal_eval(x))['user_id'])\n",
    "\n",
    "filter_data[\"reply_to_username\"] = filter_data[\"reply_to\"].map(lambda x: (ast.literal_eval(x))['username'])\n"
   ]
  },
  {
   "cell_type": "code",
   "execution_count": 17,
   "metadata": {},
   "outputs": [
    {
     "data": {
      "text/plain": [
       "(201030, 9)"
      ]
     },
     "execution_count": 17,
     "metadata": {},
     "output_type": "execute_result"
    }
   ],
   "source": [
    "filter_data.shape"
   ]
  },
  {
   "cell_type": "code",
   "execution_count": 18,
   "metadata": {},
   "outputs": [],
   "source": [
    "# Filter Replied to tweets only\n",
    "bool_series = pd.notnull(filter_data['reply_to_username'])\n",
    "cleaned_data = filter_data[bool_series]"
   ]
  },
  {
   "cell_type": "code",
   "execution_count": 20,
   "metadata": {},
   "outputs": [
    {
     "data": {
      "text/plain": [
       "(69736, 9)"
      ]
     },
     "execution_count": 20,
     "metadata": {},
     "output_type": "execute_result"
    }
   ],
   "source": [
    "cleaned_data.shape"
   ]
  },
  {
   "cell_type": "code",
   "execution_count": 19,
   "metadata": {},
   "outputs": [
    {
     "data": {
      "text/plain": [
       "40431"
      ]
     },
     "execution_count": 19,
     "metadata": {},
     "output_type": "execute_result"
    }
   ],
   "source": [
    "# cleaned_data.shape - 69736\n",
    "len(cleaned_data['conversation_id'].unique()) # 58685\n",
    "\n",
    "len(cleaned_data['username'].unique())  # 51358\n",
    "\n",
    "len(cleaned_data['reply_to_username'].unique()) # 40431"
   ]
  },
  {
   "cell_type": "markdown",
   "metadata": {},
   "source": [
    "### Node Table Creation - usernames"
   ]
  },
  {
   "cell_type": "code",
   "execution_count": 193,
   "metadata": {},
   "outputs": [
    {
     "name": "stdout",
     "output_type": "stream",
     "text": [
      "91789\n"
     ]
    },
    {
     "data": {
      "text/html": [
       "<div>\n",
       "<style scoped>\n",
       "    .dataframe tbody tr th:only-of-type {\n",
       "        vertical-align: middle;\n",
       "    }\n",
       "\n",
       "    .dataframe tbody tr th {\n",
       "        vertical-align: top;\n",
       "    }\n",
       "\n",
       "    .dataframe thead th {\n",
       "        text-align: right;\n",
       "    }\n",
       "</style>\n",
       "<table border=\"1\" class=\"dataframe\">\n",
       "  <thead>\n",
       "    <tr style=\"text-align: right;\">\n",
       "      <th></th>\n",
       "      <th>Id</th>\n",
       "    </tr>\n",
       "  </thead>\n",
       "  <tbody>\n",
       "    <tr>\n",
       "      <th>0</th>\n",
       "      <td>to_fly_to_live</td>\n",
       "    </tr>\n",
       "    <tr>\n",
       "      <th>1</th>\n",
       "      <td>bak_sahil</td>\n",
       "    </tr>\n",
       "    <tr>\n",
       "      <th>2</th>\n",
       "      <td>clivebennett</td>\n",
       "    </tr>\n",
       "    <tr>\n",
       "      <th>3</th>\n",
       "      <td>raquelquefois</td>\n",
       "    </tr>\n",
       "    <tr>\n",
       "      <th>4</th>\n",
       "      <td>hemagazineindia</td>\n",
       "    </tr>\n",
       "  </tbody>\n",
       "</table>\n",
       "</div>"
      ],
      "text/plain": [
       "                Id\n",
       "0   to_fly_to_live\n",
       "1        bak_sahil\n",
       "2     clivebennett\n",
       "3    raquelquefois\n",
       "4  hemagazineindia"
      ]
     },
     "execution_count": 193,
     "metadata": {},
     "output_type": "execute_result"
    }
   ],
   "source": [
    "#### Get the list of all usernames to form the node table\n",
    "userid_list = []\n",
    "userid_list = cleaned_data['username'].unique()\n",
    "import numpy as np\n",
    "\n",
    "userid_list =np.append (userid_list, cleaned_data['reply_to_username'].unique())\n",
    "print(len(userid_list)) # 91789\n",
    "\n",
    "\n",
    "df_node_table = pd.DataFrame()\n",
    "df_node_table['Id'] = userid_list\n",
    "df_node_table.head()"
   ]
  },
  {
   "cell_type": "markdown",
   "metadata": {},
   "source": [
    "### Edge Table Creation"
   ]
  },
  {
   "cell_type": "code",
   "execution_count": 22,
   "metadata": {},
   "outputs": [
    {
     "data": {
      "text/html": [
       "<div>\n",
       "<style scoped>\n",
       "    .dataframe tbody tr th:only-of-type {\n",
       "        vertical-align: middle;\n",
       "    }\n",
       "\n",
       "    .dataframe tbody tr th {\n",
       "        vertical-align: top;\n",
       "    }\n",
       "\n",
       "    .dataframe thead th {\n",
       "        text-align: right;\n",
       "    }\n",
       "</style>\n",
       "<table border=\"1\" class=\"dataframe\">\n",
       "  <thead>\n",
       "    <tr style=\"text-align: right;\">\n",
       "      <th></th>\n",
       "      <th>Source</th>\n",
       "      <th>Target</th>\n",
       "      <th>reply_text</th>\n",
       "    </tr>\n",
       "  </thead>\n",
       "  <tbody>\n",
       "    <tr>\n",
       "      <th>0</th>\n",
       "      <td>to_fly_to_live</td>\n",
       "      <td>ANI</td>\n",
       "      <td>@ANI Isn't it the best poll promise ever?? Fre...</td>\n",
       "    </tr>\n",
       "    <tr>\n",
       "      <th>3</th>\n",
       "      <td>bak_sahil</td>\n",
       "      <td>MisseeMonis</td>\n",
       "      <td>@MisseeMonis They said vaccine for all but not...</td>\n",
       "    </tr>\n",
       "    <tr>\n",
       "      <th>10</th>\n",
       "      <td>clivebennett</td>\n",
       "      <td>theJeremyVine</td>\n",
       "      <td>@theJeremyVine And on the same day we heard th...</td>\n",
       "    </tr>\n",
       "    <tr>\n",
       "      <th>21</th>\n",
       "      <td>raquelquefois</td>\n",
       "      <td>jim_dickinson</td>\n",
       "      <td>@jim_dickinson I’ve heard he died covid HOWEVE...</td>\n",
       "    </tr>\n",
       "    <tr>\n",
       "      <th>22</th>\n",
       "      <td>hemagazineindia</td>\n",
       "      <td>HEmagazineIndia</td>\n",
       "      <td>@journoarunima @netshrink @doctorsoumya @c_ass...</td>\n",
       "    </tr>\n",
       "  </tbody>\n",
       "</table>\n",
       "</div>"
      ],
      "text/plain": [
       "             Source           Target  \\\n",
       "0    to_fly_to_live              ANI   \n",
       "3         bak_sahil      MisseeMonis   \n",
       "10     clivebennett    theJeremyVine   \n",
       "21    raquelquefois    jim_dickinson   \n",
       "22  hemagazineindia  HEmagazineIndia   \n",
       "\n",
       "                                           reply_text  \n",
       "0   @ANI Isn't it the best poll promise ever?? Fre...  \n",
       "3   @MisseeMonis They said vaccine for all but not...  \n",
       "10  @theJeremyVine And on the same day we heard th...  \n",
       "21  @jim_dickinson I’ve heard he died covid HOWEVE...  \n",
       "22  @journoarunima @netshrink @doctorsoumya @c_ass...  "
      ]
     },
     "execution_count": 22,
     "metadata": {},
     "output_type": "execute_result"
    }
   ],
   "source": [
    "df_edge_table = pd.DataFrame()\n",
    "\n",
    "df_edge_table['Source'] = cleaned_data['username']\n",
    "df_edge_table['Target'] = cleaned_data['reply_to_username']\n",
    "df_edge_table['reply_text'] = cleaned_data['tweet']\n",
    "df_edge_table.head()"
   ]
  },
  {
   "cell_type": "code",
   "execution_count": 31,
   "metadata": {},
   "outputs": [
    {
     "name": "stdout",
     "output_type": "stream",
     "text": [
      "(1432, 3)\n"
     ]
    },
    {
     "data": {
      "text/html": [
       "<div>\n",
       "<style scoped>\n",
       "    .dataframe tbody tr th:only-of-type {\n",
       "        vertical-align: middle;\n",
       "    }\n",
       "\n",
       "    .dataframe tbody tr th {\n",
       "        vertical-align: top;\n",
       "    }\n",
       "\n",
       "    .dataframe thead th {\n",
       "        text-align: right;\n",
       "    }\n",
       "</style>\n",
       "<table border=\"1\" class=\"dataframe\">\n",
       "  <thead>\n",
       "    <tr style=\"text-align: right;\">\n",
       "      <th></th>\n",
       "      <th>Source</th>\n",
       "      <th>Target</th>\n",
       "      <th>reply_text</th>\n",
       "    </tr>\n",
       "  </thead>\n",
       "  <tbody>\n",
       "    <tr>\n",
       "      <th>15839</th>\n",
       "      <td>jcho710</td>\n",
       "      <td>jcho710</td>\n",
       "      <td>@KamalaHarris COVID VACCINE  https://t.co/rSkD...</td>\n",
       "    </tr>\n",
       "    <tr>\n",
       "      <th>16339</th>\n",
       "      <td>jcho710</td>\n",
       "      <td>jcho710</td>\n",
       "      <td>@OregonGovBrown COVID VACCINE  https://t.co/rS...</td>\n",
       "    </tr>\n",
       "    <tr>\n",
       "      <th>16343</th>\n",
       "      <td>jcho710</td>\n",
       "      <td>jcho710</td>\n",
       "      <td>@TonyRobbins COVID VACCINE  https://t.co/rSkDy...</td>\n",
       "    </tr>\n",
       "    <tr>\n",
       "      <th>16366</th>\n",
       "      <td>jcho710</td>\n",
       "      <td>jcho710</td>\n",
       "      <td>@JoeBiden COVID VACCINE  https://t.co/rSkDyDF1ia</td>\n",
       "    </tr>\n",
       "    <tr>\n",
       "      <th>16370</th>\n",
       "      <td>jcho710</td>\n",
       "      <td>jcho710</td>\n",
       "      <td>@GregAbbott_TX COVID VACCINE  https://t.co/rSk...</td>\n",
       "    </tr>\n",
       "    <tr>\n",
       "      <th>16451</th>\n",
       "      <td>jcho710</td>\n",
       "      <td>jcho710</td>\n",
       "      <td>@Jorgensen4POTUS COVID VACCINE  https://t.co/r...</td>\n",
       "    </tr>\n",
       "    <tr>\n",
       "      <th>16466</th>\n",
       "      <td>jcho710</td>\n",
       "      <td>jcho710</td>\n",
       "      <td>@mikepompeo COVID VACCINE  https://t.co/rSkDyD...</td>\n",
       "    </tr>\n",
       "    <tr>\n",
       "      <th>16496</th>\n",
       "      <td>jcho710</td>\n",
       "      <td>jcho710</td>\n",
       "      <td>@MayorOfLA COVID VACCINE  https://t.co/rSkDyDF1ia</td>\n",
       "    </tr>\n",
       "    <tr>\n",
       "      <th>16551</th>\n",
       "      <td>jcho710</td>\n",
       "      <td>jcho710</td>\n",
       "      <td>@JoeBiden COVID VACCINE  https://t.co/rSkDyDF1ia</td>\n",
       "    </tr>\n",
       "    <tr>\n",
       "      <th>16588</th>\n",
       "      <td>jcho710</td>\n",
       "      <td>jcho710</td>\n",
       "      <td>@JoeBiden COVID VACCINE  https://t.co/rSkDyDF1ia</td>\n",
       "    </tr>\n",
       "    <tr>\n",
       "      <th>16662</th>\n",
       "      <td>jcho710</td>\n",
       "      <td>jcho710</td>\n",
       "      <td>@PressSec COVID VACCINE  https://t.co/rSkDyDF1ia</td>\n",
       "    </tr>\n",
       "    <tr>\n",
       "      <th>16685</th>\n",
       "      <td>jcho710</td>\n",
       "      <td>jcho710</td>\n",
       "      <td>@IngrahamAngle COVID VACCINE  https://t.co/rSk...</td>\n",
       "    </tr>\n",
       "    <tr>\n",
       "      <th>16712</th>\n",
       "      <td>jcho710</td>\n",
       "      <td>jcho710</td>\n",
       "      <td>@JeremyClarkson COVID VACCINE  https://t.co/rS...</td>\n",
       "    </tr>\n",
       "    <tr>\n",
       "      <th>16810</th>\n",
       "      <td>jcho710</td>\n",
       "      <td>jcho710</td>\n",
       "      <td>@IAmMonique16 COVID VACCINE  https://t.co/rSkD...</td>\n",
       "    </tr>\n",
       "    <tr>\n",
       "      <th>16823</th>\n",
       "      <td>jcho710</td>\n",
       "      <td>jcho710</td>\n",
       "      <td>@JeremyClarkson COVID VACCINE  https://t.co/rS...</td>\n",
       "    </tr>\n",
       "    <tr>\n",
       "      <th>17217</th>\n",
       "      <td>jcho710</td>\n",
       "      <td>jcho710</td>\n",
       "      <td>@KamalaHarris COVID VACCINE  https://t.co/rSkD...</td>\n",
       "    </tr>\n",
       "    <tr>\n",
       "      <th>17218</th>\n",
       "      <td>jcho710</td>\n",
       "      <td>jcho710</td>\n",
       "      <td>@JoeBiden COVID VACCINE  https://t.co/rSkDyDF1ia</td>\n",
       "    </tr>\n",
       "    <tr>\n",
       "      <th>17252</th>\n",
       "      <td>jcho710</td>\n",
       "      <td>jcho710</td>\n",
       "      <td>@JoeBiden COVID VACCINE  https://t.co/rSkDyDF1ia</td>\n",
       "    </tr>\n",
       "    <tr>\n",
       "      <th>17412</th>\n",
       "      <td>jcho710</td>\n",
       "      <td>jcho710</td>\n",
       "      <td>@NYGovCuomo COVID VACCINE  https://t.co/rSkDyD...</td>\n",
       "    </tr>\n",
       "    <tr>\n",
       "      <th>17471</th>\n",
       "      <td>jcho710</td>\n",
       "      <td>jcho710</td>\n",
       "      <td>@JustinTrudeau COVID VACCINE  https://t.co/rSk...</td>\n",
       "    </tr>\n",
       "  </tbody>\n",
       "</table>\n",
       "</div>"
      ],
      "text/plain": [
       "        Source   Target                                         reply_text\n",
       "15839  jcho710  jcho710  @KamalaHarris COVID VACCINE  https://t.co/rSkD...\n",
       "16339  jcho710  jcho710  @OregonGovBrown COVID VACCINE  https://t.co/rS...\n",
       "16343  jcho710  jcho710  @TonyRobbins COVID VACCINE  https://t.co/rSkDy...\n",
       "16366  jcho710  jcho710   @JoeBiden COVID VACCINE  https://t.co/rSkDyDF1ia\n",
       "16370  jcho710  jcho710  @GregAbbott_TX COVID VACCINE  https://t.co/rSk...\n",
       "16451  jcho710  jcho710  @Jorgensen4POTUS COVID VACCINE  https://t.co/r...\n",
       "16466  jcho710  jcho710  @mikepompeo COVID VACCINE  https://t.co/rSkDyD...\n",
       "16496  jcho710  jcho710  @MayorOfLA COVID VACCINE  https://t.co/rSkDyDF1ia\n",
       "16551  jcho710  jcho710   @JoeBiden COVID VACCINE  https://t.co/rSkDyDF1ia\n",
       "16588  jcho710  jcho710   @JoeBiden COVID VACCINE  https://t.co/rSkDyDF1ia\n",
       "16662  jcho710  jcho710   @PressSec COVID VACCINE  https://t.co/rSkDyDF1ia\n",
       "16685  jcho710  jcho710  @IngrahamAngle COVID VACCINE  https://t.co/rSk...\n",
       "16712  jcho710  jcho710  @JeremyClarkson COVID VACCINE  https://t.co/rS...\n",
       "16810  jcho710  jcho710  @IAmMonique16 COVID VACCINE  https://t.co/rSkD...\n",
       "16823  jcho710  jcho710  @JeremyClarkson COVID VACCINE  https://t.co/rS...\n",
       "17217  jcho710  jcho710  @KamalaHarris COVID VACCINE  https://t.co/rSkD...\n",
       "17218  jcho710  jcho710   @JoeBiden COVID VACCINE  https://t.co/rSkDyDF1ia\n",
       "17252  jcho710  jcho710   @JoeBiden COVID VACCINE  https://t.co/rSkDyDF1ia\n",
       "17412  jcho710  jcho710  @NYGovCuomo COVID VACCINE  https://t.co/rSkDyD...\n",
       "17471  jcho710  jcho710  @JustinTrudeau COVID VACCINE  https://t.co/rSk..."
      ]
     },
     "execution_count": 31,
     "metadata": {},
     "output_type": "execute_result"
    }
   ],
   "source": [
    "jcho_self_edge = df_edge_table[(df_edge_table['Source'] == \"jcho710\") & (df_edge_table['Target'] == \"jcho710\")]\n",
    "print(jcho_self_edge.shape)\n",
    "jcho_self_edge.head(20)"
   ]
  },
  {
   "cell_type": "code",
   "execution_count": 29,
   "metadata": {},
   "outputs": [
    {
     "data": {
      "text/plain": [
       "(10, 3)"
      ]
     },
     "execution_count": 29,
     "metadata": {},
     "output_type": "execute_result"
    }
   ],
   "source": [
    "others_to_jcho_edge = df_edge_table[(df_edge_table['Source'] != \"jcho710\") & (df_edge_table['Target'] == \"jcho710\")]\n",
    "others_to_jcho_edge.shape"
   ]
  },
  {
   "cell_type": "markdown",
   "metadata": {},
   "source": [
    "### Save the Network Tables"
   ]
  },
  {
   "cell_type": "code",
   "execution_count": 194,
   "metadata": {},
   "outputs": [],
   "source": [
    "df_edge_table.to_csv(\"data/Kaggle/twitter_data_analysis-edge-table-username-based.csv\", index=False)\n",
    "df_node_table.to_csv(\"data/Kaggle/twitter_data_analysis-node-table-username-based.csv\", index=False)"
   ]
  },
  {
   "cell_type": "code",
   "execution_count": 195,
   "metadata": {},
   "outputs": [
    {
     "data": {
      "text/plain": [
       "(69736, 3)"
      ]
     },
     "execution_count": 195,
     "metadata": {},
     "output_type": "execute_result"
    }
   ],
   "source": [
    "df_edge_table.shape"
   ]
  },
  {
   "cell_type": "markdown",
   "metadata": {},
   "source": [
    "### Unit Testing"
   ]
  },
  {
   "cell_type": "code",
   "execution_count": 150,
   "metadata": {},
   "outputs": [
    {
     "name": "stdout",
     "output_type": "stream",
     "text": [
      "{'user_id': '355989081', 'username': 'ANI'}\n"
     ]
    }
   ],
   "source": [
    "import ast\n",
    "\n",
    "dictionary = ast.literal_eval(\"{'user_id': '355989081', 'username': 'ANI'}\")\n",
    "print(dictionary)"
   ]
  },
  {
   "cell_type": "code",
   "execution_count": null,
   "metadata": {},
   "outputs": [],
   "source": []
  }
 ],
 "metadata": {
  "kernelspec": {
   "display_name": "Python 3",
   "language": "python",
   "name": "python3"
  },
  "language_info": {
   "codemirror_mode": {
    "name": "ipython",
    "version": 3
   },
   "file_extension": ".py",
   "mimetype": "text/x-python",
   "name": "python",
   "nbconvert_exporter": "python",
   "pygments_lexer": "ipython3",
   "version": "3.8.5"
  }
 },
 "nbformat": 4,
 "nbformat_minor": 4
}
