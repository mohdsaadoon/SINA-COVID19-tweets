{
 "cells": [
  {
   "cell_type": "markdown",
   "metadata": {},
   "source": [
    "### AT3 SINA\n",
    "### Extract the tweets from the data sources\n",
    "\n",
    "\n",
    "1. Get the original dataset from https://data.mendeley.com/datasets/7ph4nx8hnc/1 (this link can be found at the last section of the paper: https://www.sciencedirect.com/science/article/pii/S2352340920305783) and store them into a folder (I'm using sina as the folder name)\n",
    "2. Run a docker container with SPARK\n",
    "3. Run this notebook to get 5 files:\n",
    "   a. list of tweet ID (covid_tweets.csv) --> make sure that the column name is tweet_id\n",
    "   b. list of edges (network) based on mention (edge_mention.csv)\n",
    "   c. list of edges (network) based on retweet (edge_retweet.csv)\n",
    "   d. list of edges (network) based on reply (edge_reply.csv)\n",
    "   e. list of edges (network) based on the combination of mention, retweet, and reply (edge_all.csv)\n",
    "\n",
    "\n",
    "(Execute the hydrate script below to donwload the tweets) \n",
    "#### Hydrate\n",
    "1. Create a twitter API key from https://developer.twitter.com/en/apps by creating an apps\n",
    "2. Copy the consumer_key, consumer_secret, access_token, and access_token_secret into api_keys.json\n",
    "3. Download get_metadata.py from https://github.com/thepanacealab/SMMT/tree/master/data_acquisition and save it into the same folder with covid_tweets.csv\n",
    "4. Open command prompt/terminal and run \n",
    "python get_metadata.py -i covid_tweets.csv -o hydrated_covid_tweets -k api_keys.json\n"
   ]
  },
  {
   "cell_type": "code",
   "execution_count": 1,
   "metadata": {},
   "outputs": [],
   "source": [
    "import pyspark.sql.functions as F\n",
    "from pyspark.sql import SparkSession, Window\n",
    "from pyspark.sql.types import IntegerType"
   ]
  },
  {
   "cell_type": "code",
   "execution_count": 2,
   "metadata": {},
   "outputs": [],
   "source": [
    "spark_sina = SparkSession\\\n",
    "                .builder\\\n",
    "                .appName('SINA') \\\n",
    "                .master(\"local[*]\") \\\n",
    "                .getOrCreate()"
   ]
  },
  {
   "cell_type": "markdown",
   "metadata": {},
   "source": [
    "## Data Load"
   ]
  },
  {
   "cell_type": "code",
   "execution_count": 6,
   "metadata": {},
   "outputs": [],
   "source": [
    "#list of tweets id\n",
    "df_tweet_date_lang = \\\n",
    "                spark_sina\\\n",
    "                .read \\\n",
    "                .option(\"header\", \"true\") \\\n",
    "                .option(\"inferSchema\", \"true\") \\\n",
    "                .csv(\"sina/01.Tw.Date.Lang.csv\")"
   ]
  },
  {
   "cell_type": "code",
   "execution_count": 3,
   "metadata": {},
   "outputs": [],
   "source": [
    "#list of relationship between nodes\n",
    "df_tweet_edges = \\\n",
    "                spark_sina\\\n",
    "                .read \\\n",
    "                .option(\"header\", \"true\") \\\n",
    "                .option(\"inferSchema\", \"true\") \\\n",
    "                .csv(\"sina/07a.Tw.edges.csv\")"
   ]
  },
  {
   "cell_type": "code",
   "execution_count": 4,
   "metadata": {},
   "outputs": [],
   "source": [
    "#list of nodes\n",
    "df_tweet_nodes = \\\n",
    "                spark_sina\\\n",
    "                .read \\\n",
    "                .option(\"header\", \"true\") \\\n",
    "                .option(\"inferSchema\", \"true\") \\\n",
    "                .csv(\"sina/07b.Tw.nodes.csv\")"
   ]
  },
  {
   "cell_type": "code",
   "execution_count": 16,
   "metadata": {},
   "outputs": [
    {
     "name": "stdout",
     "output_type": "stream",
     "text": [
      "root\n",
      " |-- status_id: string (nullable = true)\n",
      " |-- created_at: timestamp (nullable = true)\n",
      " |-- lang: string (nullable = true)\n",
      "\n"
     ]
    }
   ],
   "source": [
    "df_tweet_date_lang.printSchema()"
   ]
  },
  {
   "cell_type": "code",
   "execution_count": 25,
   "metadata": {},
   "outputs": [
    {
     "name": "stdout",
     "output_type": "stream",
     "text": [
      "root\n",
      " |-- from: string (nullable = true)\n",
      " |-- to: string (nullable = true)\n",
      " |-- Type: string (nullable = true)\n",
      " |-- status_id: string (nullable = true)\n",
      " |-- width: integer (nullable = true)\n",
      "\n"
     ]
    }
   ],
   "source": [
    "df_tweet_edges.printSchema()"
   ]
  },
  {
   "cell_type": "code",
   "execution_count": 26,
   "metadata": {},
   "outputs": [
    {
     "name": "stdout",
     "output_type": "stream",
     "text": [
      "root\n",
      " |-- name: string (nullable = true)\n",
      "\n"
     ]
    }
   ],
   "source": [
    "df_tweet_nodes.printSchema()"
   ]
  },
  {
   "cell_type": "code",
   "execution_count": 27,
   "metadata": {},
   "outputs": [
    {
     "name": "stdout",
     "output_type": "stream",
     "text": [
      "+--------------------+-------------------+----+\n",
      "|           status_id|         created_at|lang|\n",
      "+--------------------+-------------------+----+\n",
      "|x1216747185565507585|2020-01-13 15:41:49|  en|\n",
      "|x1216754859292184577|2020-01-13 16:12:19|  en|\n",
      "|x1216763045181034497|2020-01-13 16:44:50|  en|\n",
      "|x1216809242885267456|2020-01-13 19:48:25|  en|\n",
      "|x1216830795672948741|2020-01-13 21:14:03|  en|\n",
      "|x1216936785617416192|2020-01-14 04:15:13|  ja|\n",
      "|x1216955602607509505|2020-01-14 05:30:00|  en|\n",
      "|x1216964926226518022|2020-01-14 06:07:03|  en|\n",
      "|x1216991240115245057|2020-01-14 07:51:36|  en|\n",
      "|x1217027488137826304|2020-01-14 10:15:39|  zh|\n",
      "|x1217038653194674176|2020-01-14 11:00:01|  en|\n",
      "|x1217043229427761152|2020-01-14 11:18:12|  en|\n",
      "|x1217054498994024448|2020-01-14 12:02:58|  en|\n",
      "|x1217087723116355585|2020-01-14 14:15:00|  en|\n",
      "|x1217097034500657152|2020-01-14 14:52:00|  es|\n",
      "|x1217105359044673536|2020-01-14 15:25:04|  zh|\n",
      "|x1217118941434142721|2020-01-14 16:19:03|  en|\n",
      "|x1217126105506820096|2020-01-14 16:47:31|  en|\n",
      "|x1217136331366785024|2020-01-14 17:28:09|  en|\n",
      "|x1217138306733002752|2020-01-14 17:36:00|  en|\n",
      "+--------------------+-------------------+----+\n",
      "only showing top 20 rows\n",
      "\n"
     ]
    }
   ],
   "source": [
    "df_tweet_date_lang.show()"
   ]
  },
  {
   "cell_type": "code",
   "execution_count": 28,
   "metadata": {},
   "outputs": [
    {
     "name": "stdout",
     "output_type": "stream",
     "text": [
      "+--------------+---------------+-----+--------------------+-----+\n",
      "|          from|             to| Type|           status_id|width|\n",
      "+--------------+---------------+-----+--------------------+-----+\n",
      "|  DrNancyM_CDC|         CDCgov|2. MT|x1216747185565507585|    1|\n",
      "|           WHO|        WHOWPRO|4. Re|x1217027488137826304|    1|\n",
      "|   CDCDirector|         CDCgov|2. MT|x1217126105506820096|    1|\n",
      "|           WHO|        pr_moph|2. MT|x1217151178884222976|    1|\n",
      "|HelenBranswell|            WHO|2. MT|x1217191264858206209|    1|\n",
      "|            UN|            WHO|2. MT|x1217265645529837568|    1|\n",
      "|     QuickTake|       business|2. MT|x1217741070643027969|    1|\n",
      "|           WHO|    WHOThailand|4. Re|x1217787666072293376|    1|\n",
      "|           WHO|        WHOKobe|4. Re|x1217787666072293376|    1|\n",
      "|           WHO|       WHOSEARO|4. Re|x1217787666072293376|    1|\n",
      "|           WHO|        WHOWPRO|4. Re|x1217787666072293376|    1|\n",
      "|           WHO|      MHLWitter|2. MT|x1217898691375370242|    1|\n",
      "|      marynmck|     T_Inglesby|2. MT|x1219008114353233920|    1|\n",
      "|    dw_espanol|imperialcollege|2. MT|x1219042741834874882|    1|\n",
      "|    dw_espanol|   MRC_Outbreak|2. MT|x1219042741834874882|    1|\n",
      "|    dw_espanol|       KoreaCDC|2. MT|x1219134092354162689|    1|\n",
      "|        yananw|             AP|2. MT|x1219200510042894337|    1|\n",
      "|    Sheeple101|    md444444444|4. Re|x1219205057758973954|    1|\n",
      "|    Sheeple101|DanaElizabeth69|4. Re|x1219205057758973954|    1|\n",
      "|    Sheeple101|        doritmi|4. Re|x1219205057758973954|    1|\n",
      "+--------------+---------------+-----+--------------------+-----+\n",
      "only showing top 20 rows\n",
      "\n"
     ]
    }
   ],
   "source": [
    "df_tweet_edges.show()"
   ]
  },
  {
   "cell_type": "code",
   "execution_count": 7,
   "metadata": {},
   "outputs": [
    {
     "name": "stdout",
     "output_type": "stream",
     "text": [
      "+-------------------+-------------------+\n",
      "|           min_date|           max_date|\n",
      "+-------------------+-------------------+\n",
      "|2020-01-13 15:41:49|2020-02-12 23:59:59|\n",
      "+-------------------+-------------------+\n",
      "\n"
     ]
    }
   ],
   "source": [
    "#get the latest date available\n",
    "df_tweet_date_lang.groupBy()\\\n",
    "        .agg(F.min(F.col('created_at')).alias('min_date'),\n",
    "             F.max(F.col('created_at')).alias('max_date'))\\\n",
    "        .show()"
   ]
  },
  {
   "cell_type": "code",
   "execution_count": 9,
   "metadata": {},
   "outputs": [],
   "source": [
    "#get the latest data only (2 days)\n",
    "df_tweet_filtered = \\\n",
    "        df_tweet_date_lang.filter((F.col('lang') == 'en') & \n",
    "                                  (F.col('created_at') >= '2020-02-11 00:00:00') &\n",
    "                                  (F.col('created_at') <= '2020-02-12 23:59:59'))"
   ]
  },
  {
   "cell_type": "code",
   "execution_count": 10,
   "metadata": {},
   "outputs": [
    {
     "data": {
      "text/plain": [
       "582832"
      ]
     },
     "execution_count": 10,
     "metadata": {},
     "output_type": "execute_result"
    }
   ],
   "source": [
    "df_tweet_filtered.count()"
   ]
  },
  {
   "cell_type": "code",
   "execution_count": 31,
   "metadata": {},
   "outputs": [
    {
     "name": "stdout",
     "output_type": "stream",
     "text": [
      "+--------------------+-------------------+----+\n",
      "|           status_id|         created_at|lang|\n",
      "+--------------------+-------------------+----+\n",
      "|x1226657027260370944|2020-02-10 00:00:00|  en|\n",
      "|x1226657027499450368|2020-02-10 00:00:00|  en|\n",
      "|x1226657027587530752|2020-02-10 00:00:00|  en|\n",
      "|x1226657027717509120|2020-02-10 00:00:00|  en|\n",
      "|x1226657027721695232|2020-02-10 00:00:00|  en|\n",
      "|x1226657027730046977|2020-02-10 00:00:00|  en|\n",
      "|x1226657028258619392|2020-02-10 00:00:00|  en|\n",
      "|x1226657028325748737|2020-02-10 00:00:00|  en|\n",
      "|x1226657028501843968|2020-02-10 00:00:00|  en|\n",
      "|x1226657029172817920|2020-02-10 00:00:00|  en|\n",
      "|x1226657029172932608|2020-02-10 00:00:00|  en|\n",
      "|x1226657029298716680|2020-02-10 00:00:00|  en|\n",
      "|x1226657029323972608|2020-02-10 00:00:00|  en|\n",
      "|x1226657029831434240|2020-02-10 00:00:00|  en|\n",
      "|x1226657030129246208|2020-02-10 00:00:00|  en|\n",
      "|x1226657030271832065|2020-02-10 00:00:00|  en|\n",
      "|x1226657030481620992|2020-02-10 00:00:00|  en|\n",
      "|x1226657030531883008|2020-02-10 00:00:00|  en|\n",
      "|x1226657030837956608|2020-02-10 00:00:00|  en|\n",
      "|x1226657031014273025|2020-02-10 00:00:01|  en|\n",
      "+--------------------+-------------------+----+\n",
      "only showing top 20 rows\n",
      "\n"
     ]
    }
   ],
   "source": [
    "df_tweet_filtered.show()"
   ]
  },
  {
   "cell_type": "code",
   "execution_count": 13,
   "metadata": {},
   "outputs": [],
   "source": [
    "#get the edges for the latest tweets only\n",
    "\n",
    "df_tweet_edges_filtered = df_tweet_edges.join(df_tweet_filtered, on = 'status_id')"
   ]
  },
  {
   "cell_type": "code",
   "execution_count": 14,
   "metadata": {},
   "outputs": [
    {
     "data": {
      "text/plain": [
       "529608"
      ]
     },
     "execution_count": 14,
     "metadata": {},
     "output_type": "execute_result"
    }
   ],
   "source": [
    "df_tweet_edges_filtered.count()"
   ]
  },
  {
   "cell_type": "code",
   "execution_count": 55,
   "metadata": {},
   "outputs": [
    {
     "name": "stdout",
     "output_type": "stream",
     "text": [
      "+--------------------+---------------+--------------+-----+-----+-------------------+----+\n",
      "|           status_id|           from|            to| Type|width|         created_at|lang|\n",
      "+--------------------+---------------+--------------+-----+-----+-------------------+----+\n",
      "|x1227019622374789120|       bsumit83|     AskAnshul|3. RT|    1|2020-02-11 00:00:49|  en|\n",
      "|x1227019670852472832| TruthJusticeRt|  viamediainfo|3. RT|    1|2020-02-11 00:01:01|  en|\n",
      "|x1227019692100870144|     Be_Kinderr| ChrisMurphyCT|3. RT|    1|2020-02-11 00:01:06|  en|\n",
      "|x1227022879977607168|   thinkitsayit| SenanGeraghty|4. Re|    1|2020-02-11 00:13:46|  en|\n",
      "|x1227023277224271872|  JimDavisOnAir|BBCRadioLondon|2. MT|    1|2020-02-11 00:15:20|  en|\n",
      "|x1227024226844135424|        Shugy06|       BNODesk|3. RT|    1|2020-02-11 00:19:07|  en|\n",
      "|x1227024262483075072|      SWIMKILLS|     RANsquawk|3. RT|    1|2020-02-11 00:19:15|  en|\n",
      "|x1227024330753634305|I_Doesnt_Care_U|      IsChinar|3. RT|    1|2020-02-11 00:19:32|  en|\n",
      "|x1227024443450515457|       TiaMsiza|spectatorindex|3. RT|    1|2020-02-11 00:19:58|  en|\n",
      "|x1227024745792667649|kpnationalist19|     dmon4ever|3. RT|    1|2020-02-11 00:21:11|  en|\n",
      "|x1227024902143848448|    Zim_Chantal|  Sun_Zhenlong|3. RT|    1|2020-02-11 00:21:48|  en|\n",
      "|x1227025063058108416|  ship_law_nerd|      gCaptain|3. RT|    1|2020-02-11 00:22:26|  en|\n",
      "|x1227025227063988227|4umaggie2012Mae|    JimRenacci|3. RT|    1|2020-02-11 00:23:05|  en|\n",
      "|x1227025261675216896|  ManFromMarina|    SenSchumer|3. RT|    1|2020-02-11 00:23:14|  en|\n",
      "|x1227025385415675905| wistfulVulpine|kenchengcomedy|3. RT|    1|2020-02-11 00:23:43|  en|\n",
      "|x1227025494035615745|     PMAUSA2017|        maddow|3. RT|    1|2020-02-11 00:24:09|  en|\n",
      "|x1227025551145263104| fasterbunny666|     Hellacort|3. RT|    1|2020-02-11 00:24:23|  en|\n",
      "|x1227025603297067009|    accessana66|  SamHarrisOrg|4. Re|    1|2020-02-11 00:24:35|  en|\n",
      "|x1227025603297067009|    accessana66|   MaajidNawaz|4. Re|    1|2020-02-11 00:24:35|  en|\n",
      "|x1227025623606009856|       freegalt|   kapiljaink3|3. RT|    1|2020-02-11 00:24:40|  en|\n",
      "+--------------------+---------------+--------------+-----+-----+-------------------+----+\n",
      "only showing top 20 rows\n",
      "\n"
     ]
    }
   ],
   "source": [
    "df_tweet_edges_filtered.show()"
   ]
  },
  {
   "cell_type": "code",
   "execution_count": 56,
   "metadata": {},
   "outputs": [
    {
     "data": {
      "text/plain": [
       "[Row(Type='2. MT'), Row(Type='4. Re'), Row(Type='3. RT')]"
      ]
     },
     "execution_count": 56,
     "metadata": {},
     "output_type": "execute_result"
    }
   ],
   "source": [
    "df_tweet_edges_filtered.select('Type').distinct().collect()"
   ]
  },
  {
   "cell_type": "code",
   "execution_count": 11,
   "metadata": {},
   "outputs": [],
   "source": [
    "#remove prefix X from status id\n",
    "df_tweet_filtered = df_tweet_filtered\\\n",
    "        .withColumn('tweet_id',F.regexp_replace(F.col('status_id'), 'x', ''))"
   ]
  },
  {
   "cell_type": "code",
   "execution_count": 66,
   "metadata": {},
   "outputs": [
    {
     "name": "stdout",
     "output_type": "stream",
     "text": [
      "+--------------------+-------------------+----+-------------------+\n",
      "|           status_id|         created_at|lang|           tweet_id|\n",
      "+--------------------+-------------------+----+-------------------+\n",
      "|x1227019414584709120|2020-02-11 00:00:00|  en|1227019414584709120|\n",
      "|x1227019414739931136|2020-02-11 00:00:00|  en|1227019414739931136|\n",
      "|x1227019414882570240|2020-02-11 00:00:00|  en|1227019414882570240|\n",
      "|x1227019415520083968|2020-02-11 00:00:00|  en|1227019415520083968|\n",
      "|x1227019415612542977|2020-02-11 00:00:00|  en|1227019415612542977|\n",
      "|x1227019415650066436|2020-02-11 00:00:00|  en|1227019415650066436|\n",
      "|x1227019415700561920|2020-02-11 00:00:00|  en|1227019415700561920|\n",
      "|x1227019415708819457|2020-02-11 00:00:00|  en|1227019415708819457|\n",
      "|x1227019415746682882|2020-02-11 00:00:00|  en|1227019415746682882|\n",
      "|x1227019415859978240|2020-02-11 00:00:00|  en|1227019415859978240|\n",
      "|x1227019415960608768|2020-02-11 00:00:00|  en|1227019415960608768|\n",
      "|x1227019416388263936|2020-02-11 00:00:00|  en|1227019416388263936|\n",
      "|x1227019416648454144|2020-02-11 00:00:00|  en|1227019416648454144|\n",
      "|x1227019416778371072|2020-02-11 00:00:00|  en|1227019416778371072|\n",
      "|x1227019417093124100|2020-02-11 00:00:00|  en|1227019417093124100|\n",
      "|x1227019417277673472|2020-02-11 00:00:00|  en|1227019417277673472|\n",
      "|x1227019417340407808|2020-02-11 00:00:00|  en|1227019417340407808|\n",
      "|x1227019417357340673|2020-02-11 00:00:00|  en|1227019417357340673|\n",
      "|x1227019417407459328|2020-02-11 00:00:00|  en|1227019417407459328|\n",
      "|x1227019417457836032|2020-02-11 00:00:00|  en|1227019417457836032|\n",
      "+--------------------+-------------------+----+-------------------+\n",
      "only showing top 20 rows\n",
      "\n"
     ]
    }
   ],
   "source": [
    "df_tweet_filtered.show()"
   ]
  },
  {
   "cell_type": "code",
   "execution_count": 68,
   "metadata": {},
   "outputs": [],
   "source": [
    "#save to CSV\n",
    "#tweet\n",
    "df_tweet_filtered.select(F.col('tweet_id'))\\\n",
    "                .write.option(\"header\", \"true\")\\\n",
    "                .csv('covid_tweets.csv')"
   ]
  },
  {
   "cell_type": "code",
   "execution_count": 70,
   "metadata": {},
   "outputs": [],
   "source": [
    "#edges - based on mention\n",
    "df_tweet_edges_filtered.filter(F.col('Type') == '2. MT')\\\n",
    "        .select(F.col('from'), F.col('to'))\\\n",
    "        .repartition(1).write\\\n",
    "        .csv('edge_mention.csv')"
   ]
  },
  {
   "cell_type": "code",
   "execution_count": 71,
   "metadata": {},
   "outputs": [],
   "source": [
    "#edges - based on retweet\n",
    "df_tweet_edges_filtered.filter(F.col('Type') == '3. RT')\\\n",
    "        .select(F.col('from'), F.col('to'))\\\n",
    "        .repartition(1).write\\\n",
    "        .csv('edge_retweet.csv')"
   ]
  },
  {
   "cell_type": "code",
   "execution_count": 72,
   "metadata": {},
   "outputs": [],
   "source": [
    "#edges - based on reply\n",
    "df_tweet_edges_filtered.filter(F.col('Type') == '4. Re')\\\n",
    "        .select(F.col('from'), F.col('to'))\\\n",
    "        .repartition(1).write\\\n",
    "        .csv('edge_reply.csv')"
   ]
  },
  {
   "cell_type": "code",
   "execution_count": 73,
   "metadata": {},
   "outputs": [],
   "source": [
    "#edges - all\n",
    "df_tweet_edges_filtered.select(F.col('from'), F.col('to'))\\\n",
    "        .repartition(1).write\\\n",
    "        .csv('edge_all.csv')"
   ]
  },
  {
   "cell_type": "code",
   "execution_count": 47,
   "metadata": {},
   "outputs": [
    {
     "name": "stdout",
     "output_type": "stream",
     "text": [
      "+--------------------+---------------+------------+-----+-----+-------------------+----+-------------------+\n",
      "|           status_id|           from|          to| Type|width|         created_at|lang|           tweet_id|\n",
      "+--------------------+---------------+------------+-----+-----+-------------------+----+-------------------+\n",
      "|x1227632511041359872|EdwardGordon_M1|GordonGChang|3. RT|    1|2020-02-12 16:36:13|  en|1227632511041359872|\n",
      "|x1227638030829326336|ChrisRecker_AZA|GordonGChang|3. RT|    1|2020-02-12 16:58:09|  en|1227638030829326336|\n",
      "|x1227025538344247297|  Right_Realist|GordonGChang|3. RT|    1|2020-02-11 00:24:20|  en|1227025538344247297|\n",
      "|x1227627759393837056|  Bondy82422070|GordonGChang|3. RT|    1|2020-02-12 16:17:20|  en|1227627759393837056|\n",
      "|x1227668307043659776|      sport5105|GordonGChang|3. RT|    1|2020-02-12 18:58:28|  en|1227668307043659776|\n",
      "|x1227653845469290496|   GhalipNadira|GordonGChang|3. RT|    1|2020-02-12 18:01:00|  en|1227653845469290496|\n",
      "|x1227712523002052609|  Bobby63276884|GordonGChang|3. RT|    1|2020-02-12 21:54:09|  en|1227712523002052609|\n",
      "|x1227297844303781888|    Juswundurin|GordonGChang|3. RT|    1|2020-02-11 18:26:22|  en|1227297844303781888|\n",
      "|x1227728907429928960|     waves_wv00|GordonGChang|4. Re|    1|2020-02-12 22:59:16|  en|1227728907429928960|\n",
      "|x1227327854754574338|       vito4224|GordonGChang|3. RT|    1|2020-02-11 20:25:37|  en|1227327854754574338|\n",
      "|x1227449041593741313|   jarvisdavidw|GordonGChang|3. RT|    1|2020-02-12 04:27:11|  en|1227449041593741313|\n",
      "|x1227639795058274306| qwertyuiioasdg|GordonGChang|3. RT|    1|2020-02-12 17:05:10|  en|1227639795058274306|\n",
      "|x1227644811059970048|washington_wind|GordonGChang|3. RT|    1|2020-02-12 17:25:06|  en|1227644811059970048|\n",
      "|x1227120225008570369|     LRRHBakery|GordonGChang|3. RT|    1|2020-02-11 06:40:35|  en|1227120225008570369|\n",
      "|x1227299452173590533|      TookiBear|GordonGChang|3. RT|    1|2020-02-11 18:32:46|  en|1227299452173590533|\n",
      "|x1227312799061336064|PAManufacturers|GordonGChang|3. RT|    1|2020-02-11 19:25:48|  en|1227312799061336064|\n",
      "|x1227640908537044994|    Marine70411|GordonGChang|3. RT|    1|2020-02-12 17:09:35|  en|1227640908537044994|\n",
      "|x1227582968656326656|        Terence|GordonGChang|3. RT|    1|2020-02-12 13:19:21|  en|1227582968656326656|\n",
      "|x1227640471557570560| mariamcdaniel1|GordonGChang|3. RT|    1|2020-02-12 17:07:51|  en|1227640471557570560|\n",
      "|x1227735953583665153|     hanyumeiji|GordonGChang|3. RT|    1|2020-02-12 23:27:16|  en|1227735953583665153|\n",
      "+--------------------+---------------+------------+-----+-----+-------------------+----+-------------------+\n",
      "only showing top 20 rows\n",
      "\n"
     ]
    }
   ],
   "source": [
    "df_tweet_edges_filtered.filter(F.col('to') == 'GordonGChang').show()"
   ]
  }
 ],
 "metadata": {
  "kernelspec": {
   "display_name": "Python 3",
   "language": "python",
   "name": "python3"
  },
  "language_info": {
   "codemirror_mode": {
    "name": "ipython",
    "version": 3
   },
   "file_extension": ".py",
   "mimetype": "text/x-python",
   "name": "python",
   "nbconvert_exporter": "python",
   "pygments_lexer": "ipython3",
   "version": "3.8.8"
  }
 },
 "nbformat": 4,
 "nbformat_minor": 4
}
