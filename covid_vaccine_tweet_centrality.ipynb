{
 "cells": [
  {
   "cell_type": "code",
   "execution_count": 295,
   "id": "f88d8757",
   "metadata": {},
   "outputs": [
    {
     "data": {
      "text/html": [
       "        <script type=\"text/javascript\">\n",
       "        window.PlotlyConfig = {MathJaxConfig: 'local'};\n",
       "        if (window.MathJax) {MathJax.Hub.Config({SVG: {font: \"STIX-Web\"}});}\n",
       "        if (typeof require !== 'undefined') {\n",
       "        require.undef(\"plotly\");\n",
       "        requirejs.config({\n",
       "            paths: {\n",
       "                'plotly': ['https://cdn.plot.ly/plotly-latest.min']\n",
       "            }\n",
       "        });\n",
       "        require(['plotly'], function(Plotly) {\n",
       "            window._Plotly = Plotly;\n",
       "        });\n",
       "        }\n",
       "        </script>\n",
       "        "
      ]
     },
     "metadata": {},
     "output_type": "display_data"
    },
    {
     "data": {
      "text/html": [
       "        <script type=\"text/javascript\">\n",
       "        window.PlotlyConfig = {MathJaxConfig: 'local'};\n",
       "        if (window.MathJax) {MathJax.Hub.Config({SVG: {font: \"STIX-Web\"}});}\n",
       "        if (typeof require !== 'undefined') {\n",
       "        require.undef(\"plotly\");\n",
       "        requirejs.config({\n",
       "            paths: {\n",
       "                'plotly': ['https://cdn.plot.ly/plotly-latest.min']\n",
       "            }\n",
       "        });\n",
       "        require(['plotly'], function(Plotly) {\n",
       "            window._Plotly = Plotly;\n",
       "        });\n",
       "        }\n",
       "        </script>\n",
       "        "
      ]
     },
     "metadata": {},
     "output_type": "display_data"
    }
   ],
   "source": [
    "import numpy as np\n",
    "import pandas as pd\n",
    "import snap\n",
    "import math\n",
    "\n",
    "import json\n",
    "\n",
    "import networkx as nx\n",
    "from igraph import Graph\n",
    "\n",
    "# import pyspark.sql.functions as F\n",
    "# from pyspark.sql import SparkSession, Window\n",
    "# from pyspark.sql.types import IntegerType\n",
    "\n",
    "import matplotlib.pyplot as plt\n",
    "%matplotlib inline\n",
    "\n",
    "import chart_studio.plotly as py\n",
    "import plotly.graph_objs as go\n",
    "from plotly.offline import iplot, init_notebook_mode\n",
    "import plotly.express as px\n",
    "from plotly.graph_objs import Layout\n",
    "\n",
    "import cufflinks\n",
    "cufflinks.go_offline(connected=True)\n",
    "init_notebook_mode(connected=True)\n",
    "\n",
    "\n",
    "from bokeh.io import output_notebook, show, save\n",
    "from bokeh.plotting import output_file\n",
    "from bokeh.plotting import figure\n",
    "from bokeh.plotting import from_networkx\n",
    "from bokeh.models import Range1d, Circle, ColumnDataSource, MultiLine\n",
    "from bokeh.palettes import Viridis8, Spectral8\n",
    "from bokeh.transform import linear_cmap"
   ]
  },
  {
   "cell_type": "code",
   "execution_count": 272,
   "id": "026d985b",
   "metadata": {},
   "outputs": [],
   "source": [
    "def network_plot(G, title, number_to_adjust_by = 0, layout = nx.circular_layout):\n",
    "    '''\n",
    "    input:\n",
    "    =======================\n",
    "    G: networkx object\n",
    "    title: figure title\n",
    "    -----------------------\n",
    "    output:\n",
    "    =======================\n",
    "    show network plot in browser\n",
    "    save network plot\n",
    "    '''\n",
    "    degrees = dict(nx.degree(G))\n",
    "    nx.set_node_attributes(G, name='degree', values=degrees)\n",
    "    # number_to_adjust_by = 0\n",
    "    adjusted_node_size = dict([(node, degree+number_to_adjust_by) for node, degree in nx.degree(G)])\n",
    "    nx.set_node_attributes(G, name='adjusted_node_size', values=adjusted_node_size)\n",
    "    size_by_this_attribute = 'adjusted_node_size'\n",
    "    color_by_this_attribute = 'adjusted_node_size'\n",
    "\n",
    "    # Pick a color palette — Blues8, Reds8, Purples8, Oranges8, Viridis8\n",
    "    color_palette =  Spectral8\n",
    "\n",
    "    #Establish which categories will appear when hovering over each node\n",
    "    HOVER_TOOLTIPS = [(\"User\", \"@index\"),(\"Degree\", \"@degree\")]\n",
    "\n",
    "    #Create a plot — set dimensions, toolbar, and title\n",
    "    plot = figure(tooltips = HOVER_TOOLTIPS,tools=\"pan,wheel_zoom,save,reset\", active_scroll='wheel_zoom',\n",
    "                  x_range=Range1d(-10.1, 10.1), y_range=Range1d(-10.1, 10.1), title=title,  width=1200, height=900)\n",
    "\n",
    "    #Create a network graph object\n",
    "    #network_graph = from_networkx(G, nx.spring_layout, scale=10, center=(0, 0))\n",
    "    network_graph = from_networkx(G, layout, scale=10, center=(0, 0))\n",
    "    #Set node sizes and colors according to node degree (color as spectrum of color palette)\n",
    "    minimum_value_color = min(network_graph.node_renderer.data_source.data[color_by_this_attribute])\n",
    "    maximum_value_color = max(network_graph.node_renderer.data_source.data[color_by_this_attribute])\n",
    "    network_graph.node_renderer.glyph = Circle(size=size_by_this_attribute, fill_color=linear_cmap(color_by_this_attribute, color_palette, minimum_value_color, maximum_value_color))\n",
    "\n",
    "    #Set edge opacity and width\n",
    "    network_graph.edge_renderer.glyph = MultiLine(line_alpha=0.5, line_width=1)\n",
    "\n",
    "    plot.renderers.append(network_graph)\n",
    "    #save(plot, filename=f\"writer_atag network.html\")\n",
    "    #output_file('writer_atag network1.html')\n",
    "    output_notebook()\n",
    "    show(plot, notebook_handle=True)"
   ]
  },
  {
   "cell_type": "code",
   "execution_count": 4,
   "id": "3fdce585",
   "metadata": {},
   "outputs": [],
   "source": [
    "# read data\n",
    "covid_vaccine_df = pd.read_csv(\"data/twitter_vaccine.csv\")"
   ]
  },
  {
   "cell_type": "code",
   "execution_count": 6,
   "id": "9450e618",
   "metadata": {},
   "outputs": [
    {
     "data": {
      "text/plain": [
       "id                   int64\n",
       "conversation_id      int64\n",
       "created_at          object\n",
       "date                object\n",
       "time                object\n",
       "timezone             int64\n",
       "user_id              int64\n",
       "username            object\n",
       "name                object\n",
       "place               object\n",
       "tweet               object\n",
       "language            object\n",
       "mentions            object\n",
       "urls                object\n",
       "photos              object\n",
       "replies_count        int64\n",
       "retweets_count       int64\n",
       "likes_count          int64\n",
       "hashtags            object\n",
       "cashtags            object\n",
       "link                object\n",
       "retweet            float64\n",
       "quote_url           object\n",
       "video                int64\n",
       "thumbnail           object\n",
       "near               float64\n",
       "geo                float64\n",
       "source             float64\n",
       "user_rt_id         float64\n",
       "user_rt            float64\n",
       "retweet_id         float64\n",
       "reply_to            object\n",
       "retweet_date       float64\n",
       "translate          float64\n",
       "trans_src          float64\n",
       "trans_dest         float64\n",
       "dtype: object"
      ]
     },
     "execution_count": 6,
     "metadata": {},
     "output_type": "execute_result"
    }
   ],
   "source": [
    "covid_vaccine_df.dtypes"
   ]
  },
  {
   "cell_type": "code",
   "execution_count": 16,
   "id": "16d4c15b",
   "metadata": {},
   "outputs": [
    {
     "name": "stdout",
     "output_type": "stream",
     "text": [
      "Size : 209929\n",
      "Min : 2020-02-12\n",
      "Max : 2020-10-22\n"
     ]
    }
   ],
   "source": [
    "print(f\"Size : {len(covid_vaccine_df)}\")\n",
    "\n",
    "print(f\"Min : {min(covid_vaccine_df['date'])}\")\n",
    "print(f\"Max : {max(covid_vaccine_df['date'])}\")\n"
   ]
  },
  {
   "cell_type": "code",
   "execution_count": 20,
   "id": "d59d1732",
   "metadata": {},
   "outputs": [
    {
     "data": {
      "text/plain": [
       "0          True\n",
       "1         False\n",
       "2         False\n",
       "3          True\n",
       "4         False\n",
       "          ...  \n",
       "209924     True\n",
       "209925     True\n",
       "209926     True\n",
       "209927    False\n",
       "209928     True\n",
       "Name: reply_to, Length: 209929, dtype: bool"
      ]
     },
     "execution_count": 20,
     "metadata": {},
     "output_type": "execute_result"
    }
   ],
   "source": [
    "~covid_vaccine_df[\"reply_to\"].str.contains(\"'user_id': None\", regex=False)"
   ]
  },
  {
   "cell_type": "code",
   "execution_count": 30,
   "id": "91e6ecbd",
   "metadata": {},
   "outputs": [
    {
     "data": {
      "text/html": [
       "<div>\n",
       "<style scoped>\n",
       "    .dataframe tbody tr th:only-of-type {\n",
       "        vertical-align: middle;\n",
       "    }\n",
       "\n",
       "    .dataframe tbody tr th {\n",
       "        vertical-align: top;\n",
       "    }\n",
       "\n",
       "    .dataframe thead th {\n",
       "        text-align: right;\n",
       "    }\n",
       "</style>\n",
       "<table border=\"1\" class=\"dataframe\">\n",
       "  <thead>\n",
       "    <tr style=\"text-align: right;\">\n",
       "      <th></th>\n",
       "      <th>reply_to_id</th>\n",
       "      <th>reply_to_username</th>\n",
       "    </tr>\n",
       "  </thead>\n",
       "  <tbody>\n",
       "    <tr>\n",
       "      <th>0</th>\n",
       "      <td>355989081</td>\n",
       "      <td>ANI</td>\n",
       "    </tr>\n",
       "    <tr>\n",
       "      <th>1</th>\n",
       "      <td>NaN</td>\n",
       "      <td>NaN</td>\n",
       "    </tr>\n",
       "    <tr>\n",
       "      <th>2</th>\n",
       "      <td>NaN</td>\n",
       "      <td>NaN</td>\n",
       "    </tr>\n",
       "    <tr>\n",
       "      <th>3</th>\n",
       "      <td>1105377223</td>\n",
       "      <td>MisseeMonis</td>\n",
       "    </tr>\n",
       "    <tr>\n",
       "      <th>4</th>\n",
       "      <td>NaN</td>\n",
       "      <td>NaN</td>\n",
       "    </tr>\n",
       "    <tr>\n",
       "      <th>...</th>\n",
       "      <td>...</td>\n",
       "      <td>...</td>\n",
       "    </tr>\n",
       "    <tr>\n",
       "      <th>209924</th>\n",
       "      <td>299273962</td>\n",
       "      <td>Laurie_Garrett</td>\n",
       "    </tr>\n",
       "    <tr>\n",
       "      <th>209925</th>\n",
       "      <td>580312540</td>\n",
       "      <td>girlsreallyrule</td>\n",
       "    </tr>\n",
       "    <tr>\n",
       "      <th>209926</th>\n",
       "      <td>53561335</td>\n",
       "      <td>LeighNapier</td>\n",
       "    </tr>\n",
       "    <tr>\n",
       "      <th>209927</th>\n",
       "      <td>NaN</td>\n",
       "      <td>NaN</td>\n",
       "    </tr>\n",
       "    <tr>\n",
       "      <th>209928</th>\n",
       "      <td>16906660</td>\n",
       "      <td>Grummz</td>\n",
       "    </tr>\n",
       "  </tbody>\n",
       "</table>\n",
       "<p>209929 rows × 2 columns</p>\n",
       "</div>"
      ],
      "text/plain": [
       "       reply_to_id reply_to_username\n",
       "0        355989081               ANI\n",
       "1              NaN               NaN\n",
       "2              NaN               NaN\n",
       "3       1105377223       MisseeMonis\n",
       "4              NaN               NaN\n",
       "...            ...               ...\n",
       "209924   299273962    Laurie_Garrett\n",
       "209925   580312540   girlsreallyrule\n",
       "209926    53561335       LeighNapier\n",
       "209927         NaN               NaN\n",
       "209928    16906660            Grummz\n",
       "\n",
       "[209929 rows x 2 columns]"
      ]
     },
     "execution_count": 30,
     "metadata": {},
     "output_type": "execute_result"
    }
   ],
   "source": [
    "reply_to_info = covid_vaccine_df[\"reply_to\"].str.extract(r\"{'user_id': '(?P<reply_to_id>\\d+)', 'username': '(?P<reply_to_username>.+)'}\")\n",
    "reply_to_info"
   ]
  },
  {
   "cell_type": "code",
   "execution_count": 33,
   "id": "79926f2a",
   "metadata": {},
   "outputs": [],
   "source": [
    "new_covid_vaccine_df = covid_vaccine_df.merge(reply_to_info, left_index=True, right_index=True, how=\"left\")"
   ]
  },
  {
   "cell_type": "code",
   "execution_count": 36,
   "id": "e2bc2562",
   "metadata": {},
   "outputs": [
    {
     "data": {
      "text/html": [
       "<div>\n",
       "<style scoped>\n",
       "    .dataframe tbody tr th:only-of-type {\n",
       "        vertical-align: middle;\n",
       "    }\n",
       "\n",
       "    .dataframe tbody tr th {\n",
       "        vertical-align: top;\n",
       "    }\n",
       "\n",
       "    .dataframe thead th {\n",
       "        text-align: right;\n",
       "    }\n",
       "</style>\n",
       "<table border=\"1\" class=\"dataframe\">\n",
       "  <thead>\n",
       "    <tr style=\"text-align: right;\">\n",
       "      <th></th>\n",
       "      <th>username</th>\n",
       "      <th>reply_to_username</th>\n",
       "      <th>width</th>\n",
       "    </tr>\n",
       "  </thead>\n",
       "  <tbody>\n",
       "    <tr>\n",
       "      <th>0</th>\n",
       "      <td>to_fly_to_live</td>\n",
       "      <td>ANI</td>\n",
       "      <td>1</td>\n",
       "    </tr>\n",
       "    <tr>\n",
       "      <th>3</th>\n",
       "      <td>bak_sahil</td>\n",
       "      <td>MisseeMonis</td>\n",
       "      <td>1</td>\n",
       "    </tr>\n",
       "    <tr>\n",
       "      <th>10</th>\n",
       "      <td>clivebennett</td>\n",
       "      <td>theJeremyVine</td>\n",
       "      <td>1</td>\n",
       "    </tr>\n",
       "    <tr>\n",
       "      <th>21</th>\n",
       "      <td>raquelquefois</td>\n",
       "      <td>jim_dickinson</td>\n",
       "      <td>1</td>\n",
       "    </tr>\n",
       "    <tr>\n",
       "      <th>22</th>\n",
       "      <td>hemagazineindia</td>\n",
       "      <td>HEmagazineIndia</td>\n",
       "      <td>1</td>\n",
       "    </tr>\n",
       "    <tr>\n",
       "      <th>...</th>\n",
       "      <td>...</td>\n",
       "      <td>...</td>\n",
       "      <td>...</td>\n",
       "    </tr>\n",
       "    <tr>\n",
       "      <th>209920</th>\n",
       "      <td>zkusovac</td>\n",
       "      <td>admirim</td>\n",
       "      <td>1</td>\n",
       "    </tr>\n",
       "    <tr>\n",
       "      <th>209924</th>\n",
       "      <td>derek_linders</td>\n",
       "      <td>Laurie_Garrett</td>\n",
       "      <td>1</td>\n",
       "    </tr>\n",
       "    <tr>\n",
       "      <th>209925</th>\n",
       "      <td>allnbowtane</td>\n",
       "      <td>girlsreallyrule</td>\n",
       "      <td>1</td>\n",
       "    </tr>\n",
       "    <tr>\n",
       "      <th>209926</th>\n",
       "      <td>leighnapier</td>\n",
       "      <td>LeighNapier</td>\n",
       "      <td>1</td>\n",
       "    </tr>\n",
       "    <tr>\n",
       "      <th>209928</th>\n",
       "      <td>trudge1620</td>\n",
       "      <td>Grummz</td>\n",
       "      <td>1</td>\n",
       "    </tr>\n",
       "  </tbody>\n",
       "</table>\n",
       "<p>71214 rows × 3 columns</p>\n",
       "</div>"
      ],
      "text/plain": [
       "               username reply_to_username  width\n",
       "0        to_fly_to_live               ANI      1\n",
       "3             bak_sahil       MisseeMonis      1\n",
       "10         clivebennett     theJeremyVine      1\n",
       "21        raquelquefois     jim_dickinson      1\n",
       "22      hemagazineindia   HEmagazineIndia      1\n",
       "...                 ...               ...    ...\n",
       "209920         zkusovac           admirim      1\n",
       "209924    derek_linders    Laurie_Garrett      1\n",
       "209925      allnbowtane   girlsreallyrule      1\n",
       "209926      leighnapier       LeighNapier      1\n",
       "209928       trudge1620            Grummz      1\n",
       "\n",
       "[71214 rows x 3 columns]"
      ]
     },
     "execution_count": 36,
     "metadata": {},
     "output_type": "execute_result"
    }
   ],
   "source": [
    "reply_to_edges = new_covid_vaccine_df[new_covid_vaccine_df[\"reply_to_id\"].notnull()][[\"username\", \"reply_to_username\"]]\n",
    "reply_to_edges[\"width\"] = 1\n",
    "reply_to_edges"
   ]
  },
  {
   "cell_type": "code",
   "execution_count": 37,
   "id": "00109015",
   "metadata": {},
   "outputs": [],
   "source": [
    "covid_vaccine_reply_graph = nx.from_pandas_edgelist(df=reply_to_edges, source=\"username\", target=\"reply_to_username\", create_using=nx.DiGraph(), edge_attr=\"width\")"
   ]
  },
  {
   "cell_type": "code",
   "execution_count": 46,
   "id": "8a6b0021",
   "metadata": {},
   "outputs": [
    {
     "data": {
      "text/html": [
       "<div>\n",
       "<style scoped>\n",
       "    .dataframe tbody tr th:only-of-type {\n",
       "        vertical-align: middle;\n",
       "    }\n",
       "\n",
       "    .dataframe tbody tr th {\n",
       "        vertical-align: top;\n",
       "    }\n",
       "\n",
       "    .dataframe thead th {\n",
       "        text-align: right;\n",
       "    }\n",
       "</style>\n",
       "<table border=\"1\" class=\"dataframe\">\n",
       "  <thead>\n",
       "    <tr style=\"text-align: right;\">\n",
       "      <th></th>\n",
       "      <th>username</th>\n",
       "      <th>centrality</th>\n",
       "    </tr>\n",
       "  </thead>\n",
       "  <tbody>\n",
       "    <tr>\n",
       "      <th>0</th>\n",
       "      <td>realDonaldTrump</td>\n",
       "      <td>0.018609</td>\n",
       "    </tr>\n",
       "    <tr>\n",
       "      <th>1</th>\n",
       "      <td>jcho710</td>\n",
       "      <td>0.010723</td>\n",
       "    </tr>\n",
       "    <tr>\n",
       "      <th>2</th>\n",
       "      <td>JoeBiden</td>\n",
       "      <td>0.002838</td>\n",
       "    </tr>\n",
       "    <tr>\n",
       "      <th>3</th>\n",
       "      <td>CNN</td>\n",
       "      <td>0.002584</td>\n",
       "    </tr>\n",
       "    <tr>\n",
       "      <th>4</th>\n",
       "      <td>narendramodi</td>\n",
       "      <td>0.002131</td>\n",
       "    </tr>\n",
       "    <tr>\n",
       "      <th>5</th>\n",
       "      <td>WhiteHouse</td>\n",
       "      <td>0.001922</td>\n",
       "    </tr>\n",
       "    <tr>\n",
       "      <th>6</th>\n",
       "      <td>thehill</td>\n",
       "      <td>0.001568</td>\n",
       "    </tr>\n",
       "    <tr>\n",
       "      <th>7</th>\n",
       "      <td>MattHancock</td>\n",
       "      <td>0.001557</td>\n",
       "    </tr>\n",
       "    <tr>\n",
       "      <th>8</th>\n",
       "      <td>harleysnhotrods</td>\n",
       "      <td>0.001303</td>\n",
       "    </tr>\n",
       "    <tr>\n",
       "      <th>9</th>\n",
       "      <td>NYGovCuomo</td>\n",
       "      <td>0.001226</td>\n",
       "    </tr>\n",
       "    <tr>\n",
       "      <th>10</th>\n",
       "      <td>PMOIndia</td>\n",
       "      <td>0.001171</td>\n",
       "    </tr>\n",
       "    <tr>\n",
       "      <th>11</th>\n",
       "      <td>adarpoonawalla</td>\n",
       "      <td>0.001149</td>\n",
       "    </tr>\n",
       "    <tr>\n",
       "      <th>12</th>\n",
       "      <td>emilyle30611735</td>\n",
       "      <td>0.001104</td>\n",
       "    </tr>\n",
       "    <tr>\n",
       "      <th>13</th>\n",
       "      <td>Reuters</td>\n",
       "      <td>0.001060</td>\n",
       "    </tr>\n",
       "    <tr>\n",
       "      <th>14</th>\n",
       "      <td>SkyNews</td>\n",
       "      <td>0.001049</td>\n",
       "    </tr>\n",
       "    <tr>\n",
       "      <th>15</th>\n",
       "      <td>covidvaxine</td>\n",
       "      <td>0.001038</td>\n",
       "    </tr>\n",
       "    <tr>\n",
       "      <th>16</th>\n",
       "      <td>IngrahamAngle</td>\n",
       "      <td>0.001038</td>\n",
       "    </tr>\n",
       "    <tr>\n",
       "      <th>17</th>\n",
       "      <td>scottand67</td>\n",
       "      <td>0.001038</td>\n",
       "    </tr>\n",
       "    <tr>\n",
       "      <th>18</th>\n",
       "      <td>drtessat</td>\n",
       "      <td>0.001016</td>\n",
       "    </tr>\n",
       "    <tr>\n",
       "      <th>19</th>\n",
       "      <td>BillGates</td>\n",
       "      <td>0.000961</td>\n",
       "    </tr>\n",
       "    <tr>\n",
       "      <th>20</th>\n",
       "      <td>ASlavitt</td>\n",
       "      <td>0.000939</td>\n",
       "    </tr>\n",
       "    <tr>\n",
       "      <th>21</th>\n",
       "      <td>MollyJongFast</td>\n",
       "      <td>0.000928</td>\n",
       "    </tr>\n",
       "    <tr>\n",
       "      <th>22</th>\n",
       "      <td>KamalaHarris</td>\n",
       "      <td>0.000883</td>\n",
       "    </tr>\n",
       "    <tr>\n",
       "      <th>23</th>\n",
       "      <td>atrupar</td>\n",
       "      <td>0.000861</td>\n",
       "    </tr>\n",
       "    <tr>\n",
       "      <th>24</th>\n",
       "      <td>ChuckCallesto</td>\n",
       "      <td>0.000861</td>\n",
       "    </tr>\n",
       "    <tr>\n",
       "      <th>25</th>\n",
       "      <td>GOP</td>\n",
       "      <td>0.000817</td>\n",
       "    </tr>\n",
       "    <tr>\n",
       "      <th>26</th>\n",
       "      <td>elonmusk</td>\n",
       "      <td>0.000817</td>\n",
       "    </tr>\n",
       "    <tr>\n",
       "      <th>27</th>\n",
       "      <td>BorisJohnson</td>\n",
       "      <td>0.000795</td>\n",
       "    </tr>\n",
       "    <tr>\n",
       "      <th>28</th>\n",
       "      <td>WHO</td>\n",
       "      <td>0.000784</td>\n",
       "    </tr>\n",
       "    <tr>\n",
       "      <th>29</th>\n",
       "      <td>nytimes</td>\n",
       "      <td>0.000773</td>\n",
       "    </tr>\n",
       "    <tr>\n",
       "      <th>30</th>\n",
       "      <td>post1113a</td>\n",
       "      <td>0.000773</td>\n",
       "    </tr>\n",
       "    <tr>\n",
       "      <th>31</th>\n",
       "      <td>piersmorgan</td>\n",
       "      <td>0.000762</td>\n",
       "    </tr>\n",
       "    <tr>\n",
       "      <th>32</th>\n",
       "      <td>jimcramer</td>\n",
       "      <td>0.000751</td>\n",
       "    </tr>\n",
       "    <tr>\n",
       "      <th>33</th>\n",
       "      <td>business</td>\n",
       "      <td>0.000751</td>\n",
       "    </tr>\n",
       "    <tr>\n",
       "      <th>34</th>\n",
       "      <td>drdavidsamadi</td>\n",
       "      <td>0.000751</td>\n",
       "    </tr>\n",
       "    <tr>\n",
       "      <th>35</th>\n",
       "      <td>rob_miller12345</td>\n",
       "      <td>0.000751</td>\n",
       "    </tr>\n",
       "    <tr>\n",
       "      <th>36</th>\n",
       "      <td>POTUS</td>\n",
       "      <td>0.000729</td>\n",
       "    </tr>\n",
       "    <tr>\n",
       "      <th>37</th>\n",
       "      <td>seanhannity</td>\n",
       "      <td>0.000718</td>\n",
       "    </tr>\n",
       "    <tr>\n",
       "      <th>38</th>\n",
       "      <td>NBCNews</td>\n",
       "      <td>0.000718</td>\n",
       "    </tr>\n",
       "    <tr>\n",
       "      <th>39</th>\n",
       "      <td>ndtv</td>\n",
       "      <td>0.000707</td>\n",
       "    </tr>\n",
       "    <tr>\n",
       "      <th>40</th>\n",
       "      <td>ABC</td>\n",
       "      <td>0.000707</td>\n",
       "    </tr>\n",
       "    <tr>\n",
       "      <th>41</th>\n",
       "      <td>simondolan</td>\n",
       "      <td>0.000696</td>\n",
       "    </tr>\n",
       "    <tr>\n",
       "      <th>42</th>\n",
       "      <td>DrEricDing</td>\n",
       "      <td>0.000696</td>\n",
       "    </tr>\n",
       "    <tr>\n",
       "      <th>43</th>\n",
       "      <td>ProjectLincoln</td>\n",
       "      <td>0.000685</td>\n",
       "    </tr>\n",
       "    <tr>\n",
       "      <th>44</th>\n",
       "      <td>martina_ant79</td>\n",
       "      <td>0.000674</td>\n",
       "    </tr>\n",
       "    <tr>\n",
       "      <th>45</th>\n",
       "      <td>RahulGandhi</td>\n",
       "      <td>0.000674</td>\n",
       "    </tr>\n",
       "    <tr>\n",
       "      <th>46</th>\n",
       "      <td>o_rips</td>\n",
       "      <td>0.000663</td>\n",
       "    </tr>\n",
       "    <tr>\n",
       "      <th>47</th>\n",
       "      <td>kylegriffin1</td>\n",
       "      <td>0.000641</td>\n",
       "    </tr>\n",
       "    <tr>\n",
       "      <th>48</th>\n",
       "      <td>aiexpert14</td>\n",
       "      <td>0.000641</td>\n",
       "    </tr>\n",
       "    <tr>\n",
       "      <th>49</th>\n",
       "      <td>DaniellaCarlisi</td>\n",
       "      <td>0.000629</td>\n",
       "    </tr>\n",
       "  </tbody>\n",
       "</table>\n",
       "</div>"
      ],
      "text/plain": [
       "           username  centrality\n",
       "0   realDonaldTrump    0.018609\n",
       "1           jcho710    0.010723\n",
       "2          JoeBiden    0.002838\n",
       "3               CNN    0.002584\n",
       "4      narendramodi    0.002131\n",
       "5        WhiteHouse    0.001922\n",
       "6           thehill    0.001568\n",
       "7       MattHancock    0.001557\n",
       "8   harleysnhotrods    0.001303\n",
       "9        NYGovCuomo    0.001226\n",
       "10         PMOIndia    0.001171\n",
       "11   adarpoonawalla    0.001149\n",
       "12  emilyle30611735    0.001104\n",
       "13          Reuters    0.001060\n",
       "14          SkyNews    0.001049\n",
       "15      covidvaxine    0.001038\n",
       "16    IngrahamAngle    0.001038\n",
       "17       scottand67    0.001038\n",
       "18         drtessat    0.001016\n",
       "19        BillGates    0.000961\n",
       "20         ASlavitt    0.000939\n",
       "21    MollyJongFast    0.000928\n",
       "22     KamalaHarris    0.000883\n",
       "23          atrupar    0.000861\n",
       "24    ChuckCallesto    0.000861\n",
       "25              GOP    0.000817\n",
       "26         elonmusk    0.000817\n",
       "27     BorisJohnson    0.000795\n",
       "28              WHO    0.000784\n",
       "29          nytimes    0.000773\n",
       "30        post1113a    0.000773\n",
       "31      piersmorgan    0.000762\n",
       "32        jimcramer    0.000751\n",
       "33         business    0.000751\n",
       "34    drdavidsamadi    0.000751\n",
       "35  rob_miller12345    0.000751\n",
       "36            POTUS    0.000729\n",
       "37      seanhannity    0.000718\n",
       "38          NBCNews    0.000718\n",
       "39             ndtv    0.000707\n",
       "40              ABC    0.000707\n",
       "41       simondolan    0.000696\n",
       "42       DrEricDing    0.000696\n",
       "43   ProjectLincoln    0.000685\n",
       "44    martina_ant79    0.000674\n",
       "45      RahulGandhi    0.000674\n",
       "46           o_rips    0.000663\n",
       "47     kylegriffin1    0.000641\n",
       "48       aiexpert14    0.000641\n",
       "49  DaniellaCarlisi    0.000629"
      ]
     },
     "execution_count": 46,
     "metadata": {},
     "output_type": "execute_result"
    }
   ],
   "source": [
    "# Centraility\n",
    "reply_centrality = nx.degree_centrality(covid_vaccine_reply_graph)\n",
    "sorted_reply_centrality = dict(sorted(reply_centrality.items(), key=lambda item: item[1], reverse=True))\n",
    "sorted_reply_centrality_df = pd.DataFrame.from_records(list(sorted_reply_centrality.items()), columns =['username', 'centrality'])\n",
    "sorted_reply_centrality_df.head(50)"
   ]
  },
  {
   "cell_type": "code",
   "execution_count": 39,
   "id": "ffea4adf",
   "metadata": {},
   "outputs": [
    {
     "data": {
      "text/plain": [
       "[('jcho710', 0.010601994500215354),\n",
       " ('emilyle30611735', 0.0011043744271057659),\n",
       " ('covidvaxine', 0.00103811196147942),\n",
       " ('scottand67', 0.00103811196147942),\n",
       " ('drtessat', 0.0010160244729373047),\n",
       " ('post1113a', 0.0007730620989740361),\n",
       " ('martina_ant79', 0.0006405371677213442),\n",
       " ('aiexpert14', 0.0006405371677213442),\n",
       " ('assocdesign', 0.0005853184463660559),\n",
       " ('blloydblloyd', 0.0005521872135528829),\n",
       " ('rob_miller12345', 0.0005411434692818253),\n",
       " ('jpatte8007', 0.0005300997250107676),\n",
       " ('innbioresearch', 0.00051905598073971),\n",
       " ('asemhamdy55', 0.000452793515113364),\n",
       " ('katapult_in', 0.000452793515113364),\n",
       " ('lulu111593', 0.0004417497708423064),\n",
       " ('threadreaderapp', 0.0004307060265712487),\n",
       " ('gerald_weaver_', 0.00040861853802913337),\n",
       " ('muaythaiguy44', 0.00036444356094490277),\n",
       " ('margare86411004', 0.00036444356094490277)]"
      ]
     },
     "execution_count": 39,
     "metadata": {},
     "output_type": "execute_result"
    }
   ],
   "source": [
    "# Out Centraility\n",
    "out_reply_centrality = nx.out_degree_centrality(covid_vaccine_reply_graph)\n",
    "sorted_out_reply_centrality = dict(sorted(out_reply_centrality.items(), key=lambda item: item[1], reverse=True))\n",
    "list(sorted_out_reply_centrality.items())[:20]"
   ]
  },
  {
   "cell_type": "code",
   "execution_count": 56,
   "id": "79fa460b",
   "metadata": {},
   "outputs": [
    {
     "data": {
      "text/html": [
       "<div>\n",
       "<style scoped>\n",
       "    .dataframe tbody tr th:only-of-type {\n",
       "        vertical-align: middle;\n",
       "    }\n",
       "\n",
       "    .dataframe tbody tr th {\n",
       "        vertical-align: top;\n",
       "    }\n",
       "\n",
       "    .dataframe thead th {\n",
       "        text-align: right;\n",
       "    }\n",
       "</style>\n",
       "<table border=\"1\" class=\"dataframe\">\n",
       "  <thead>\n",
       "    <tr style=\"text-align: right;\">\n",
       "      <th></th>\n",
       "      <th>username</th>\n",
       "      <th>reply_to_username</th>\n",
       "      <th>width</th>\n",
       "    </tr>\n",
       "  </thead>\n",
       "  <tbody>\n",
       "    <tr>\n",
       "      <th>28630</th>\n",
       "      <td>jcho710</td>\n",
       "      <td>jcho710</td>\n",
       "      <td>1432</td>\n",
       "    </tr>\n",
       "    <tr>\n",
       "      <th>31662</th>\n",
       "      <td>jurg_ames</td>\n",
       "      <td>realDonaldTrump</td>\n",
       "      <td>64</td>\n",
       "    </tr>\n",
       "    <tr>\n",
       "      <th>20958</th>\n",
       "      <td>freedomgirl2011</td>\n",
       "      <td>freedomgirl2011</td>\n",
       "      <td>54</td>\n",
       "    </tr>\n",
       "    <tr>\n",
       "      <th>24676</th>\n",
       "      <td>hollywdhealth</td>\n",
       "      <td>HollywdHealth</td>\n",
       "      <td>47</td>\n",
       "    </tr>\n",
       "    <tr>\n",
       "      <th>27953</th>\n",
       "      <td>jcho710</td>\n",
       "      <td>ChuckCallesto</td>\n",
       "      <td>41</td>\n",
       "    </tr>\n",
       "    <tr>\n",
       "      <th>31110</th>\n",
       "      <td>jpatte8007</td>\n",
       "      <td>KLoeffler</td>\n",
       "      <td>40</td>\n",
       "    </tr>\n",
       "    <tr>\n",
       "      <th>50656</th>\n",
       "      <td>rnaianalyst</td>\n",
       "      <td>RNAiAnalyst</td>\n",
       "      <td>31</td>\n",
       "    </tr>\n",
       "    <tr>\n",
       "      <th>17711</th>\n",
       "      <td>dukemargolis</td>\n",
       "      <td>DukeMargolis</td>\n",
       "      <td>27</td>\n",
       "    </tr>\n",
       "    <tr>\n",
       "      <th>1691</th>\n",
       "      <td>activistbowen2</td>\n",
       "      <td>ActivistBowen2</td>\n",
       "      <td>25</td>\n",
       "    </tr>\n",
       "    <tr>\n",
       "      <th>4612</th>\n",
       "      <td>apifeelgood</td>\n",
       "      <td>ApiFeelGood</td>\n",
       "      <td>24</td>\n",
       "    </tr>\n",
       "    <tr>\n",
       "      <th>63526</th>\n",
       "      <td>vv85767417</td>\n",
       "      <td>VV85767417</td>\n",
       "      <td>24</td>\n",
       "    </tr>\n",
       "    <tr>\n",
       "      <th>28306</th>\n",
       "      <td>jcho710</td>\n",
       "      <td>OregonGovBrown</td>\n",
       "      <td>23</td>\n",
       "    </tr>\n",
       "    <tr>\n",
       "      <th>62678</th>\n",
       "      <td>vbkerry</td>\n",
       "      <td>VBKerry</td>\n",
       "      <td>23</td>\n",
       "    </tr>\n",
       "    <tr>\n",
       "      <th>46587</th>\n",
       "      <td>pharmerfour</td>\n",
       "      <td>FIP_org</td>\n",
       "      <td>22</td>\n",
       "    </tr>\n",
       "    <tr>\n",
       "      <th>28154</th>\n",
       "      <td>jcho710</td>\n",
       "      <td>JoeBiden</td>\n",
       "      <td>19</td>\n",
       "    </tr>\n",
       "    <tr>\n",
       "      <th>28597</th>\n",
       "      <td>jcho710</td>\n",
       "      <td>glamelegance</td>\n",
       "      <td>17</td>\n",
       "    </tr>\n",
       "    <tr>\n",
       "      <th>31121</th>\n",
       "      <td>jpatte8007</td>\n",
       "      <td>SecPompeo</td>\n",
       "      <td>16</td>\n",
       "    </tr>\n",
       "    <tr>\n",
       "      <th>31114</th>\n",
       "      <td>jpatte8007</td>\n",
       "      <td>MarshaBlackburn</td>\n",
       "      <td>16</td>\n",
       "    </tr>\n",
       "    <tr>\n",
       "      <th>3847</th>\n",
       "      <td>andrewwnielsen</td>\n",
       "      <td>PETAUK</td>\n",
       "      <td>16</td>\n",
       "    </tr>\n",
       "    <tr>\n",
       "      <th>28074</th>\n",
       "      <td>jcho710</td>\n",
       "      <td>GovMurphy</td>\n",
       "      <td>16</td>\n",
       "    </tr>\n",
       "  </tbody>\n",
       "</table>\n",
       "</div>"
      ],
      "text/plain": [
       "              username reply_to_username  width\n",
       "28630          jcho710           jcho710   1432\n",
       "31662        jurg_ames   realDonaldTrump     64\n",
       "20958  freedomgirl2011   freedomgirl2011     54\n",
       "24676    hollywdhealth     HollywdHealth     47\n",
       "27953          jcho710     ChuckCallesto     41\n",
       "31110       jpatte8007         KLoeffler     40\n",
       "50656      rnaianalyst       RNAiAnalyst     31\n",
       "17711     dukemargolis      DukeMargolis     27\n",
       "1691    activistbowen2    ActivistBowen2     25\n",
       "4612       apifeelgood       ApiFeelGood     24\n",
       "63526       vv85767417        VV85767417     24\n",
       "28306          jcho710    OregonGovBrown     23\n",
       "62678          vbkerry           VBKerry     23\n",
       "46587      pharmerfour           FIP_org     22\n",
       "28154          jcho710          JoeBiden     19\n",
       "28597          jcho710      glamelegance     17\n",
       "31121       jpatte8007         SecPompeo     16\n",
       "31114       jpatte8007   MarshaBlackburn     16\n",
       "3847    andrewwnielsen            PETAUK     16\n",
       "28074          jcho710         GovMurphy     16"
      ]
     },
     "execution_count": 56,
     "metadata": {},
     "output_type": "execute_result"
    }
   ],
   "source": [
    "grouped_reply_to_edges = reply_to_edges.groupby([\"username\", \"reply_to_username\"]).agg({\"width\" : \"sum\"}).reset_index().sort_values(\"width\", ascending=False)\n",
    "grouped_reply_to_edges.head(20)"
   ]
  },
  {
   "cell_type": "code",
   "execution_count": 54,
   "id": "74d18e18",
   "metadata": {},
   "outputs": [],
   "source": [
    "grouped_covid_vaccine_reply_graph = nx.from_pandas_edgelist(df=grouped_reply_to_edges, source=\"reply_to_username\", target=\"username\", create_using=nx.DiGraph(), edge_attr=\"width\")"
   ]
  },
  {
   "cell_type": "code",
   "execution_count": 55,
   "id": "31ca629f",
   "metadata": {},
   "outputs": [
    {
     "data": {
      "text/html": [
       "<div>\n",
       "<style scoped>\n",
       "    .dataframe tbody tr th:only-of-type {\n",
       "        vertical-align: middle;\n",
       "    }\n",
       "\n",
       "    .dataframe tbody tr th {\n",
       "        vertical-align: top;\n",
       "    }\n",
       "\n",
       "    .dataframe thead th {\n",
       "        text-align: right;\n",
       "    }\n",
       "</style>\n",
       "<table border=\"1\" class=\"dataframe\">\n",
       "  <thead>\n",
       "    <tr style=\"text-align: right;\">\n",
       "      <th></th>\n",
       "      <th>username</th>\n",
       "      <th>centrality</th>\n",
       "    </tr>\n",
       "  </thead>\n",
       "  <tbody>\n",
       "    <tr>\n",
       "      <th>0</th>\n",
       "      <td>realDonaldTrump</td>\n",
       "      <td>0.018609</td>\n",
       "    </tr>\n",
       "    <tr>\n",
       "      <th>1</th>\n",
       "      <td>jcho710</td>\n",
       "      <td>0.010723</td>\n",
       "    </tr>\n",
       "    <tr>\n",
       "      <th>2</th>\n",
       "      <td>JoeBiden</td>\n",
       "      <td>0.002838</td>\n",
       "    </tr>\n",
       "    <tr>\n",
       "      <th>3</th>\n",
       "      <td>CNN</td>\n",
       "      <td>0.002584</td>\n",
       "    </tr>\n",
       "    <tr>\n",
       "      <th>4</th>\n",
       "      <td>narendramodi</td>\n",
       "      <td>0.002131</td>\n",
       "    </tr>\n",
       "    <tr>\n",
       "      <th>5</th>\n",
       "      <td>WhiteHouse</td>\n",
       "      <td>0.001922</td>\n",
       "    </tr>\n",
       "    <tr>\n",
       "      <th>6</th>\n",
       "      <td>thehill</td>\n",
       "      <td>0.001568</td>\n",
       "    </tr>\n",
       "    <tr>\n",
       "      <th>7</th>\n",
       "      <td>MattHancock</td>\n",
       "      <td>0.001557</td>\n",
       "    </tr>\n",
       "    <tr>\n",
       "      <th>8</th>\n",
       "      <td>harleysnhotrods</td>\n",
       "      <td>0.001303</td>\n",
       "    </tr>\n",
       "    <tr>\n",
       "      <th>9</th>\n",
       "      <td>NYGovCuomo</td>\n",
       "      <td>0.001226</td>\n",
       "    </tr>\n",
       "    <tr>\n",
       "      <th>10</th>\n",
       "      <td>PMOIndia</td>\n",
       "      <td>0.001171</td>\n",
       "    </tr>\n",
       "    <tr>\n",
       "      <th>11</th>\n",
       "      <td>adarpoonawalla</td>\n",
       "      <td>0.001149</td>\n",
       "    </tr>\n",
       "    <tr>\n",
       "      <th>12</th>\n",
       "      <td>emilyle30611735</td>\n",
       "      <td>0.001104</td>\n",
       "    </tr>\n",
       "    <tr>\n",
       "      <th>13</th>\n",
       "      <td>Reuters</td>\n",
       "      <td>0.001060</td>\n",
       "    </tr>\n",
       "    <tr>\n",
       "      <th>14</th>\n",
       "      <td>SkyNews</td>\n",
       "      <td>0.001049</td>\n",
       "    </tr>\n",
       "    <tr>\n",
       "      <th>15</th>\n",
       "      <td>IngrahamAngle</td>\n",
       "      <td>0.001038</td>\n",
       "    </tr>\n",
       "    <tr>\n",
       "      <th>16</th>\n",
       "      <td>covidvaxine</td>\n",
       "      <td>0.001038</td>\n",
       "    </tr>\n",
       "    <tr>\n",
       "      <th>17</th>\n",
       "      <td>scottand67</td>\n",
       "      <td>0.001038</td>\n",
       "    </tr>\n",
       "    <tr>\n",
       "      <th>18</th>\n",
       "      <td>drtessat</td>\n",
       "      <td>0.001016</td>\n",
       "    </tr>\n",
       "    <tr>\n",
       "      <th>19</th>\n",
       "      <td>BillGates</td>\n",
       "      <td>0.000961</td>\n",
       "    </tr>\n",
       "    <tr>\n",
       "      <th>20</th>\n",
       "      <td>ASlavitt</td>\n",
       "      <td>0.000939</td>\n",
       "    </tr>\n",
       "    <tr>\n",
       "      <th>21</th>\n",
       "      <td>MollyJongFast</td>\n",
       "      <td>0.000928</td>\n",
       "    </tr>\n",
       "    <tr>\n",
       "      <th>22</th>\n",
       "      <td>KamalaHarris</td>\n",
       "      <td>0.000883</td>\n",
       "    </tr>\n",
       "    <tr>\n",
       "      <th>23</th>\n",
       "      <td>ChuckCallesto</td>\n",
       "      <td>0.000861</td>\n",
       "    </tr>\n",
       "    <tr>\n",
       "      <th>24</th>\n",
       "      <td>atrupar</td>\n",
       "      <td>0.000861</td>\n",
       "    </tr>\n",
       "    <tr>\n",
       "      <th>25</th>\n",
       "      <td>GOP</td>\n",
       "      <td>0.000817</td>\n",
       "    </tr>\n",
       "    <tr>\n",
       "      <th>26</th>\n",
       "      <td>elonmusk</td>\n",
       "      <td>0.000817</td>\n",
       "    </tr>\n",
       "    <tr>\n",
       "      <th>27</th>\n",
       "      <td>BorisJohnson</td>\n",
       "      <td>0.000795</td>\n",
       "    </tr>\n",
       "    <tr>\n",
       "      <th>28</th>\n",
       "      <td>WHO</td>\n",
       "      <td>0.000784</td>\n",
       "    </tr>\n",
       "    <tr>\n",
       "      <th>29</th>\n",
       "      <td>post1113a</td>\n",
       "      <td>0.000773</td>\n",
       "    </tr>\n",
       "    <tr>\n",
       "      <th>30</th>\n",
       "      <td>nytimes</td>\n",
       "      <td>0.000773</td>\n",
       "    </tr>\n",
       "    <tr>\n",
       "      <th>31</th>\n",
       "      <td>piersmorgan</td>\n",
       "      <td>0.000762</td>\n",
       "    </tr>\n",
       "    <tr>\n",
       "      <th>32</th>\n",
       "      <td>drdavidsamadi</td>\n",
       "      <td>0.000751</td>\n",
       "    </tr>\n",
       "    <tr>\n",
       "      <th>33</th>\n",
       "      <td>jimcramer</td>\n",
       "      <td>0.000751</td>\n",
       "    </tr>\n",
       "    <tr>\n",
       "      <th>34</th>\n",
       "      <td>rob_miller12345</td>\n",
       "      <td>0.000751</td>\n",
       "    </tr>\n",
       "    <tr>\n",
       "      <th>35</th>\n",
       "      <td>business</td>\n",
       "      <td>0.000751</td>\n",
       "    </tr>\n",
       "    <tr>\n",
       "      <th>36</th>\n",
       "      <td>POTUS</td>\n",
       "      <td>0.000729</td>\n",
       "    </tr>\n",
       "    <tr>\n",
       "      <th>37</th>\n",
       "      <td>NBCNews</td>\n",
       "      <td>0.000718</td>\n",
       "    </tr>\n",
       "    <tr>\n",
       "      <th>38</th>\n",
       "      <td>seanhannity</td>\n",
       "      <td>0.000718</td>\n",
       "    </tr>\n",
       "    <tr>\n",
       "      <th>39</th>\n",
       "      <td>ABC</td>\n",
       "      <td>0.000707</td>\n",
       "    </tr>\n",
       "    <tr>\n",
       "      <th>40</th>\n",
       "      <td>ndtv</td>\n",
       "      <td>0.000707</td>\n",
       "    </tr>\n",
       "    <tr>\n",
       "      <th>41</th>\n",
       "      <td>simondolan</td>\n",
       "      <td>0.000696</td>\n",
       "    </tr>\n",
       "    <tr>\n",
       "      <th>42</th>\n",
       "      <td>DrEricDing</td>\n",
       "      <td>0.000696</td>\n",
       "    </tr>\n",
       "    <tr>\n",
       "      <th>43</th>\n",
       "      <td>ProjectLincoln</td>\n",
       "      <td>0.000685</td>\n",
       "    </tr>\n",
       "    <tr>\n",
       "      <th>44</th>\n",
       "      <td>martina_ant79</td>\n",
       "      <td>0.000674</td>\n",
       "    </tr>\n",
       "    <tr>\n",
       "      <th>45</th>\n",
       "      <td>RahulGandhi</td>\n",
       "      <td>0.000674</td>\n",
       "    </tr>\n",
       "    <tr>\n",
       "      <th>46</th>\n",
       "      <td>o_rips</td>\n",
       "      <td>0.000663</td>\n",
       "    </tr>\n",
       "    <tr>\n",
       "      <th>47</th>\n",
       "      <td>aiexpert14</td>\n",
       "      <td>0.000641</td>\n",
       "    </tr>\n",
       "    <tr>\n",
       "      <th>48</th>\n",
       "      <td>kylegriffin1</td>\n",
       "      <td>0.000641</td>\n",
       "    </tr>\n",
       "    <tr>\n",
       "      <th>49</th>\n",
       "      <td>DaniellaCarlisi</td>\n",
       "      <td>0.000629</td>\n",
       "    </tr>\n",
       "  </tbody>\n",
       "</table>\n",
       "</div>"
      ],
      "text/plain": [
       "           username  centrality\n",
       "0   realDonaldTrump    0.018609\n",
       "1           jcho710    0.010723\n",
       "2          JoeBiden    0.002838\n",
       "3               CNN    0.002584\n",
       "4      narendramodi    0.002131\n",
       "5        WhiteHouse    0.001922\n",
       "6           thehill    0.001568\n",
       "7       MattHancock    0.001557\n",
       "8   harleysnhotrods    0.001303\n",
       "9        NYGovCuomo    0.001226\n",
       "10         PMOIndia    0.001171\n",
       "11   adarpoonawalla    0.001149\n",
       "12  emilyle30611735    0.001104\n",
       "13          Reuters    0.001060\n",
       "14          SkyNews    0.001049\n",
       "15    IngrahamAngle    0.001038\n",
       "16      covidvaxine    0.001038\n",
       "17       scottand67    0.001038\n",
       "18         drtessat    0.001016\n",
       "19        BillGates    0.000961\n",
       "20         ASlavitt    0.000939\n",
       "21    MollyJongFast    0.000928\n",
       "22     KamalaHarris    0.000883\n",
       "23    ChuckCallesto    0.000861\n",
       "24          atrupar    0.000861\n",
       "25              GOP    0.000817\n",
       "26         elonmusk    0.000817\n",
       "27     BorisJohnson    0.000795\n",
       "28              WHO    0.000784\n",
       "29        post1113a    0.000773\n",
       "30          nytimes    0.000773\n",
       "31      piersmorgan    0.000762\n",
       "32    drdavidsamadi    0.000751\n",
       "33        jimcramer    0.000751\n",
       "34  rob_miller12345    0.000751\n",
       "35         business    0.000751\n",
       "36            POTUS    0.000729\n",
       "37          NBCNews    0.000718\n",
       "38      seanhannity    0.000718\n",
       "39              ABC    0.000707\n",
       "40             ndtv    0.000707\n",
       "41       simondolan    0.000696\n",
       "42       DrEricDing    0.000696\n",
       "43   ProjectLincoln    0.000685\n",
       "44    martina_ant79    0.000674\n",
       "45      RahulGandhi    0.000674\n",
       "46           o_rips    0.000663\n",
       "47       aiexpert14    0.000641\n",
       "48     kylegriffin1    0.000641\n",
       "49  DaniellaCarlisi    0.000629"
      ]
     },
     "execution_count": 55,
     "metadata": {},
     "output_type": "execute_result"
    }
   ],
   "source": [
    "# Centraility\n",
    "grouped_reply_centrality = nx.degree_centrality(grouped_covid_vaccine_reply_graph)\n",
    "sorted_grouped_reply_centrality = dict(sorted(grouped_reply_centrality.items(), key=lambda item: item[1], reverse=True))\n",
    "sorted_grouped_reply_centrality_df = pd.DataFrame.from_records(list(sorted_grouped_reply_centrality.items()), columns =['username', 'centrality'])\n",
    "sorted_grouped_reply_centrality_df.head(20)"
   ]
  },
  {
   "cell_type": "code",
   "execution_count": null,
   "id": "07e3c62a",
   "metadata": {},
   "outputs": [],
   "source": []
  },
  {
   "cell_type": "code",
   "execution_count": null,
   "id": "a628447e",
   "metadata": {},
   "outputs": [],
   "source": []
  },
  {
   "cell_type": "code",
   "execution_count": null,
   "id": "e54aceed",
   "metadata": {},
   "outputs": [],
   "source": []
  },
  {
   "cell_type": "code",
   "execution_count": null,
   "id": "ca6483cf",
   "metadata": {},
   "outputs": [],
   "source": []
  },
  {
   "cell_type": "code",
   "execution_count": null,
   "id": "98ecddbb",
   "metadata": {},
   "outputs": [],
   "source": []
  },
  {
   "cell_type": "code",
   "execution_count": 121,
   "id": "13436349",
   "metadata": {},
   "outputs": [
    {
     "data": {
      "text/html": [
       "<div>\n",
       "<style scoped>\n",
       "    .dataframe tbody tr th:only-of-type {\n",
       "        vertical-align: middle;\n",
       "    }\n",
       "\n",
       "    .dataframe tbody tr th {\n",
       "        vertical-align: top;\n",
       "    }\n",
       "\n",
       "    .dataframe thead th {\n",
       "        text-align: right;\n",
       "    }\n",
       "</style>\n",
       "<table border=\"1\" class=\"dataframe\">\n",
       "  <thead>\n",
       "    <tr style=\"text-align: right;\">\n",
       "      <th></th>\n",
       "      <th>username</th>\n",
       "      <th>mentions</th>\n",
       "    </tr>\n",
       "  </thead>\n",
       "  <tbody>\n",
       "    <tr>\n",
       "      <th>0</th>\n",
       "      <td>to_fly_to_live</td>\n",
       "      <td>['ani']</td>\n",
       "    </tr>\n",
       "    <tr>\n",
       "      <th>1</th>\n",
       "      <td>utkarshsinha07</td>\n",
       "      <td>[]</td>\n",
       "    </tr>\n",
       "    <tr>\n",
       "      <th>2</th>\n",
       "      <td>batolebazi</td>\n",
       "      <td>[]</td>\n",
       "    </tr>\n",
       "    <tr>\n",
       "      <th>3</th>\n",
       "      <td>bak_sahil</td>\n",
       "      <td>['misseemonis']</td>\n",
       "    </tr>\n",
       "    <tr>\n",
       "      <th>4</th>\n",
       "      <td>ivibhatweedy</td>\n",
       "      <td>[]</td>\n",
       "    </tr>\n",
       "    <tr>\n",
       "      <th>...</th>\n",
       "      <td>...</td>\n",
       "      <td>...</td>\n",
       "    </tr>\n",
       "    <tr>\n",
       "      <th>209924</th>\n",
       "      <td>derek_linders</td>\n",
       "      <td>['laurie_garrett']</td>\n",
       "    </tr>\n",
       "    <tr>\n",
       "      <th>209925</th>\n",
       "      <td>allnbowtane</td>\n",
       "      <td>['girlsreallyrule']</td>\n",
       "    </tr>\n",
       "    <tr>\n",
       "      <th>209926</th>\n",
       "      <td>leighnapier</td>\n",
       "      <td>['caumontsimone', 'covid_19news', 'youtube']</td>\n",
       "    </tr>\n",
       "    <tr>\n",
       "      <th>209927</th>\n",
       "      <td>p_anatacio</td>\n",
       "      <td>[]</td>\n",
       "    </tr>\n",
       "    <tr>\n",
       "      <th>209928</th>\n",
       "      <td>trudge1620</td>\n",
       "      <td>['grummz']</td>\n",
       "    </tr>\n",
       "  </tbody>\n",
       "</table>\n",
       "<p>209929 rows × 2 columns</p>\n",
       "</div>"
      ],
      "text/plain": [
       "              username                                      mentions\n",
       "0       to_fly_to_live                                       ['ani']\n",
       "1       utkarshsinha07                                            []\n",
       "2           batolebazi                                            []\n",
       "3            bak_sahil                               ['misseemonis']\n",
       "4         ivibhatweedy                                            []\n",
       "...                ...                                           ...\n",
       "209924   derek_linders                            ['laurie_garrett']\n",
       "209925     allnbowtane                           ['girlsreallyrule']\n",
       "209926     leighnapier  ['caumontsimone', 'covid_19news', 'youtube']\n",
       "209927      p_anatacio                                            []\n",
       "209928      trudge1620                                    ['grummz']\n",
       "\n",
       "[209929 rows x 2 columns]"
      ]
     },
     "execution_count": 121,
     "metadata": {},
     "output_type": "execute_result"
    }
   ],
   "source": [
    "covid_vaccine_df[[\"username\", \"mentions\"]]"
   ]
  },
  {
   "cell_type": "code",
   "execution_count": 123,
   "id": "ec7b4e5e",
   "metadata": {},
   "outputs": [],
   "source": [
    "original_list = list(covid_vaccine_df[[\"username\", \"mentions\"]].itertuples(index=False, name=None))"
   ]
  },
  {
   "cell_type": "code",
   "execution_count": 142,
   "id": "db8fdb18",
   "metadata": {},
   "outputs": [],
   "source": [
    "mentions_list = []\n",
    "for username, mentions_str in original_list:\n",
    "    mentions_str = mentions_str.replace('\\'', '\"')\n",
    "    mentions_json = json.loads(mentions_str)\n",
    "    for mention in mentions_json:\n",
    "        mentions_list.append((username, mention, 1))"
   ]
  },
  {
   "cell_type": "code",
   "execution_count": 143,
   "id": "56a28728",
   "metadata": {},
   "outputs": [],
   "source": [
    "mentions_df = pd.DataFrame(mentions_list, columns =['username', 'mention', 'width'])"
   ]
  },
  {
   "cell_type": "code",
   "execution_count": 144,
   "id": "7f9a4e54",
   "metadata": {},
   "outputs": [
    {
     "data": {
      "text/html": [
       "<div>\n",
       "<style scoped>\n",
       "    .dataframe tbody tr th:only-of-type {\n",
       "        vertical-align: middle;\n",
       "    }\n",
       "\n",
       "    .dataframe tbody tr th {\n",
       "        vertical-align: top;\n",
       "    }\n",
       "\n",
       "    .dataframe thead th {\n",
       "        text-align: right;\n",
       "    }\n",
       "</style>\n",
       "<table border=\"1\" class=\"dataframe\">\n",
       "  <thead>\n",
       "    <tr style=\"text-align: right;\">\n",
       "      <th></th>\n",
       "      <th>username</th>\n",
       "      <th>mention</th>\n",
       "      <th>width</th>\n",
       "    </tr>\n",
       "  </thead>\n",
       "  <tbody>\n",
       "    <tr>\n",
       "      <th>0</th>\n",
       "      <td>to_fly_to_live</td>\n",
       "      <td>ani</td>\n",
       "      <td>1</td>\n",
       "    </tr>\n",
       "    <tr>\n",
       "      <th>1</th>\n",
       "      <td>bak_sahil</td>\n",
       "      <td>misseemonis</td>\n",
       "      <td>1</td>\n",
       "    </tr>\n",
       "    <tr>\n",
       "      <th>2</th>\n",
       "      <td>adarshshastri</td>\n",
       "      <td>incindia</td>\n",
       "      <td>1</td>\n",
       "    </tr>\n",
       "    <tr>\n",
       "      <th>3</th>\n",
       "      <td>clivebennett</td>\n",
       "      <td>thejeremyvine</td>\n",
       "      <td>1</td>\n",
       "    </tr>\n",
       "    <tr>\n",
       "      <th>4</th>\n",
       "      <td>paulhannon29</td>\n",
       "      <td>wsj</td>\n",
       "      <td>1</td>\n",
       "    </tr>\n",
       "    <tr>\n",
       "      <th>...</th>\n",
       "      <td>...</td>\n",
       "      <td>...</td>\n",
       "      <td>...</td>\n",
       "    </tr>\n",
       "    <tr>\n",
       "      <th>172135</th>\n",
       "      <td>allnbowtane</td>\n",
       "      <td>girlsreallyrule</td>\n",
       "      <td>1</td>\n",
       "    </tr>\n",
       "    <tr>\n",
       "      <th>172136</th>\n",
       "      <td>leighnapier</td>\n",
       "      <td>caumontsimone</td>\n",
       "      <td>1</td>\n",
       "    </tr>\n",
       "    <tr>\n",
       "      <th>172137</th>\n",
       "      <td>leighnapier</td>\n",
       "      <td>covid_19news</td>\n",
       "      <td>1</td>\n",
       "    </tr>\n",
       "    <tr>\n",
       "      <th>172138</th>\n",
       "      <td>leighnapier</td>\n",
       "      <td>youtube</td>\n",
       "      <td>1</td>\n",
       "    </tr>\n",
       "    <tr>\n",
       "      <th>172139</th>\n",
       "      <td>trudge1620</td>\n",
       "      <td>grummz</td>\n",
       "      <td>1</td>\n",
       "    </tr>\n",
       "  </tbody>\n",
       "</table>\n",
       "<p>172140 rows × 3 columns</p>\n",
       "</div>"
      ],
      "text/plain": [
       "              username          mention  width\n",
       "0       to_fly_to_live              ani      1\n",
       "1            bak_sahil      misseemonis      1\n",
       "2        adarshshastri         incindia      1\n",
       "3         clivebennett    thejeremyvine      1\n",
       "4         paulhannon29              wsj      1\n",
       "...                ...              ...    ...\n",
       "172135     allnbowtane  girlsreallyrule      1\n",
       "172136     leighnapier    caumontsimone      1\n",
       "172137     leighnapier     covid_19news      1\n",
       "172138     leighnapier          youtube      1\n",
       "172139      trudge1620           grummz      1\n",
       "\n",
       "[172140 rows x 3 columns]"
      ]
     },
     "execution_count": 144,
     "metadata": {},
     "output_type": "execute_result"
    }
   ],
   "source": [
    "mentions_df"
   ]
  },
  {
   "cell_type": "code",
   "execution_count": 305,
   "id": "885dc8d2",
   "metadata": {},
   "outputs": [
    {
     "data": {
      "text/html": [
       "<div>\n",
       "<style scoped>\n",
       "    .dataframe tbody tr th:only-of-type {\n",
       "        vertical-align: middle;\n",
       "    }\n",
       "\n",
       "    .dataframe tbody tr th {\n",
       "        vertical-align: top;\n",
       "    }\n",
       "\n",
       "    .dataframe thead th {\n",
       "        text-align: right;\n",
       "    }\n",
       "</style>\n",
       "<table border=\"1\" class=\"dataframe\">\n",
       "  <thead>\n",
       "    <tr style=\"text-align: right;\">\n",
       "      <th></th>\n",
       "      <th>username</th>\n",
       "      <th>mention</th>\n",
       "      <th>width</th>\n",
       "    </tr>\n",
       "  </thead>\n",
       "  <tbody>\n",
       "    <tr>\n",
       "      <th>12539</th>\n",
       "      <td>jcho710</td>\n",
       "      <td>arabbitorduck</td>\n",
       "      <td>1</td>\n",
       "    </tr>\n",
       "    <tr>\n",
       "      <th>12565</th>\n",
       "      <td>jcho710</td>\n",
       "      <td>kamalaharris</td>\n",
       "      <td>1</td>\n",
       "    </tr>\n",
       "    <tr>\n",
       "      <th>13028</th>\n",
       "      <td>jcho710</td>\n",
       "      <td>oregongovbrown</td>\n",
       "      <td>1</td>\n",
       "    </tr>\n",
       "    <tr>\n",
       "      <th>13034</th>\n",
       "      <td>jcho710</td>\n",
       "      <td>tonyrobbins</td>\n",
       "      <td>1</td>\n",
       "    </tr>\n",
       "    <tr>\n",
       "      <th>13045</th>\n",
       "      <td>jcho710</td>\n",
       "      <td>joebiden</td>\n",
       "      <td>1</td>\n",
       "    </tr>\n",
       "    <tr>\n",
       "      <th>...</th>\n",
       "      <td>...</td>\n",
       "      <td>...</td>\n",
       "      <td>...</td>\n",
       "    </tr>\n",
       "    <tr>\n",
       "      <th>108384</th>\n",
       "      <td>jcho710</td>\n",
       "      <td>krugermacro</td>\n",
       "      <td>1</td>\n",
       "    </tr>\n",
       "    <tr>\n",
       "      <th>133207</th>\n",
       "      <td>jcho710</td>\n",
       "      <td>nancy_notpelosi</td>\n",
       "      <td>1</td>\n",
       "    </tr>\n",
       "    <tr>\n",
       "      <th>133208</th>\n",
       "      <td>jcho710</td>\n",
       "      <td>patton6966</td>\n",
       "      <td>1</td>\n",
       "    </tr>\n",
       "    <tr>\n",
       "      <th>139638</th>\n",
       "      <td>jcho710</td>\n",
       "      <td>concept211</td>\n",
       "      <td>1</td>\n",
       "    </tr>\n",
       "    <tr>\n",
       "      <th>139639</th>\n",
       "      <td>jcho710</td>\n",
       "      <td>o_rips</td>\n",
       "      <td>1</td>\n",
       "    </tr>\n",
       "  </tbody>\n",
       "</table>\n",
       "<p>3458 rows × 3 columns</p>\n",
       "</div>"
      ],
      "text/plain": [
       "       username          mention  width\n",
       "12539   jcho710    arabbitorduck      1\n",
       "12565   jcho710     kamalaharris      1\n",
       "13028   jcho710   oregongovbrown      1\n",
       "13034   jcho710      tonyrobbins      1\n",
       "13045   jcho710         joebiden      1\n",
       "...         ...              ...    ...\n",
       "108384  jcho710      krugermacro      1\n",
       "133207  jcho710  nancy_notpelosi      1\n",
       "133208  jcho710       patton6966      1\n",
       "139638  jcho710       concept211      1\n",
       "139639  jcho710           o_rips      1\n",
       "\n",
       "[3458 rows x 3 columns]"
      ]
     },
     "execution_count": 305,
     "metadata": {},
     "output_type": "execute_result"
    }
   ],
   "source": [
    "mentions_df.query(\"username == 'jcho710'\")"
   ]
  },
  {
   "cell_type": "code",
   "execution_count": 306,
   "id": "5ecc8c64",
   "metadata": {},
   "outputs": [
    {
     "data": {
      "text/html": [
       "<div>\n",
       "<style scoped>\n",
       "    .dataframe tbody tr th:only-of-type {\n",
       "        vertical-align: middle;\n",
       "    }\n",
       "\n",
       "    .dataframe tbody tr th {\n",
       "        vertical-align: top;\n",
       "    }\n",
       "\n",
       "    .dataframe thead th {\n",
       "        text-align: right;\n",
       "    }\n",
       "</style>\n",
       "<table border=\"1\" class=\"dataframe\">\n",
       "  <thead>\n",
       "    <tr style=\"text-align: right;\">\n",
       "      <th></th>\n",
       "      <th>username</th>\n",
       "      <th>mention</th>\n",
       "      <th>width</th>\n",
       "    </tr>\n",
       "  </thead>\n",
       "  <tbody>\n",
       "    <tr>\n",
       "      <th>9521</th>\n",
       "      <td>bamm_redpilled</td>\n",
       "      <td>jcho710</td>\n",
       "      <td>1</td>\n",
       "    </tr>\n",
       "    <tr>\n",
       "      <th>40622</th>\n",
       "      <td>threadreaderapp</td>\n",
       "      <td>jcho710</td>\n",
       "      <td>1</td>\n",
       "    </tr>\n",
       "    <tr>\n",
       "      <th>45260</th>\n",
       "      <td>kayrofl</td>\n",
       "      <td>jcho710</td>\n",
       "      <td>1</td>\n",
       "    </tr>\n",
       "    <tr>\n",
       "      <th>48756</th>\n",
       "      <td>diamondlife_3</td>\n",
       "      <td>jcho710</td>\n",
       "      <td>1</td>\n",
       "    </tr>\n",
       "    <tr>\n",
       "      <th>52268</th>\n",
       "      <td>schilke_60</td>\n",
       "      <td>jcho710</td>\n",
       "      <td>1</td>\n",
       "    </tr>\n",
       "    <tr>\n",
       "      <th>53459</th>\n",
       "      <td>fateorveritas</td>\n",
       "      <td>jcho710</td>\n",
       "      <td>1</td>\n",
       "    </tr>\n",
       "    <tr>\n",
       "      <th>58564</th>\n",
       "      <td>kellyk84471553</td>\n",
       "      <td>jcho710</td>\n",
       "      <td>1</td>\n",
       "    </tr>\n",
       "    <tr>\n",
       "      <th>82577</th>\n",
       "      <td>texascheetah</td>\n",
       "      <td>jcho710</td>\n",
       "      <td>1</td>\n",
       "    </tr>\n",
       "    <tr>\n",
       "      <th>111766</th>\n",
       "      <td>rancexx_</td>\n",
       "      <td>jcho710</td>\n",
       "      <td>1</td>\n",
       "    </tr>\n",
       "    <tr>\n",
       "      <th>111867</th>\n",
       "      <td>the_crypto_ent</td>\n",
       "      <td>jcho710</td>\n",
       "      <td>1</td>\n",
       "    </tr>\n",
       "    <tr>\n",
       "      <th>121111</th>\n",
       "      <td>blue_sky_4me</td>\n",
       "      <td>jcho710</td>\n",
       "      <td>1</td>\n",
       "    </tr>\n",
       "    <tr>\n",
       "      <th>130711</th>\n",
       "      <td>blloydblloyd</td>\n",
       "      <td>jcho710</td>\n",
       "      <td>1</td>\n",
       "    </tr>\n",
       "    <tr>\n",
       "      <th>131589</th>\n",
       "      <td>blloydblloyd</td>\n",
       "      <td>jcho710</td>\n",
       "      <td>1</td>\n",
       "    </tr>\n",
       "    <tr>\n",
       "      <th>131893</th>\n",
       "      <td>ritalit39113743</td>\n",
       "      <td>jcho710</td>\n",
       "      <td>1</td>\n",
       "    </tr>\n",
       "    <tr>\n",
       "      <th>131897</th>\n",
       "      <td>blloydblloyd</td>\n",
       "      <td>jcho710</td>\n",
       "      <td>1</td>\n",
       "    </tr>\n",
       "    <tr>\n",
       "      <th>131997</th>\n",
       "      <td>blloydblloyd</td>\n",
       "      <td>jcho710</td>\n",
       "      <td>1</td>\n",
       "    </tr>\n",
       "    <tr>\n",
       "      <th>132041</th>\n",
       "      <td>blloydblloyd</td>\n",
       "      <td>jcho710</td>\n",
       "      <td>1</td>\n",
       "    </tr>\n",
       "    <tr>\n",
       "      <th>132056</th>\n",
       "      <td>blloydblloyd</td>\n",
       "      <td>jcho710</td>\n",
       "      <td>1</td>\n",
       "    </tr>\n",
       "  </tbody>\n",
       "</table>\n",
       "</div>"
      ],
      "text/plain": [
       "               username  mention  width\n",
       "9521     bamm_redpilled  jcho710      1\n",
       "40622   threadreaderapp  jcho710      1\n",
       "45260           kayrofl  jcho710      1\n",
       "48756     diamondlife_3  jcho710      1\n",
       "52268        schilke_60  jcho710      1\n",
       "53459     fateorveritas  jcho710      1\n",
       "58564    kellyk84471553  jcho710      1\n",
       "82577      texascheetah  jcho710      1\n",
       "111766         rancexx_  jcho710      1\n",
       "111867   the_crypto_ent  jcho710      1\n",
       "121111     blue_sky_4me  jcho710      1\n",
       "130711     blloydblloyd  jcho710      1\n",
       "131589     blloydblloyd  jcho710      1\n",
       "131893  ritalit39113743  jcho710      1\n",
       "131897     blloydblloyd  jcho710      1\n",
       "131997     blloydblloyd  jcho710      1\n",
       "132041     blloydblloyd  jcho710      1\n",
       "132056     blloydblloyd  jcho710      1"
      ]
     },
     "execution_count": 306,
     "metadata": {},
     "output_type": "execute_result"
    }
   ],
   "source": [
    "mentions_df.query(\"mention == 'jcho710'\")"
   ]
  },
  {
   "cell_type": "code",
   "execution_count": 145,
   "id": "83cd365e",
   "metadata": {},
   "outputs": [
    {
     "data": {
      "text/html": [
       "<div>\n",
       "<style scoped>\n",
       "    .dataframe tbody tr th:only-of-type {\n",
       "        vertical-align: middle;\n",
       "    }\n",
       "\n",
       "    .dataframe tbody tr th {\n",
       "        vertical-align: top;\n",
       "    }\n",
       "\n",
       "    .dataframe thead th {\n",
       "        text-align: right;\n",
       "    }\n",
       "</style>\n",
       "<table border=\"1\" class=\"dataframe\">\n",
       "  <thead>\n",
       "    <tr style=\"text-align: right;\">\n",
       "      <th></th>\n",
       "      <th>username</th>\n",
       "      <th>reply_to_username</th>\n",
       "      <th>width</th>\n",
       "    </tr>\n",
       "  </thead>\n",
       "  <tbody>\n",
       "    <tr>\n",
       "      <th>0</th>\n",
       "      <td>to_fly_to_live</td>\n",
       "      <td>ANI</td>\n",
       "      <td>1</td>\n",
       "    </tr>\n",
       "    <tr>\n",
       "      <th>3</th>\n",
       "      <td>bak_sahil</td>\n",
       "      <td>MisseeMonis</td>\n",
       "      <td>1</td>\n",
       "    </tr>\n",
       "    <tr>\n",
       "      <th>10</th>\n",
       "      <td>clivebennett</td>\n",
       "      <td>theJeremyVine</td>\n",
       "      <td>1</td>\n",
       "    </tr>\n",
       "    <tr>\n",
       "      <th>21</th>\n",
       "      <td>raquelquefois</td>\n",
       "      <td>jim_dickinson</td>\n",
       "      <td>1</td>\n",
       "    </tr>\n",
       "    <tr>\n",
       "      <th>22</th>\n",
       "      <td>hemagazineindia</td>\n",
       "      <td>HEmagazineIndia</td>\n",
       "      <td>1</td>\n",
       "    </tr>\n",
       "    <tr>\n",
       "      <th>...</th>\n",
       "      <td>...</td>\n",
       "      <td>...</td>\n",
       "      <td>...</td>\n",
       "    </tr>\n",
       "    <tr>\n",
       "      <th>209920</th>\n",
       "      <td>zkusovac</td>\n",
       "      <td>admirim</td>\n",
       "      <td>1</td>\n",
       "    </tr>\n",
       "    <tr>\n",
       "      <th>209924</th>\n",
       "      <td>derek_linders</td>\n",
       "      <td>Laurie_Garrett</td>\n",
       "      <td>1</td>\n",
       "    </tr>\n",
       "    <tr>\n",
       "      <th>209925</th>\n",
       "      <td>allnbowtane</td>\n",
       "      <td>girlsreallyrule</td>\n",
       "      <td>1</td>\n",
       "    </tr>\n",
       "    <tr>\n",
       "      <th>209926</th>\n",
       "      <td>leighnapier</td>\n",
       "      <td>LeighNapier</td>\n",
       "      <td>1</td>\n",
       "    </tr>\n",
       "    <tr>\n",
       "      <th>209928</th>\n",
       "      <td>trudge1620</td>\n",
       "      <td>Grummz</td>\n",
       "      <td>1</td>\n",
       "    </tr>\n",
       "  </tbody>\n",
       "</table>\n",
       "<p>71214 rows × 3 columns</p>\n",
       "</div>"
      ],
      "text/plain": [
       "               username reply_to_username  width\n",
       "0        to_fly_to_live               ANI      1\n",
       "3             bak_sahil       MisseeMonis      1\n",
       "10         clivebennett     theJeremyVine      1\n",
       "21        raquelquefois     jim_dickinson      1\n",
       "22      hemagazineindia   HEmagazineIndia      1\n",
       "...                 ...               ...    ...\n",
       "209920         zkusovac           admirim      1\n",
       "209924    derek_linders    Laurie_Garrett      1\n",
       "209925      allnbowtane   girlsreallyrule      1\n",
       "209926      leighnapier       LeighNapier      1\n",
       "209928       trudge1620            Grummz      1\n",
       "\n",
       "[71214 rows x 3 columns]"
      ]
     },
     "execution_count": 145,
     "metadata": {},
     "output_type": "execute_result"
    }
   ],
   "source": [
    "reply_to_edges"
   ]
  },
  {
   "cell_type": "code",
   "execution_count": 307,
   "id": "fe4d6ab5",
   "metadata": {},
   "outputs": [
    {
     "data": {
      "text/html": [
       "<div>\n",
       "<style scoped>\n",
       "    .dataframe tbody tr th:only-of-type {\n",
       "        vertical-align: middle;\n",
       "    }\n",
       "\n",
       "    .dataframe tbody tr th {\n",
       "        vertical-align: top;\n",
       "    }\n",
       "\n",
       "    .dataframe thead th {\n",
       "        text-align: right;\n",
       "    }\n",
       "</style>\n",
       "<table border=\"1\" class=\"dataframe\">\n",
       "  <thead>\n",
       "    <tr style=\"text-align: right;\">\n",
       "      <th></th>\n",
       "      <th>username</th>\n",
       "      <th>reply_to_username</th>\n",
       "      <th>width</th>\n",
       "    </tr>\n",
       "  </thead>\n",
       "  <tbody>\n",
       "    <tr>\n",
       "      <th>15801</th>\n",
       "      <td>jcho710</td>\n",
       "      <td>arabbitorduck</td>\n",
       "      <td>1</td>\n",
       "    </tr>\n",
       "    <tr>\n",
       "      <th>15839</th>\n",
       "      <td>jcho710</td>\n",
       "      <td>jcho710</td>\n",
       "      <td>1</td>\n",
       "    </tr>\n",
       "    <tr>\n",
       "      <th>16339</th>\n",
       "      <td>jcho710</td>\n",
       "      <td>jcho710</td>\n",
       "      <td>1</td>\n",
       "    </tr>\n",
       "    <tr>\n",
       "      <th>16343</th>\n",
       "      <td>jcho710</td>\n",
       "      <td>jcho710</td>\n",
       "      <td>1</td>\n",
       "    </tr>\n",
       "    <tr>\n",
       "      <th>16366</th>\n",
       "      <td>jcho710</td>\n",
       "      <td>jcho710</td>\n",
       "      <td>1</td>\n",
       "    </tr>\n",
       "    <tr>\n",
       "      <th>...</th>\n",
       "      <td>...</td>\n",
       "      <td>...</td>\n",
       "      <td>...</td>\n",
       "    </tr>\n",
       "    <tr>\n",
       "      <th>147986</th>\n",
       "      <td>jcho710</td>\n",
       "      <td>jcho710</td>\n",
       "      <td>1</td>\n",
       "    </tr>\n",
       "    <tr>\n",
       "      <th>161012</th>\n",
       "      <td>jcho710</td>\n",
       "      <td>jcho710</td>\n",
       "      <td>1</td>\n",
       "    </tr>\n",
       "    <tr>\n",
       "      <th>168821</th>\n",
       "      <td>jcho710</td>\n",
       "      <td>Nancy_NotPelosi</td>\n",
       "      <td>1</td>\n",
       "    </tr>\n",
       "    <tr>\n",
       "      <th>170706</th>\n",
       "      <td>jcho710</td>\n",
       "      <td>jcho710</td>\n",
       "      <td>1</td>\n",
       "    </tr>\n",
       "    <tr>\n",
       "      <th>176651</th>\n",
       "      <td>jcho710</td>\n",
       "      <td>Concept211</td>\n",
       "      <td>1</td>\n",
       "    </tr>\n",
       "  </tbody>\n",
       "</table>\n",
       "<p>3016 rows × 3 columns</p>\n",
       "</div>"
      ],
      "text/plain": [
       "       username reply_to_username  width\n",
       "15801   jcho710     arabbitorduck      1\n",
       "15839   jcho710           jcho710      1\n",
       "16339   jcho710           jcho710      1\n",
       "16343   jcho710           jcho710      1\n",
       "16366   jcho710           jcho710      1\n",
       "...         ...               ...    ...\n",
       "147986  jcho710           jcho710      1\n",
       "161012  jcho710           jcho710      1\n",
       "168821  jcho710   Nancy_NotPelosi      1\n",
       "170706  jcho710           jcho710      1\n",
       "176651  jcho710        Concept211      1\n",
       "\n",
       "[3016 rows x 3 columns]"
      ]
     },
     "execution_count": 307,
     "metadata": {},
     "output_type": "execute_result"
    }
   ],
   "source": [
    "reply_to_edges.query(\"username == 'jcho710'\")"
   ]
  },
  {
   "cell_type": "code",
   "execution_count": 308,
   "id": "bcd2ba5f",
   "metadata": {},
   "outputs": [
    {
     "data": {
      "text/html": [
       "<div>\n",
       "<style scoped>\n",
       "    .dataframe tbody tr th:only-of-type {\n",
       "        vertical-align: middle;\n",
       "    }\n",
       "\n",
       "    .dataframe tbody tr th {\n",
       "        vertical-align: top;\n",
       "    }\n",
       "\n",
       "    .dataframe thead th {\n",
       "        text-align: right;\n",
       "    }\n",
       "</style>\n",
       "<table border=\"1\" class=\"dataframe\">\n",
       "  <thead>\n",
       "    <tr style=\"text-align: right;\">\n",
       "      <th></th>\n",
       "      <th>username</th>\n",
       "      <th>reply_to_username</th>\n",
       "      <th>width</th>\n",
       "    </tr>\n",
       "  </thead>\n",
       "  <tbody>\n",
       "    <tr>\n",
       "      <th>11808</th>\n",
       "      <td>bamm_redpilled</td>\n",
       "      <td>jcho710</td>\n",
       "      <td>1</td>\n",
       "    </tr>\n",
       "    <tr>\n",
       "      <th>15839</th>\n",
       "      <td>jcho710</td>\n",
       "      <td>jcho710</td>\n",
       "      <td>1</td>\n",
       "    </tr>\n",
       "    <tr>\n",
       "      <th>16339</th>\n",
       "      <td>jcho710</td>\n",
       "      <td>jcho710</td>\n",
       "      <td>1</td>\n",
       "    </tr>\n",
       "    <tr>\n",
       "      <th>16343</th>\n",
       "      <td>jcho710</td>\n",
       "      <td>jcho710</td>\n",
       "      <td>1</td>\n",
       "    </tr>\n",
       "    <tr>\n",
       "      <th>16366</th>\n",
       "      <td>jcho710</td>\n",
       "      <td>jcho710</td>\n",
       "      <td>1</td>\n",
       "    </tr>\n",
       "    <tr>\n",
       "      <th>...</th>\n",
       "      <td>...</td>\n",
       "      <td>...</td>\n",
       "      <td>...</td>\n",
       "    </tr>\n",
       "    <tr>\n",
       "      <th>147986</th>\n",
       "      <td>jcho710</td>\n",
       "      <td>jcho710</td>\n",
       "      <td>1</td>\n",
       "    </tr>\n",
       "    <tr>\n",
       "      <th>161012</th>\n",
       "      <td>jcho710</td>\n",
       "      <td>jcho710</td>\n",
       "      <td>1</td>\n",
       "    </tr>\n",
       "    <tr>\n",
       "      <th>166065</th>\n",
       "      <td>blloydblloyd</td>\n",
       "      <td>jcho710</td>\n",
       "      <td>1</td>\n",
       "    </tr>\n",
       "    <tr>\n",
       "      <th>167383</th>\n",
       "      <td>ritalit39113743</td>\n",
       "      <td>jcho710</td>\n",
       "      <td>1</td>\n",
       "    </tr>\n",
       "    <tr>\n",
       "      <th>170706</th>\n",
       "      <td>jcho710</td>\n",
       "      <td>jcho710</td>\n",
       "      <td>1</td>\n",
       "    </tr>\n",
       "  </tbody>\n",
       "</table>\n",
       "<p>1442 rows × 3 columns</p>\n",
       "</div>"
      ],
      "text/plain": [
       "               username reply_to_username  width\n",
       "11808    bamm_redpilled           jcho710      1\n",
       "15839           jcho710           jcho710      1\n",
       "16339           jcho710           jcho710      1\n",
       "16343           jcho710           jcho710      1\n",
       "16366           jcho710           jcho710      1\n",
       "...                 ...               ...    ...\n",
       "147986          jcho710           jcho710      1\n",
       "161012          jcho710           jcho710      1\n",
       "166065     blloydblloyd           jcho710      1\n",
       "167383  ritalit39113743           jcho710      1\n",
       "170706          jcho710           jcho710      1\n",
       "\n",
       "[1442 rows x 3 columns]"
      ]
     },
     "execution_count": 308,
     "metadata": {},
     "output_type": "execute_result"
    }
   ],
   "source": [
    "reply_to_edges.query(\"reply_to_username == 'jcho710'\")"
   ]
  },
  {
   "cell_type": "code",
   "execution_count": 332,
   "id": "76ec376b",
   "metadata": {},
   "outputs": [
    {
     "data": {
      "text/html": [
       "<div>\n",
       "<style scoped>\n",
       "    .dataframe tbody tr th:only-of-type {\n",
       "        vertical-align: middle;\n",
       "    }\n",
       "\n",
       "    .dataframe tbody tr th {\n",
       "        vertical-align: top;\n",
       "    }\n",
       "\n",
       "    .dataframe thead th {\n",
       "        text-align: right;\n",
       "    }\n",
       "</style>\n",
       "<table border=\"1\" class=\"dataframe\">\n",
       "  <thead>\n",
       "    <tr style=\"text-align: right;\">\n",
       "      <th></th>\n",
       "      <th>username</th>\n",
       "      <th>count</th>\n",
       "    </tr>\n",
       "  </thead>\n",
       "  <tbody>\n",
       "    <tr>\n",
       "      <th>36794</th>\n",
       "      <td>realDonaldTrump</td>\n",
       "      <td>2011</td>\n",
       "    </tr>\n",
       "    <tr>\n",
       "      <th>31149</th>\n",
       "      <td>jcho710</td>\n",
       "      <td>1442</td>\n",
       "    </tr>\n",
       "    <tr>\n",
       "      <th>10618</th>\n",
       "      <td>JoeBiden</td>\n",
       "      <td>307</td>\n",
       "    </tr>\n",
       "    <tr>\n",
       "      <th>3670</th>\n",
       "      <td>CNN</td>\n",
       "      <td>258</td>\n",
       "    </tr>\n",
       "    <tr>\n",
       "      <th>34953</th>\n",
       "      <td>narendramodi</td>\n",
       "      <td>206</td>\n",
       "    </tr>\n",
       "  </tbody>\n",
       "</table>\n",
       "</div>"
      ],
      "text/plain": [
       "              username  count\n",
       "36794  realDonaldTrump   2011\n",
       "31149          jcho710   1442\n",
       "10618         JoeBiden    307\n",
       "3670               CNN    258\n",
       "34953     narendramodi    206"
      ]
     },
     "execution_count": 332,
     "metadata": {},
     "output_type": "execute_result"
    }
   ],
   "source": [
    "top_5_reply_to_accounts = reply_to_edges.groupby(\"reply_to_username\").agg({\"width\":\"sum\"}).reset_index().sort_values(\"width\", ascending=False).rename(columns={\"width\":\"count\", \"reply_to_username\": \"username\"}).head(5)\n",
    "top_5_reply_to_accounts"
   ]
  },
  {
   "cell_type": "code",
   "execution_count": 341,
   "id": "42c9df37",
   "metadata": {},
   "outputs": [
    {
     "data": {
      "application/vnd.plotly.v1+json": {
       "config": {
        "plotlyServerURL": "https://plot.ly"
       },
       "data": [
        {
         "alignmentgroup": "True",
         "hovertemplate": "count=%{x}<br>username=%{y}<extra></extra>",
         "legendgroup": "",
         "marker": {
          "color": [
           "lightslategray",
           "lightslategray",
           "lightslategray",
           "crimson",
           "lightslategray"
          ]
         },
         "name": "",
         "offsetgroup": "",
         "orientation": "h",
         "showlegend": false,
         "textposition": "auto",
         "type": "bar",
         "x": [
          206,
          258,
          307,
          1442,
          2011
         ],
         "xaxis": "x",
         "y": [
          "narendramodi",
          "CNN",
          "JoeBiden",
          "jcho710",
          "realDonaldTrump"
         ],
         "yaxis": "y"
        }
       ],
       "layout": {
        "barmode": "relative",
        "legend": {
         "tracegroupgap": 0
        },
        "template": {
         "data": {
          "bar": [
           {
            "error_x": {
             "color": "#2a3f5f"
            },
            "error_y": {
             "color": "#2a3f5f"
            },
            "marker": {
             "line": {
              "color": "#E5ECF6",
              "width": 0.5
             }
            },
            "type": "bar"
           }
          ],
          "barpolar": [
           {
            "marker": {
             "line": {
              "color": "#E5ECF6",
              "width": 0.5
             }
            },
            "type": "barpolar"
           }
          ],
          "carpet": [
           {
            "aaxis": {
             "endlinecolor": "#2a3f5f",
             "gridcolor": "white",
             "linecolor": "white",
             "minorgridcolor": "white",
             "startlinecolor": "#2a3f5f"
            },
            "baxis": {
             "endlinecolor": "#2a3f5f",
             "gridcolor": "white",
             "linecolor": "white",
             "minorgridcolor": "white",
             "startlinecolor": "#2a3f5f"
            },
            "type": "carpet"
           }
          ],
          "choropleth": [
           {
            "colorbar": {
             "outlinewidth": 0,
             "ticks": ""
            },
            "type": "choropleth"
           }
          ],
          "contour": [
           {
            "colorbar": {
             "outlinewidth": 0,
             "ticks": ""
            },
            "colorscale": [
             [
              0,
              "#0d0887"
             ],
             [
              0.1111111111111111,
              "#46039f"
             ],
             [
              0.2222222222222222,
              "#7201a8"
             ],
             [
              0.3333333333333333,
              "#9c179e"
             ],
             [
              0.4444444444444444,
              "#bd3786"
             ],
             [
              0.5555555555555556,
              "#d8576b"
             ],
             [
              0.6666666666666666,
              "#ed7953"
             ],
             [
              0.7777777777777778,
              "#fb9f3a"
             ],
             [
              0.8888888888888888,
              "#fdca26"
             ],
             [
              1,
              "#f0f921"
             ]
            ],
            "type": "contour"
           }
          ],
          "contourcarpet": [
           {
            "colorbar": {
             "outlinewidth": 0,
             "ticks": ""
            },
            "type": "contourcarpet"
           }
          ],
          "heatmap": [
           {
            "colorbar": {
             "outlinewidth": 0,
             "ticks": ""
            },
            "colorscale": [
             [
              0,
              "#0d0887"
             ],
             [
              0.1111111111111111,
              "#46039f"
             ],
             [
              0.2222222222222222,
              "#7201a8"
             ],
             [
              0.3333333333333333,
              "#9c179e"
             ],
             [
              0.4444444444444444,
              "#bd3786"
             ],
             [
              0.5555555555555556,
              "#d8576b"
             ],
             [
              0.6666666666666666,
              "#ed7953"
             ],
             [
              0.7777777777777778,
              "#fb9f3a"
             ],
             [
              0.8888888888888888,
              "#fdca26"
             ],
             [
              1,
              "#f0f921"
             ]
            ],
            "type": "heatmap"
           }
          ],
          "heatmapgl": [
           {
            "colorbar": {
             "outlinewidth": 0,
             "ticks": ""
            },
            "colorscale": [
             [
              0,
              "#0d0887"
             ],
             [
              0.1111111111111111,
              "#46039f"
             ],
             [
              0.2222222222222222,
              "#7201a8"
             ],
             [
              0.3333333333333333,
              "#9c179e"
             ],
             [
              0.4444444444444444,
              "#bd3786"
             ],
             [
              0.5555555555555556,
              "#d8576b"
             ],
             [
              0.6666666666666666,
              "#ed7953"
             ],
             [
              0.7777777777777778,
              "#fb9f3a"
             ],
             [
              0.8888888888888888,
              "#fdca26"
             ],
             [
              1,
              "#f0f921"
             ]
            ],
            "type": "heatmapgl"
           }
          ],
          "histogram": [
           {
            "marker": {
             "colorbar": {
              "outlinewidth": 0,
              "ticks": ""
             }
            },
            "type": "histogram"
           }
          ],
          "histogram2d": [
           {
            "colorbar": {
             "outlinewidth": 0,
             "ticks": ""
            },
            "colorscale": [
             [
              0,
              "#0d0887"
             ],
             [
              0.1111111111111111,
              "#46039f"
             ],
             [
              0.2222222222222222,
              "#7201a8"
             ],
             [
              0.3333333333333333,
              "#9c179e"
             ],
             [
              0.4444444444444444,
              "#bd3786"
             ],
             [
              0.5555555555555556,
              "#d8576b"
             ],
             [
              0.6666666666666666,
              "#ed7953"
             ],
             [
              0.7777777777777778,
              "#fb9f3a"
             ],
             [
              0.8888888888888888,
              "#fdca26"
             ],
             [
              1,
              "#f0f921"
             ]
            ],
            "type": "histogram2d"
           }
          ],
          "histogram2dcontour": [
           {
            "colorbar": {
             "outlinewidth": 0,
             "ticks": ""
            },
            "colorscale": [
             [
              0,
              "#0d0887"
             ],
             [
              0.1111111111111111,
              "#46039f"
             ],
             [
              0.2222222222222222,
              "#7201a8"
             ],
             [
              0.3333333333333333,
              "#9c179e"
             ],
             [
              0.4444444444444444,
              "#bd3786"
             ],
             [
              0.5555555555555556,
              "#d8576b"
             ],
             [
              0.6666666666666666,
              "#ed7953"
             ],
             [
              0.7777777777777778,
              "#fb9f3a"
             ],
             [
              0.8888888888888888,
              "#fdca26"
             ],
             [
              1,
              "#f0f921"
             ]
            ],
            "type": "histogram2dcontour"
           }
          ],
          "mesh3d": [
           {
            "colorbar": {
             "outlinewidth": 0,
             "ticks": ""
            },
            "type": "mesh3d"
           }
          ],
          "parcoords": [
           {
            "line": {
             "colorbar": {
              "outlinewidth": 0,
              "ticks": ""
             }
            },
            "type": "parcoords"
           }
          ],
          "pie": [
           {
            "automargin": true,
            "type": "pie"
           }
          ],
          "scatter": [
           {
            "marker": {
             "colorbar": {
              "outlinewidth": 0,
              "ticks": ""
             }
            },
            "type": "scatter"
           }
          ],
          "scatter3d": [
           {
            "line": {
             "colorbar": {
              "outlinewidth": 0,
              "ticks": ""
             }
            },
            "marker": {
             "colorbar": {
              "outlinewidth": 0,
              "ticks": ""
             }
            },
            "type": "scatter3d"
           }
          ],
          "scattercarpet": [
           {
            "marker": {
             "colorbar": {
              "outlinewidth": 0,
              "ticks": ""
             }
            },
            "type": "scattercarpet"
           }
          ],
          "scattergeo": [
           {
            "marker": {
             "colorbar": {
              "outlinewidth": 0,
              "ticks": ""
             }
            },
            "type": "scattergeo"
           }
          ],
          "scattergl": [
           {
            "marker": {
             "colorbar": {
              "outlinewidth": 0,
              "ticks": ""
             }
            },
            "type": "scattergl"
           }
          ],
          "scattermapbox": [
           {
            "marker": {
             "colorbar": {
              "outlinewidth": 0,
              "ticks": ""
             }
            },
            "type": "scattermapbox"
           }
          ],
          "scatterpolar": [
           {
            "marker": {
             "colorbar": {
              "outlinewidth": 0,
              "ticks": ""
             }
            },
            "type": "scatterpolar"
           }
          ],
          "scatterpolargl": [
           {
            "marker": {
             "colorbar": {
              "outlinewidth": 0,
              "ticks": ""
             }
            },
            "type": "scatterpolargl"
           }
          ],
          "scatterternary": [
           {
            "marker": {
             "colorbar": {
              "outlinewidth": 0,
              "ticks": ""
             }
            },
            "type": "scatterternary"
           }
          ],
          "surface": [
           {
            "colorbar": {
             "outlinewidth": 0,
             "ticks": ""
            },
            "colorscale": [
             [
              0,
              "#0d0887"
             ],
             [
              0.1111111111111111,
              "#46039f"
             ],
             [
              0.2222222222222222,
              "#7201a8"
             ],
             [
              0.3333333333333333,
              "#9c179e"
             ],
             [
              0.4444444444444444,
              "#bd3786"
             ],
             [
              0.5555555555555556,
              "#d8576b"
             ],
             [
              0.6666666666666666,
              "#ed7953"
             ],
             [
              0.7777777777777778,
              "#fb9f3a"
             ],
             [
              0.8888888888888888,
              "#fdca26"
             ],
             [
              1,
              "#f0f921"
             ]
            ],
            "type": "surface"
           }
          ],
          "table": [
           {
            "cells": {
             "fill": {
              "color": "#EBF0F8"
             },
             "line": {
              "color": "white"
             }
            },
            "header": {
             "fill": {
              "color": "#C8D4E3"
             },
             "line": {
              "color": "white"
             }
            },
            "type": "table"
           }
          ]
         },
         "layout": {
          "annotationdefaults": {
           "arrowcolor": "#2a3f5f",
           "arrowhead": 0,
           "arrowwidth": 1
          },
          "autotypenumbers": "strict",
          "coloraxis": {
           "colorbar": {
            "outlinewidth": 0,
            "ticks": ""
           }
          },
          "colorscale": {
           "diverging": [
            [
             0,
             "#8e0152"
            ],
            [
             0.1,
             "#c51b7d"
            ],
            [
             0.2,
             "#de77ae"
            ],
            [
             0.3,
             "#f1b6da"
            ],
            [
             0.4,
             "#fde0ef"
            ],
            [
             0.5,
             "#f7f7f7"
            ],
            [
             0.6,
             "#e6f5d0"
            ],
            [
             0.7,
             "#b8e186"
            ],
            [
             0.8,
             "#7fbc41"
            ],
            [
             0.9,
             "#4d9221"
            ],
            [
             1,
             "#276419"
            ]
           ],
           "sequential": [
            [
             0,
             "#0d0887"
            ],
            [
             0.1111111111111111,
             "#46039f"
            ],
            [
             0.2222222222222222,
             "#7201a8"
            ],
            [
             0.3333333333333333,
             "#9c179e"
            ],
            [
             0.4444444444444444,
             "#bd3786"
            ],
            [
             0.5555555555555556,
             "#d8576b"
            ],
            [
             0.6666666666666666,
             "#ed7953"
            ],
            [
             0.7777777777777778,
             "#fb9f3a"
            ],
            [
             0.8888888888888888,
             "#fdca26"
            ],
            [
             1,
             "#f0f921"
            ]
           ],
           "sequentialminus": [
            [
             0,
             "#0d0887"
            ],
            [
             0.1111111111111111,
             "#46039f"
            ],
            [
             0.2222222222222222,
             "#7201a8"
            ],
            [
             0.3333333333333333,
             "#9c179e"
            ],
            [
             0.4444444444444444,
             "#bd3786"
            ],
            [
             0.5555555555555556,
             "#d8576b"
            ],
            [
             0.6666666666666666,
             "#ed7953"
            ],
            [
             0.7777777777777778,
             "#fb9f3a"
            ],
            [
             0.8888888888888888,
             "#fdca26"
            ],
            [
             1,
             "#f0f921"
            ]
           ]
          },
          "colorway": [
           "#636efa",
           "#EF553B",
           "#00cc96",
           "#ab63fa",
           "#FFA15A",
           "#19d3f3",
           "#FF6692",
           "#B6E880",
           "#FF97FF",
           "#FECB52"
          ],
          "font": {
           "color": "#2a3f5f"
          },
          "geo": {
           "bgcolor": "white",
           "lakecolor": "white",
           "landcolor": "#E5ECF6",
           "showlakes": true,
           "showland": true,
           "subunitcolor": "white"
          },
          "hoverlabel": {
           "align": "left"
          },
          "hovermode": "closest",
          "mapbox": {
           "style": "light"
          },
          "paper_bgcolor": "white",
          "plot_bgcolor": "#E5ECF6",
          "polar": {
           "angularaxis": {
            "gridcolor": "white",
            "linecolor": "white",
            "ticks": ""
           },
           "bgcolor": "#E5ECF6",
           "radialaxis": {
            "gridcolor": "white",
            "linecolor": "white",
            "ticks": ""
           }
          },
          "scene": {
           "xaxis": {
            "backgroundcolor": "#E5ECF6",
            "gridcolor": "white",
            "gridwidth": 2,
            "linecolor": "white",
            "showbackground": true,
            "ticks": "",
            "zerolinecolor": "white"
           },
           "yaxis": {
            "backgroundcolor": "#E5ECF6",
            "gridcolor": "white",
            "gridwidth": 2,
            "linecolor": "white",
            "showbackground": true,
            "ticks": "",
            "zerolinecolor": "white"
           },
           "zaxis": {
            "backgroundcolor": "#E5ECF6",
            "gridcolor": "white",
            "gridwidth": 2,
            "linecolor": "white",
            "showbackground": true,
            "ticks": "",
            "zerolinecolor": "white"
           }
          },
          "shapedefaults": {
           "line": {
            "color": "#2a3f5f"
           }
          },
          "ternary": {
           "aaxis": {
            "gridcolor": "white",
            "linecolor": "white",
            "ticks": ""
           },
           "baxis": {
            "gridcolor": "white",
            "linecolor": "white",
            "ticks": ""
           },
           "bgcolor": "#E5ECF6",
           "caxis": {
            "gridcolor": "white",
            "linecolor": "white",
            "ticks": ""
           }
          },
          "title": {
           "x": 0.05
          },
          "xaxis": {
           "automargin": true,
           "gridcolor": "white",
           "linecolor": "white",
           "ticks": "",
           "title": {
            "standoff": 15
           },
           "zerolinecolor": "white",
           "zerolinewidth": 2
          },
          "yaxis": {
           "automargin": true,
           "gridcolor": "white",
           "linecolor": "white",
           "ticks": "",
           "title": {
            "standoff": 15
           },
           "zerolinecolor": "white",
           "zerolinewidth": 2
          }
         }
        },
        "title": {
         "text": "Top 5 users replied by other accounts"
        },
        "xaxis": {
         "anchor": "y",
         "domain": [
          0,
          1
         ],
         "title": {
          "text": "count"
         }
        },
        "yaxis": {
         "anchor": "x",
         "categoryarray": [
          "narendramodi",
          "CNN",
          "JoeBiden",
          "jcho710",
          "realDonaldTrump"
         ],
         "categoryorder": "array",
         "domain": [
          0,
          1
         ],
         "title": {
          "text": "username"
         }
        }
       }
      },
      "text/html": [
       "<div>                            <div id=\"13bf1634-a50d-4f28-9953-13b7c0804356\" class=\"plotly-graph-div\" style=\"height:525px; width:100%;\"></div>            <script type=\"text/javascript\">                require([\"plotly\"], function(Plotly) {                    window.PLOTLYENV=window.PLOTLYENV || {};                                    if (document.getElementById(\"13bf1634-a50d-4f28-9953-13b7c0804356\")) {                    Plotly.newPlot(                        \"13bf1634-a50d-4f28-9953-13b7c0804356\",                        [{\"alignmentgroup\": \"True\", \"hovertemplate\": \"count=%{x}<br>username=%{y}<extra></extra>\", \"legendgroup\": \"\", \"marker\": {\"color\": [\"lightslategray\", \"lightslategray\", \"lightslategray\", \"crimson\", \"lightslategray\"]}, \"name\": \"\", \"offsetgroup\": \"\", \"orientation\": \"h\", \"showlegend\": false, \"textposition\": \"auto\", \"type\": \"bar\", \"x\": [206, 258, 307, 1442, 2011], \"xaxis\": \"x\", \"y\": [\"narendramodi\", \"CNN\", \"JoeBiden\", \"jcho710\", \"realDonaldTrump\"], \"yaxis\": \"y\"}],                        {\"barmode\": \"relative\", \"legend\": {\"tracegroupgap\": 0}, \"template\": {\"data\": {\"bar\": [{\"error_x\": {\"color\": \"#2a3f5f\"}, \"error_y\": {\"color\": \"#2a3f5f\"}, \"marker\": {\"line\": {\"color\": \"#E5ECF6\", \"width\": 0.5}}, \"type\": \"bar\"}], \"barpolar\": [{\"marker\": {\"line\": {\"color\": \"#E5ECF6\", \"width\": 0.5}}, \"type\": \"barpolar\"}], \"carpet\": [{\"aaxis\": {\"endlinecolor\": \"#2a3f5f\", \"gridcolor\": \"white\", \"linecolor\": \"white\", \"minorgridcolor\": \"white\", \"startlinecolor\": \"#2a3f5f\"}, \"baxis\": {\"endlinecolor\": \"#2a3f5f\", \"gridcolor\": \"white\", \"linecolor\": \"white\", \"minorgridcolor\": \"white\", \"startlinecolor\": \"#2a3f5f\"}, \"type\": \"carpet\"}], \"choropleth\": [{\"colorbar\": {\"outlinewidth\": 0, \"ticks\": \"\"}, \"type\": \"choropleth\"}], \"contour\": [{\"colorbar\": {\"outlinewidth\": 0, \"ticks\": \"\"}, \"colorscale\": [[0.0, \"#0d0887\"], [0.1111111111111111, \"#46039f\"], [0.2222222222222222, \"#7201a8\"], [0.3333333333333333, \"#9c179e\"], [0.4444444444444444, \"#bd3786\"], [0.5555555555555556, \"#d8576b\"], [0.6666666666666666, \"#ed7953\"], [0.7777777777777778, \"#fb9f3a\"], [0.8888888888888888, \"#fdca26\"], [1.0, \"#f0f921\"]], \"type\": \"contour\"}], \"contourcarpet\": [{\"colorbar\": {\"outlinewidth\": 0, \"ticks\": \"\"}, \"type\": \"contourcarpet\"}], \"heatmap\": [{\"colorbar\": {\"outlinewidth\": 0, \"ticks\": \"\"}, \"colorscale\": [[0.0, \"#0d0887\"], [0.1111111111111111, \"#46039f\"], [0.2222222222222222, \"#7201a8\"], [0.3333333333333333, \"#9c179e\"], [0.4444444444444444, \"#bd3786\"], [0.5555555555555556, \"#d8576b\"], [0.6666666666666666, \"#ed7953\"], [0.7777777777777778, \"#fb9f3a\"], [0.8888888888888888, \"#fdca26\"], [1.0, \"#f0f921\"]], \"type\": \"heatmap\"}], \"heatmapgl\": [{\"colorbar\": {\"outlinewidth\": 0, \"ticks\": \"\"}, \"colorscale\": [[0.0, \"#0d0887\"], [0.1111111111111111, \"#46039f\"], [0.2222222222222222, \"#7201a8\"], [0.3333333333333333, \"#9c179e\"], [0.4444444444444444, \"#bd3786\"], [0.5555555555555556, \"#d8576b\"], [0.6666666666666666, \"#ed7953\"], [0.7777777777777778, \"#fb9f3a\"], [0.8888888888888888, \"#fdca26\"], [1.0, \"#f0f921\"]], \"type\": \"heatmapgl\"}], \"histogram\": [{\"marker\": {\"colorbar\": {\"outlinewidth\": 0, \"ticks\": \"\"}}, \"type\": \"histogram\"}], \"histogram2d\": [{\"colorbar\": {\"outlinewidth\": 0, \"ticks\": \"\"}, \"colorscale\": [[0.0, \"#0d0887\"], [0.1111111111111111, \"#46039f\"], [0.2222222222222222, \"#7201a8\"], [0.3333333333333333, \"#9c179e\"], [0.4444444444444444, \"#bd3786\"], [0.5555555555555556, \"#d8576b\"], [0.6666666666666666, \"#ed7953\"], [0.7777777777777778, \"#fb9f3a\"], [0.8888888888888888, \"#fdca26\"], [1.0, \"#f0f921\"]], \"type\": \"histogram2d\"}], \"histogram2dcontour\": [{\"colorbar\": {\"outlinewidth\": 0, \"ticks\": \"\"}, \"colorscale\": [[0.0, \"#0d0887\"], [0.1111111111111111, \"#46039f\"], [0.2222222222222222, \"#7201a8\"], [0.3333333333333333, \"#9c179e\"], [0.4444444444444444, \"#bd3786\"], [0.5555555555555556, \"#d8576b\"], [0.6666666666666666, \"#ed7953\"], [0.7777777777777778, \"#fb9f3a\"], [0.8888888888888888, \"#fdca26\"], [1.0, \"#f0f921\"]], \"type\": \"histogram2dcontour\"}], \"mesh3d\": [{\"colorbar\": {\"outlinewidth\": 0, \"ticks\": \"\"}, \"type\": \"mesh3d\"}], \"parcoords\": [{\"line\": {\"colorbar\": {\"outlinewidth\": 0, \"ticks\": \"\"}}, \"type\": \"parcoords\"}], \"pie\": [{\"automargin\": true, \"type\": \"pie\"}], \"scatter\": [{\"marker\": {\"colorbar\": {\"outlinewidth\": 0, \"ticks\": \"\"}}, \"type\": \"scatter\"}], \"scatter3d\": [{\"line\": {\"colorbar\": {\"outlinewidth\": 0, \"ticks\": \"\"}}, \"marker\": {\"colorbar\": {\"outlinewidth\": 0, \"ticks\": \"\"}}, \"type\": \"scatter3d\"}], \"scattercarpet\": [{\"marker\": {\"colorbar\": {\"outlinewidth\": 0, \"ticks\": \"\"}}, \"type\": \"scattercarpet\"}], \"scattergeo\": [{\"marker\": {\"colorbar\": {\"outlinewidth\": 0, \"ticks\": \"\"}}, \"type\": \"scattergeo\"}], \"scattergl\": [{\"marker\": {\"colorbar\": {\"outlinewidth\": 0, \"ticks\": \"\"}}, \"type\": \"scattergl\"}], \"scattermapbox\": [{\"marker\": {\"colorbar\": {\"outlinewidth\": 0, \"ticks\": \"\"}}, \"type\": \"scattermapbox\"}], \"scatterpolar\": [{\"marker\": {\"colorbar\": {\"outlinewidth\": 0, \"ticks\": \"\"}}, \"type\": \"scatterpolar\"}], \"scatterpolargl\": [{\"marker\": {\"colorbar\": {\"outlinewidth\": 0, \"ticks\": \"\"}}, \"type\": \"scatterpolargl\"}], \"scatterternary\": [{\"marker\": {\"colorbar\": {\"outlinewidth\": 0, \"ticks\": \"\"}}, \"type\": \"scatterternary\"}], \"surface\": [{\"colorbar\": {\"outlinewidth\": 0, \"ticks\": \"\"}, \"colorscale\": [[0.0, \"#0d0887\"], [0.1111111111111111, \"#46039f\"], [0.2222222222222222, \"#7201a8\"], [0.3333333333333333, \"#9c179e\"], [0.4444444444444444, \"#bd3786\"], [0.5555555555555556, \"#d8576b\"], [0.6666666666666666, \"#ed7953\"], [0.7777777777777778, \"#fb9f3a\"], [0.8888888888888888, \"#fdca26\"], [1.0, \"#f0f921\"]], \"type\": \"surface\"}], \"table\": [{\"cells\": {\"fill\": {\"color\": \"#EBF0F8\"}, \"line\": {\"color\": \"white\"}}, \"header\": {\"fill\": {\"color\": \"#C8D4E3\"}, \"line\": {\"color\": \"white\"}}, \"type\": \"table\"}]}, \"layout\": {\"annotationdefaults\": {\"arrowcolor\": \"#2a3f5f\", \"arrowhead\": 0, \"arrowwidth\": 1}, \"autotypenumbers\": \"strict\", \"coloraxis\": {\"colorbar\": {\"outlinewidth\": 0, \"ticks\": \"\"}}, \"colorscale\": {\"diverging\": [[0, \"#8e0152\"], [0.1, \"#c51b7d\"], [0.2, \"#de77ae\"], [0.3, \"#f1b6da\"], [0.4, \"#fde0ef\"], [0.5, \"#f7f7f7\"], [0.6, \"#e6f5d0\"], [0.7, \"#b8e186\"], [0.8, \"#7fbc41\"], [0.9, \"#4d9221\"], [1, \"#276419\"]], \"sequential\": [[0.0, \"#0d0887\"], [0.1111111111111111, \"#46039f\"], [0.2222222222222222, \"#7201a8\"], [0.3333333333333333, \"#9c179e\"], [0.4444444444444444, \"#bd3786\"], [0.5555555555555556, \"#d8576b\"], [0.6666666666666666, \"#ed7953\"], [0.7777777777777778, \"#fb9f3a\"], [0.8888888888888888, \"#fdca26\"], [1.0, \"#f0f921\"]], \"sequentialminus\": [[0.0, \"#0d0887\"], [0.1111111111111111, \"#46039f\"], [0.2222222222222222, \"#7201a8\"], [0.3333333333333333, \"#9c179e\"], [0.4444444444444444, \"#bd3786\"], [0.5555555555555556, \"#d8576b\"], [0.6666666666666666, \"#ed7953\"], [0.7777777777777778, \"#fb9f3a\"], [0.8888888888888888, \"#fdca26\"], [1.0, \"#f0f921\"]]}, \"colorway\": [\"#636efa\", \"#EF553B\", \"#00cc96\", \"#ab63fa\", \"#FFA15A\", \"#19d3f3\", \"#FF6692\", \"#B6E880\", \"#FF97FF\", \"#FECB52\"], \"font\": {\"color\": \"#2a3f5f\"}, \"geo\": {\"bgcolor\": \"white\", \"lakecolor\": \"white\", \"landcolor\": \"#E5ECF6\", \"showlakes\": true, \"showland\": true, \"subunitcolor\": \"white\"}, \"hoverlabel\": {\"align\": \"left\"}, \"hovermode\": \"closest\", \"mapbox\": {\"style\": \"light\"}, \"paper_bgcolor\": \"white\", \"plot_bgcolor\": \"#E5ECF6\", \"polar\": {\"angularaxis\": {\"gridcolor\": \"white\", \"linecolor\": \"white\", \"ticks\": \"\"}, \"bgcolor\": \"#E5ECF6\", \"radialaxis\": {\"gridcolor\": \"white\", \"linecolor\": \"white\", \"ticks\": \"\"}}, \"scene\": {\"xaxis\": {\"backgroundcolor\": \"#E5ECF6\", \"gridcolor\": \"white\", \"gridwidth\": 2, \"linecolor\": \"white\", \"showbackground\": true, \"ticks\": \"\", \"zerolinecolor\": \"white\"}, \"yaxis\": {\"backgroundcolor\": \"#E5ECF6\", \"gridcolor\": \"white\", \"gridwidth\": 2, \"linecolor\": \"white\", \"showbackground\": true, \"ticks\": \"\", \"zerolinecolor\": \"white\"}, \"zaxis\": {\"backgroundcolor\": \"#E5ECF6\", \"gridcolor\": \"white\", \"gridwidth\": 2, \"linecolor\": \"white\", \"showbackground\": true, \"ticks\": \"\", \"zerolinecolor\": \"white\"}}, \"shapedefaults\": {\"line\": {\"color\": \"#2a3f5f\"}}, \"ternary\": {\"aaxis\": {\"gridcolor\": \"white\", \"linecolor\": \"white\", \"ticks\": \"\"}, \"baxis\": {\"gridcolor\": \"white\", \"linecolor\": \"white\", \"ticks\": \"\"}, \"bgcolor\": \"#E5ECF6\", \"caxis\": {\"gridcolor\": \"white\", \"linecolor\": \"white\", \"ticks\": \"\"}}, \"title\": {\"x\": 0.05}, \"xaxis\": {\"automargin\": true, \"gridcolor\": \"white\", \"linecolor\": \"white\", \"ticks\": \"\", \"title\": {\"standoff\": 15}, \"zerolinecolor\": \"white\", \"zerolinewidth\": 2}, \"yaxis\": {\"automargin\": true, \"gridcolor\": \"white\", \"linecolor\": \"white\", \"ticks\": \"\", \"title\": {\"standoff\": 15}, \"zerolinecolor\": \"white\", \"zerolinewidth\": 2}}}, \"title\": {\"text\": \"Top 5 users replied by other accounts\"}, \"xaxis\": {\"anchor\": \"y\", \"domain\": [0.0, 1.0], \"title\": {\"text\": \"count\"}}, \"yaxis\": {\"anchor\": \"x\", \"categoryarray\": [\"narendramodi\", \"CNN\", \"JoeBiden\", \"jcho710\", \"realDonaldTrump\"], \"categoryorder\": \"array\", \"domain\": [0.0, 1.0], \"title\": {\"text\": \"username\"}}},                        {\"responsive\": true}                    ).then(function(){\n",
       "                            \n",
       "var gd = document.getElementById('13bf1634-a50d-4f28-9953-13b7c0804356');\n",
       "var x = new MutationObserver(function (mutations, observer) {{\n",
       "        var display = window.getComputedStyle(gd).display;\n",
       "        if (!display || display === 'none') {{\n",
       "            console.log([gd, 'removed!']);\n",
       "            Plotly.purge(gd);\n",
       "            observer.disconnect();\n",
       "        }}\n",
       "}});\n",
       "\n",
       "// Listen for the removal of the full notebook cells\n",
       "var notebookContainer = gd.closest('#notebook-container');\n",
       "if (notebookContainer) {{\n",
       "    x.observe(notebookContainer, {childList: true});\n",
       "}}\n",
       "\n",
       "// Listen for the clearing of the current output cell\n",
       "var outputEl = gd.closest('.output');\n",
       "if (outputEl) {{\n",
       "    x.observe(outputEl, {childList: true});\n",
       "}}\n",
       "\n",
       "                        })                };                });            </script>        </div>"
      ]
     },
     "metadata": {},
     "output_type": "display_data"
    }
   ],
   "source": [
    "colors = ['lightslategray',] * 5\n",
    "colors[3] = 'crimson'\n",
    "fig = px.bar(top_5_reply_to_accounts.sort_values('count'), x='count', y='username', orientation='h', title=\"Top 5 users replied by other accounts\")\n",
    "fig.update_layout(yaxis={'categoryorder':'array', 'categoryarray':top_5_reply_to_accounts.sort_values('count')['username'].tolist()})\n",
    "\n",
    "fig.update_traces(marker_color=colors)\n",
    "\n",
    "# fig.update_layout({\n",
    "#     'plot_bgcolor': 'rgba(0, 0, 0, 0)',\n",
    "#     'paper_bgcolor': 'rgba(0, 0, 0, 0)',\n",
    "# })\n",
    "\n",
    "fig.show()"
   ]
  },
  {
   "cell_type": "code",
   "execution_count": 343,
   "id": "07ee44c5",
   "metadata": {},
   "outputs": [
    {
     "data": {
      "text/html": [
       "<div>\n",
       "<style scoped>\n",
       "    .dataframe tbody tr th:only-of-type {\n",
       "        vertical-align: middle;\n",
       "    }\n",
       "\n",
       "    .dataframe tbody tr th {\n",
       "        vertical-align: top;\n",
       "    }\n",
       "\n",
       "    .dataframe thead th {\n",
       "        text-align: right;\n",
       "    }\n",
       "</style>\n",
       "<table border=\"1\" class=\"dataframe\">\n",
       "  <thead>\n",
       "    <tr style=\"text-align: right;\">\n",
       "      <th></th>\n",
       "      <th>username</th>\n",
       "      <th>count</th>\n",
       "    </tr>\n",
       "  </thead>\n",
       "  <tbody>\n",
       "    <tr>\n",
       "      <th>27729</th>\n",
       "      <td>jcho710</td>\n",
       "      <td>3458</td>\n",
       "    </tr>\n",
       "    <tr>\n",
       "      <th>6280</th>\n",
       "      <td>barbarajdurkin</td>\n",
       "      <td>852</td>\n",
       "    </tr>\n",
       "    <tr>\n",
       "      <th>40290</th>\n",
       "      <td>mrfunnyfff</td>\n",
       "      <td>511</td>\n",
       "    </tr>\n",
       "    <tr>\n",
       "      <th>11193</th>\n",
       "      <td>cheese24k</td>\n",
       "      <td>395</td>\n",
       "    </tr>\n",
       "    <tr>\n",
       "      <th>13015</th>\n",
       "      <td>covidvaxine</td>\n",
       "      <td>318</td>\n",
       "    </tr>\n",
       "  </tbody>\n",
       "</table>\n",
       "</div>"
      ],
      "text/plain": [
       "             username  count\n",
       "27729         jcho710   3458\n",
       "6280   barbarajdurkin    852\n",
       "40290      mrfunnyfff    511\n",
       "11193       cheese24k    395\n",
       "13015     covidvaxine    318"
      ]
     },
     "execution_count": 343,
     "metadata": {},
     "output_type": "execute_result"
    }
   ],
   "source": [
    "top_5_mention_accounts = mentions_df.groupby(\"username\").agg({\"width\":\"sum\"}).reset_index().sort_values(\"width\", ascending=False).rename(columns={\"width\":\"count\"}).head(5)\n",
    "top_5_mention_accounts"
   ]
  },
  {
   "cell_type": "code",
   "execution_count": null,
   "id": "b2079053",
   "metadata": {},
   "outputs": [],
   "source": [
    "top_5_mention_accounts = mentions_df.groupby(\"username\").agg({\"width\":\"sum\"}).reset_index().sort_values(\"width\", ascending=False).rename(columns={\"width\":\"count\"}).head(5)\n",
    "top_5_mention_accounts"
   ]
  },
  {
   "cell_type": "code",
   "execution_count": 345,
   "id": "2107c07a",
   "metadata": {},
   "outputs": [
    {
     "data": {
      "application/vnd.plotly.v1+json": {
       "config": {
        "plotlyServerURL": "https://plot.ly"
       },
       "data": [
        {
         "alignmentgroup": "True",
         "hovertemplate": "count=%{x}<br>username=%{y}<extra></extra>",
         "legendgroup": "",
         "marker": {
          "color": [
           "lightslategray",
           "lightslategray",
           "lightslategray",
           "lightslategray",
           "crimson"
          ]
         },
         "name": "",
         "offsetgroup": "",
         "orientation": "h",
         "showlegend": false,
         "textposition": "auto",
         "type": "bar",
         "x": [
          318,
          395,
          511,
          852,
          3458
         ],
         "xaxis": "x",
         "y": [
          "covidvaxine",
          "cheese24k",
          "mrfunnyfff",
          "barbarajdurkin",
          "jcho710"
         ],
         "yaxis": "y"
        }
       ],
       "layout": {
        "barmode": "relative",
        "legend": {
         "tracegroupgap": 0
        },
        "template": {
         "data": {
          "bar": [
           {
            "error_x": {
             "color": "#2a3f5f"
            },
            "error_y": {
             "color": "#2a3f5f"
            },
            "marker": {
             "line": {
              "color": "#E5ECF6",
              "width": 0.5
             }
            },
            "type": "bar"
           }
          ],
          "barpolar": [
           {
            "marker": {
             "line": {
              "color": "#E5ECF6",
              "width": 0.5
             }
            },
            "type": "barpolar"
           }
          ],
          "carpet": [
           {
            "aaxis": {
             "endlinecolor": "#2a3f5f",
             "gridcolor": "white",
             "linecolor": "white",
             "minorgridcolor": "white",
             "startlinecolor": "#2a3f5f"
            },
            "baxis": {
             "endlinecolor": "#2a3f5f",
             "gridcolor": "white",
             "linecolor": "white",
             "minorgridcolor": "white",
             "startlinecolor": "#2a3f5f"
            },
            "type": "carpet"
           }
          ],
          "choropleth": [
           {
            "colorbar": {
             "outlinewidth": 0,
             "ticks": ""
            },
            "type": "choropleth"
           }
          ],
          "contour": [
           {
            "colorbar": {
             "outlinewidth": 0,
             "ticks": ""
            },
            "colorscale": [
             [
              0,
              "#0d0887"
             ],
             [
              0.1111111111111111,
              "#46039f"
             ],
             [
              0.2222222222222222,
              "#7201a8"
             ],
             [
              0.3333333333333333,
              "#9c179e"
             ],
             [
              0.4444444444444444,
              "#bd3786"
             ],
             [
              0.5555555555555556,
              "#d8576b"
             ],
             [
              0.6666666666666666,
              "#ed7953"
             ],
             [
              0.7777777777777778,
              "#fb9f3a"
             ],
             [
              0.8888888888888888,
              "#fdca26"
             ],
             [
              1,
              "#f0f921"
             ]
            ],
            "type": "contour"
           }
          ],
          "contourcarpet": [
           {
            "colorbar": {
             "outlinewidth": 0,
             "ticks": ""
            },
            "type": "contourcarpet"
           }
          ],
          "heatmap": [
           {
            "colorbar": {
             "outlinewidth": 0,
             "ticks": ""
            },
            "colorscale": [
             [
              0,
              "#0d0887"
             ],
             [
              0.1111111111111111,
              "#46039f"
             ],
             [
              0.2222222222222222,
              "#7201a8"
             ],
             [
              0.3333333333333333,
              "#9c179e"
             ],
             [
              0.4444444444444444,
              "#bd3786"
             ],
             [
              0.5555555555555556,
              "#d8576b"
             ],
             [
              0.6666666666666666,
              "#ed7953"
             ],
             [
              0.7777777777777778,
              "#fb9f3a"
             ],
             [
              0.8888888888888888,
              "#fdca26"
             ],
             [
              1,
              "#f0f921"
             ]
            ],
            "type": "heatmap"
           }
          ],
          "heatmapgl": [
           {
            "colorbar": {
             "outlinewidth": 0,
             "ticks": ""
            },
            "colorscale": [
             [
              0,
              "#0d0887"
             ],
             [
              0.1111111111111111,
              "#46039f"
             ],
             [
              0.2222222222222222,
              "#7201a8"
             ],
             [
              0.3333333333333333,
              "#9c179e"
             ],
             [
              0.4444444444444444,
              "#bd3786"
             ],
             [
              0.5555555555555556,
              "#d8576b"
             ],
             [
              0.6666666666666666,
              "#ed7953"
             ],
             [
              0.7777777777777778,
              "#fb9f3a"
             ],
             [
              0.8888888888888888,
              "#fdca26"
             ],
             [
              1,
              "#f0f921"
             ]
            ],
            "type": "heatmapgl"
           }
          ],
          "histogram": [
           {
            "marker": {
             "colorbar": {
              "outlinewidth": 0,
              "ticks": ""
             }
            },
            "type": "histogram"
           }
          ],
          "histogram2d": [
           {
            "colorbar": {
             "outlinewidth": 0,
             "ticks": ""
            },
            "colorscale": [
             [
              0,
              "#0d0887"
             ],
             [
              0.1111111111111111,
              "#46039f"
             ],
             [
              0.2222222222222222,
              "#7201a8"
             ],
             [
              0.3333333333333333,
              "#9c179e"
             ],
             [
              0.4444444444444444,
              "#bd3786"
             ],
             [
              0.5555555555555556,
              "#d8576b"
             ],
             [
              0.6666666666666666,
              "#ed7953"
             ],
             [
              0.7777777777777778,
              "#fb9f3a"
             ],
             [
              0.8888888888888888,
              "#fdca26"
             ],
             [
              1,
              "#f0f921"
             ]
            ],
            "type": "histogram2d"
           }
          ],
          "histogram2dcontour": [
           {
            "colorbar": {
             "outlinewidth": 0,
             "ticks": ""
            },
            "colorscale": [
             [
              0,
              "#0d0887"
             ],
             [
              0.1111111111111111,
              "#46039f"
             ],
             [
              0.2222222222222222,
              "#7201a8"
             ],
             [
              0.3333333333333333,
              "#9c179e"
             ],
             [
              0.4444444444444444,
              "#bd3786"
             ],
             [
              0.5555555555555556,
              "#d8576b"
             ],
             [
              0.6666666666666666,
              "#ed7953"
             ],
             [
              0.7777777777777778,
              "#fb9f3a"
             ],
             [
              0.8888888888888888,
              "#fdca26"
             ],
             [
              1,
              "#f0f921"
             ]
            ],
            "type": "histogram2dcontour"
           }
          ],
          "mesh3d": [
           {
            "colorbar": {
             "outlinewidth": 0,
             "ticks": ""
            },
            "type": "mesh3d"
           }
          ],
          "parcoords": [
           {
            "line": {
             "colorbar": {
              "outlinewidth": 0,
              "ticks": ""
             }
            },
            "type": "parcoords"
           }
          ],
          "pie": [
           {
            "automargin": true,
            "type": "pie"
           }
          ],
          "scatter": [
           {
            "marker": {
             "colorbar": {
              "outlinewidth": 0,
              "ticks": ""
             }
            },
            "type": "scatter"
           }
          ],
          "scatter3d": [
           {
            "line": {
             "colorbar": {
              "outlinewidth": 0,
              "ticks": ""
             }
            },
            "marker": {
             "colorbar": {
              "outlinewidth": 0,
              "ticks": ""
             }
            },
            "type": "scatter3d"
           }
          ],
          "scattercarpet": [
           {
            "marker": {
             "colorbar": {
              "outlinewidth": 0,
              "ticks": ""
             }
            },
            "type": "scattercarpet"
           }
          ],
          "scattergeo": [
           {
            "marker": {
             "colorbar": {
              "outlinewidth": 0,
              "ticks": ""
             }
            },
            "type": "scattergeo"
           }
          ],
          "scattergl": [
           {
            "marker": {
             "colorbar": {
              "outlinewidth": 0,
              "ticks": ""
             }
            },
            "type": "scattergl"
           }
          ],
          "scattermapbox": [
           {
            "marker": {
             "colorbar": {
              "outlinewidth": 0,
              "ticks": ""
             }
            },
            "type": "scattermapbox"
           }
          ],
          "scatterpolar": [
           {
            "marker": {
             "colorbar": {
              "outlinewidth": 0,
              "ticks": ""
             }
            },
            "type": "scatterpolar"
           }
          ],
          "scatterpolargl": [
           {
            "marker": {
             "colorbar": {
              "outlinewidth": 0,
              "ticks": ""
             }
            },
            "type": "scatterpolargl"
           }
          ],
          "scatterternary": [
           {
            "marker": {
             "colorbar": {
              "outlinewidth": 0,
              "ticks": ""
             }
            },
            "type": "scatterternary"
           }
          ],
          "surface": [
           {
            "colorbar": {
             "outlinewidth": 0,
             "ticks": ""
            },
            "colorscale": [
             [
              0,
              "#0d0887"
             ],
             [
              0.1111111111111111,
              "#46039f"
             ],
             [
              0.2222222222222222,
              "#7201a8"
             ],
             [
              0.3333333333333333,
              "#9c179e"
             ],
             [
              0.4444444444444444,
              "#bd3786"
             ],
             [
              0.5555555555555556,
              "#d8576b"
             ],
             [
              0.6666666666666666,
              "#ed7953"
             ],
             [
              0.7777777777777778,
              "#fb9f3a"
             ],
             [
              0.8888888888888888,
              "#fdca26"
             ],
             [
              1,
              "#f0f921"
             ]
            ],
            "type": "surface"
           }
          ],
          "table": [
           {
            "cells": {
             "fill": {
              "color": "#EBF0F8"
             },
             "line": {
              "color": "white"
             }
            },
            "header": {
             "fill": {
              "color": "#C8D4E3"
             },
             "line": {
              "color": "white"
             }
            },
            "type": "table"
           }
          ]
         },
         "layout": {
          "annotationdefaults": {
           "arrowcolor": "#2a3f5f",
           "arrowhead": 0,
           "arrowwidth": 1
          },
          "autotypenumbers": "strict",
          "coloraxis": {
           "colorbar": {
            "outlinewidth": 0,
            "ticks": ""
           }
          },
          "colorscale": {
           "diverging": [
            [
             0,
             "#8e0152"
            ],
            [
             0.1,
             "#c51b7d"
            ],
            [
             0.2,
             "#de77ae"
            ],
            [
             0.3,
             "#f1b6da"
            ],
            [
             0.4,
             "#fde0ef"
            ],
            [
             0.5,
             "#f7f7f7"
            ],
            [
             0.6,
             "#e6f5d0"
            ],
            [
             0.7,
             "#b8e186"
            ],
            [
             0.8,
             "#7fbc41"
            ],
            [
             0.9,
             "#4d9221"
            ],
            [
             1,
             "#276419"
            ]
           ],
           "sequential": [
            [
             0,
             "#0d0887"
            ],
            [
             0.1111111111111111,
             "#46039f"
            ],
            [
             0.2222222222222222,
             "#7201a8"
            ],
            [
             0.3333333333333333,
             "#9c179e"
            ],
            [
             0.4444444444444444,
             "#bd3786"
            ],
            [
             0.5555555555555556,
             "#d8576b"
            ],
            [
             0.6666666666666666,
             "#ed7953"
            ],
            [
             0.7777777777777778,
             "#fb9f3a"
            ],
            [
             0.8888888888888888,
             "#fdca26"
            ],
            [
             1,
             "#f0f921"
            ]
           ],
           "sequentialminus": [
            [
             0,
             "#0d0887"
            ],
            [
             0.1111111111111111,
             "#46039f"
            ],
            [
             0.2222222222222222,
             "#7201a8"
            ],
            [
             0.3333333333333333,
             "#9c179e"
            ],
            [
             0.4444444444444444,
             "#bd3786"
            ],
            [
             0.5555555555555556,
             "#d8576b"
            ],
            [
             0.6666666666666666,
             "#ed7953"
            ],
            [
             0.7777777777777778,
             "#fb9f3a"
            ],
            [
             0.8888888888888888,
             "#fdca26"
            ],
            [
             1,
             "#f0f921"
            ]
           ]
          },
          "colorway": [
           "#636efa",
           "#EF553B",
           "#00cc96",
           "#ab63fa",
           "#FFA15A",
           "#19d3f3",
           "#FF6692",
           "#B6E880",
           "#FF97FF",
           "#FECB52"
          ],
          "font": {
           "color": "#2a3f5f"
          },
          "geo": {
           "bgcolor": "white",
           "lakecolor": "white",
           "landcolor": "#E5ECF6",
           "showlakes": true,
           "showland": true,
           "subunitcolor": "white"
          },
          "hoverlabel": {
           "align": "left"
          },
          "hovermode": "closest",
          "mapbox": {
           "style": "light"
          },
          "paper_bgcolor": "white",
          "plot_bgcolor": "#E5ECF6",
          "polar": {
           "angularaxis": {
            "gridcolor": "white",
            "linecolor": "white",
            "ticks": ""
           },
           "bgcolor": "#E5ECF6",
           "radialaxis": {
            "gridcolor": "white",
            "linecolor": "white",
            "ticks": ""
           }
          },
          "scene": {
           "xaxis": {
            "backgroundcolor": "#E5ECF6",
            "gridcolor": "white",
            "gridwidth": 2,
            "linecolor": "white",
            "showbackground": true,
            "ticks": "",
            "zerolinecolor": "white"
           },
           "yaxis": {
            "backgroundcolor": "#E5ECF6",
            "gridcolor": "white",
            "gridwidth": 2,
            "linecolor": "white",
            "showbackground": true,
            "ticks": "",
            "zerolinecolor": "white"
           },
           "zaxis": {
            "backgroundcolor": "#E5ECF6",
            "gridcolor": "white",
            "gridwidth": 2,
            "linecolor": "white",
            "showbackground": true,
            "ticks": "",
            "zerolinecolor": "white"
           }
          },
          "shapedefaults": {
           "line": {
            "color": "#2a3f5f"
           }
          },
          "ternary": {
           "aaxis": {
            "gridcolor": "white",
            "linecolor": "white",
            "ticks": ""
           },
           "baxis": {
            "gridcolor": "white",
            "linecolor": "white",
            "ticks": ""
           },
           "bgcolor": "#E5ECF6",
           "caxis": {
            "gridcolor": "white",
            "linecolor": "white",
            "ticks": ""
           }
          },
          "title": {
           "x": 0.05
          },
          "xaxis": {
           "automargin": true,
           "gridcolor": "white",
           "linecolor": "white",
           "ticks": "",
           "title": {
            "standoff": 15
           },
           "zerolinecolor": "white",
           "zerolinewidth": 2
          },
          "yaxis": {
           "automargin": true,
           "gridcolor": "white",
           "linecolor": "white",
           "ticks": "",
           "title": {
            "standoff": 15
           },
           "zerolinecolor": "white",
           "zerolinewidth": 2
          }
         }
        },
        "title": {
         "text": "Top 5 users mentioned other accounts"
        },
        "xaxis": {
         "anchor": "y",
         "domain": [
          0,
          1
         ],
         "title": {
          "text": "count"
         }
        },
        "yaxis": {
         "anchor": "x",
         "categoryarray": [
          "covidvaxine",
          "cheese24k",
          "mrfunnyfff",
          "barbarajdurkin",
          "jcho710"
         ],
         "categoryorder": "array",
         "domain": [
          0,
          1
         ],
         "title": {
          "text": "username"
         }
        }
       }
      },
      "text/html": [
       "<div>                            <div id=\"d9af876a-2af2-47f0-84e2-24a8b411388d\" class=\"plotly-graph-div\" style=\"height:525px; width:100%;\"></div>            <script type=\"text/javascript\">                require([\"plotly\"], function(Plotly) {                    window.PLOTLYENV=window.PLOTLYENV || {};                                    if (document.getElementById(\"d9af876a-2af2-47f0-84e2-24a8b411388d\")) {                    Plotly.newPlot(                        \"d9af876a-2af2-47f0-84e2-24a8b411388d\",                        [{\"alignmentgroup\": \"True\", \"hovertemplate\": \"count=%{x}<br>username=%{y}<extra></extra>\", \"legendgroup\": \"\", \"marker\": {\"color\": [\"lightslategray\", \"lightslategray\", \"lightslategray\", \"lightslategray\", \"crimson\"]}, \"name\": \"\", \"offsetgroup\": \"\", \"orientation\": \"h\", \"showlegend\": false, \"textposition\": \"auto\", \"type\": \"bar\", \"x\": [318, 395, 511, 852, 3458], \"xaxis\": \"x\", \"y\": [\"covidvaxine\", \"cheese24k\", \"mrfunnyfff\", \"barbarajdurkin\", \"jcho710\"], \"yaxis\": \"y\"}],                        {\"barmode\": \"relative\", \"legend\": {\"tracegroupgap\": 0}, \"template\": {\"data\": {\"bar\": [{\"error_x\": {\"color\": \"#2a3f5f\"}, \"error_y\": {\"color\": \"#2a3f5f\"}, \"marker\": {\"line\": {\"color\": \"#E5ECF6\", \"width\": 0.5}}, \"type\": \"bar\"}], \"barpolar\": [{\"marker\": {\"line\": {\"color\": \"#E5ECF6\", \"width\": 0.5}}, \"type\": \"barpolar\"}], \"carpet\": [{\"aaxis\": {\"endlinecolor\": \"#2a3f5f\", \"gridcolor\": \"white\", \"linecolor\": \"white\", \"minorgridcolor\": \"white\", \"startlinecolor\": \"#2a3f5f\"}, \"baxis\": {\"endlinecolor\": \"#2a3f5f\", \"gridcolor\": \"white\", \"linecolor\": \"white\", \"minorgridcolor\": \"white\", \"startlinecolor\": \"#2a3f5f\"}, \"type\": \"carpet\"}], \"choropleth\": [{\"colorbar\": {\"outlinewidth\": 0, \"ticks\": \"\"}, \"type\": \"choropleth\"}], \"contour\": [{\"colorbar\": {\"outlinewidth\": 0, \"ticks\": \"\"}, \"colorscale\": [[0.0, \"#0d0887\"], [0.1111111111111111, \"#46039f\"], [0.2222222222222222, \"#7201a8\"], [0.3333333333333333, \"#9c179e\"], [0.4444444444444444, \"#bd3786\"], [0.5555555555555556, \"#d8576b\"], [0.6666666666666666, \"#ed7953\"], [0.7777777777777778, \"#fb9f3a\"], [0.8888888888888888, \"#fdca26\"], [1.0, \"#f0f921\"]], \"type\": \"contour\"}], \"contourcarpet\": [{\"colorbar\": {\"outlinewidth\": 0, \"ticks\": \"\"}, \"type\": \"contourcarpet\"}], \"heatmap\": [{\"colorbar\": {\"outlinewidth\": 0, \"ticks\": \"\"}, \"colorscale\": [[0.0, \"#0d0887\"], [0.1111111111111111, \"#46039f\"], [0.2222222222222222, \"#7201a8\"], [0.3333333333333333, \"#9c179e\"], [0.4444444444444444, \"#bd3786\"], [0.5555555555555556, \"#d8576b\"], [0.6666666666666666, \"#ed7953\"], [0.7777777777777778, \"#fb9f3a\"], [0.8888888888888888, \"#fdca26\"], [1.0, \"#f0f921\"]], \"type\": \"heatmap\"}], \"heatmapgl\": [{\"colorbar\": {\"outlinewidth\": 0, \"ticks\": \"\"}, \"colorscale\": [[0.0, \"#0d0887\"], [0.1111111111111111, \"#46039f\"], [0.2222222222222222, \"#7201a8\"], [0.3333333333333333, \"#9c179e\"], [0.4444444444444444, \"#bd3786\"], [0.5555555555555556, \"#d8576b\"], [0.6666666666666666, \"#ed7953\"], [0.7777777777777778, \"#fb9f3a\"], [0.8888888888888888, \"#fdca26\"], [1.0, \"#f0f921\"]], \"type\": \"heatmapgl\"}], \"histogram\": [{\"marker\": {\"colorbar\": {\"outlinewidth\": 0, \"ticks\": \"\"}}, \"type\": \"histogram\"}], \"histogram2d\": [{\"colorbar\": {\"outlinewidth\": 0, \"ticks\": \"\"}, \"colorscale\": [[0.0, \"#0d0887\"], [0.1111111111111111, \"#46039f\"], [0.2222222222222222, \"#7201a8\"], [0.3333333333333333, \"#9c179e\"], [0.4444444444444444, \"#bd3786\"], [0.5555555555555556, \"#d8576b\"], [0.6666666666666666, \"#ed7953\"], [0.7777777777777778, \"#fb9f3a\"], [0.8888888888888888, \"#fdca26\"], [1.0, \"#f0f921\"]], \"type\": \"histogram2d\"}], \"histogram2dcontour\": [{\"colorbar\": {\"outlinewidth\": 0, \"ticks\": \"\"}, \"colorscale\": [[0.0, \"#0d0887\"], [0.1111111111111111, \"#46039f\"], [0.2222222222222222, \"#7201a8\"], [0.3333333333333333, \"#9c179e\"], [0.4444444444444444, \"#bd3786\"], [0.5555555555555556, \"#d8576b\"], [0.6666666666666666, \"#ed7953\"], [0.7777777777777778, \"#fb9f3a\"], [0.8888888888888888, \"#fdca26\"], [1.0, \"#f0f921\"]], \"type\": \"histogram2dcontour\"}], \"mesh3d\": [{\"colorbar\": {\"outlinewidth\": 0, \"ticks\": \"\"}, \"type\": \"mesh3d\"}], \"parcoords\": [{\"line\": {\"colorbar\": {\"outlinewidth\": 0, \"ticks\": \"\"}}, \"type\": \"parcoords\"}], \"pie\": [{\"automargin\": true, \"type\": \"pie\"}], \"scatter\": [{\"marker\": {\"colorbar\": {\"outlinewidth\": 0, \"ticks\": \"\"}}, \"type\": \"scatter\"}], \"scatter3d\": [{\"line\": {\"colorbar\": {\"outlinewidth\": 0, \"ticks\": \"\"}}, \"marker\": {\"colorbar\": {\"outlinewidth\": 0, \"ticks\": \"\"}}, \"type\": \"scatter3d\"}], \"scattercarpet\": [{\"marker\": {\"colorbar\": {\"outlinewidth\": 0, \"ticks\": \"\"}}, \"type\": \"scattercarpet\"}], \"scattergeo\": [{\"marker\": {\"colorbar\": {\"outlinewidth\": 0, \"ticks\": \"\"}}, \"type\": \"scattergeo\"}], \"scattergl\": [{\"marker\": {\"colorbar\": {\"outlinewidth\": 0, \"ticks\": \"\"}}, \"type\": \"scattergl\"}], \"scattermapbox\": [{\"marker\": {\"colorbar\": {\"outlinewidth\": 0, \"ticks\": \"\"}}, \"type\": \"scattermapbox\"}], \"scatterpolar\": [{\"marker\": {\"colorbar\": {\"outlinewidth\": 0, \"ticks\": \"\"}}, \"type\": \"scatterpolar\"}], \"scatterpolargl\": [{\"marker\": {\"colorbar\": {\"outlinewidth\": 0, \"ticks\": \"\"}}, \"type\": \"scatterpolargl\"}], \"scatterternary\": [{\"marker\": {\"colorbar\": {\"outlinewidth\": 0, \"ticks\": \"\"}}, \"type\": \"scatterternary\"}], \"surface\": [{\"colorbar\": {\"outlinewidth\": 0, \"ticks\": \"\"}, \"colorscale\": [[0.0, \"#0d0887\"], [0.1111111111111111, \"#46039f\"], [0.2222222222222222, \"#7201a8\"], [0.3333333333333333, \"#9c179e\"], [0.4444444444444444, \"#bd3786\"], [0.5555555555555556, \"#d8576b\"], [0.6666666666666666, \"#ed7953\"], [0.7777777777777778, \"#fb9f3a\"], [0.8888888888888888, \"#fdca26\"], [1.0, \"#f0f921\"]], \"type\": \"surface\"}], \"table\": [{\"cells\": {\"fill\": {\"color\": \"#EBF0F8\"}, \"line\": {\"color\": \"white\"}}, \"header\": {\"fill\": {\"color\": \"#C8D4E3\"}, \"line\": {\"color\": \"white\"}}, \"type\": \"table\"}]}, \"layout\": {\"annotationdefaults\": {\"arrowcolor\": \"#2a3f5f\", \"arrowhead\": 0, \"arrowwidth\": 1}, \"autotypenumbers\": \"strict\", \"coloraxis\": {\"colorbar\": {\"outlinewidth\": 0, \"ticks\": \"\"}}, \"colorscale\": {\"diverging\": [[0, \"#8e0152\"], [0.1, \"#c51b7d\"], [0.2, \"#de77ae\"], [0.3, \"#f1b6da\"], [0.4, \"#fde0ef\"], [0.5, \"#f7f7f7\"], [0.6, \"#e6f5d0\"], [0.7, \"#b8e186\"], [0.8, \"#7fbc41\"], [0.9, \"#4d9221\"], [1, \"#276419\"]], \"sequential\": [[0.0, \"#0d0887\"], [0.1111111111111111, \"#46039f\"], [0.2222222222222222, \"#7201a8\"], [0.3333333333333333, \"#9c179e\"], [0.4444444444444444, \"#bd3786\"], [0.5555555555555556, \"#d8576b\"], [0.6666666666666666, \"#ed7953\"], [0.7777777777777778, \"#fb9f3a\"], [0.8888888888888888, \"#fdca26\"], [1.0, \"#f0f921\"]], \"sequentialminus\": [[0.0, \"#0d0887\"], [0.1111111111111111, \"#46039f\"], [0.2222222222222222, \"#7201a8\"], [0.3333333333333333, \"#9c179e\"], [0.4444444444444444, \"#bd3786\"], [0.5555555555555556, \"#d8576b\"], [0.6666666666666666, \"#ed7953\"], [0.7777777777777778, \"#fb9f3a\"], [0.8888888888888888, \"#fdca26\"], [1.0, \"#f0f921\"]]}, \"colorway\": [\"#636efa\", \"#EF553B\", \"#00cc96\", \"#ab63fa\", \"#FFA15A\", \"#19d3f3\", \"#FF6692\", \"#B6E880\", \"#FF97FF\", \"#FECB52\"], \"font\": {\"color\": \"#2a3f5f\"}, \"geo\": {\"bgcolor\": \"white\", \"lakecolor\": \"white\", \"landcolor\": \"#E5ECF6\", \"showlakes\": true, \"showland\": true, \"subunitcolor\": \"white\"}, \"hoverlabel\": {\"align\": \"left\"}, \"hovermode\": \"closest\", \"mapbox\": {\"style\": \"light\"}, \"paper_bgcolor\": \"white\", \"plot_bgcolor\": \"#E5ECF6\", \"polar\": {\"angularaxis\": {\"gridcolor\": \"white\", \"linecolor\": \"white\", \"ticks\": \"\"}, \"bgcolor\": \"#E5ECF6\", \"radialaxis\": {\"gridcolor\": \"white\", \"linecolor\": \"white\", \"ticks\": \"\"}}, \"scene\": {\"xaxis\": {\"backgroundcolor\": \"#E5ECF6\", \"gridcolor\": \"white\", \"gridwidth\": 2, \"linecolor\": \"white\", \"showbackground\": true, \"ticks\": \"\", \"zerolinecolor\": \"white\"}, \"yaxis\": {\"backgroundcolor\": \"#E5ECF6\", \"gridcolor\": \"white\", \"gridwidth\": 2, \"linecolor\": \"white\", \"showbackground\": true, \"ticks\": \"\", \"zerolinecolor\": \"white\"}, \"zaxis\": {\"backgroundcolor\": \"#E5ECF6\", \"gridcolor\": \"white\", \"gridwidth\": 2, \"linecolor\": \"white\", \"showbackground\": true, \"ticks\": \"\", \"zerolinecolor\": \"white\"}}, \"shapedefaults\": {\"line\": {\"color\": \"#2a3f5f\"}}, \"ternary\": {\"aaxis\": {\"gridcolor\": \"white\", \"linecolor\": \"white\", \"ticks\": \"\"}, \"baxis\": {\"gridcolor\": \"white\", \"linecolor\": \"white\", \"ticks\": \"\"}, \"bgcolor\": \"#E5ECF6\", \"caxis\": {\"gridcolor\": \"white\", \"linecolor\": \"white\", \"ticks\": \"\"}}, \"title\": {\"x\": 0.05}, \"xaxis\": {\"automargin\": true, \"gridcolor\": \"white\", \"linecolor\": \"white\", \"ticks\": \"\", \"title\": {\"standoff\": 15}, \"zerolinecolor\": \"white\", \"zerolinewidth\": 2}, \"yaxis\": {\"automargin\": true, \"gridcolor\": \"white\", \"linecolor\": \"white\", \"ticks\": \"\", \"title\": {\"standoff\": 15}, \"zerolinecolor\": \"white\", \"zerolinewidth\": 2}}}, \"title\": {\"text\": \"Top 5 users mentioned other accounts\"}, \"xaxis\": {\"anchor\": \"y\", \"domain\": [0.0, 1.0], \"title\": {\"text\": \"count\"}}, \"yaxis\": {\"anchor\": \"x\", \"categoryarray\": [\"covidvaxine\", \"cheese24k\", \"mrfunnyfff\", \"barbarajdurkin\", \"jcho710\"], \"categoryorder\": \"array\", \"domain\": [0.0, 1.0], \"title\": {\"text\": \"username\"}}},                        {\"responsive\": true}                    ).then(function(){\n",
       "                            \n",
       "var gd = document.getElementById('d9af876a-2af2-47f0-84e2-24a8b411388d');\n",
       "var x = new MutationObserver(function (mutations, observer) {{\n",
       "        var display = window.getComputedStyle(gd).display;\n",
       "        if (!display || display === 'none') {{\n",
       "            console.log([gd, 'removed!']);\n",
       "            Plotly.purge(gd);\n",
       "            observer.disconnect();\n",
       "        }}\n",
       "}});\n",
       "\n",
       "// Listen for the removal of the full notebook cells\n",
       "var notebookContainer = gd.closest('#notebook-container');\n",
       "if (notebookContainer) {{\n",
       "    x.observe(notebookContainer, {childList: true});\n",
       "}}\n",
       "\n",
       "// Listen for the clearing of the current output cell\n",
       "var outputEl = gd.closest('.output');\n",
       "if (outputEl) {{\n",
       "    x.observe(outputEl, {childList: true});\n",
       "}}\n",
       "\n",
       "                        })                };                });            </script>        </div>"
      ]
     },
     "metadata": {},
     "output_type": "display_data"
    }
   ],
   "source": [
    "colors = ['lightslategray',] * 5\n",
    "colors[4] = 'crimson'\n",
    "fig = px.bar(top_5_mention_accounts.sort_values('count'), x='count', y='username', orientation='h', title=\"Top 5 users mentioned other accounts\")\n",
    "fig.update_layout(yaxis={'categoryorder':'array', 'categoryarray':top_5_mention_accounts.sort_values('count')['username'].tolist()})\n",
    "\n",
    "fig.update_traces(marker_color=colors)\n",
    "\n",
    "# fig.update_layout({\n",
    "#     'plot_bgcolor': 'rgba(0, 0, 0, 0)',\n",
    "#     'paper_bgcolor': 'rgba(0, 0, 0, 0)',\n",
    "# })\n",
    "\n",
    "fig.show()"
   ]
  },
  {
   "cell_type": "code",
   "execution_count": 349,
   "id": "27cabbab",
   "metadata": {},
   "outputs": [
    {
     "data": {
      "text/html": [
       "<div>\n",
       "<style scoped>\n",
       "    .dataframe tbody tr th:only-of-type {\n",
       "        vertical-align: middle;\n",
       "    }\n",
       "\n",
       "    .dataframe tbody tr th {\n",
       "        vertical-align: top;\n",
       "    }\n",
       "\n",
       "    .dataframe thead th {\n",
       "        text-align: right;\n",
       "    }\n",
       "</style>\n",
       "<table border=\"1\" class=\"dataframe\">\n",
       "  <thead>\n",
       "    <tr style=\"text-align: right;\">\n",
       "      <th></th>\n",
       "      <th>username</th>\n",
       "      <th>mention</th>\n",
       "      <th>count</th>\n",
       "    </tr>\n",
       "  </thead>\n",
       "  <tbody>\n",
       "    <tr>\n",
       "      <th>695</th>\n",
       "      <td>jcho710</td>\n",
       "      <td>joebiden</td>\n",
       "      <td>144</td>\n",
       "    </tr>\n",
       "    <tr>\n",
       "      <th>242</th>\n",
       "      <td>jcho710</td>\n",
       "      <td>chuckcallesto</td>\n",
       "      <td>98</td>\n",
       "    </tr>\n",
       "    <tr>\n",
       "      <th>749</th>\n",
       "      <td>jcho710</td>\n",
       "      <td>kamalaharris</td>\n",
       "      <td>83</td>\n",
       "    </tr>\n",
       "    <tr>\n",
       "      <th>1037</th>\n",
       "      <td>jcho710</td>\n",
       "      <td>nygovcuomo</td>\n",
       "      <td>76</td>\n",
       "    </tr>\n",
       "    <tr>\n",
       "      <th>479</th>\n",
       "      <td>jcho710</td>\n",
       "      <td>gavinnewsom</td>\n",
       "      <td>61</td>\n",
       "    </tr>\n",
       "    <tr>\n",
       "      <th>1058</th>\n",
       "      <td>jcho710</td>\n",
       "      <td>oregongovbrown</td>\n",
       "      <td>56</td>\n",
       "    </tr>\n",
       "    <tr>\n",
       "      <th>310</th>\n",
       "      <td>jcho710</td>\n",
       "      <td>danscavino</td>\n",
       "      <td>47</td>\n",
       "    </tr>\n",
       "    <tr>\n",
       "      <th>919</th>\n",
       "      <td>jcho710</td>\n",
       "      <td>matthancock</td>\n",
       "      <td>43</td>\n",
       "    </tr>\n",
       "    <tr>\n",
       "      <th>603</th>\n",
       "      <td>jcho710</td>\n",
       "      <td>ingrahamangle</td>\n",
       "      <td>42</td>\n",
       "    </tr>\n",
       "    <tr>\n",
       "      <th>743</th>\n",
       "      <td>jcho710</td>\n",
       "      <td>justintrudeau</td>\n",
       "      <td>42</td>\n",
       "    </tr>\n",
       "  </tbody>\n",
       "</table>\n",
       "</div>"
      ],
      "text/plain": [
       "     username         mention  count\n",
       "695   jcho710        joebiden    144\n",
       "242   jcho710   chuckcallesto     98\n",
       "749   jcho710    kamalaharris     83\n",
       "1037  jcho710      nygovcuomo     76\n",
       "479   jcho710     gavinnewsom     61\n",
       "1058  jcho710  oregongovbrown     56\n",
       "310   jcho710      danscavino     47\n",
       "919   jcho710     matthancock     43\n",
       "603   jcho710   ingrahamangle     42\n",
       "743   jcho710   justintrudeau     42"
      ]
     },
     "execution_count": 349,
     "metadata": {},
     "output_type": "execute_result"
    }
   ],
   "source": [
    "top_5_mention_accounts_by_j = mentions_df.query(\"username == 'jcho710'\").groupby([\"username\", \"mention\"]).agg({\"width\":\"sum\"}).reset_index().sort_values(\"width\", ascending=False).rename(columns={\"width\":\"count\"}).head(10)\n",
    "top_5_mention_accounts_by_j"
   ]
  },
  {
   "cell_type": "code",
   "execution_count": 350,
   "id": "5266f886",
   "metadata": {},
   "outputs": [
    {
     "data": {
      "text/html": [
       "<div>\n",
       "<style scoped>\n",
       "    .dataframe tbody tr th:only-of-type {\n",
       "        vertical-align: middle;\n",
       "    }\n",
       "\n",
       "    .dataframe tbody tr th {\n",
       "        vertical-align: top;\n",
       "    }\n",
       "\n",
       "    .dataframe thead th {\n",
       "        text-align: right;\n",
       "    }\n",
       "</style>\n",
       "<table border=\"1\" class=\"dataframe\">\n",
       "  <thead>\n",
       "    <tr style=\"text-align: right;\">\n",
       "      <th></th>\n",
       "      <th>username</th>\n",
       "      <th>reply_to_username</th>\n",
       "      <th>count</th>\n",
       "    </tr>\n",
       "  </thead>\n",
       "  <tbody>\n",
       "    <tr>\n",
       "      <th>776</th>\n",
       "      <td>jcho710</td>\n",
       "      <td>jcho710</td>\n",
       "      <td>1432</td>\n",
       "    </tr>\n",
       "    <tr>\n",
       "      <th>99</th>\n",
       "      <td>jcho710</td>\n",
       "      <td>ChuckCallesto</td>\n",
       "      <td>41</td>\n",
       "    </tr>\n",
       "    <tr>\n",
       "      <th>452</th>\n",
       "      <td>jcho710</td>\n",
       "      <td>OregonGovBrown</td>\n",
       "      <td>23</td>\n",
       "    </tr>\n",
       "    <tr>\n",
       "      <th>300</th>\n",
       "      <td>jcho710</td>\n",
       "      <td>JoeBiden</td>\n",
       "      <td>19</td>\n",
       "    </tr>\n",
       "    <tr>\n",
       "      <th>743</th>\n",
       "      <td>jcho710</td>\n",
       "      <td>glamelegance</td>\n",
       "      <td>17</td>\n",
       "    </tr>\n",
       "    <tr>\n",
       "      <th>220</th>\n",
       "      <td>jcho710</td>\n",
       "      <td>GovMurphy</td>\n",
       "      <td>16</td>\n",
       "    </tr>\n",
       "    <tr>\n",
       "      <th>424</th>\n",
       "      <td>jcho710</td>\n",
       "      <td>NYGovCuomo</td>\n",
       "      <td>15</td>\n",
       "    </tr>\n",
       "    <tr>\n",
       "      <th>877</th>\n",
       "      <td>jcho710</td>\n",
       "      <td>patton6966</td>\n",
       "      <td>15</td>\n",
       "    </tr>\n",
       "    <tr>\n",
       "      <th>392</th>\n",
       "      <td>jcho710</td>\n",
       "      <td>MayorOfLA</td>\n",
       "      <td>14</td>\n",
       "    </tr>\n",
       "    <tr>\n",
       "      <th>721</th>\n",
       "      <td>jcho710</td>\n",
       "      <td>dougducey</td>\n",
       "      <td>13</td>\n",
       "    </tr>\n",
       "  </tbody>\n",
       "</table>\n",
       "</div>"
      ],
      "text/plain": [
       "    username reply_to_username  count\n",
       "776  jcho710           jcho710   1432\n",
       "99   jcho710     ChuckCallesto     41\n",
       "452  jcho710    OregonGovBrown     23\n",
       "300  jcho710          JoeBiden     19\n",
       "743  jcho710      glamelegance     17\n",
       "220  jcho710         GovMurphy     16\n",
       "424  jcho710        NYGovCuomo     15\n",
       "877  jcho710        patton6966     15\n",
       "392  jcho710         MayorOfLA     14\n",
       "721  jcho710         dougducey     13"
      ]
     },
     "execution_count": 350,
     "metadata": {},
     "output_type": "execute_result"
    }
   ],
   "source": [
    "top_5_reply_to_edges_by_j = reply_to_edges.query(\"username == 'jcho710'\").groupby([\"username\", \"reply_to_username\"]).agg({\"width\":\"sum\"}).reset_index().sort_values(\"width\", ascending=False).rename(columns={\"width\":\"count\"}).head(10)\n",
    "top_5_reply_to_edges_by_j"
   ]
  },
  {
   "cell_type": "code",
   "execution_count": 148,
   "id": "e50d0066",
   "metadata": {},
   "outputs": [],
   "source": [
    "new_mentions_df = mentions_df.rename(columns={\"username\" : \"from\", \"mention\" : \"to\"})\n",
    "new_reply_to_edges = reply_to_edges.rename(columns={\"username\" : \"from\", \"reply_to_username\" : \"to\"})\n",
    "\n",
    "whole_network_edges = pd.concat([new_mentions_df, new_reply_to_edges])"
   ]
  },
  {
   "cell_type": "code",
   "execution_count": 153,
   "id": "396f4ef1",
   "metadata": {},
   "outputs": [
    {
     "data": {
      "text/html": [
       "<div>\n",
       "<style scoped>\n",
       "    .dataframe tbody tr th:only-of-type {\n",
       "        vertical-align: middle;\n",
       "    }\n",
       "\n",
       "    .dataframe tbody tr th {\n",
       "        vertical-align: top;\n",
       "    }\n",
       "\n",
       "    .dataframe thead th {\n",
       "        text-align: right;\n",
       "    }\n",
       "</style>\n",
       "<table border=\"1\" class=\"dataframe\">\n",
       "  <thead>\n",
       "    <tr style=\"text-align: right;\">\n",
       "      <th></th>\n",
       "      <th>from</th>\n",
       "      <th>to</th>\n",
       "      <th>width</th>\n",
       "    </tr>\n",
       "  </thead>\n",
       "  <tbody>\n",
       "    <tr>\n",
       "      <th>0</th>\n",
       "      <td>to_fly_to_live</td>\n",
       "      <td>ani</td>\n",
       "      <td>1</td>\n",
       "    </tr>\n",
       "    <tr>\n",
       "      <th>1</th>\n",
       "      <td>bak_sahil</td>\n",
       "      <td>misseemonis</td>\n",
       "      <td>1</td>\n",
       "    </tr>\n",
       "    <tr>\n",
       "      <th>2</th>\n",
       "      <td>adarshshastri</td>\n",
       "      <td>incindia</td>\n",
       "      <td>1</td>\n",
       "    </tr>\n",
       "    <tr>\n",
       "      <th>3</th>\n",
       "      <td>clivebennett</td>\n",
       "      <td>thejeremyvine</td>\n",
       "      <td>1</td>\n",
       "    </tr>\n",
       "    <tr>\n",
       "      <th>4</th>\n",
       "      <td>paulhannon29</td>\n",
       "      <td>wsj</td>\n",
       "      <td>1</td>\n",
       "    </tr>\n",
       "    <tr>\n",
       "      <th>...</th>\n",
       "      <td>...</td>\n",
       "      <td>...</td>\n",
       "      <td>...</td>\n",
       "    </tr>\n",
       "    <tr>\n",
       "      <th>209920</th>\n",
       "      <td>zkusovac</td>\n",
       "      <td>admirim</td>\n",
       "      <td>1</td>\n",
       "    </tr>\n",
       "    <tr>\n",
       "      <th>209924</th>\n",
       "      <td>derek_linders</td>\n",
       "      <td>laurie_garrett</td>\n",
       "      <td>1</td>\n",
       "    </tr>\n",
       "    <tr>\n",
       "      <th>209925</th>\n",
       "      <td>allnbowtane</td>\n",
       "      <td>girlsreallyrule</td>\n",
       "      <td>1</td>\n",
       "    </tr>\n",
       "    <tr>\n",
       "      <th>209926</th>\n",
       "      <td>leighnapier</td>\n",
       "      <td>leighnapier</td>\n",
       "      <td>1</td>\n",
       "    </tr>\n",
       "    <tr>\n",
       "      <th>209928</th>\n",
       "      <td>trudge1620</td>\n",
       "      <td>grummz</td>\n",
       "      <td>1</td>\n",
       "    </tr>\n",
       "  </tbody>\n",
       "</table>\n",
       "<p>243354 rows × 3 columns</p>\n",
       "</div>"
      ],
      "text/plain": [
       "                  from               to  width\n",
       "0       to_fly_to_live              ani      1\n",
       "1            bak_sahil      misseemonis      1\n",
       "2        adarshshastri         incindia      1\n",
       "3         clivebennett    thejeremyvine      1\n",
       "4         paulhannon29              wsj      1\n",
       "...                ...              ...    ...\n",
       "209920        zkusovac          admirim      1\n",
       "209924   derek_linders   laurie_garrett      1\n",
       "209925     allnbowtane  girlsreallyrule      1\n",
       "209926     leighnapier      leighnapier      1\n",
       "209928      trudge1620           grummz      1\n",
       "\n",
       "[243354 rows x 3 columns]"
      ]
     },
     "execution_count": 153,
     "metadata": {},
     "output_type": "execute_result"
    }
   ],
   "source": [
    "whole_network_edges[\"from\"] = whole_network_edges[\"from\"].str.lower()\n",
    "whole_network_edges[\"to\"] = whole_network_edges[\"to\"].str.lower()\n",
    "whole_network_edges"
   ]
  },
  {
   "cell_type": "code",
   "execution_count": 172,
   "id": "5711492a",
   "metadata": {},
   "outputs": [
    {
     "data": {
      "text/html": [
       "<div>\n",
       "<style scoped>\n",
       "    .dataframe tbody tr th:only-of-type {\n",
       "        vertical-align: middle;\n",
       "    }\n",
       "\n",
       "    .dataframe tbody tr th {\n",
       "        vertical-align: top;\n",
       "    }\n",
       "\n",
       "    .dataframe thead th {\n",
       "        text-align: right;\n",
       "    }\n",
       "</style>\n",
       "<table border=\"1\" class=\"dataframe\">\n",
       "  <thead>\n",
       "    <tr style=\"text-align: right;\">\n",
       "      <th></th>\n",
       "      <th>from</th>\n",
       "      <th>to</th>\n",
       "      <th>width</th>\n",
       "    </tr>\n",
       "  </thead>\n",
       "  <tbody>\n",
       "    <tr>\n",
       "      <th>68689</th>\n",
       "      <td>jcho710</td>\n",
       "      <td>jcho710</td>\n",
       "      <td>1432</td>\n",
       "    </tr>\n",
       "    <tr>\n",
       "      <th>75951</th>\n",
       "      <td>jurg_ames</td>\n",
       "      <td>realdonaldtrump</td>\n",
       "      <td>186</td>\n",
       "    </tr>\n",
       "    <tr>\n",
       "      <th>68732</th>\n",
       "      <td>jcho710</td>\n",
       "      <td>joebiden</td>\n",
       "      <td>163</td>\n",
       "    </tr>\n",
       "    <tr>\n",
       "      <th>68276</th>\n",
       "      <td>jcho710</td>\n",
       "      <td>chuckcallesto</td>\n",
       "      <td>139</td>\n",
       "    </tr>\n",
       "    <tr>\n",
       "      <th>68786</th>\n",
       "      <td>jcho710</td>\n",
       "      <td>kamalaharris</td>\n",
       "      <td>92</td>\n",
       "    </tr>\n",
       "    <tr>\n",
       "      <th>...</th>\n",
       "      <td>...</td>\n",
       "      <td>...</td>\n",
       "      <td>...</td>\n",
       "    </tr>\n",
       "    <tr>\n",
       "      <th>66256</th>\n",
       "      <td>james__mckenna_</td>\n",
       "      <td>4cocacoladave</td>\n",
       "      <td>1</td>\n",
       "    </tr>\n",
       "    <tr>\n",
       "      <th>66255</th>\n",
       "      <td>james__mckenna_</td>\n",
       "      <td>2x2andrew</td>\n",
       "      <td>1</td>\n",
       "    </tr>\n",
       "    <tr>\n",
       "      <th>66253</th>\n",
       "      <td>james52cute</td>\n",
       "      <td>10newsfirst</td>\n",
       "      <td>1</td>\n",
       "    </tr>\n",
       "    <tr>\n",
       "      <th>66251</th>\n",
       "      <td>james48495938</td>\n",
       "      <td>alexamorevip</td>\n",
       "      <td>1</td>\n",
       "    </tr>\n",
       "    <tr>\n",
       "      <th>158359</th>\n",
       "      <td>zzzzbiih</td>\n",
       "      <td>scottmorrisonmp</td>\n",
       "      <td>1</td>\n",
       "    </tr>\n",
       "  </tbody>\n",
       "</table>\n",
       "<p>158360 rows × 3 columns</p>\n",
       "</div>"
      ],
      "text/plain": [
       "                   from               to  width\n",
       "68689           jcho710          jcho710   1432\n",
       "75951         jurg_ames  realdonaldtrump    186\n",
       "68732           jcho710         joebiden    163\n",
       "68276           jcho710    chuckcallesto    139\n",
       "68786           jcho710     kamalaharris     92\n",
       "...                 ...              ...    ...\n",
       "66256   james__mckenna_    4cocacoladave      1\n",
       "66255   james__mckenna_        2x2andrew      1\n",
       "66253       james52cute      10newsfirst      1\n",
       "66251     james48495938     alexamorevip      1\n",
       "158359         zzzzbiih  scottmorrisonmp      1\n",
       "\n",
       "[158360 rows x 3 columns]"
      ]
     },
     "execution_count": 172,
     "metadata": {},
     "output_type": "execute_result"
    }
   ],
   "source": [
    "grouped_whole_network_edges = whole_network_edges.groupby([\"from\", \"to\"]).agg({\"width\": \"sum\"}).reset_index().sort_values(\"width\", ascending=False)\n",
    "grouped_whole_network_edges"
   ]
  },
  {
   "cell_type": "code",
   "execution_count": 321,
   "id": "eb7c57ed",
   "metadata": {},
   "outputs": [
    {
     "data": {
      "text/html": [
       "<div>\n",
       "<style scoped>\n",
       "    .dataframe tbody tr th:only-of-type {\n",
       "        vertical-align: middle;\n",
       "    }\n",
       "\n",
       "    .dataframe tbody tr th {\n",
       "        vertical-align: top;\n",
       "    }\n",
       "\n",
       "    .dataframe thead th {\n",
       "        text-align: right;\n",
       "    }\n",
       "</style>\n",
       "<table border=\"1\" class=\"dataframe\">\n",
       "  <thead>\n",
       "    <tr style=\"text-align: right;\">\n",
       "      <th></th>\n",
       "      <th>to</th>\n",
       "      <th>width</th>\n",
       "    </tr>\n",
       "  </thead>\n",
       "  <tbody>\n",
       "    <tr>\n",
       "      <th>56670</th>\n",
       "      <td>realdonaldtrump</td>\n",
       "      <td>7130</td>\n",
       "    </tr>\n",
       "    <tr>\n",
       "      <th>75727</th>\n",
       "      <td>youtube</td>\n",
       "      <td>1957</td>\n",
       "    </tr>\n",
       "    <tr>\n",
       "      <th>32803</th>\n",
       "      <td>jcho710</td>\n",
       "      <td>1460</td>\n",
       "    </tr>\n",
       "    <tr>\n",
       "      <th>34305</th>\n",
       "      <td>joebiden</td>\n",
       "      <td>1279</td>\n",
       "    </tr>\n",
       "    <tr>\n",
       "      <th>48221</th>\n",
       "      <td>narendramodi</td>\n",
       "      <td>1199</td>\n",
       "    </tr>\n",
       "    <tr>\n",
       "      <th>...</th>\n",
       "      <td>...</td>\n",
       "      <td>...</td>\n",
       "    </tr>\n",
       "    <tr>\n",
       "      <th>48458</th>\n",
       "      <td>naushadbijapur</td>\n",
       "      <td>1</td>\n",
       "    </tr>\n",
       "    <tr>\n",
       "      <th>18793</th>\n",
       "      <td>directorskims</td>\n",
       "      <td>1</td>\n",
       "    </tr>\n",
       "    <tr>\n",
       "      <th>48460</th>\n",
       "      <td>nav_manjari</td>\n",
       "      <td>1</td>\n",
       "    </tr>\n",
       "    <tr>\n",
       "      <th>18792</th>\n",
       "      <td>directorcdc</td>\n",
       "      <td>1</td>\n",
       "    </tr>\n",
       "    <tr>\n",
       "      <th>53603</th>\n",
       "      <td>philippower13</td>\n",
       "      <td>1</td>\n",
       "    </tr>\n",
       "  </tbody>\n",
       "</table>\n",
       "<p>76267 rows × 2 columns</p>\n",
       "</div>"
      ],
      "text/plain": [
       "                    to  width\n",
       "56670  realdonaldtrump   7130\n",
       "75727          youtube   1957\n",
       "32803          jcho710   1460\n",
       "34305         joebiden   1279\n",
       "48221     narendramodi   1199\n",
       "...                ...    ...\n",
       "48458   naushadbijapur      1\n",
       "18793    directorskims      1\n",
       "48460      nav_manjari      1\n",
       "18792      directorcdc      1\n",
       "53603    philippower13      1\n",
       "\n",
       "[76267 rows x 2 columns]"
      ]
     },
     "execution_count": 321,
     "metadata": {},
     "output_type": "execute_result"
    }
   ],
   "source": [
    "whole_network_edges.groupby(\"to\").agg({\"width\":\"sum\"}).reset_index().sort_values(\"width\", ascending=False)"
   ]
  },
  {
   "cell_type": "code",
   "execution_count": 174,
   "id": "2ca33ac3",
   "metadata": {},
   "outputs": [],
   "source": [
    "covid_vaccine_whole_graph = nx.from_pandas_edgelist(df=whole_network_edges, source=\"from\", target=\"to\", create_using=nx.DiGraph(), edge_attr=\"width\")\n",
    "grouped_covid_vaccine_whole_graph = nx.from_pandas_edgelist(df=grouped_whole_network_edges, source=\"from\", target=\"to\", create_using=nx.DiGraph(), edge_attr=\"width\")"
   ]
  },
  {
   "cell_type": "code",
   "execution_count": 175,
   "id": "1ff56b60",
   "metadata": {},
   "outputs": [
    {
     "data": {
      "text/html": [
       "<div>\n",
       "<style scoped>\n",
       "    .dataframe tbody tr th:only-of-type {\n",
       "        vertical-align: middle;\n",
       "    }\n",
       "\n",
       "    .dataframe tbody tr th {\n",
       "        vertical-align: top;\n",
       "    }\n",
       "\n",
       "    .dataframe thead th {\n",
       "        text-align: right;\n",
       "    }\n",
       "</style>\n",
       "<table border=\"1\" class=\"dataframe\">\n",
       "  <thead>\n",
       "    <tr style=\"text-align: right;\">\n",
       "      <th></th>\n",
       "      <th>username</th>\n",
       "      <th>centrality</th>\n",
       "    </tr>\n",
       "  </thead>\n",
       "  <tbody>\n",
       "    <tr>\n",
       "      <th>0</th>\n",
       "      <td>realdonaldtrump</td>\n",
       "      <td>0.030653</td>\n",
       "    </tr>\n",
       "    <tr>\n",
       "      <th>1</th>\n",
       "      <td>youtube</td>\n",
       "      <td>0.011926</td>\n",
       "    </tr>\n",
       "    <tr>\n",
       "      <th>2</th>\n",
       "      <td>jcho710</td>\n",
       "      <td>0.011118</td>\n",
       "    </tr>\n",
       "    <tr>\n",
       "      <th>3</th>\n",
       "      <td>narendramodi</td>\n",
       "      <td>0.005903</td>\n",
       "    </tr>\n",
       "    <tr>\n",
       "      <th>4</th>\n",
       "      <td>joebiden</td>\n",
       "      <td>0.005290</td>\n",
       "    </tr>\n",
       "    <tr>\n",
       "      <th>...</th>\n",
       "      <td>...</td>\n",
       "      <td>...</td>\n",
       "    </tr>\n",
       "    <tr>\n",
       "      <th>133653</th>\n",
       "      <td>army52hz</td>\n",
       "      <td>0.000007</td>\n",
       "    </tr>\n",
       "    <tr>\n",
       "      <th>133654</th>\n",
       "      <td>miguelsmother</td>\n",
       "      <td>0.000007</td>\n",
       "    </tr>\n",
       "    <tr>\n",
       "      <th>133655</th>\n",
       "      <td>cbjfan13_71_22</td>\n",
       "      <td>0.000007</td>\n",
       "    </tr>\n",
       "    <tr>\n",
       "      <th>133656</th>\n",
       "      <td>fionaapplsauce</td>\n",
       "      <td>0.000007</td>\n",
       "    </tr>\n",
       "    <tr>\n",
       "      <th>133657</th>\n",
       "      <td>thirdlinecure</td>\n",
       "      <td>0.000007</td>\n",
       "    </tr>\n",
       "  </tbody>\n",
       "</table>\n",
       "<p>133658 rows × 2 columns</p>\n",
       "</div>"
      ],
      "text/plain": [
       "               username  centrality\n",
       "0       realdonaldtrump    0.030653\n",
       "1               youtube    0.011926\n",
       "2               jcho710    0.011118\n",
       "3          narendramodi    0.005903\n",
       "4              joebiden    0.005290\n",
       "...                 ...         ...\n",
       "133653         army52hz    0.000007\n",
       "133654    miguelsmother    0.000007\n",
       "133655   cbjfan13_71_22    0.000007\n",
       "133656   fionaapplsauce    0.000007\n",
       "133657    thirdlinecure    0.000007\n",
       "\n",
       "[133658 rows x 2 columns]"
      ]
     },
     "execution_count": 175,
     "metadata": {},
     "output_type": "execute_result"
    }
   ],
   "source": [
    "# Centraility\n",
    "whole_centrality = nx.degree_centrality(covid_vaccine_whole_graph)\n",
    "sorted_whole_centrality = dict(sorted(whole_centrality.items(), key=lambda item: item[1], reverse=True))\n",
    "sorted_whole_centrality_df = pd.DataFrame.from_records(list(sorted_whole_centrality.items()), columns =['username', 'centrality'])\n",
    "sorted_whole_centrality_df"
   ]
  },
  {
   "cell_type": "code",
   "execution_count": 176,
   "id": "089b0c02",
   "metadata": {},
   "outputs": [
    {
     "data": {
      "text/html": [
       "<div>\n",
       "<style scoped>\n",
       "    .dataframe tbody tr th:only-of-type {\n",
       "        vertical-align: middle;\n",
       "    }\n",
       "\n",
       "    .dataframe tbody tr th {\n",
       "        vertical-align: top;\n",
       "    }\n",
       "\n",
       "    .dataframe thead th {\n",
       "        text-align: right;\n",
       "    }\n",
       "</style>\n",
       "<table border=\"1\" class=\"dataframe\">\n",
       "  <thead>\n",
       "    <tr style=\"text-align: right;\">\n",
       "      <th></th>\n",
       "      <th>username</th>\n",
       "      <th>centrality</th>\n",
       "    </tr>\n",
       "  </thead>\n",
       "  <tbody>\n",
       "    <tr>\n",
       "      <th>0</th>\n",
       "      <td>realdonaldtrump</td>\n",
       "      <td>0.030653</td>\n",
       "    </tr>\n",
       "    <tr>\n",
       "      <th>1</th>\n",
       "      <td>youtube</td>\n",
       "      <td>0.011926</td>\n",
       "    </tr>\n",
       "    <tr>\n",
       "      <th>2</th>\n",
       "      <td>jcho710</td>\n",
       "      <td>0.011118</td>\n",
       "    </tr>\n",
       "    <tr>\n",
       "      <th>3</th>\n",
       "      <td>narendramodi</td>\n",
       "      <td>0.005903</td>\n",
       "    </tr>\n",
       "    <tr>\n",
       "      <th>4</th>\n",
       "      <td>joebiden</td>\n",
       "      <td>0.005290</td>\n",
       "    </tr>\n",
       "    <tr>\n",
       "      <th>...</th>\n",
       "      <td>...</td>\n",
       "      <td>...</td>\n",
       "    </tr>\n",
       "    <tr>\n",
       "      <th>133653</th>\n",
       "      <td>bacchaus351</td>\n",
       "      <td>0.000007</td>\n",
       "    </tr>\n",
       "    <tr>\n",
       "      <th>133654</th>\n",
       "      <td>4cocacoladave</td>\n",
       "      <td>0.000007</td>\n",
       "    </tr>\n",
       "    <tr>\n",
       "      <th>133655</th>\n",
       "      <td>2x2andrew</td>\n",
       "      <td>0.000007</td>\n",
       "    </tr>\n",
       "    <tr>\n",
       "      <th>133656</th>\n",
       "      <td>alexamorevip</td>\n",
       "      <td>0.000007</td>\n",
       "    </tr>\n",
       "    <tr>\n",
       "      <th>133657</th>\n",
       "      <td>zzzzbiih</td>\n",
       "      <td>0.000007</td>\n",
       "    </tr>\n",
       "  </tbody>\n",
       "</table>\n",
       "<p>133658 rows × 2 columns</p>\n",
       "</div>"
      ],
      "text/plain": [
       "               username  centrality\n",
       "0       realdonaldtrump    0.030653\n",
       "1               youtube    0.011926\n",
       "2               jcho710    0.011118\n",
       "3          narendramodi    0.005903\n",
       "4              joebiden    0.005290\n",
       "...                 ...         ...\n",
       "133653      bacchaus351    0.000007\n",
       "133654    4cocacoladave    0.000007\n",
       "133655        2x2andrew    0.000007\n",
       "133656     alexamorevip    0.000007\n",
       "133657         zzzzbiih    0.000007\n",
       "\n",
       "[133658 rows x 2 columns]"
      ]
     },
     "execution_count": 176,
     "metadata": {},
     "output_type": "execute_result"
    }
   ],
   "source": [
    "# Grouped Centraility\n",
    "grouped_whole_centrality = nx.degree_centrality(grouped_covid_vaccine_whole_graph)\n",
    "grouped_sorted_whole_centrality = dict(sorted(grouped_whole_centrality.items(), key=lambda item: item[1], reverse=True))\n",
    "grouped_sorted_whole_centrality_df = pd.DataFrame.from_records(list(grouped_sorted_whole_centrality.items()), columns =['username', 'centrality'])\n",
    "grouped_sorted_whole_centrality_df"
   ]
  },
  {
   "cell_type": "code",
   "execution_count": 283,
   "id": "ef4a5f44",
   "metadata": {},
   "outputs": [
    {
     "data": {
      "text/html": [
       "<div>\n",
       "<style scoped>\n",
       "    .dataframe tbody tr th:only-of-type {\n",
       "        vertical-align: middle;\n",
       "    }\n",
       "\n",
       "    .dataframe tbody tr th {\n",
       "        vertical-align: top;\n",
       "    }\n",
       "\n",
       "    .dataframe thead th {\n",
       "        text-align: right;\n",
       "    }\n",
       "</style>\n",
       "<table border=\"1\" class=\"dataframe\">\n",
       "  <thead>\n",
       "    <tr style=\"text-align: right;\">\n",
       "      <th></th>\n",
       "      <th>username</th>\n",
       "      <th>centrality</th>\n",
       "      <th>type</th>\n",
       "    </tr>\n",
       "  </thead>\n",
       "  <tbody>\n",
       "    <tr>\n",
       "      <th>0</th>\n",
       "      <td>realdonaldtrump</td>\n",
       "      <td>0.030653</td>\n",
       "      <td>Government / Organization</td>\n",
       "    </tr>\n",
       "    <tr>\n",
       "      <th>1</th>\n",
       "      <td>youtube</td>\n",
       "      <td>0.011926</td>\n",
       "      <td>Company</td>\n",
       "    </tr>\n",
       "    <tr>\n",
       "      <th>2</th>\n",
       "      <td>jcho710</td>\n",
       "      <td>0.011118</td>\n",
       "      <td>Others</td>\n",
       "    </tr>\n",
       "    <tr>\n",
       "      <th>3</th>\n",
       "      <td>narendramodi</td>\n",
       "      <td>0.005903</td>\n",
       "      <td>Government / Organization</td>\n",
       "    </tr>\n",
       "    <tr>\n",
       "      <th>4</th>\n",
       "      <td>joebiden</td>\n",
       "      <td>0.005290</td>\n",
       "      <td>Government / Organization</td>\n",
       "    </tr>\n",
       "    <tr>\n",
       "      <th>5</th>\n",
       "      <td>who</td>\n",
       "      <td>0.004826</td>\n",
       "      <td>Government / Organization</td>\n",
       "    </tr>\n",
       "    <tr>\n",
       "      <th>6</th>\n",
       "      <td>pmoindia</td>\n",
       "      <td>0.004362</td>\n",
       "      <td>Government / Organization</td>\n",
       "    </tr>\n",
       "    <tr>\n",
       "      <th>7</th>\n",
       "      <td>cnn</td>\n",
       "      <td>0.004108</td>\n",
       "      <td>Media</td>\n",
       "    </tr>\n",
       "    <tr>\n",
       "      <th>8</th>\n",
       "      <td>mailonline</td>\n",
       "      <td>0.003696</td>\n",
       "      <td>Media</td>\n",
       "    </tr>\n",
       "    <tr>\n",
       "      <th>9</th>\n",
       "      <td>potus</td>\n",
       "      <td>0.003434</td>\n",
       "      <td>Government / Organization</td>\n",
       "    </tr>\n",
       "    <tr>\n",
       "      <th>10</th>\n",
       "      <td>billgates</td>\n",
       "      <td>0.003359</td>\n",
       "      <td>Celebrity</td>\n",
       "    </tr>\n",
       "    <tr>\n",
       "      <th>11</th>\n",
       "      <td>matthancock</td>\n",
       "      <td>0.002641</td>\n",
       "      <td>Government / Organization</td>\n",
       "    </tr>\n",
       "    <tr>\n",
       "      <th>12</th>\n",
       "      <td>whitehouse</td>\n",
       "      <td>0.002626</td>\n",
       "      <td>Government / Organization</td>\n",
       "    </tr>\n",
       "    <tr>\n",
       "      <th>13</th>\n",
       "      <td>mohfw_india</td>\n",
       "      <td>0.002394</td>\n",
       "      <td>Government / Organization</td>\n",
       "    </tr>\n",
       "    <tr>\n",
       "      <th>14</th>\n",
       "      <td>nytimes</td>\n",
       "      <td>0.002364</td>\n",
       "      <td>Media</td>\n",
       "    </tr>\n",
       "    <tr>\n",
       "      <th>15</th>\n",
       "      <td>kamalaharris</td>\n",
       "      <td>0.002342</td>\n",
       "      <td>Government / Organization</td>\n",
       "    </tr>\n",
       "    <tr>\n",
       "      <th>16</th>\n",
       "      <td>us_fda</td>\n",
       "      <td>0.002230</td>\n",
       "      <td>Government / Organization</td>\n",
       "    </tr>\n",
       "    <tr>\n",
       "      <th>17</th>\n",
       "      <td>drharshvardhan</td>\n",
       "      <td>0.002087</td>\n",
       "      <td>Government / Organization</td>\n",
       "    </tr>\n",
       "    <tr>\n",
       "      <th>18</th>\n",
       "      <td>cdcgov</td>\n",
       "      <td>0.002050</td>\n",
       "      <td>Government / Organization</td>\n",
       "    </tr>\n",
       "    <tr>\n",
       "      <th>19</th>\n",
       "      <td>nygovcuomo</td>\n",
       "      <td>0.001968</td>\n",
       "      <td>Government / Organization</td>\n",
       "    </tr>\n",
       "  </tbody>\n",
       "</table>\n",
       "</div>"
      ],
      "text/plain": [
       "           username  centrality                       type\n",
       "0   realdonaldtrump    0.030653  Government / Organization\n",
       "1           youtube    0.011926                    Company\n",
       "2           jcho710    0.011118                     Others\n",
       "3      narendramodi    0.005903  Government / Organization\n",
       "4          joebiden    0.005290  Government / Organization\n",
       "5               who    0.004826  Government / Organization\n",
       "6          pmoindia    0.004362  Government / Organization\n",
       "7               cnn    0.004108                      Media\n",
       "8        mailonline    0.003696                      Media\n",
       "9             potus    0.003434  Government / Organization\n",
       "10        billgates    0.003359                  Celebrity\n",
       "11      matthancock    0.002641  Government / Organization\n",
       "12       whitehouse    0.002626  Government / Organization\n",
       "13      mohfw_india    0.002394  Government / Organization\n",
       "14          nytimes    0.002364                      Media\n",
       "15     kamalaharris    0.002342  Government / Organization\n",
       "16           us_fda    0.002230  Government / Organization\n",
       "17   drharshvardhan    0.002087  Government / Organization\n",
       "18           cdcgov    0.002050  Government / Organization\n",
       "19       nygovcuomo    0.001968  Government / Organization"
      ]
     },
     "execution_count": 283,
     "metadata": {},
     "output_type": "execute_result"
    }
   ],
   "source": [
    "df_for_c_plot = grouped_sorted_whole_centrality_df.head(20).copy()\n",
    "df_for_c_plot[\"type\"] = [\n",
    "    \"Government / Organization\",\n",
    "    \"Company\",\n",
    "    \"Others\",\n",
    "    \"Government / Organization\",\n",
    "    \"Government / Organization\",\n",
    "    \"Government / Organization\",\n",
    "    \"Government / Organization\",\n",
    "    \"Media\",\n",
    "    \"Media\",\n",
    "    \"Government / Organization\",\n",
    "    \"Celebrity\",\n",
    "    \"Government / Organization\",\n",
    "    \"Government / Organization\",\n",
    "    \"Government / Organization\",\n",
    "    \"Media\",\n",
    "    \"Government / Organization\",\n",
    "    \"Government / Organization\",\n",
    "    \"Government / Organization\",\n",
    "    \"Government / Organization\",\n",
    "    \"Government / Organization\"\n",
    "]\n",
    "df_for_c_plot"
   ]
  },
  {
   "cell_type": "code",
   "execution_count": 304,
   "id": "5f003baf",
   "metadata": {},
   "outputs": [
    {
     "data": {
      "application/vnd.plotly.v1+json": {
       "config": {
        "plotlyServerURL": "https://plot.ly"
       },
       "data": [
        {
         "alignmentgroup": "True",
         "hovertemplate": "type=Government / Organization<br>centrality=%{x}<br>username=%{y}<extra></extra>",
         "legendgroup": "Government / Organization",
         "marker": {
          "color": "#636efa"
         },
         "name": "Government / Organization",
         "offsetgroup": "Government / Organization",
         "orientation": "h",
         "showlegend": true,
         "textposition": "auto",
         "type": "bar",
         "x": [
          0.0019677233515640784,
          0.0020500235677891917,
          0.0020874327569824253,
          0.0022295876759167122,
          0.0023418152434964124,
          0.0023941881083669393,
          0.002626125081364987,
          0.0026410887570422798,
          0.0034341635679388284,
          0.004361911459931017,
          0.004825785405927112,
          0.005289659351923206,
          0.005903170054692235,
          0.03065308962493547
         ],
         "xaxis": "x",
         "y": [
          "nygovcuomo",
          "cdcgov",
          "drharshvardhan",
          "us_fda",
          "kamalaharris",
          "mohfw_india",
          "whitehouse",
          "matthancock",
          "potus",
          "pmoindia",
          "who",
          "joebiden",
          "narendramodi",
          "realdonaldtrump"
         ],
         "yaxis": "y"
        },
        {
         "alignmentgroup": "True",
         "hovertemplate": "type=Media<br>centrality=%{x}<br>username=%{y}<extra></extra>",
         "legendgroup": "Media",
         "marker": {
          "color": "#EF553B"
         },
         "name": "Media",
         "offsetgroup": "Media",
         "orientation": "h",
         "showlegend": true,
         "textposition": "auto",
         "type": "bar",
         "x": [
          0.0023642607570123525,
          0.0036960278922914627,
          0.00410752897341703
         ],
         "xaxis": "x",
         "y": [
          "nytimes",
          "mailonline",
          "cnn"
         ],
         "yaxis": "y"
        },
        {
         "alignmentgroup": "True",
         "hovertemplate": "type=Celebrity<br>centrality=%{x}<br>username=%{y}<extra></extra>",
         "legendgroup": "Celebrity",
         "marker": {
          "color": "#00cc96"
         },
         "name": "Celebrity",
         "offsetgroup": "Celebrity",
         "orientation": "h",
         "showlegend": true,
         "textposition": "auto",
         "type": "bar",
         "x": [
          0.0033593451895523618
         ],
         "xaxis": "x",
         "y": [
          "billgates"
         ],
         "yaxis": "y"
        },
        {
         "alignmentgroup": "True",
         "hovertemplate": "type=Others<br>centrality=%{x}<br>username=%{y}<extra></extra>",
         "legendgroup": "Others",
         "marker": {
          "color": "#ab63fa"
         },
         "name": "Others",
         "offsetgroup": "Others",
         "orientation": "h",
         "showlegend": true,
         "textposition": "auto",
         "type": "bar",
         "x": [
          0.011118011028228975
         ],
         "xaxis": "x",
         "y": [
          "jcho710"
         ],
         "yaxis": "y"
        },
        {
         "alignmentgroup": "True",
         "hovertemplate": "type=Company<br>centrality=%{x}<br>username=%{y}<extra></extra>",
         "legendgroup": "Company",
         "marker": {
          "color": "#FFA15A"
         },
         "name": "Company",
         "offsetgroup": "Company",
         "orientation": "h",
         "showlegend": true,
         "textposition": "auto",
         "type": "bar",
         "x": [
          0.011926049514802816
         ],
         "xaxis": "x",
         "y": [
          "youtube"
         ],
         "yaxis": "y"
        }
       ],
       "layout": {
        "barmode": "relative",
        "legend": {
         "orientation": "h",
         "title": {
          "text": ""
         },
         "tracegroupgap": 0,
         "x": 1,
         "xanchor": "right",
         "y": 1.02,
         "yanchor": "bottom"
        },
        "template": {
         "data": {
          "bar": [
           {
            "error_x": {
             "color": "#2a3f5f"
            },
            "error_y": {
             "color": "#2a3f5f"
            },
            "marker": {
             "line": {
              "color": "#E5ECF6",
              "width": 0.5
             }
            },
            "type": "bar"
           }
          ],
          "barpolar": [
           {
            "marker": {
             "line": {
              "color": "#E5ECF6",
              "width": 0.5
             }
            },
            "type": "barpolar"
           }
          ],
          "carpet": [
           {
            "aaxis": {
             "endlinecolor": "#2a3f5f",
             "gridcolor": "white",
             "linecolor": "white",
             "minorgridcolor": "white",
             "startlinecolor": "#2a3f5f"
            },
            "baxis": {
             "endlinecolor": "#2a3f5f",
             "gridcolor": "white",
             "linecolor": "white",
             "minorgridcolor": "white",
             "startlinecolor": "#2a3f5f"
            },
            "type": "carpet"
           }
          ],
          "choropleth": [
           {
            "colorbar": {
             "outlinewidth": 0,
             "ticks": ""
            },
            "type": "choropleth"
           }
          ],
          "contour": [
           {
            "colorbar": {
             "outlinewidth": 0,
             "ticks": ""
            },
            "colorscale": [
             [
              0,
              "#0d0887"
             ],
             [
              0.1111111111111111,
              "#46039f"
             ],
             [
              0.2222222222222222,
              "#7201a8"
             ],
             [
              0.3333333333333333,
              "#9c179e"
             ],
             [
              0.4444444444444444,
              "#bd3786"
             ],
             [
              0.5555555555555556,
              "#d8576b"
             ],
             [
              0.6666666666666666,
              "#ed7953"
             ],
             [
              0.7777777777777778,
              "#fb9f3a"
             ],
             [
              0.8888888888888888,
              "#fdca26"
             ],
             [
              1,
              "#f0f921"
             ]
            ],
            "type": "contour"
           }
          ],
          "contourcarpet": [
           {
            "colorbar": {
             "outlinewidth": 0,
             "ticks": ""
            },
            "type": "contourcarpet"
           }
          ],
          "heatmap": [
           {
            "colorbar": {
             "outlinewidth": 0,
             "ticks": ""
            },
            "colorscale": [
             [
              0,
              "#0d0887"
             ],
             [
              0.1111111111111111,
              "#46039f"
             ],
             [
              0.2222222222222222,
              "#7201a8"
             ],
             [
              0.3333333333333333,
              "#9c179e"
             ],
             [
              0.4444444444444444,
              "#bd3786"
             ],
             [
              0.5555555555555556,
              "#d8576b"
             ],
             [
              0.6666666666666666,
              "#ed7953"
             ],
             [
              0.7777777777777778,
              "#fb9f3a"
             ],
             [
              0.8888888888888888,
              "#fdca26"
             ],
             [
              1,
              "#f0f921"
             ]
            ],
            "type": "heatmap"
           }
          ],
          "heatmapgl": [
           {
            "colorbar": {
             "outlinewidth": 0,
             "ticks": ""
            },
            "colorscale": [
             [
              0,
              "#0d0887"
             ],
             [
              0.1111111111111111,
              "#46039f"
             ],
             [
              0.2222222222222222,
              "#7201a8"
             ],
             [
              0.3333333333333333,
              "#9c179e"
             ],
             [
              0.4444444444444444,
              "#bd3786"
             ],
             [
              0.5555555555555556,
              "#d8576b"
             ],
             [
              0.6666666666666666,
              "#ed7953"
             ],
             [
              0.7777777777777778,
              "#fb9f3a"
             ],
             [
              0.8888888888888888,
              "#fdca26"
             ],
             [
              1,
              "#f0f921"
             ]
            ],
            "type": "heatmapgl"
           }
          ],
          "histogram": [
           {
            "marker": {
             "colorbar": {
              "outlinewidth": 0,
              "ticks": ""
             }
            },
            "type": "histogram"
           }
          ],
          "histogram2d": [
           {
            "colorbar": {
             "outlinewidth": 0,
             "ticks": ""
            },
            "colorscale": [
             [
              0,
              "#0d0887"
             ],
             [
              0.1111111111111111,
              "#46039f"
             ],
             [
              0.2222222222222222,
              "#7201a8"
             ],
             [
              0.3333333333333333,
              "#9c179e"
             ],
             [
              0.4444444444444444,
              "#bd3786"
             ],
             [
              0.5555555555555556,
              "#d8576b"
             ],
             [
              0.6666666666666666,
              "#ed7953"
             ],
             [
              0.7777777777777778,
              "#fb9f3a"
             ],
             [
              0.8888888888888888,
              "#fdca26"
             ],
             [
              1,
              "#f0f921"
             ]
            ],
            "type": "histogram2d"
           }
          ],
          "histogram2dcontour": [
           {
            "colorbar": {
             "outlinewidth": 0,
             "ticks": ""
            },
            "colorscale": [
             [
              0,
              "#0d0887"
             ],
             [
              0.1111111111111111,
              "#46039f"
             ],
             [
              0.2222222222222222,
              "#7201a8"
             ],
             [
              0.3333333333333333,
              "#9c179e"
             ],
             [
              0.4444444444444444,
              "#bd3786"
             ],
             [
              0.5555555555555556,
              "#d8576b"
             ],
             [
              0.6666666666666666,
              "#ed7953"
             ],
             [
              0.7777777777777778,
              "#fb9f3a"
             ],
             [
              0.8888888888888888,
              "#fdca26"
             ],
             [
              1,
              "#f0f921"
             ]
            ],
            "type": "histogram2dcontour"
           }
          ],
          "mesh3d": [
           {
            "colorbar": {
             "outlinewidth": 0,
             "ticks": ""
            },
            "type": "mesh3d"
           }
          ],
          "parcoords": [
           {
            "line": {
             "colorbar": {
              "outlinewidth": 0,
              "ticks": ""
             }
            },
            "type": "parcoords"
           }
          ],
          "pie": [
           {
            "automargin": true,
            "type": "pie"
           }
          ],
          "scatter": [
           {
            "marker": {
             "colorbar": {
              "outlinewidth": 0,
              "ticks": ""
             }
            },
            "type": "scatter"
           }
          ],
          "scatter3d": [
           {
            "line": {
             "colorbar": {
              "outlinewidth": 0,
              "ticks": ""
             }
            },
            "marker": {
             "colorbar": {
              "outlinewidth": 0,
              "ticks": ""
             }
            },
            "type": "scatter3d"
           }
          ],
          "scattercarpet": [
           {
            "marker": {
             "colorbar": {
              "outlinewidth": 0,
              "ticks": ""
             }
            },
            "type": "scattercarpet"
           }
          ],
          "scattergeo": [
           {
            "marker": {
             "colorbar": {
              "outlinewidth": 0,
              "ticks": ""
             }
            },
            "type": "scattergeo"
           }
          ],
          "scattergl": [
           {
            "marker": {
             "colorbar": {
              "outlinewidth": 0,
              "ticks": ""
             }
            },
            "type": "scattergl"
           }
          ],
          "scattermapbox": [
           {
            "marker": {
             "colorbar": {
              "outlinewidth": 0,
              "ticks": ""
             }
            },
            "type": "scattermapbox"
           }
          ],
          "scatterpolar": [
           {
            "marker": {
             "colorbar": {
              "outlinewidth": 0,
              "ticks": ""
             }
            },
            "type": "scatterpolar"
           }
          ],
          "scatterpolargl": [
           {
            "marker": {
             "colorbar": {
              "outlinewidth": 0,
              "ticks": ""
             }
            },
            "type": "scatterpolargl"
           }
          ],
          "scatterternary": [
           {
            "marker": {
             "colorbar": {
              "outlinewidth": 0,
              "ticks": ""
             }
            },
            "type": "scatterternary"
           }
          ],
          "surface": [
           {
            "colorbar": {
             "outlinewidth": 0,
             "ticks": ""
            },
            "colorscale": [
             [
              0,
              "#0d0887"
             ],
             [
              0.1111111111111111,
              "#46039f"
             ],
             [
              0.2222222222222222,
              "#7201a8"
             ],
             [
              0.3333333333333333,
              "#9c179e"
             ],
             [
              0.4444444444444444,
              "#bd3786"
             ],
             [
              0.5555555555555556,
              "#d8576b"
             ],
             [
              0.6666666666666666,
              "#ed7953"
             ],
             [
              0.7777777777777778,
              "#fb9f3a"
             ],
             [
              0.8888888888888888,
              "#fdca26"
             ],
             [
              1,
              "#f0f921"
             ]
            ],
            "type": "surface"
           }
          ],
          "table": [
           {
            "cells": {
             "fill": {
              "color": "#EBF0F8"
             },
             "line": {
              "color": "white"
             }
            },
            "header": {
             "fill": {
              "color": "#C8D4E3"
             },
             "line": {
              "color": "white"
             }
            },
            "type": "table"
           }
          ]
         },
         "layout": {
          "annotationdefaults": {
           "arrowcolor": "#2a3f5f",
           "arrowhead": 0,
           "arrowwidth": 1
          },
          "autotypenumbers": "strict",
          "coloraxis": {
           "colorbar": {
            "outlinewidth": 0,
            "ticks": ""
           }
          },
          "colorscale": {
           "diverging": [
            [
             0,
             "#8e0152"
            ],
            [
             0.1,
             "#c51b7d"
            ],
            [
             0.2,
             "#de77ae"
            ],
            [
             0.3,
             "#f1b6da"
            ],
            [
             0.4,
             "#fde0ef"
            ],
            [
             0.5,
             "#f7f7f7"
            ],
            [
             0.6,
             "#e6f5d0"
            ],
            [
             0.7,
             "#b8e186"
            ],
            [
             0.8,
             "#7fbc41"
            ],
            [
             0.9,
             "#4d9221"
            ],
            [
             1,
             "#276419"
            ]
           ],
           "sequential": [
            [
             0,
             "#0d0887"
            ],
            [
             0.1111111111111111,
             "#46039f"
            ],
            [
             0.2222222222222222,
             "#7201a8"
            ],
            [
             0.3333333333333333,
             "#9c179e"
            ],
            [
             0.4444444444444444,
             "#bd3786"
            ],
            [
             0.5555555555555556,
             "#d8576b"
            ],
            [
             0.6666666666666666,
             "#ed7953"
            ],
            [
             0.7777777777777778,
             "#fb9f3a"
            ],
            [
             0.8888888888888888,
             "#fdca26"
            ],
            [
             1,
             "#f0f921"
            ]
           ],
           "sequentialminus": [
            [
             0,
             "#0d0887"
            ],
            [
             0.1111111111111111,
             "#46039f"
            ],
            [
             0.2222222222222222,
             "#7201a8"
            ],
            [
             0.3333333333333333,
             "#9c179e"
            ],
            [
             0.4444444444444444,
             "#bd3786"
            ],
            [
             0.5555555555555556,
             "#d8576b"
            ],
            [
             0.6666666666666666,
             "#ed7953"
            ],
            [
             0.7777777777777778,
             "#fb9f3a"
            ],
            [
             0.8888888888888888,
             "#fdca26"
            ],
            [
             1,
             "#f0f921"
            ]
           ]
          },
          "colorway": [
           "#636efa",
           "#EF553B",
           "#00cc96",
           "#ab63fa",
           "#FFA15A",
           "#19d3f3",
           "#FF6692",
           "#B6E880",
           "#FF97FF",
           "#FECB52"
          ],
          "font": {
           "color": "#2a3f5f"
          },
          "geo": {
           "bgcolor": "white",
           "lakecolor": "white",
           "landcolor": "#E5ECF6",
           "showlakes": true,
           "showland": true,
           "subunitcolor": "white"
          },
          "hoverlabel": {
           "align": "left"
          },
          "hovermode": "closest",
          "mapbox": {
           "style": "light"
          },
          "paper_bgcolor": "white",
          "plot_bgcolor": "#E5ECF6",
          "polar": {
           "angularaxis": {
            "gridcolor": "white",
            "linecolor": "white",
            "ticks": ""
           },
           "bgcolor": "#E5ECF6",
           "radialaxis": {
            "gridcolor": "white",
            "linecolor": "white",
            "ticks": ""
           }
          },
          "scene": {
           "xaxis": {
            "backgroundcolor": "#E5ECF6",
            "gridcolor": "white",
            "gridwidth": 2,
            "linecolor": "white",
            "showbackground": true,
            "ticks": "",
            "zerolinecolor": "white"
           },
           "yaxis": {
            "backgroundcolor": "#E5ECF6",
            "gridcolor": "white",
            "gridwidth": 2,
            "linecolor": "white",
            "showbackground": true,
            "ticks": "",
            "zerolinecolor": "white"
           },
           "zaxis": {
            "backgroundcolor": "#E5ECF6",
            "gridcolor": "white",
            "gridwidth": 2,
            "linecolor": "white",
            "showbackground": true,
            "ticks": "",
            "zerolinecolor": "white"
           }
          },
          "shapedefaults": {
           "line": {
            "color": "#2a3f5f"
           }
          },
          "ternary": {
           "aaxis": {
            "gridcolor": "white",
            "linecolor": "white",
            "ticks": ""
           },
           "baxis": {
            "gridcolor": "white",
            "linecolor": "white",
            "ticks": ""
           },
           "bgcolor": "#E5ECF6",
           "caxis": {
            "gridcolor": "white",
            "linecolor": "white",
            "ticks": ""
           }
          },
          "title": {
           "x": 0.05
          },
          "xaxis": {
           "automargin": true,
           "gridcolor": "white",
           "linecolor": "white",
           "ticks": "",
           "title": {
            "standoff": 15
           },
           "zerolinecolor": "white",
           "zerolinewidth": 2
          },
          "yaxis": {
           "automargin": true,
           "gridcolor": "white",
           "linecolor": "white",
           "ticks": "",
           "title": {
            "standoff": 15
           },
           "zerolinecolor": "white",
           "zerolinewidth": 2
          }
         }
        },
        "title": {
         "text": "Top 20 Centrality"
        },
        "xaxis": {
         "anchor": "y",
         "domain": [
          0,
          1
         ],
         "title": {
          "text": "centrality"
         }
        },
        "yaxis": {
         "anchor": "x",
         "categoryarray": [
          "nygovcuomo",
          "cdcgov",
          "drharshvardhan",
          "us_fda",
          "kamalaharris",
          "nytimes",
          "mohfw_india",
          "whitehouse",
          "matthancock",
          "billgates",
          "potus",
          "mailonline",
          "cnn",
          "pmoindia",
          "who",
          "joebiden",
          "narendramodi",
          "jcho710",
          "youtube",
          "realdonaldtrump"
         ],
         "categoryorder": "array",
         "domain": [
          0,
          1
         ],
         "title": {
          "text": "username"
         }
        }
       }
      },
      "text/html": [
       "<div>                            <div id=\"4a96892a-e14a-4f7f-9be6-66fc2cd18aa8\" class=\"plotly-graph-div\" style=\"height:525px; width:100%;\"></div>            <script type=\"text/javascript\">                require([\"plotly\"], function(Plotly) {                    window.PLOTLYENV=window.PLOTLYENV || {};                                    if (document.getElementById(\"4a96892a-e14a-4f7f-9be6-66fc2cd18aa8\")) {                    Plotly.newPlot(                        \"4a96892a-e14a-4f7f-9be6-66fc2cd18aa8\",                        [{\"alignmentgroup\": \"True\", \"hovertemplate\": \"type=Government / Organization<br>centrality=%{x}<br>username=%{y}<extra></extra>\", \"legendgroup\": \"Government / Organization\", \"marker\": {\"color\": \"#636efa\"}, \"name\": \"Government / Organization\", \"offsetgroup\": \"Government / Organization\", \"orientation\": \"h\", \"showlegend\": true, \"textposition\": \"auto\", \"type\": \"bar\", \"x\": [0.0019677233515640784, 0.0020500235677891917, 0.0020874327569824253, 0.0022295876759167122, 0.0023418152434964124, 0.0023941881083669393, 0.002626125081364987, 0.0026410887570422798, 0.0034341635679388284, 0.004361911459931017, 0.004825785405927112, 0.005289659351923206, 0.005903170054692235, 0.03065308962493547], \"xaxis\": \"x\", \"y\": [\"nygovcuomo\", \"cdcgov\", \"drharshvardhan\", \"us_fda\", \"kamalaharris\", \"mohfw_india\", \"whitehouse\", \"matthancock\", \"potus\", \"pmoindia\", \"who\", \"joebiden\", \"narendramodi\", \"realdonaldtrump\"], \"yaxis\": \"y\"}, {\"alignmentgroup\": \"True\", \"hovertemplate\": \"type=Media<br>centrality=%{x}<br>username=%{y}<extra></extra>\", \"legendgroup\": \"Media\", \"marker\": {\"color\": \"#EF553B\"}, \"name\": \"Media\", \"offsetgroup\": \"Media\", \"orientation\": \"h\", \"showlegend\": true, \"textposition\": \"auto\", \"type\": \"bar\", \"x\": [0.0023642607570123525, 0.0036960278922914627, 0.00410752897341703], \"xaxis\": \"x\", \"y\": [\"nytimes\", \"mailonline\", \"cnn\"], \"yaxis\": \"y\"}, {\"alignmentgroup\": \"True\", \"hovertemplate\": \"type=Celebrity<br>centrality=%{x}<br>username=%{y}<extra></extra>\", \"legendgroup\": \"Celebrity\", \"marker\": {\"color\": \"#00cc96\"}, \"name\": \"Celebrity\", \"offsetgroup\": \"Celebrity\", \"orientation\": \"h\", \"showlegend\": true, \"textposition\": \"auto\", \"type\": \"bar\", \"x\": [0.0033593451895523618], \"xaxis\": \"x\", \"y\": [\"billgates\"], \"yaxis\": \"y\"}, {\"alignmentgroup\": \"True\", \"hovertemplate\": \"type=Others<br>centrality=%{x}<br>username=%{y}<extra></extra>\", \"legendgroup\": \"Others\", \"marker\": {\"color\": \"#ab63fa\"}, \"name\": \"Others\", \"offsetgroup\": \"Others\", \"orientation\": \"h\", \"showlegend\": true, \"textposition\": \"auto\", \"type\": \"bar\", \"x\": [0.011118011028228975], \"xaxis\": \"x\", \"y\": [\"jcho710\"], \"yaxis\": \"y\"}, {\"alignmentgroup\": \"True\", \"hovertemplate\": \"type=Company<br>centrality=%{x}<br>username=%{y}<extra></extra>\", \"legendgroup\": \"Company\", \"marker\": {\"color\": \"#FFA15A\"}, \"name\": \"Company\", \"offsetgroup\": \"Company\", \"orientation\": \"h\", \"showlegend\": true, \"textposition\": \"auto\", \"type\": \"bar\", \"x\": [0.011926049514802816], \"xaxis\": \"x\", \"y\": [\"youtube\"], \"yaxis\": \"y\"}],                        {\"barmode\": \"relative\", \"legend\": {\"orientation\": \"h\", \"title\": {\"text\": \"\"}, \"tracegroupgap\": 0, \"x\": 1, \"xanchor\": \"right\", \"y\": 1.02, \"yanchor\": \"bottom\"}, \"template\": {\"data\": {\"bar\": [{\"error_x\": {\"color\": \"#2a3f5f\"}, \"error_y\": {\"color\": \"#2a3f5f\"}, \"marker\": {\"line\": {\"color\": \"#E5ECF6\", \"width\": 0.5}}, \"type\": \"bar\"}], \"barpolar\": [{\"marker\": {\"line\": {\"color\": \"#E5ECF6\", \"width\": 0.5}}, \"type\": \"barpolar\"}], \"carpet\": [{\"aaxis\": {\"endlinecolor\": \"#2a3f5f\", \"gridcolor\": \"white\", \"linecolor\": \"white\", \"minorgridcolor\": \"white\", \"startlinecolor\": \"#2a3f5f\"}, \"baxis\": {\"endlinecolor\": \"#2a3f5f\", \"gridcolor\": \"white\", \"linecolor\": \"white\", \"minorgridcolor\": \"white\", \"startlinecolor\": \"#2a3f5f\"}, \"type\": \"carpet\"}], \"choropleth\": [{\"colorbar\": {\"outlinewidth\": 0, \"ticks\": \"\"}, \"type\": \"choropleth\"}], \"contour\": [{\"colorbar\": {\"outlinewidth\": 0, \"ticks\": \"\"}, \"colorscale\": [[0.0, \"#0d0887\"], [0.1111111111111111, \"#46039f\"], [0.2222222222222222, \"#7201a8\"], [0.3333333333333333, \"#9c179e\"], [0.4444444444444444, \"#bd3786\"], [0.5555555555555556, \"#d8576b\"], [0.6666666666666666, \"#ed7953\"], [0.7777777777777778, \"#fb9f3a\"], [0.8888888888888888, \"#fdca26\"], [1.0, \"#f0f921\"]], \"type\": \"contour\"}], \"contourcarpet\": [{\"colorbar\": {\"outlinewidth\": 0, \"ticks\": \"\"}, \"type\": \"contourcarpet\"}], \"heatmap\": [{\"colorbar\": {\"outlinewidth\": 0, \"ticks\": \"\"}, \"colorscale\": [[0.0, \"#0d0887\"], [0.1111111111111111, \"#46039f\"], [0.2222222222222222, \"#7201a8\"], [0.3333333333333333, \"#9c179e\"], [0.4444444444444444, \"#bd3786\"], [0.5555555555555556, \"#d8576b\"], [0.6666666666666666, \"#ed7953\"], [0.7777777777777778, \"#fb9f3a\"], [0.8888888888888888, \"#fdca26\"], [1.0, \"#f0f921\"]], \"type\": \"heatmap\"}], \"heatmapgl\": [{\"colorbar\": {\"outlinewidth\": 0, \"ticks\": \"\"}, \"colorscale\": [[0.0, \"#0d0887\"], [0.1111111111111111, \"#46039f\"], [0.2222222222222222, \"#7201a8\"], [0.3333333333333333, \"#9c179e\"], [0.4444444444444444, \"#bd3786\"], [0.5555555555555556, \"#d8576b\"], [0.6666666666666666, \"#ed7953\"], [0.7777777777777778, \"#fb9f3a\"], [0.8888888888888888, \"#fdca26\"], [1.0, \"#f0f921\"]], \"type\": \"heatmapgl\"}], \"histogram\": [{\"marker\": {\"colorbar\": {\"outlinewidth\": 0, \"ticks\": \"\"}}, \"type\": \"histogram\"}], \"histogram2d\": [{\"colorbar\": {\"outlinewidth\": 0, \"ticks\": \"\"}, \"colorscale\": [[0.0, \"#0d0887\"], [0.1111111111111111, \"#46039f\"], [0.2222222222222222, \"#7201a8\"], [0.3333333333333333, \"#9c179e\"], [0.4444444444444444, \"#bd3786\"], [0.5555555555555556, \"#d8576b\"], [0.6666666666666666, \"#ed7953\"], [0.7777777777777778, \"#fb9f3a\"], [0.8888888888888888, \"#fdca26\"], [1.0, \"#f0f921\"]], \"type\": \"histogram2d\"}], \"histogram2dcontour\": [{\"colorbar\": {\"outlinewidth\": 0, \"ticks\": \"\"}, \"colorscale\": [[0.0, \"#0d0887\"], [0.1111111111111111, \"#46039f\"], [0.2222222222222222, \"#7201a8\"], [0.3333333333333333, \"#9c179e\"], [0.4444444444444444, \"#bd3786\"], [0.5555555555555556, \"#d8576b\"], [0.6666666666666666, \"#ed7953\"], [0.7777777777777778, \"#fb9f3a\"], [0.8888888888888888, \"#fdca26\"], [1.0, \"#f0f921\"]], \"type\": \"histogram2dcontour\"}], \"mesh3d\": [{\"colorbar\": {\"outlinewidth\": 0, \"ticks\": \"\"}, \"type\": \"mesh3d\"}], \"parcoords\": [{\"line\": {\"colorbar\": {\"outlinewidth\": 0, \"ticks\": \"\"}}, \"type\": \"parcoords\"}], \"pie\": [{\"automargin\": true, \"type\": \"pie\"}], \"scatter\": [{\"marker\": {\"colorbar\": {\"outlinewidth\": 0, \"ticks\": \"\"}}, \"type\": \"scatter\"}], \"scatter3d\": [{\"line\": {\"colorbar\": {\"outlinewidth\": 0, \"ticks\": \"\"}}, \"marker\": {\"colorbar\": {\"outlinewidth\": 0, \"ticks\": \"\"}}, \"type\": \"scatter3d\"}], \"scattercarpet\": [{\"marker\": {\"colorbar\": {\"outlinewidth\": 0, \"ticks\": \"\"}}, \"type\": \"scattercarpet\"}], \"scattergeo\": [{\"marker\": {\"colorbar\": {\"outlinewidth\": 0, \"ticks\": \"\"}}, \"type\": \"scattergeo\"}], \"scattergl\": [{\"marker\": {\"colorbar\": {\"outlinewidth\": 0, \"ticks\": \"\"}}, \"type\": \"scattergl\"}], \"scattermapbox\": [{\"marker\": {\"colorbar\": {\"outlinewidth\": 0, \"ticks\": \"\"}}, \"type\": \"scattermapbox\"}], \"scatterpolar\": [{\"marker\": {\"colorbar\": {\"outlinewidth\": 0, \"ticks\": \"\"}}, \"type\": \"scatterpolar\"}], \"scatterpolargl\": [{\"marker\": {\"colorbar\": {\"outlinewidth\": 0, \"ticks\": \"\"}}, \"type\": \"scatterpolargl\"}], \"scatterternary\": [{\"marker\": {\"colorbar\": {\"outlinewidth\": 0, \"ticks\": \"\"}}, \"type\": \"scatterternary\"}], \"surface\": [{\"colorbar\": {\"outlinewidth\": 0, \"ticks\": \"\"}, \"colorscale\": [[0.0, \"#0d0887\"], [0.1111111111111111, \"#46039f\"], [0.2222222222222222, \"#7201a8\"], [0.3333333333333333, \"#9c179e\"], [0.4444444444444444, \"#bd3786\"], [0.5555555555555556, \"#d8576b\"], [0.6666666666666666, \"#ed7953\"], [0.7777777777777778, \"#fb9f3a\"], [0.8888888888888888, \"#fdca26\"], [1.0, \"#f0f921\"]], \"type\": \"surface\"}], \"table\": [{\"cells\": {\"fill\": {\"color\": \"#EBF0F8\"}, \"line\": {\"color\": \"white\"}}, \"header\": {\"fill\": {\"color\": \"#C8D4E3\"}, \"line\": {\"color\": \"white\"}}, \"type\": \"table\"}]}, \"layout\": {\"annotationdefaults\": {\"arrowcolor\": \"#2a3f5f\", \"arrowhead\": 0, \"arrowwidth\": 1}, \"autotypenumbers\": \"strict\", \"coloraxis\": {\"colorbar\": {\"outlinewidth\": 0, \"ticks\": \"\"}}, \"colorscale\": {\"diverging\": [[0, \"#8e0152\"], [0.1, \"#c51b7d\"], [0.2, \"#de77ae\"], [0.3, \"#f1b6da\"], [0.4, \"#fde0ef\"], [0.5, \"#f7f7f7\"], [0.6, \"#e6f5d0\"], [0.7, \"#b8e186\"], [0.8, \"#7fbc41\"], [0.9, \"#4d9221\"], [1, \"#276419\"]], \"sequential\": [[0.0, \"#0d0887\"], [0.1111111111111111, \"#46039f\"], [0.2222222222222222, \"#7201a8\"], [0.3333333333333333, \"#9c179e\"], [0.4444444444444444, \"#bd3786\"], [0.5555555555555556, \"#d8576b\"], [0.6666666666666666, \"#ed7953\"], [0.7777777777777778, \"#fb9f3a\"], [0.8888888888888888, \"#fdca26\"], [1.0, \"#f0f921\"]], \"sequentialminus\": [[0.0, \"#0d0887\"], [0.1111111111111111, \"#46039f\"], [0.2222222222222222, \"#7201a8\"], [0.3333333333333333, \"#9c179e\"], [0.4444444444444444, \"#bd3786\"], [0.5555555555555556, \"#d8576b\"], [0.6666666666666666, \"#ed7953\"], [0.7777777777777778, \"#fb9f3a\"], [0.8888888888888888, \"#fdca26\"], [1.0, \"#f0f921\"]]}, \"colorway\": [\"#636efa\", \"#EF553B\", \"#00cc96\", \"#ab63fa\", \"#FFA15A\", \"#19d3f3\", \"#FF6692\", \"#B6E880\", \"#FF97FF\", \"#FECB52\"], \"font\": {\"color\": \"#2a3f5f\"}, \"geo\": {\"bgcolor\": \"white\", \"lakecolor\": \"white\", \"landcolor\": \"#E5ECF6\", \"showlakes\": true, \"showland\": true, \"subunitcolor\": \"white\"}, \"hoverlabel\": {\"align\": \"left\"}, \"hovermode\": \"closest\", \"mapbox\": {\"style\": \"light\"}, \"paper_bgcolor\": \"white\", \"plot_bgcolor\": \"#E5ECF6\", \"polar\": {\"angularaxis\": {\"gridcolor\": \"white\", \"linecolor\": \"white\", \"ticks\": \"\"}, \"bgcolor\": \"#E5ECF6\", \"radialaxis\": {\"gridcolor\": \"white\", \"linecolor\": \"white\", \"ticks\": \"\"}}, \"scene\": {\"xaxis\": {\"backgroundcolor\": \"#E5ECF6\", \"gridcolor\": \"white\", \"gridwidth\": 2, \"linecolor\": \"white\", \"showbackground\": true, \"ticks\": \"\", \"zerolinecolor\": \"white\"}, \"yaxis\": {\"backgroundcolor\": \"#E5ECF6\", \"gridcolor\": \"white\", \"gridwidth\": 2, \"linecolor\": \"white\", \"showbackground\": true, \"ticks\": \"\", \"zerolinecolor\": \"white\"}, \"zaxis\": {\"backgroundcolor\": \"#E5ECF6\", \"gridcolor\": \"white\", \"gridwidth\": 2, \"linecolor\": \"white\", \"showbackground\": true, \"ticks\": \"\", \"zerolinecolor\": \"white\"}}, \"shapedefaults\": {\"line\": {\"color\": \"#2a3f5f\"}}, \"ternary\": {\"aaxis\": {\"gridcolor\": \"white\", \"linecolor\": \"white\", \"ticks\": \"\"}, \"baxis\": {\"gridcolor\": \"white\", \"linecolor\": \"white\", \"ticks\": \"\"}, \"bgcolor\": \"#E5ECF6\", \"caxis\": {\"gridcolor\": \"white\", \"linecolor\": \"white\", \"ticks\": \"\"}}, \"title\": {\"x\": 0.05}, \"xaxis\": {\"automargin\": true, \"gridcolor\": \"white\", \"linecolor\": \"white\", \"ticks\": \"\", \"title\": {\"standoff\": 15}, \"zerolinecolor\": \"white\", \"zerolinewidth\": 2}, \"yaxis\": {\"automargin\": true, \"gridcolor\": \"white\", \"linecolor\": \"white\", \"ticks\": \"\", \"title\": {\"standoff\": 15}, \"zerolinecolor\": \"white\", \"zerolinewidth\": 2}}}, \"title\": {\"text\": \"Top 20 Centrality\"}, \"xaxis\": {\"anchor\": \"y\", \"domain\": [0.0, 1.0], \"title\": {\"text\": \"centrality\"}}, \"yaxis\": {\"anchor\": \"x\", \"categoryarray\": [\"nygovcuomo\", \"cdcgov\", \"drharshvardhan\", \"us_fda\", \"kamalaharris\", \"nytimes\", \"mohfw_india\", \"whitehouse\", \"matthancock\", \"billgates\", \"potus\", \"mailonline\", \"cnn\", \"pmoindia\", \"who\", \"joebiden\", \"narendramodi\", \"jcho710\", \"youtube\", \"realdonaldtrump\"], \"categoryorder\": \"array\", \"domain\": [0.0, 1.0], \"title\": {\"text\": \"username\"}}},                        {\"responsive\": true}                    ).then(function(){\n",
       "                            \n",
       "var gd = document.getElementById('4a96892a-e14a-4f7f-9be6-66fc2cd18aa8');\n",
       "var x = new MutationObserver(function (mutations, observer) {{\n",
       "        var display = window.getComputedStyle(gd).display;\n",
       "        if (!display || display === 'none') {{\n",
       "            console.log([gd, 'removed!']);\n",
       "            Plotly.purge(gd);\n",
       "            observer.disconnect();\n",
       "        }}\n",
       "}});\n",
       "\n",
       "// Listen for the removal of the full notebook cells\n",
       "var notebookContainer = gd.closest('#notebook-container');\n",
       "if (notebookContainer) {{\n",
       "    x.observe(notebookContainer, {childList: true});\n",
       "}}\n",
       "\n",
       "// Listen for the clearing of the current output cell\n",
       "var outputEl = gd.closest('.output');\n",
       "if (outputEl) {{\n",
       "    x.observe(outputEl, {childList: true});\n",
       "}}\n",
       "\n",
       "                        })                };                });            </script>        </div>"
      ]
     },
     "metadata": {},
     "output_type": "display_data"
    }
   ],
   "source": [
    "df_for_c_plot\n",
    "fig = px.bar(df_for_c_plot.sort_values('centrality'), x='centrality', y='username', color=\"type\", orientation='h', title=\"Top 20 Centrality\")\n",
    "fig.update_layout(legend_title_text='', yaxis={'categoryorder':'array', 'categoryarray':df_for_c_plot.sort_values('centrality')['username'].tolist()})\n",
    "fig.update_layout(legend=dict(\n",
    "    orientation=\"h\",\n",
    "    yanchor=\"bottom\",\n",
    "    y=1.02,\n",
    "    xanchor=\"right\",\n",
    "    x=1\n",
    "))\n",
    "\n",
    "# fig.update_layout({\n",
    "#     'plot_bgcolor': 'rgba(0, 0, 0, 0)',\n",
    "#     'paper_bgcolor': 'rgba(0, 0, 0, 0)',\n",
    "# })\n",
    "\n",
    "fig.show()"
   ]
  },
  {
   "cell_type": "code",
   "execution_count": 288,
   "id": "bbca1713",
   "metadata": {},
   "outputs": [
    {
     "data": {
      "text/plain": [
       "['realdonaldtrump',\n",
       " 'youtube',\n",
       " 'jcho710',\n",
       " 'narendramodi',\n",
       " 'joebiden',\n",
       " 'who',\n",
       " 'pmoindia',\n",
       " 'cnn',\n",
       " 'mailonline',\n",
       " 'potus',\n",
       " 'billgates',\n",
       " 'matthancock',\n",
       " 'whitehouse',\n",
       " 'mohfw_india',\n",
       " 'nytimes',\n",
       " 'kamalaharris',\n",
       " 'us_fda',\n",
       " 'drharshvardhan',\n",
       " 'cdcgov',\n",
       " 'nygovcuomo']"
      ]
     },
     "execution_count": 288,
     "metadata": {},
     "output_type": "execute_result"
    }
   ],
   "source": [
    "df_for_c_plot['username'].tolist()"
   ]
  },
  {
   "cell_type": "code",
   "execution_count": 275,
   "id": "59839727",
   "metadata": {},
   "outputs": [
    {
     "name": "stdout",
     "output_type": "stream",
     "text": [
      "133658\n",
      "158360\n"
     ]
    }
   ],
   "source": [
    "print(grouped_covid_vaccine_whole_graph.number_of_nodes())\n",
    "print(grouped_covid_vaccine_whole_graph.number_of_edges())"
   ]
  },
  {
   "cell_type": "code",
   "execution_count": 177,
   "id": "28da265e",
   "metadata": {},
   "outputs": [],
   "source": [
    "cleaned_covid_vaccine_whole_graph = covid_vaccine_whole_graph.copy()\n",
    "grouped_cleaned_covid_vaccine_whole_graph = grouped_covid_vaccine_whole_graph.copy()"
   ]
  },
  {
   "cell_type": "code",
   "execution_count": 178,
   "id": "debd0041",
   "metadata": {},
   "outputs": [],
   "source": [
    "cleaned_covid_vaccine_whole_graph.remove_edges_from(nx.selfloop_edges(cleaned_covid_vaccine_whole_graph))\n",
    "grouped_cleaned_covid_vaccine_whole_graph.remove_edges_from(nx.selfloop_edges(grouped_cleaned_covid_vaccine_whole_graph))"
   ]
  },
  {
   "cell_type": "code",
   "execution_count": 163,
   "id": "f0e36b33",
   "metadata": {},
   "outputs": [
    {
     "data": {
      "text/plain": [
       "<networkx.classes.digraph.DiGraph at 0x7fc873a63c18>"
      ]
     },
     "execution_count": 163,
     "metadata": {},
     "output_type": "execute_result"
    }
   ],
   "source": [
    "# K-Core\n",
    "k_core_data = nx.k_core(cleaned_covid_vaccine_whole_graph, k=3)\n",
    "k_core_data"
   ]
  },
  {
   "cell_type": "code",
   "execution_count": 204,
   "id": "342a5278",
   "metadata": {},
   "outputs": [
    {
     "data": {
      "text/plain": [
       "<networkx.classes.digraph.DiGraph at 0x7fc856e40898>"
      ]
     },
     "execution_count": 204,
     "metadata": {},
     "output_type": "execute_result"
    }
   ],
   "source": [
    "grouped_k_core_data = nx.k_core(grouped_cleaned_covid_vaccine_whole_graph, k=7)\n",
    "grouped_k_core_data"
   ]
  },
  {
   "cell_type": "code",
   "execution_count": 182,
   "id": "cb3f2642",
   "metadata": {},
   "outputs": [
    {
     "data": {
      "text/html": [
       "<div>\n",
       "<style scoped>\n",
       "    .dataframe tbody tr th:only-of-type {\n",
       "        vertical-align: middle;\n",
       "    }\n",
       "\n",
       "    .dataframe tbody tr th {\n",
       "        vertical-align: top;\n",
       "    }\n",
       "\n",
       "    .dataframe thead th {\n",
       "        text-align: right;\n",
       "    }\n",
       "</style>\n",
       "<table border=\"1\" class=\"dataframe\">\n",
       "  <thead>\n",
       "    <tr style=\"text-align: right;\">\n",
       "      <th></th>\n",
       "      <th>source</th>\n",
       "      <th>target</th>\n",
       "      <th>width</th>\n",
       "    </tr>\n",
       "  </thead>\n",
       "  <tbody>\n",
       "    <tr>\n",
       "      <th>0</th>\n",
       "      <td>opalessense</td>\n",
       "      <td>ajenglish</td>\n",
       "      <td>1</td>\n",
       "    </tr>\n",
       "    <tr>\n",
       "      <th>22470</th>\n",
       "      <td>wakeupfortruth</td>\n",
       "      <td>gorillastyle</td>\n",
       "      <td>1</td>\n",
       "    </tr>\n",
       "    <tr>\n",
       "      <th>22468</th>\n",
       "      <td>wakeupfortruth</td>\n",
       "      <td>medwoman1</td>\n",
       "      <td>1</td>\n",
       "    </tr>\n",
       "    <tr>\n",
       "      <th>22467</th>\n",
       "      <td>wakeupfortruth</td>\n",
       "      <td>bitchute</td>\n",
       "      <td>1</td>\n",
       "    </tr>\n",
       "    <tr>\n",
       "      <th>22466</th>\n",
       "      <td>wakeupfortruth</td>\n",
       "      <td>ingrahamangle</td>\n",
       "      <td>1</td>\n",
       "    </tr>\n",
       "    <tr>\n",
       "      <th>...</th>\n",
       "      <td>...</td>\n",
       "      <td>...</td>\n",
       "      <td>...</td>\n",
       "    </tr>\n",
       "    <tr>\n",
       "      <th>11225</th>\n",
       "      <td>thetakeov</td>\n",
       "      <td>kingjames</td>\n",
       "      <td>1</td>\n",
       "    </tr>\n",
       "    <tr>\n",
       "      <th>11224</th>\n",
       "      <td>thetakeov</td>\n",
       "      <td>nba</td>\n",
       "      <td>1</td>\n",
       "    </tr>\n",
       "    <tr>\n",
       "      <th>11223</th>\n",
       "      <td>kcnickerson</td>\n",
       "      <td>microsoft</td>\n",
       "      <td>1</td>\n",
       "    </tr>\n",
       "    <tr>\n",
       "      <th>11222</th>\n",
       "      <td>kcnickerson</td>\n",
       "      <td>nealbrowning</td>\n",
       "      <td>1</td>\n",
       "    </tr>\n",
       "    <tr>\n",
       "      <th>33688</th>\n",
       "      <td>alancashirelad</td>\n",
       "      <td>cllrbsilvester</td>\n",
       "      <td>1</td>\n",
       "    </tr>\n",
       "  </tbody>\n",
       "</table>\n",
       "<p>33689 rows × 3 columns</p>\n",
       "</div>"
      ],
      "text/plain": [
       "               source          target  width\n",
       "0         opalessense       ajenglish      1\n",
       "22470  wakeupfortruth    gorillastyle      1\n",
       "22468  wakeupfortruth       medwoman1      1\n",
       "22467  wakeupfortruth        bitchute      1\n",
       "22466  wakeupfortruth   ingrahamangle      1\n",
       "...               ...             ...    ...\n",
       "11225       thetakeov       kingjames      1\n",
       "11224       thetakeov             nba      1\n",
       "11223     kcnickerson       microsoft      1\n",
       "11222     kcnickerson    nealbrowning      1\n",
       "33688  alancashirelad  cllrbsilvester      1\n",
       "\n",
       "[33689 rows x 3 columns]"
      ]
     },
     "execution_count": 182,
     "metadata": {},
     "output_type": "execute_result"
    }
   ],
   "source": [
    "k_core_df = nx.to_pandas_edgelist(k_core_data).sort_values(\"width\", ascending=False)\n",
    "k_core_df"
   ]
  },
  {
   "cell_type": "code",
   "execution_count": 205,
   "id": "dd7ae0aa",
   "metadata": {},
   "outputs": [
    {
     "data": {
      "text/html": [
       "<div>\n",
       "<style scoped>\n",
       "    .dataframe tbody tr th:only-of-type {\n",
       "        vertical-align: middle;\n",
       "    }\n",
       "\n",
       "    .dataframe tbody tr th {\n",
       "        vertical-align: top;\n",
       "    }\n",
       "\n",
       "    .dataframe thead th {\n",
       "        text-align: right;\n",
       "    }\n",
       "</style>\n",
       "<table border=\"1\" class=\"dataframe\">\n",
       "  <thead>\n",
       "    <tr style=\"text-align: right;\">\n",
       "      <th></th>\n",
       "      <th>source</th>\n",
       "      <th>target</th>\n",
       "      <th>width</th>\n",
       "    </tr>\n",
       "  </thead>\n",
       "  <tbody>\n",
       "    <tr>\n",
       "      <th>1831</th>\n",
       "      <td>jurg_ames</td>\n",
       "      <td>realdonaldtrump</td>\n",
       "      <td>186</td>\n",
       "    </tr>\n",
       "    <tr>\n",
       "      <th>5568</th>\n",
       "      <td>jcho710</td>\n",
       "      <td>joebiden</td>\n",
       "      <td>163</td>\n",
       "    </tr>\n",
       "    <tr>\n",
       "      <th>5569</th>\n",
       "      <td>jcho710</td>\n",
       "      <td>kamalaharris</td>\n",
       "      <td>92</td>\n",
       "    </tr>\n",
       "    <tr>\n",
       "      <th>5570</th>\n",
       "      <td>jcho710</td>\n",
       "      <td>nygovcuomo</td>\n",
       "      <td>91</td>\n",
       "    </tr>\n",
       "    <tr>\n",
       "      <th>5571</th>\n",
       "      <td>jcho710</td>\n",
       "      <td>gavinnewsom</td>\n",
       "      <td>72</td>\n",
       "    </tr>\n",
       "    <tr>\n",
       "      <th>...</th>\n",
       "      <td>...</td>\n",
       "      <td>...</td>\n",
       "      <td>...</td>\n",
       "    </tr>\n",
       "    <tr>\n",
       "      <th>2441</th>\n",
       "      <td>jayajiban</td>\n",
       "      <td>pib_india</td>\n",
       "      <td>1</td>\n",
       "    </tr>\n",
       "    <tr>\n",
       "      <th>2442</th>\n",
       "      <td>jayajiban</td>\n",
       "      <td>mygovindia</td>\n",
       "      <td>1</td>\n",
       "    </tr>\n",
       "    <tr>\n",
       "      <th>2443</th>\n",
       "      <td>jayajiban</td>\n",
       "      <td>mohfw_india</td>\n",
       "      <td>1</td>\n",
       "    </tr>\n",
       "    <tr>\n",
       "      <th>2444</th>\n",
       "      <td>jayajiban</td>\n",
       "      <td>mib_india</td>\n",
       "      <td>1</td>\n",
       "    </tr>\n",
       "    <tr>\n",
       "      <th>5760</th>\n",
       "      <td>100dianne</td>\n",
       "      <td>organicdot</td>\n",
       "      <td>1</td>\n",
       "    </tr>\n",
       "  </tbody>\n",
       "</table>\n",
       "<p>5761 rows × 3 columns</p>\n",
       "</div>"
      ],
      "text/plain": [
       "         source           target  width\n",
       "1831  jurg_ames  realdonaldtrump    186\n",
       "5568    jcho710         joebiden    163\n",
       "5569    jcho710     kamalaharris     92\n",
       "5570    jcho710       nygovcuomo     91\n",
       "5571    jcho710      gavinnewsom     72\n",
       "...         ...              ...    ...\n",
       "2441  jayajiban        pib_india      1\n",
       "2442  jayajiban       mygovindia      1\n",
       "2443  jayajiban      mohfw_india      1\n",
       "2444  jayajiban        mib_india      1\n",
       "5760  100dianne       organicdot      1\n",
       "\n",
       "[5761 rows x 3 columns]"
      ]
     },
     "execution_count": 205,
     "metadata": {},
     "output_type": "execute_result"
    }
   ],
   "source": [
    "grouped_k_core_df = nx.to_pandas_edgelist(grouped_k_core_data).sort_values(\"width\", ascending=False)\n",
    "grouped_k_core_df"
   ]
  },
  {
   "cell_type": "code",
   "execution_count": 273,
   "id": "9b1e7901",
   "metadata": {},
   "outputs": [
    {
     "data": {
      "text/html": [
       "\n",
       "    <div class=\"bk-root\">\n",
       "        <a href=\"https://bokeh.org\" target=\"_blank\" class=\"bk-logo bk-logo-small bk-logo-notebook\"></a>\n",
       "        <span id=\"11653\">Loading BokehJS ...</span>\n",
       "    </div>"
      ]
     },
     "metadata": {},
     "output_type": "display_data"
    },
    {
     "data": {
      "application/javascript": [
       "\n",
       "(function(root) {\n",
       "  function now() {\n",
       "    return new Date();\n",
       "  }\n",
       "\n",
       "  var force = true;\n",
       "\n",
       "  if (typeof root._bokeh_onload_callbacks === \"undefined\" || force === true) {\n",
       "    root._bokeh_onload_callbacks = [];\n",
       "    root._bokeh_is_loading = undefined;\n",
       "  }\n",
       "\n",
       "  var JS_MIME_TYPE = 'application/javascript';\n",
       "  var HTML_MIME_TYPE = 'text/html';\n",
       "  var EXEC_MIME_TYPE = 'application/vnd.bokehjs_exec.v0+json';\n",
       "  var CLASS_NAME = 'output_bokeh rendered_html';\n",
       "\n",
       "  /**\n",
       "   * Render data to the DOM node\n",
       "   */\n",
       "  function render(props, node) {\n",
       "    var script = document.createElement(\"script\");\n",
       "    node.appendChild(script);\n",
       "  }\n",
       "\n",
       "  /**\n",
       "   * Handle when an output is cleared or removed\n",
       "   */\n",
       "  function handleClearOutput(event, handle) {\n",
       "    var cell = handle.cell;\n",
       "\n",
       "    var id = cell.output_area._bokeh_element_id;\n",
       "    var server_id = cell.output_area._bokeh_server_id;\n",
       "    // Clean up Bokeh references\n",
       "    if (id != null && id in Bokeh.index) {\n",
       "      Bokeh.index[id].model.document.clear();\n",
       "      delete Bokeh.index[id];\n",
       "    }\n",
       "\n",
       "    if (server_id !== undefined) {\n",
       "      // Clean up Bokeh references\n",
       "      var cmd = \"from bokeh.io.state import curstate; print(curstate().uuid_to_server['\" + server_id + \"'].get_sessions()[0].document.roots[0]._id)\";\n",
       "      cell.notebook.kernel.execute(cmd, {\n",
       "        iopub: {\n",
       "          output: function(msg) {\n",
       "            var id = msg.content.text.trim();\n",
       "            if (id in Bokeh.index) {\n",
       "              Bokeh.index[id].model.document.clear();\n",
       "              delete Bokeh.index[id];\n",
       "            }\n",
       "          }\n",
       "        }\n",
       "      });\n",
       "      // Destroy server and session\n",
       "      var cmd = \"import bokeh.io.notebook as ion; ion.destroy_server('\" + server_id + \"')\";\n",
       "      cell.notebook.kernel.execute(cmd);\n",
       "    }\n",
       "  }\n",
       "\n",
       "  /**\n",
       "   * Handle when a new output is added\n",
       "   */\n",
       "  function handleAddOutput(event, handle) {\n",
       "    var output_area = handle.output_area;\n",
       "    var output = handle.output;\n",
       "\n",
       "    // limit handleAddOutput to display_data with EXEC_MIME_TYPE content only\n",
       "    if ((output.output_type != \"display_data\") || (!Object.prototype.hasOwnProperty.call(output.data, EXEC_MIME_TYPE))) {\n",
       "      return\n",
       "    }\n",
       "\n",
       "    var toinsert = output_area.element.find(\".\" + CLASS_NAME.split(' ')[0]);\n",
       "\n",
       "    if (output.metadata[EXEC_MIME_TYPE][\"id\"] !== undefined) {\n",
       "      toinsert[toinsert.length - 1].firstChild.textContent = output.data[JS_MIME_TYPE];\n",
       "      // store reference to embed id on output_area\n",
       "      output_area._bokeh_element_id = output.metadata[EXEC_MIME_TYPE][\"id\"];\n",
       "    }\n",
       "    if (output.metadata[EXEC_MIME_TYPE][\"server_id\"] !== undefined) {\n",
       "      var bk_div = document.createElement(\"div\");\n",
       "      bk_div.innerHTML = output.data[HTML_MIME_TYPE];\n",
       "      var script_attrs = bk_div.children[0].attributes;\n",
       "      for (var i = 0; i < script_attrs.length; i++) {\n",
       "        toinsert[toinsert.length - 1].firstChild.setAttribute(script_attrs[i].name, script_attrs[i].value);\n",
       "        toinsert[toinsert.length - 1].firstChild.textContent = bk_div.children[0].textContent\n",
       "      }\n",
       "      // store reference to server id on output_area\n",
       "      output_area._bokeh_server_id = output.metadata[EXEC_MIME_TYPE][\"server_id\"];\n",
       "    }\n",
       "  }\n",
       "\n",
       "  function register_renderer(events, OutputArea) {\n",
       "\n",
       "    function append_mime(data, metadata, element) {\n",
       "      // create a DOM node to render to\n",
       "      var toinsert = this.create_output_subarea(\n",
       "        metadata,\n",
       "        CLASS_NAME,\n",
       "        EXEC_MIME_TYPE\n",
       "      );\n",
       "      this.keyboard_manager.register_events(toinsert);\n",
       "      // Render to node\n",
       "      var props = {data: data, metadata: metadata[EXEC_MIME_TYPE]};\n",
       "      render(props, toinsert[toinsert.length - 1]);\n",
       "      element.append(toinsert);\n",
       "      return toinsert\n",
       "    }\n",
       "\n",
       "    /* Handle when an output is cleared or removed */\n",
       "    events.on('clear_output.CodeCell', handleClearOutput);\n",
       "    events.on('delete.Cell', handleClearOutput);\n",
       "\n",
       "    /* Handle when a new output is added */\n",
       "    events.on('output_added.OutputArea', handleAddOutput);\n",
       "\n",
       "    /**\n",
       "     * Register the mime type and append_mime function with output_area\n",
       "     */\n",
       "    OutputArea.prototype.register_mime_type(EXEC_MIME_TYPE, append_mime, {\n",
       "      /* Is output safe? */\n",
       "      safe: true,\n",
       "      /* Index of renderer in `output_area.display_order` */\n",
       "      index: 0\n",
       "    });\n",
       "  }\n",
       "\n",
       "  // register the mime type if in Jupyter Notebook environment and previously unregistered\n",
       "  if (root.Jupyter !== undefined) {\n",
       "    var events = require('base/js/events');\n",
       "    var OutputArea = require('notebook/js/outputarea').OutputArea;\n",
       "\n",
       "    if (OutputArea.prototype.mime_types().indexOf(EXEC_MIME_TYPE) == -1) {\n",
       "      register_renderer(events, OutputArea);\n",
       "    }\n",
       "  }\n",
       "\n",
       "  \n",
       "  if (typeof (root._bokeh_timeout) === \"undefined\" || force === true) {\n",
       "    root._bokeh_timeout = Date.now() + 5000;\n",
       "    root._bokeh_failed_load = false;\n",
       "  }\n",
       "\n",
       "  var NB_LOAD_WARNING = {'data': {'text/html':\n",
       "     \"<div style='background-color: #fdd'>\\n\"+\n",
       "     \"<p>\\n\"+\n",
       "     \"BokehJS does not appear to have successfully loaded. If loading BokehJS from CDN, this \\n\"+\n",
       "     \"may be due to a slow or bad network connection. Possible fixes:\\n\"+\n",
       "     \"</p>\\n\"+\n",
       "     \"<ul>\\n\"+\n",
       "     \"<li>re-rerun `output_notebook()` to attempt to load from CDN again, or</li>\\n\"+\n",
       "     \"<li>use INLINE resources instead, as so:</li>\\n\"+\n",
       "     \"</ul>\\n\"+\n",
       "     \"<code>\\n\"+\n",
       "     \"from bokeh.resources import INLINE\\n\"+\n",
       "     \"output_notebook(resources=INLINE)\\n\"+\n",
       "     \"</code>\\n\"+\n",
       "     \"</div>\"}};\n",
       "\n",
       "  function display_loaded() {\n",
       "    var el = document.getElementById(\"11653\");\n",
       "    if (el != null) {\n",
       "      el.textContent = \"BokehJS is loading...\";\n",
       "    }\n",
       "    if (root.Bokeh !== undefined) {\n",
       "      if (el != null) {\n",
       "        el.textContent = \"BokehJS \" + root.Bokeh.version + \" successfully loaded.\";\n",
       "      }\n",
       "    } else if (Date.now() < root._bokeh_timeout) {\n",
       "      setTimeout(display_loaded, 100)\n",
       "    }\n",
       "  }\n",
       "\n",
       "\n",
       "  function run_callbacks() {\n",
       "    try {\n",
       "      root._bokeh_onload_callbacks.forEach(function(callback) {\n",
       "        if (callback != null)\n",
       "          callback();\n",
       "      });\n",
       "    } finally {\n",
       "      delete root._bokeh_onload_callbacks\n",
       "    }\n",
       "    console.debug(\"Bokeh: all callbacks have finished\");\n",
       "  }\n",
       "\n",
       "  function load_libs(css_urls, js_urls, callback) {\n",
       "    if (css_urls == null) css_urls = [];\n",
       "    if (js_urls == null) js_urls = [];\n",
       "\n",
       "    root._bokeh_onload_callbacks.push(callback);\n",
       "    if (root._bokeh_is_loading > 0) {\n",
       "      console.debug(\"Bokeh: BokehJS is being loaded, scheduling callback at\", now());\n",
       "      return null;\n",
       "    }\n",
       "    if (js_urls == null || js_urls.length === 0) {\n",
       "      run_callbacks();\n",
       "      return null;\n",
       "    }\n",
       "    console.debug(\"Bokeh: BokehJS not loaded, scheduling load and callback at\", now());\n",
       "    root._bokeh_is_loading = css_urls.length + js_urls.length;\n",
       "\n",
       "    function on_load() {\n",
       "      root._bokeh_is_loading--;\n",
       "      if (root._bokeh_is_loading === 0) {\n",
       "        console.debug(\"Bokeh: all BokehJS libraries/stylesheets loaded\");\n",
       "        run_callbacks()\n",
       "      }\n",
       "    }\n",
       "\n",
       "    function on_error(url) {\n",
       "      console.error(\"failed to load \" + url);\n",
       "    }\n",
       "\n",
       "    for (let i = 0; i < css_urls.length; i++) {\n",
       "      const url = css_urls[i];\n",
       "      const element = document.createElement(\"link\");\n",
       "      element.onload = on_load;\n",
       "      element.onerror = on_error.bind(null, url);\n",
       "      element.rel = \"stylesheet\";\n",
       "      element.type = \"text/css\";\n",
       "      element.href = url;\n",
       "      console.debug(\"Bokeh: injecting link tag for BokehJS stylesheet: \", url);\n",
       "      document.body.appendChild(element);\n",
       "    }\n",
       "\n",
       "    const hashes = {\"https://cdn.bokeh.org/bokeh/release/bokeh-2.3.2.min.js\": \"XypntL49z55iwGVUW4qsEu83zKL3XEcz0MjuGOQ9SlaaQ68X/g+k1FcioZi7oQAc\", \"https://cdn.bokeh.org/bokeh/release/bokeh-tables-2.3.2.min.js\": \"bEsM86IHGDTLCS0Zod8a8WM6Y4+lafAL/eSiyQcuPzinmWNgNO2/olUF0Z2Dkn5i\", \"https://cdn.bokeh.org/bokeh/release/bokeh-widgets-2.3.2.min.js\": \"TX0gSQTdXTTeScqxj6PVQxTiRW8DOoGVwinyi1D3kxv7wuxQ02XkOxv0xwiypcAH\"};\n",
       "\n",
       "    for (let i = 0; i < js_urls.length; i++) {\n",
       "      const url = js_urls[i];\n",
       "      const element = document.createElement('script');\n",
       "      element.onload = on_load;\n",
       "      element.onerror = on_error.bind(null, url);\n",
       "      element.async = false;\n",
       "      element.src = url;\n",
       "      if (url in hashes) {\n",
       "        element.crossOrigin = \"anonymous\";\n",
       "        element.integrity = \"sha384-\" + hashes[url];\n",
       "      }\n",
       "      console.debug(\"Bokeh: injecting script tag for BokehJS library: \", url);\n",
       "      document.head.appendChild(element);\n",
       "    }\n",
       "  };\n",
       "\n",
       "  function inject_raw_css(css) {\n",
       "    const element = document.createElement(\"style\");\n",
       "    element.appendChild(document.createTextNode(css));\n",
       "    document.body.appendChild(element);\n",
       "  }\n",
       "\n",
       "  \n",
       "  var js_urls = [\"https://cdn.bokeh.org/bokeh/release/bokeh-2.3.2.min.js\", \"https://cdn.bokeh.org/bokeh/release/bokeh-widgets-2.3.2.min.js\", \"https://cdn.bokeh.org/bokeh/release/bokeh-tables-2.3.2.min.js\"];\n",
       "  var css_urls = [];\n",
       "  \n",
       "\n",
       "  var inline_js = [\n",
       "    function(Bokeh) {\n",
       "      Bokeh.set_log_level(\"info\");\n",
       "    },\n",
       "    function(Bokeh) {\n",
       "    \n",
       "    \n",
       "    }\n",
       "  ];\n",
       "\n",
       "  function run_inline_js() {\n",
       "    \n",
       "    if (root.Bokeh !== undefined || force === true) {\n",
       "      \n",
       "    for (var i = 0; i < inline_js.length; i++) {\n",
       "      inline_js[i].call(root, root.Bokeh);\n",
       "    }\n",
       "    if (force === true) {\n",
       "        display_loaded();\n",
       "      }} else if (Date.now() < root._bokeh_timeout) {\n",
       "      setTimeout(run_inline_js, 100);\n",
       "    } else if (!root._bokeh_failed_load) {\n",
       "      console.log(\"Bokeh: BokehJS failed to load within specified timeout.\");\n",
       "      root._bokeh_failed_load = true;\n",
       "    } else if (force !== true) {\n",
       "      var cell = $(document.getElementById(\"11653\")).parents('.cell').data().cell;\n",
       "      cell.output_area.append_execute_result(NB_LOAD_WARNING)\n",
       "    }\n",
       "\n",
       "  }\n",
       "\n",
       "  if (root._bokeh_is_loading === 0) {\n",
       "    console.debug(\"Bokeh: BokehJS loaded, going straight to plotting\");\n",
       "    run_inline_js();\n",
       "  } else {\n",
       "    load_libs(css_urls, js_urls, function() {\n",
       "      console.debug(\"Bokeh: BokehJS plotting callback run at\", now());\n",
       "      run_inline_js();\n",
       "    });\n",
       "  }\n",
       "}(window));"
      ],
      "application/vnd.bokehjs_load.v0+json": "\n(function(root) {\n  function now() {\n    return new Date();\n  }\n\n  var force = true;\n\n  if (typeof root._bokeh_onload_callbacks === \"undefined\" || force === true) {\n    root._bokeh_onload_callbacks = [];\n    root._bokeh_is_loading = undefined;\n  }\n\n  \n\n  \n  if (typeof (root._bokeh_timeout) === \"undefined\" || force === true) {\n    root._bokeh_timeout = Date.now() + 5000;\n    root._bokeh_failed_load = false;\n  }\n\n  var NB_LOAD_WARNING = {'data': {'text/html':\n     \"<div style='background-color: #fdd'>\\n\"+\n     \"<p>\\n\"+\n     \"BokehJS does not appear to have successfully loaded. If loading BokehJS from CDN, this \\n\"+\n     \"may be due to a slow or bad network connection. Possible fixes:\\n\"+\n     \"</p>\\n\"+\n     \"<ul>\\n\"+\n     \"<li>re-rerun `output_notebook()` to attempt to load from CDN again, or</li>\\n\"+\n     \"<li>use INLINE resources instead, as so:</li>\\n\"+\n     \"</ul>\\n\"+\n     \"<code>\\n\"+\n     \"from bokeh.resources import INLINE\\n\"+\n     \"output_notebook(resources=INLINE)\\n\"+\n     \"</code>\\n\"+\n     \"</div>\"}};\n\n  function display_loaded() {\n    var el = document.getElementById(\"11653\");\n    if (el != null) {\n      el.textContent = \"BokehJS is loading...\";\n    }\n    if (root.Bokeh !== undefined) {\n      if (el != null) {\n        el.textContent = \"BokehJS \" + root.Bokeh.version + \" successfully loaded.\";\n      }\n    } else if (Date.now() < root._bokeh_timeout) {\n      setTimeout(display_loaded, 100)\n    }\n  }\n\n\n  function run_callbacks() {\n    try {\n      root._bokeh_onload_callbacks.forEach(function(callback) {\n        if (callback != null)\n          callback();\n      });\n    } finally {\n      delete root._bokeh_onload_callbacks\n    }\n    console.debug(\"Bokeh: all callbacks have finished\");\n  }\n\n  function load_libs(css_urls, js_urls, callback) {\n    if (css_urls == null) css_urls = [];\n    if (js_urls == null) js_urls = [];\n\n    root._bokeh_onload_callbacks.push(callback);\n    if (root._bokeh_is_loading > 0) {\n      console.debug(\"Bokeh: BokehJS is being loaded, scheduling callback at\", now());\n      return null;\n    }\n    if (js_urls == null || js_urls.length === 0) {\n      run_callbacks();\n      return null;\n    }\n    console.debug(\"Bokeh: BokehJS not loaded, scheduling load and callback at\", now());\n    root._bokeh_is_loading = css_urls.length + js_urls.length;\n\n    function on_load() {\n      root._bokeh_is_loading--;\n      if (root._bokeh_is_loading === 0) {\n        console.debug(\"Bokeh: all BokehJS libraries/stylesheets loaded\");\n        run_callbacks()\n      }\n    }\n\n    function on_error(url) {\n      console.error(\"failed to load \" + url);\n    }\n\n    for (let i = 0; i < css_urls.length; i++) {\n      const url = css_urls[i];\n      const element = document.createElement(\"link\");\n      element.onload = on_load;\n      element.onerror = on_error.bind(null, url);\n      element.rel = \"stylesheet\";\n      element.type = \"text/css\";\n      element.href = url;\n      console.debug(\"Bokeh: injecting link tag for BokehJS stylesheet: \", url);\n      document.body.appendChild(element);\n    }\n\n    const hashes = {\"https://cdn.bokeh.org/bokeh/release/bokeh-2.3.2.min.js\": \"XypntL49z55iwGVUW4qsEu83zKL3XEcz0MjuGOQ9SlaaQ68X/g+k1FcioZi7oQAc\", \"https://cdn.bokeh.org/bokeh/release/bokeh-tables-2.3.2.min.js\": \"bEsM86IHGDTLCS0Zod8a8WM6Y4+lafAL/eSiyQcuPzinmWNgNO2/olUF0Z2Dkn5i\", \"https://cdn.bokeh.org/bokeh/release/bokeh-widgets-2.3.2.min.js\": \"TX0gSQTdXTTeScqxj6PVQxTiRW8DOoGVwinyi1D3kxv7wuxQ02XkOxv0xwiypcAH\"};\n\n    for (let i = 0; i < js_urls.length; i++) {\n      const url = js_urls[i];\n      const element = document.createElement('script');\n      element.onload = on_load;\n      element.onerror = on_error.bind(null, url);\n      element.async = false;\n      element.src = url;\n      if (url in hashes) {\n        element.crossOrigin = \"anonymous\";\n        element.integrity = \"sha384-\" + hashes[url];\n      }\n      console.debug(\"Bokeh: injecting script tag for BokehJS library: \", url);\n      document.head.appendChild(element);\n    }\n  };\n\n  function inject_raw_css(css) {\n    const element = document.createElement(\"style\");\n    element.appendChild(document.createTextNode(css));\n    document.body.appendChild(element);\n  }\n\n  \n  var js_urls = [\"https://cdn.bokeh.org/bokeh/release/bokeh-2.3.2.min.js\", \"https://cdn.bokeh.org/bokeh/release/bokeh-widgets-2.3.2.min.js\", \"https://cdn.bokeh.org/bokeh/release/bokeh-tables-2.3.2.min.js\"];\n  var css_urls = [];\n  \n\n  var inline_js = [\n    function(Bokeh) {\n      Bokeh.set_log_level(\"info\");\n    },\n    function(Bokeh) {\n    \n    \n    }\n  ];\n\n  function run_inline_js() {\n    \n    if (root.Bokeh !== undefined || force === true) {\n      \n    for (var i = 0; i < inline_js.length; i++) {\n      inline_js[i].call(root, root.Bokeh);\n    }\n    if (force === true) {\n        display_loaded();\n      }} else if (Date.now() < root._bokeh_timeout) {\n      setTimeout(run_inline_js, 100);\n    } else if (!root._bokeh_failed_load) {\n      console.log(\"Bokeh: BokehJS failed to load within specified timeout.\");\n      root._bokeh_failed_load = true;\n    } else if (force !== true) {\n      var cell = $(document.getElementById(\"11653\")).parents('.cell').data().cell;\n      cell.output_area.append_execute_result(NB_LOAD_WARNING)\n    }\n\n  }\n\n  if (root._bokeh_is_loading === 0) {\n    console.debug(\"Bokeh: BokehJS loaded, going straight to plotting\");\n    run_inline_js();\n  } else {\n    load_libs(css_urls, js_urls, function() {\n      console.debug(\"Bokeh: BokehJS plotting callback run at\", now());\n      run_inline_js();\n    });\n  }\n}(window));"
     },
     "metadata": {},
     "output_type": "display_data"
    },
    {
     "data": {
      "text/html": [
       "\n",
       "\n",
       "\n",
       "\n",
       "\n",
       "\n",
       "  <div class=\"bk-root\" id=\"31fbce74-11f4-4115-a69b-210cc609c3ee\" data-root-id=\"11596\"></div>\n"
      ]
     },
     "metadata": {},
     "output_type": "display_data"
    },
    {
     "data": {
      "application/javascript": [
       "(function(root) {\n",
       "  function embed_document(root) {\n",
       "    \n",
       "  var docs_json = {\"c633020c-1874-4843-91e8-016c4a770643\":{\"defs\":[],\"roots\":{\"references\":[{\"attributes\":{\"below\":[{\"id\":\"11605\"}],\"center\":[{\"id\":\"11608\"},{\"id\":\"11612\"}],\"height\":900,\"left\":[{\"id\":\"11609\"}],\"renderers\":[{\"id\":\"11624\"}],\"title\":{\"id\":\"11597\"},\"toolbar\":{\"id\":\"11618\"},\"width\":1200,\"x_range\":{\"id\":\"11594\"},\"x_scale\":{\"id\":\"11601\"},\"y_range\":{\"id\":\"11595\"},\"y_scale\":{\"id\":\"11603\"}},\"id\":\"11596\",\"subtype\":\"Figure\",\"type\":\"Plot\"},{\"attributes\":{},\"id\":\"11606\",\"type\":\"BasicTicker\"},{\"attributes\":{\"data_source\":{\"id\":\"11626\"},\"glyph\":{\"id\":\"11643\"},\"hover_glyph\":null,\"muted_glyph\":null,\"view\":{\"id\":\"11628\"}},\"id\":\"11627\",\"type\":\"GlyphRenderer\"},{\"attributes\":{\"text\":\"Posters and @tags network\"},\"id\":\"11597\",\"type\":\"Title\"},{\"attributes\":{\"formatter\":{\"id\":\"12161\"},\"major_label_policy\":{\"id\":\"12159\"},\"ticker\":{\"id\":\"11610\"}},\"id\":\"11609\",\"type\":\"LinearAxis\"},{\"attributes\":{\"formatter\":{\"id\":\"12174\"},\"major_label_policy\":{\"id\":\"12172\"},\"ticker\":{\"id\":\"11606\"}},\"id\":\"11605\",\"type\":\"LinearAxis\"},{\"attributes\":{},\"id\":\"11610\",\"type\":\"BasicTicker\"},{\"attributes\":{\"source\":{\"id\":\"11626\"}},\"id\":\"11628\",\"type\":\"CDSView\"},{\"attributes\":{\"axis\":{\"id\":\"11609\"},\"dimension\":1,\"ticker\":null},\"id\":\"11612\",\"type\":\"Grid\"},{\"attributes\":{\"data\":{\"end\":[\"realdonaldtrump\",\"whitehouse\",\"teamtrump\",\"gop\",\"dbongino\",\"donaldjtrumpjr\",\"erictrump\",\"flotus\",\"joebiden\",\"foxnews\",\"nbcnews\",\"cspan\",\"jpatte8007\",\"discangirl\",\"mpsac\",\"thedaily1birdy\",\"realadamqureshi\",\"lorne88784595\",\"robertagramsey\",\"bobbiefromil\",\"jcho710\",\"vv85767417\",\"householdrules\",\"assocdesign\",\"cheese24k\",\"dma16\",\"greenenergyital\",\"jamespady\",\"jori_d0523\",\"drtessat\",\"mjrny361\",\"lifeispietzsche\",\"zephyr999999999\",\"truetrumpseries\",\"kaylakma\",\"drshannonkroner\",\"commentoniowa\",\"lynnlustigla\",\"katerina_wild\",\"the_moccasin_\",\"alsportugal\",\"muaythaiguy44\",\"brebutterfly\",\"sputnikint\",\"ashok5422000\",\"archerflame007\",\"stabill\",\"reply2world\",\"1americangirl\",\"post1113a\",\"acidfast1\",\"anne4189\",\"brunoamato_1\",\"thomaspane3\",\"havenmeadows_19\",\"bhoj66120035\",\"_simona_f\",\"professorlou1\",\"sburke85\",\"mal1976retaf\",\"_kel_varnsen_\",\"mrthinker07\",\"lindellgirl\",\"alschange\",\"bosa6688\",\"rainbow_golden\",\"theceomagazineg\",\"anthonyhamelin5\",\"jimguenther5\",\"gbigsangle\",\"allenschrall\",\"fat2fit7\",\"emilyle30611735\",\"rrrkkkmmm1\",\"inoviolt\",\"arumughamvinu\",\"barbarajdurkin\",\"vdeshtwit\",\"maslow_jan\",\"cacoethes_carpe\",\"muhitreza\",\"avadamac\",\"droy_dr\",\"zeenews\",\"vaishalimuzuda\",\"kantakkantak\",\"prokerala\",\"algorithmdancer\",\"rrbassett\",\"pragdreamer\",\"nskif1j1\",\"mrfunnyfff\",\"jenpowers20\",\"pkflrda\",\"infectiousrash\",\"democratfed\",\"pquirke100\",\"lisadowell66\",\"yellostvstone\",\"dachsymom2\",\"papaldh\",\"mynameisearlb\",\"mommaesq\",\"richirraphael\",\"gwlucky\",\"david_vaporium\",\"jbarkerjune\",\"fabricsorganic\",\"kelli_the1st\",\"doctorbokhari\",\"join_2020\",\"victor48355670\",\"npvsp4backup\",\"chefdrew702\",\"nayansthankiya\",\"etnowlive\",\"beckyjohnson222\",\"amit_clicks\",\"joebiden\",\"kamalaharris\",\"nygovcuomo\",\"gavinnewsom\",\"ingrahamangle\",\"realjameswoods\",\"drdavidsamadi\",\"hillaryclinton\",\"realcandaceo\",\"donaldjtrumpjr\",\"mike_pence\",\"deanna4congress\",\"barackobama\",\"presssec\",\"marklevinshow\",\"randpaul\",\"ivankatrump\",\"erictopol\",\"o_rips\",\"highwiretalk\",\"delbigtree\",\"loudobbs\",\"busydrt\",\"nikolovscience\",\"peterhotez\",\"alexberenson\",\"lifeispietzsche\",\"post1113a\",\"cheese24k\",\"thedaily1birdy\",\"mjrny361\",\"householdrules\",\"bosa6688\",\"crandall333\",\"tamphotog\",\"stabill\",\"drtessat\",\"mal1976retaf\",\"jbarkerjune\",\"architecturegs\",\"truetrumpseries\",\"americanmeoh\",\"jamespady\",\"mrthinker07\",\"pragdreamer\",\"anthonyhamelin5\",\"gerald_weaver_\",\"emilyle30611735\",\"jpatte8007\",\"ingridebap\",\"discangirl\",\"mpsac\",\"lindellgirl\",\"deenursern\",\"jenpowers20\",\"barbarajdurkin\",\"drshannonkroner\",\"muhitreza\",\"jewishvoice\",\"katerina_wild\",\"npvsp4backup\",\"drsynchronicity\",\"sunnynewyork0\",\"bonitacanadian\",\"cheese24k\",\"thedaily1birdy\",\"bosa6688\",\"householdrules\",\"tamphotog\",\"mjrny361\",\"crandall333\",\"stevendean0\",\"barbarajdurkin\",\"ingridebap\",\"truthlovingdr\",\"arumughamvinu\",\"deenursern\",\"jenpowers20\",\"jpatte8007\",\"drshannonkroner\",\"npvsp4backup\",\"sunnynewyork0\",\"stabill\",\"jamespady\",\"cici07786373\",\"vdeshtwit\",\"discangirl\",\"pacifist322\",\"democratfed\",\"realadamqureshi\",\"sburke85\",\"kaylakma\",\"apifeelgood\",\"algorithmdancer\",\"lovereignssupr1\",\"_simona_f\",\"cacoethes_carpe\",\"sallykp\",\"drtessat\",\"lorne88784595\",\"muaythaiguy44\",\"beckyjohnson222\",\"citeretv\",\"fat2fit7\",\"drtessat\",\"jamespady\",\"drshannonkroner\",\"algorithmdancer\",\"lovereignssupr1\",\"assocdesign\",\"thereal_truther\",\"apifeelgood\",\"pfizer\",\"foxnews\",\"washingtonpost\",\"thehill\",\"cnbc\",\"nytimes\",\"astrazeneca\",\"business\",\"reuters\",\"arumughamvinu\",\"moneycontrolcom\",\"and_kell\",\"drakejirk\",\"theceomagazineg\",\"medicaldialogs\",\"arashthingtosay\",\"geneonlinenews\",\"carlosdelrio7\",\"abledoc\",\"sarahdespres\",\"hivpxresearch\",\"lynnlustigla\",\"thewalltweets\",\"pacifist322\",\"rwingjr\",\"cici07786373\",\"rob_miller12345\",\"peopleb4pharma\",\"the_plughd\",\"mediaindiagroup\",\"brebutterfly\",\"lawrencegostin\",\"rituparnasarm10\",\"avoiceforchoice\",\"jewishvoice\",\"vbkerry\",\"chaitali_abp\",\"fat2fit7\",\"loraymuhammad\",\"sburke85\",\"anne4189\",\"bosa6688\",\"susie1773\",\"thomaspane3\",\"_simona_f\",\"mal1976retaf\",\"robertagramsey\",\"rrrkkkmmm1\",\"quinntisg\",\"gbigsangle\",\"truthismaster\",\"papaldh\",\"gwlucky\",\"roxydoxy1527\",\"join_2020\",\"4uidance\",\"archerflame007\",\"the_moccasin_\",\"anne4189\",\"rrrkkkmmm1\",\"mjrny361\",\"gwlucky\",\"rrbassett\",\"infectiousrash\",\"acidfast1\",\"charlotteoworld\",\"stabill\",\"truthismaster\",\"havenmeadows_19\",\"drtessat\",\"assocdesign\",\"truthlovingdr\",\"quinntisg\",\"yellostvstone\",\"barbarajdurkin\",\"busydrt\",\"robertkennedyjr\",\"100dianne\",\"cacoethes_carpe\",\"tuckercarlson\",\"potus\",\"abc\",\"deanna4congress\",\"truthismaster\",\"rainbow_golden\",\"thereal_truther\",\"delbigtree\",\"hopebegley\",\"ianfmusgrave\",\"iron_mechanic\",\"drtessat\",\"lalaruefrench75\",\"lifeispietzsche\",\"mpsac\",\"lovereignssupr1\",\"cheese24k\",\"mal1976retaf\",\"npvsp4backup\",\"gop\",\"gopchairwoman\",\"ivankatrump\",\"gopleader\",\"seanhannity\",\"senategop\",\"markmeadows\",\"potus\",\"whitehouse\",\"foxnews\",\"erictrump\",\"donaldjtrumpjr\",\"presssec\",\"projectlincoln\",\"barackobama\",\"cnn\",\"oann\",\"nytimes\",\"msnbc\",\"narendramodi\",\"who\",\"jpnadda\",\"drharshvardhan\",\"pmoindia\",\"mohfw_india\",\"kremlinrussia_e\",\"drtedros\",\"bjp4india\",\"amitshah\",\"ayushmannha\",\"moayush\",\"moesgoi\",\"indiadst\",\"incindia\",\"dbtindia\",\"csir_ind\",\"rahulgandhi\",\"kumaraakarsh1\",\"dineshk27504774\",\"raiisha4\",\"mishra035\",\"shivamwadhwani2\",\"bajoria_radhika\",\"maheshchinnapa3\",\"roneljitl\",\"droy_dr\",\"zephyr999999999\",\"ambarin03\",\"profsudhir\",\"avimishra037\",\"timesnow\",\"shaikbazid\",\"bhoj66120035\",\"sandeshy786\",\"mehak16912398\",\"rupamsarkar\",\"sbpryadav\",\"krishan76666405\",\"abhishe48784479\",\"musthafaabdulra\",\"ravisin88527356\",\"divyanshu8967\",\"anilkum02840073\",\"niks_2180\",\"durganaidukaka1\",\"thewalltweets\",\"himanshukkv\",\"adiacc\",\"vishash72004985\",\"jalwa_a_hind\",\"pratidintime\",\"the_priyakapoor\",\"kantakkantak\",\"je_etu\",\"nm_hs_rms\",\"gauravv75471188\",\"ians_india\",\"ps_9171\",\"thetribunechd\",\"vinayku53547026\",\"jarjarapu\",\"gauravs39703048\",\"aarohijaiswal15\",\"d_talkingpoints\",\"nvitweets\",\"prakashlalam\",\"mahajantweet\",\"sbhattacharjee2\",\"codplay05550206\",\"anish90616235\",\"vanwaridevesh\",\"shibadatta007\",\"adgroblko\",\"reply2world\",\"kapilvgandhi\",\"kunalsaini900\",\"santhemant\",\"ajeetimpact\",\"richirraphael\",\"deepakr05146852\",\"kalki783\",\"absoluteindnews\",\"aawpsee\",\"ashok5422000\",\"tadityaverma\",\"mogiliballa\",\"shubha40742127\",\"rikayush\",\"rajeshvrc\",\"sentinel_assam\",\"aroraaroraankit\",\"milan71655879\",\"innadaptimmune\",\"us_core\",\"wasim9876543\",\"moneycontrolcom\",\"chanchal7266\",\"bodhaybodh\",\"jagan1137\",\"amit_clicks\",\"preetic52668187\",\"areebasabri26\",\"rajeevchaudhur1\",\"cacoethes_carpe\",\"rrbassett\",\"_simona_f\",\"infectiousrash\",\"thereal_truther\",\"victor48355670\",\"muaythaiguy44\",\"stevefda\",\"us_fda\",\"inoviopharma\",\"inoviolt\",\"ewarren\",\"hhsgov\",\"moderna_tx\",\"jpatter91510186\",\"cepivaccines\",\"cdcgov\",\"cdcdirector\",\"astrazeneca\",\"secazar\",\"erictopol\",\"gavi\",\"donaldjtrumpjr\",\"deptofdefense\",\"barda\",\"nih\",\"who\",\"novavax\",\"juliacantero9\",\"julia70256353\",\"pedrocunit\",\"martagonzlezac2\",\"alsportugal\",\"piaffe13\",\"rxrega\",\"arumughamvinu\",\"alschange\",\"sunnynewyork0\",\"luisaortizrois\",\"alseurope1\",\"als_viola\",\"chefdrew702\",\"inoviolt\",\"carmen19811626\",\"charimarquezh\",\"alexcareaga\",\"hivpxresearch\",\"anamerkel\",\"nskif1j1\",\"marirosifernan1\",\"kemaletdin\",\"joseaguilarpar1\",\"yolandadn44\",\"elaamigos\",\"violaquadri1\",\"sarahdespres\",\"marinabazan7\",\"vanessa29859116\",\"kelli_the1st\",\"brunoamato_1\",\"piano83562583\",\"susana12154086\",\"thedaily1birdy\",\"brunoamato_1\",\"bobbiefromil\",\"doctorbokhari\",\"lorne88784595\",\"greenenergyital\",\"mpsac\",\"lawrencegostin\",\"havenmeadows_19\",\"1americangirl\",\"lindellgirl\",\"kelli_the1st\",\"bameado1\",\"rrrkkkmmm1\",\"assocdesign\",\"avadamac\",\"ashok5422000\",\"jpatter91510186\",\"prokerala\",\"maslow_jan\",\"commentoniowa\",\"reply2world\",\"dachsymom2\",\"brebutterfly\",\"jbarkerjune\",\"architecturegs\",\"ridgebrook\",\"avoiceforchoice\",\"mal1976retaf\",\"kdooleyyoung\",\"vbkerry\",\"raiisha4\",\"bhoj66120035\",\"dineshk27504774\",\"cheese24k\",\"macalusojoseph\",\"telangana1st\",\"mishra035\",\"nvitweets\",\"roneljitl\",\"zephyr999999999\",\"shaikbazid\",\"yazanf91\",\"krishan76666405\",\"sentinel_assam\",\"the_plughd\",\"moneycontrolcom\",\"arindam4world\",\"blackca58774349\",\"freedomgirl2011\",\"thewalltweets\",\"vaxyourfam\",\"prokerala\",\"abhishe48784479\",\"musthafaabdulra\",\"architecturegs\",\"ravisin88527356\",\"steverhone4\",\"22vetsaday1\",\"ians_india\",\"avoiceforchoice\",\"ishdeep_kohli\",\"us_core\",\"theceomagazineg\",\"vbkerry\",\"sbpryadav\",\"globocean\",\"reply2world\",\"rupamsarkar\",\"commentoniowa\",\"mirrornow\",\"sunjayjk\",\"jskennedymd\",\"tadityaverma\",\"gauravs39703048\",\"zeenews\",\"avimishra037\",\"doctorsoumya\",\"vaishalimuzuda\",\"jo_da123\",\"incitatum\",\"manojkumar_rvt\",\"drjssuri\",\"arumughamvinu\",\"ps_9171\",\"thetribunechd\",\"whosearo\",\"ranajhk\",\"niks_2180\",\"d_talkingpoints\",\"pquirke100\",\"inoviolt\",\"shibadatta007\",\"rob_miller12345\",\"mediaindiagroup\",\"kunalsaini900\",\"cacoethes_carpe\",\"durganaidukaka1\",\"lawrencegostin\",\"richirraphael\",\"kalki783\",\"rituparnasarm10\",\"healthwiremedia\",\"americanmeoh\",\"mogiliballa\",\"sachi_mahe\",\"apifeelgood\",\"isadorapalacio1\",\"indiatoday\",\"muaythaiguy44\",\"archerflame007\",\"jagan1137\",\"amit_clicks\",\"raiisha4\",\"dineshk27504774\",\"mishra035\",\"roneljitl\",\"shaikbazid\",\"sbpryadav\",\"krishan76666405\",\"abhishe48784479\",\"ravisin88527356\",\"maheshchinnapa3\",\"durganaidukaka1\",\"vishash72004985\",\"sbhattacharjee2\",\"shibadatta007\",\"ajeetimpact\",\"profsudhir\",\"apkabapu\",\"wasim9876543\",\"rupamsarkar\",\"juliacantero9\",\"julia70256353\",\"pedrocunit\",\"martagonzlezac2\",\"cheese24k\",\"lifeispietzsche\",\"alsportugal\",\"luisaortizrois\",\"alseurope1\",\"alschange\",\"dma16\",\"als_viola\",\"carmen19811626\",\"vdeshtwit\",\"charimarquezh\",\"roxydoxy1527\",\"ashok5422000\",\"anamerkel\",\"rrbassett\",\"_simona_f\",\"marirosifernan1\",\"anne4189\",\"kemaletdin\",\"joseaguilarpar1\",\"yolandadn44\",\"dachsymom2\",\"papaldh\",\"acidfast1\",\"elaamigos\",\"violaquadri1\",\"ridgebrook\",\"drshannonkroner\",\"marinabazan7\",\"vanessa29859116\",\"piano83562583\",\"susana12154086\",\"dg_nta\",\"rahulgandhi\",\"aajtak\",\"nitin_gadkari\",\"drrpnishank\",\"amitshah\",\"eduminofindia\",\"pmoindia\",\"pib_india\",\"hmoindia\",\"mib_india\",\"mygovindia\",\"transformindia\",\"nytimes\",\"us_fda\",\"aoc\",\"cdcgov\",\"speakerpelosi\",\"senatemajldr\",\"potus\",\"jnjnews\",\"moderna_tx\",\"cheese24k\",\"vaxyourfam\",\"algorithmdancer\",\"3montmonty\",\"lifeispietzsche\",\"bhoj66120035\",\"bameado1\",\"reply2world\",\"arumughamvinu\",\"lulu111593\",\"vdeshtwit\",\"dabar00\",\"avadamac\",\"vaishalimuzuda\",\"dfreedman7\",\"gbigsangle\",\"geneticliteracy\",\"bec215\",\"lindellgirl\",\"bobbiefromil\",\"novavax\",\"commentoniowa\",\"allenschrall\",\"jskennedymd\",\"architecturegs\",\"tchailatte\",\"thedaily1birdy\",\"jimguenther5\",\"innadaptimmune\",\"tonybaduy\",\"moneycontrolcom\",\"nayansthankiya\",\"stevendean0\",\"potus\",\"cacoethes_carpe\",\"billgates\",\"speakerpelosi\",\"teamtrump\",\"jnjnews\",\"assocdesign\",\"juliacantero9\",\"julia70256353\",\"martagonzlezac2\",\"pedrocunit\",\"alsportugal\",\"lorne88784595\",\"cici07786373\",\"anne4189\",\"thedaily1birdy\",\"doctorbokhari\",\"1americangirl\",\"als_viola\",\"luisaortizrois\",\"alseurope1\",\"alschange\",\"kuriousmind93\",\"bameado1\",\"robertagramsey\",\"lynnfynn3\",\"carmen19811626\",\"dachsymom2\",\"charimarquezh\",\"gwlucky\",\"anamerkel\",\"gbigsangle\",\"bobbiefromil\",\"and_kell\",\"jenpowers20\",\"marirosifernan1\",\"kemaletdin\",\"pquirke100\",\"joseaguilarpar1\",\"yolandadn44\",\"mediaindiagroup\",\"architecturegs\",\"elaamigos\",\"violaquadri1\",\"lawrencegostin\",\"david_vaporium\",\"marinabazan7\",\"mal1976retaf\",\"vanessa29859116\",\"piano83562583\",\"jori_d0523\",\"susana12154086\",\"amit_clicks\",\"drsynchronicity\",\"beckyjohnson222\",\"ema_news\",\"us_fda\",\"secazar\",\"yolandadn44\",\"vp\",\"erictrump\",\"flotus\",\"markmeadows\",\"pedrocunit\",\"alschange\",\"vanessa29859116\",\"drtedros\",\"als_viola\",\"alseurope1\",\"martagonzlezac2\",\"julia70256353\",\"alschange\",\"juliacantero9\",\"elaamigos\",\"pedrocunit\",\"vanessa29859116\",\"bajoria_radhika\",\"ambarin03\",\"himanshukkv\",\"tadityaverma\",\"shubha40742127\",\"rajeshvrc\",\"peterhotez\",\"foxnews\",\"childrenshd\",\"roypentland\",\"no2wind\",\"dawntj90\",\"digdougftw\",\"tqmka\",\"jamz129\",\"fauntleroy1934\",\"reckedrik\",\"stormsignalsa\",\"thedisproof\",\"narvuntien\",\"cjtjgeol\",\"over400ppm\",\"feynmanfreaky\",\"ibergwiesel\",\"bubbasranch\",\"medbennett\",\"tangomitteckel\",\"paprikalady\",\"thinks_about_it\",\"htservadac\",\"nickapalmer\",\"electricelecti1\",\"rushhourp\",\"alamerqld\",\"jimdtweet\",\"mikedel21893959\",\"rustyaway\",\"gillesnfio\",\"friendsoscience\",\"rainbow_golden\",\"randpaul\",\"marklevinshow\",\"cspan\",\"cheryl1492\",\"glennedrover\",\"edavidan\",\"tracemetalclean\",\"cnnbrk\",\"berniesanders\",\"b_bolshevik100\",\"aoc\",\"dan613\",\"lynnfynn3\",\"nikolovscience\",\"tangomitteckel\",\"edavidan\",\"kees71234\",\"alamerqld\",\"jackjsherebkin\",\"dan613\",\"glennedrover\",\"no2wind\",\"lynnfynn3\",\"tonybaduy\",\"narvuntien\",\"jamz129\",\"democratfed\",\"cnn\",\"cnnbrk\",\"chriscuomo\",\"cbsnews\",\"abc\",\"nbcnews\",\"the_moccasin_\",\"piaffe13\",\"1americangirl\",\"brunoamato_1\",\"lindellgirl\",\"join_2020\",\"bameado1\",\"maslow_jan\",\"ridgebrook\",\"avadamac\",\"thomaspane3\",\"ashok5422000\",\"gerald_weaver_\",\"mpsac\",\"_kel_varnsen_\",\"truetrumpseries\",\"post1113a\",\"infectiousrash\",\"commentoniowa\",\"truthismaster\",\"katerina_wild\",\"4uidance\",\"archerflame007\",\"nayansthankiya\",\"stevendean0\",\"robertagramsey\",\"greenenergyital\",\"jbarkerjune\",\"stabill\",\"jpatter91510186\",\"havenmeadows_19\",\"commentoniowa\",\"fabricsorganic\",\"raiisha4\",\"reply2world\",\"droy_dr\",\"bajoria_radhika\",\"vaishalimuzuda\",\"thetribunechd\",\"absoluteindnews\",\"vikiseema\",\"tadityaverma\",\"apkabapu\",\"milan71655879\",\"gopleader\",\"cnn\",\"projectlincoln\",\"flotus\",\"thehill\",\"nbcnews\",\"msnbc\",\"abc\",\"politico\",\"cnn\",\"flotus\",\"projectlincoln\",\"teamtrump\",\"washingtonpost\",\"wsj\",\"cbsnews\",\"pmoindia\",\"nitiaayog\",\"icmrdelhi\",\"drharshvardhan\",\"rashtrapatibhvn\",\"nsitharaman\",\"dbtindia\",\"cepivaccines\",\"kremlinrussia_e\",\"telanganacmo\",\"thewalltweets\",\"raiisha4\",\"avimishra037\",\"arindam4world\",\"zephyr999999999\",\"dineshk27504774\",\"drharshvardhan\",\"rupamsarkar\",\"ambarin03\",\"ddyadagirinews\",\"gauravs39703048\",\"bhoj66120035\",\"musthafaabdulra\",\"bodhaybodh\",\"mogiliballa\",\"healthwiremedia\",\"draghafur\",\"bagaidr\",\"reply2world\",\"shivamwadhwani2\",\"bajoria_radhika\",\"debayanepygen\",\"aawpsee\",\"kunalsaini900\",\"himanshukkv\",\"zeenews\",\"mishra035\",\"adiacc\",\"sankar_mm\",\"vishash72004985\",\"jalwa_a_hind\",\"the_priyakapoor\",\"rajubramara\",\"gauravv75471188\",\"je_etu\",\"manojkumar_rvt\",\"ps_9171\",\"ranajhk\",\"jarjarapu\",\"aarohijaiswal15\",\"nvitweets\",\"prakashlalam\",\"mahajantweet\",\"sbhattacharjee2\",\"codplay05550206\",\"mehak16912398\",\"shibadatta007\",\"adgroblko\",\"vanwaridevesh\",\"greatin18713111\",\"kapilvgandhi\",\"santhemant\",\"ajeetimpact\",\"durganaidukaka1\",\"deepakr05146852\",\"absoluteindnews\",\"ashok5422000\",\"vikiseema\",\"ankursi62001010\",\"sandeshy786\",\"americanmeoh\",\"sachi_mahe\",\"shubha40742127\",\"divyanshu8967\",\"thepluviophile1\",\"rikayush\",\"apkabapu\",\"anilkum02840073\",\"sbpryadav\",\"rajeshvrc\",\"sentinel_assam\",\"aroraaroraankit\",\"us_core\",\"innadaptimmune\",\"mojil1998\",\"wasim9876543\",\"sputnikint\",\"chanchal7266\",\"jagan1137\",\"amit_clicks\",\"areebasabri26\",\"rajeevchaudhur1\",\"jayajiban\",\"tangomitteckel\",\"alamerqld\",\"edavidan\",\"glennedrover\",\"ibergwiesel\",\"paprikalady\",\"reckedrik\",\"rustyaway\",\"medbennett\",\"feynmanfreaky\",\"jamz129\",\"narvuntien\",\"jimdtweet\",\"fauntleroy1934\",\"stormsignalsa\",\"thedisproof\",\"thinks_about_it\",\"tqmka\",\"over400ppm\",\"mikedel21893959\",\"cjtjgeol\",\"dawntj90\",\"digdougftw\",\"bubbasranch\",\"lynnfynn3\",\"bjp4india\",\"drharshvardhan\",\"amitshah\",\"pibhindi\",\"telanganacmo\",\"piyushgoyal\",\"nsitharaman\",\"ayushmannha\",\"moayush\",\"mohfw_india\",\"mygovindia\",\"nitin_gadkari\",\"nikolovscience\",\"tangomitteckel\",\"mathenaut\",\"kees71234\",\"alamerqld\",\"edavidan\",\"cheryl1492\",\"willard1951\",\"lynnfynn3\",\"narvuntien\",\"jamz129\",\"anne4189\",\"havenmeadows_19\",\"natedoromal\",\"jori_d0523\",\"kaylakma\",\"dma16\",\"msnbc\",\"cnn\",\"washingtonpost\",\"cdcdirector\",\"oann\",\"seanhannity\",\"speakerpelosi\",\"tuckercarlson\",\"nbcnews\",\"foxnews\",\"maddow\",\"dbongino\",\"tangomitteckel\",\"alamerqld\",\"lynnfynn3\",\"narvuntien\",\"jamz129\",\"highwiretalk\",\"childrenshd\",\"o_rips\",\"robertkennedyjr\",\"utobian\",\"billgates\",\"kdooleyyoung\",\"lawrencegostin\",\"sarahdespres\",\"rxrega\",\"martagonzlezac2\",\"alseurope1\",\"julia70256353\",\"arumughamvinu\",\"cheese24k\",\"alschange\",\"the_plughd\",\"doctorbokhari\",\"theceomagazineg\",\"peterhotez\",\"anthonyhamelin5\",\"juliacantero9\",\"commentoniowa\",\"brebutterfly\",\"alexcareaga\",\"hivpxresearch\",\"lynnlustigla\",\"piaffe13\",\"maslow_jan\",\"and_kell\",\"inoviolt\",\"peopleb4pharma\",\"mediaindiagroup\",\"jskennedymd\",\"elaamigos\",\"ashok5422000\",\"jbarkerjune\",\"avoiceforchoice\",\"jewishvoice\",\"vanessa29859116\",\"kelli_the1st\",\"brunoamato_1\",\"spiketoronto\",\"geneonlinenews\",\"sunnynewyork0\",\"charlotteoworld\",\"carlosdelrio7\",\"cnn\",\"senschumer\",\"projectlincoln\",\"maddow\",\"berniesanders\",\"senatemajldr\",\"senategop\",\"theatlantic\",\"cheese24k\",\"rrrkkkmmm1\",\"arumughamvinu\",\"lulu111593\",\"bameado1\",\"3montmonty\",\"jori_d0523\",\"kuriousmind93\",\"quinntisg\",\"jimguenther5\",\"innadaptimmune\",\"jagan1137\",\"sunjayjk\",\"rob_miller12345\",\"vdeshtwit\",\"jskennedymd\",\"bosa6688\",\"gbigsangle\",\"bec215\",\"vaxyourfam\",\"deenursern\",\"anne4189\",\"infectiousrash\",\"globocean\",\"allenschrall\",\"telangana1st\",\"papaldh\",\"besane4\",\"tchailatte\",\"drsynchronicity\",\"katerina_wild\",\"apifeelgood\",\"doctorbokhari\",\"kaylakma\",\"spiketoronto\",\"arashthingtosay\",\"npvsp4backup\",\"emilyle30611735\",\"nayansthankiya\",\"archerflame007\",\"bhoj66120035\",\"stabill\",\"tangomitteckel\",\"alamerqld\",\"cheryl1492\",\"lynnfynn3\",\"narvuntien\",\"jamz129\",\"erictrump\",\"markmeadows\",\"flotus\",\"secazar\",\"vp\",\"julia70256353\",\"pedrocunit\",\"martagonzlezac2\",\"cheese24k\",\"luisaortizrois\",\"alseurope1\",\"alschange\",\"als_viola\",\"inoviolt\",\"carmen19811626\",\"charimarquezh\",\"anamerkel\",\"rrbassett\",\"marirosifernan1\",\"anne4189\",\"kemaletdin\",\"joseaguilarpar1\",\"yolandadn44\",\"dachsymom2\",\"elaamigos\",\"violaquadri1\",\"ridgebrook\",\"marinabazan7\",\"vanessa29859116\",\"piano83562583\",\"susana12154086\",\"julia70256353\",\"martagonzlezac2\",\"cheese24k\",\"pedrocunit\",\"luisaortizrois\",\"alseurope1\",\"alschange\",\"als_viola\",\"carmen19811626\",\"charimarquezh\",\"anamerkel\",\"gerald_weaver_\",\"marirosifernan1\",\"kemaletdin\",\"commentoniowa\",\"joseaguilarpar1\",\"yolandadn44\",\"elaamigos\",\"violaquadri1\",\"marinabazan7\",\"vanessa29859116\",\"piano83562583\",\"susana12154086\",\"julia70256353\",\"pedrocunit\",\"martagonzlezac2\",\"robertagramsey\",\"jori_d0523\",\"greenenergyital\",\"luisaortizrois\",\"alseurope1\",\"alschange\",\"als_viola\",\"carmen19811626\",\"charimarquezh\",\"anamerkel\",\"marirosifernan1\",\"kemaletdin\",\"joseaguilarpar1\",\"yolandadn44\",\"dachsymom2\",\"papaldh\",\"elaamigos\",\"violaquadri1\",\"marinabazan7\",\"vanessa29859116\",\"piano83562583\",\"susana12154086\",\"lorne88784595\",\"julia70256353\",\"pedrocunit\",\"martagonzlezac2\",\"sarahdespres\",\"jpatter91510186\",\"luisaortizrois\",\"alseurope1\",\"alschange\",\"rainbow_golden\",\"anthonyhamelin5\",\"als_viola\",\"carmen19811626\",\"charimarquezh\",\"peopleb4pharma\",\"anamerkel\",\"marirosifernan1\",\"kemaletdin\",\"joseaguilarpar1\",\"yolandadn44\",\"elaamigos\",\"violaquadri1\",\"lawrencegostin\",\"marinabazan7\",\"vanessa29859116\",\"piano83562583\",\"kdooleyyoung\",\"susana12154086\",\"npvsp4backup\",\"sunnynewyork0\",\"mohfw_india\",\"icmrdelhi\",\"drharshvardhan\",\"whosearo\",\"uniofoxford\",\"adarpoonawalla\",\"drtedros\",\"jnjnews\",\"nitiaayog\",\"seruminstindia\",\"un\",\"nvitweets\",\"thewalltweets\",\"arindam4world\",\"avimishra037\",\"lovingvaccines\",\"pratidintime\",\"apkabapu\",\"chaitali_abp\",\"draghafur\",\"anilkum02840073\",\"telangana1st\",\"rupamsarkar\",\"drharshvardhan\",\"mirrornow\",\"rajubramara\",\"kapilvgandhi\",\"zeenews\",\"mishra035\",\"jo_da123\",\"the_priyakapoor\",\"prokerala\",\"ians_india\",\"roneljitl\",\"manojkumar_rvt\",\"drjssuri\",\"ps_9171\",\"researchschola6\",\"ranajhk\",\"jarjarapu\",\"gauravs39703048\",\"d_talkingpoints\",\"prakashlalam\",\"shibadatta007\",\"adgroblko\",\"greatin18713111\",\"dbtindia\",\"americanmeoh\",\"mediaindiagroup\",\"abhishe48784479\",\"santhemant\",\"krishan76666405\",\"ajeetimpact\",\"durganaidukaka1\",\"aawpsee\",\"indiadst\",\"kalki783\",\"hinduvedik\",\"ankursi62001010\",\"ddyadagirinews\",\"mogiliballa\",\"ravisin88527356\",\"pib_india\",\"shaikbazid\",\"sentinel_assam\",\"innadaptimmune\",\"us_core\",\"mojil1998\",\"wasim9876543\",\"moneycontrolcom\",\"bhoj66120035\",\"jagan1137\",\"amit_clicks\",\"jayajiban\",\"avimishra037\",\"raiisha4\",\"bajoria_radhika\",\"the_priyakapoor\",\"nm_hs_rms\",\"_aabha_\",\"drharshvardhan\",\"amit_clicks\",\"preetic52668187\",\"zephyr999999999\",\"arindam4world\",\"draghafur\",\"jarjarapu\",\"musthafaabdulra\",\"lovingvaccines\",\"sankar_mm\",\"vishash72004985\",\"d_talkingpoints\",\"nvitweets\",\"americanmeoh\",\"sachi_mahe\",\"moneycontrolcom\",\"bodhaybodh\",\"pibmumbai\",\"julia70256353\",\"pedrocunit\",\"martagonzlezac2\",\"cheese24k\",\"truetrumpseries\",\"luisaortizrois\",\"alseurope1\",\"alschange\",\"piaffe13\",\"anthonyhamelin5\",\"als_viola\",\"carmen19811626\",\"charimarquezh\",\"vdeshtwit\",\"anamerkel\",\"rrbassett\",\"the_moccasin_\",\"nskif1j1\",\"_simona_f\",\"jenpowers20\",\"marirosifernan1\",\"kemaletdin\",\"joseaguilarpar1\",\"yolandadn44\",\"cacoethes_carpe\",\"dachsymom2\",\"elaamigos\",\"violaquadri1\",\"ridgebrook\",\"marinabazan7\",\"jbarkerjune\",\"vanessa29859116\",\"piano83562583\",\"susana12154086\",\"truthismaster\",\"sburke85\",\"drtessat\",\"susie1773\",\"thereal_truther\",\"truthlovingdr\",\"anne4189\",\"algorithmdancer\",\"and_kell\",\"realadamqureshi\",\"vaxyourfam\",\"gerald_weaver_\",\"algorithmdancer\",\"cheese24k\",\"emilyle30611735\",\"drrpnishank\",\"mib_india\",\"ddnewslive\",\"eduminofindia\",\"pib_india\",\"mygovindia\",\"hmoindia\",\"amitshah\",\"transformindia\",\"pibhindi\",\"bajoria_radhika\",\"mehak16912398\",\"sandeshy786\",\"anilkum02840073\",\"shivamwadhwani2\",\"vanwaridevesh\",\"aawpsee\",\"aarohijaiswal15\",\"divyanshu8967\",\"areebasabri26\",\"rajeevchaudhur1\",\"jalwa_a_hind\",\"mahajantweet\",\"deepakr05146852\",\"gauravv75471188\",\"avimishra037\",\"himanshukkv\",\"adiacc\",\"je_etu\",\"nm_hs_rms\",\"vinayku53547026\",\"codplay05550206\",\"anish90616235\",\"tadityaverma\",\"shubha40742127\",\"thepluviophile1\",\"rikayush\",\"rajeshvrc\",\"chanchal7266\",\"preetic52668187\",\"thedisproof\",\"tangomitteckel\",\"nickapalmer\",\"jimdtweet\",\"b_bolshevik100\",\"alamerqld\",\"rustyaway\",\"cheryl1492\",\"lynnfynn3\",\"tonybaduy\",\"bubbasranch\",\"cjtjgeol\",\"narvuntien\",\"over400ppm\",\"mikedel21893959\",\"ibergwiesel\",\"mathenaut\",\"htservadac\",\"electricelecti1\",\"fauntleroy1934\",\"fcmfcs2019\",\"feynmanfreaky\",\"friendsoscience\",\"tracemetalclean\",\"rushhourp\",\"reckedrik\",\"stormsignalsa\",\"tonybaduy\",\"tangomitteckel\",\"b_bolshevik100\",\"alamerqld\",\"lynnfynn3\",\"narvuntien\",\"tangomitteckel\",\"alamerqld\",\"lynnfynn3\",\"narvuntien\",\"tangomitteckel\",\"nikolovscience\",\"mathenaut\",\"kees71234\",\"alamerqld\",\"lynnfynn3\",\"narvuntien\",\"tonybaduy\",\"tangomitteckel\",\"cheryl1492\",\"mathenaut\",\"b_bolshevik100\",\"alamerqld\",\"dan613\",\"jackjsherebkin\",\"lynnfynn3\",\"narvuntien\",\"tangomitteckel\",\"alamerqld\",\"lynnfynn3\",\"htservadac\",\"electricelecti1\",\"ibergwiesel\",\"jimdtweet\",\"feynmanfreaky\",\"cjtjgeol\",\"over400ppm\",\"medbennett\",\"mikedel21893959\",\"rushhourp\",\"thinks_about_it\",\"rustyaway\",\"paprikalady\",\"nickapalmer\",\"tangomitteckel\",\"alamerqld\",\"lynnfynn3\",\"tangomitteckel\",\"nikolovscience\",\"alamerqld\",\"cheryl1492\",\"willard1951\",\"lynnfynn3\",\"tangomitteckel\",\"rustyaway\",\"alamerqld\",\"lynnfynn3\",\"tangomitteckel\",\"nikolovscience\",\"alamerqld\",\"willard1951\",\"lynnfynn3\",\"nitin_gadkari\",\"msnbc\",\"abc\",\"politico\",\"washingtonpost\",\"senschumer\",\"foxnews\",\"speakerpelosi\",\"oann\",\"cheese24k\",\"vdeshtwit\",\"lulu111593\",\"bobbiefromil\",\"mjrny361\",\"lisadowell66\",\"architecturegs\",\"ingridebap\",\"drharshvardhan\",\"indiadst\",\"moesgoi\",\"dbtindia\",\"csir_ind\",\"draghafur\",\"arindam4world\",\"apkabapu\",\"avimishra037\",\"sbhattacharjee2\",\"ddnewslive\",\"pratidintime\",\"profsudhir\",\"reply2world\",\"bagaidr\",\"ians_india\",\"wasim9876543\",\"abhishe48784479\",\"ps_9171\",\"bodhaybodh\",\"ranajhk\",\"musthafaabdulra\",\"santhemant\",\"krishan76666405\",\"shibadatta007\",\"ravisin88527356\",\"americanmeoh\",\"ddyadagirinews\",\"roneljitl\",\"shaikbazid\",\"vishash72004985\",\"sbpryadav\",\"airnewsalerts\",\"rupamsarkar\",\"niks_2180\",\"ajeetimpact\",\"debayanepygen\",\"durganaidukaka1\",\"thewalltweets\",\"kalki783\",\"hinduvedik\",\"nvitweets\",\"gauravs39703048\",\"bajoria_radhika\",\"sankar_mm\",\"the_priyakapoor\",\"rajubramara\",\"prokerala\",\"manojkumar_rvt\",\"thetribunechd\",\"researchschola6\",\"jarjarapu\",\"d_talkingpoints\",\"greatin18713111\",\"dbtindia\",\"lovingvaccines\",\"kapilvgandhi\",\"kunalsaini900\",\"covidnewsbymib\",\"sunjayjk\",\"richirraphael\",\"absoluteindnews\",\"indiadst\",\"ashok5422000\",\"ankursi62001010\",\"mogiliballa\",\"medicaldialogs\",\"shubha40742127\",\"pib_india\",\"anilkum02840073\",\"indiatoday\",\"sentinel_assam\",\"chaitali_abp\",\"jagan1137\",\"hmoindia\",\"amit_clicks\",\"jayajiban\",\"foxnews\",\"cspan\",\"oann\",\"greenenergyital\",\"susie1773\",\"brebutterfly\",\"ashok5422000\",\"mjrny361\",\"pkflrda\",\"1americangirl\",\"stabill\",\"_kel_varnsen_\",\"acidfast1\",\"1americangirl\",\"avadamac\",\"sburke85\",\"tangomitteckel\",\"b_bolshevik100\",\"nikolovscience\",\"alamerqld\",\"willard1951\",\"lynnfynn3\",\"tonybaduy\",\"wsj\",\"dbongino\",\"seanhannity\",\"loudobbs\",\"foxnews\",\"tuckercarlson\",\"presssec\",\"scottgottliebmd\",\"3montmonty\",\"geneticliteracy\",\"vdeshtwit\",\"macalusojoseph\",\"reply2world\",\"iangray44757496\",\"lauradekker1\",\"fabricsorganic\",\"jimguenther5\",\"stabill\",\"stevendean0\",\"presssec\",\"seanhannity\",\"tuckercarlson\",\"ivankatrump\",\"foxnews\",\"bbcworld\",\"speakerpelosi\",\"cdcdirector\",\"billgates\",\"covidnewsbymib\",\"airnewsalerts\",\"pib_india\",\"ddnewslive\",\"pibhindi\",\"mygovindia\",\"moayush\",\"drhvoffice\",\"ayushmannha\",\"amitshah\",\"zephyr999999999\",\"rajubramara\",\"researchschola6\",\"vinayku53547026\",\"indiadst\",\"ankursi62001010\",\"ddyadagirinews\",\"pibmumbai\",\"jayajiban\",\"cheese24k\",\"1americangirl\",\"truetrumpseries\",\"vaxyourfam\",\"bec215\",\"nikolovscience\",\"pquirke100\",\"allenschrall\",\"susie1773\",\"jskennedymd\",\"papaldh\",\"acidfast1\",\"architecturegs\",\"jewishvoice\",\"katerina_wild\",\"jimguenther5\",\"victor48355670\",\"nayansthankiya\",\"npvsp4backup\",\"bonitacanadian\",\"lulu111593\",\"cheese24k\",\"vaxyourfam\",\"bameado1\",\"kaylakma\",\"geneticliteracy\",\"dabar00\",\"hivpxresearch\",\"vaishalimuzuda\",\"quinntisg\",\"bosa6688\",\"peterhotez\",\"bec215\",\"arumughamvinu\",\"swani741\",\"allenschrall\",\"peopleb4pharma\",\"tchailatte\",\"jimguenther5\",\"nayansthankiya\",\"tonybaduy\",\"b_bolshevik100\",\"dan613\",\"jackjsherebkin\",\"edavidan\",\"glennedrover\",\"lynnfynn3\",\"tangomitteckel\",\"cdcgov\",\"nih\",\"cdcdirector\",\"nihdirector\",\"jnjnews\",\"moderna_tx\",\"deptofdefense\",\"uniofoxford\",\"astrazeneca\",\"avoiceforchoice\",\"cheese24k\",\"jskennedymd\",\"the_plughd\",\"vaxyourfam\",\"piaffe13\",\"lawrencegostin\",\"theceomagazineg\",\"lynnlustigla\",\"gbigsangle\",\"arumughamvinu\",\"drjssuri\",\"nskif1j1\",\"deenursern\",\"democratfed\",\"globocean\",\"pquirke100\",\"commentoniowa\",\"peopleb4pharma\",\"brebutterfly\",\"sarahdespres\",\"muhitreza\",\"kelli_the1st\",\"brunoamato_1\",\"kdooleyyoung\",\"doctorbokhari\",\"spiketoronto\",\"drsynchronicity\",\"arindam4world\",\"jimdtweet\",\"alamerqld\",\"glennedrover\",\"rushhourp\",\"electricelecti1\",\"paprikalady\",\"nickapalmer\",\"htservadac\",\"rustyaway\",\"mikedel21893959\",\"thinks_about_it\",\"bameado1\",\"3montmonty\",\"papaldh\",\"peterhotez\",\"gbigsangle\",\"pragdreamer\",\"lulu111593\",\"allenschrall\",\"yd52\",\"tamphotog\",\"ingridebap\",\"tchailatte\",\"apifeelgood\",\"jimguenther5\",\"npvsp4backup\",\"bonitacanadian\",\"edavidan\",\"cheryl1492\",\"lynnfynn3\",\"drtessat\",\"freedomgirl2011\",\"sburke85\",\"lalaruefrench75\",\"quatloosx\",\"muaythaiguy44\",\"alexcareaga\",\"pquirke100\",\"fabricsorganic\",\"jpatter91510186\",\"arumughamvinu\",\"greenenergyital\",\"inoviolt\",\"besane4\",\"chefdrew702\",\"un\",\"drtedros\",\"doctorsoumya\",\"cnnbrk\",\"billgates\",\"youtube\",\"whosearo\",\"pahowho\",\"who_europe\",\"whoafro\",\"whoemro\",\"whowpro\",\"ndtv\",\"hrdministry\",\"icmrdelhi\",\"ndtv\",\"zeenews\",\"abpnews\",\"bharatbiotech\",\"alexberenson\",\"tuckercarlson\",\"scottgottliebmd\",\"science_cited\",\"delbigtree\",\"and_kell\",\"drshannonkroner\",\"utobian\",\"youtube\",\"and_kell\",\"charlotteoworld\",\"kaylakma\",\"swani741\",\"truthlovingdr\",\"susie1773\",\"thereal_truther\",\"drtessat\",\"statnews\",\"jackjsherebkin\",\"b_bolshevik100\",\"kenneth72712993\",\"fcmfcs2019\",\"tinfoilawards\",\"willard1951\",\"mikedel21893959\",\"dan613\",\"plasticdoe\",\"thinks_about_it\",\"tracemetalclean\",\"geoffschuler\",\"doritmi\",\"gillesnfio\",\"dan613\",\"b_bolshevik100\",\"thinks_about_it\",\"tracemetalclean\",\"willard1951\",\"tinfoilawards\",\"plasticdoe\",\"fcmfcs2019\",\"geoffschuler\",\"gillesnfio\",\"kenneth72712993\",\"dan613\",\"cheryl1492\",\"lynnfynn3\",\"merck\",\"nihdirector\",\"scottgottliebmd\",\"tuckercarlson\",\"loudobbs\",\"deptofdefense\",\"cnnbrk\",\"billgates\",\"randpaul\",\"marklevinshow\",\"ivankatrump\",\"judgejeanine\",\"nbcnews\",\"oann\",\"presssec\",\"the_plughd\",\"avoiceforchoice\",\"doctorsoumya\",\"theceomagazineg\",\"lynnlustigla\",\"arumughamvinu\",\"deenursern\",\"democratfed\",\"pquirke100\",\"commentoniowa\",\"architecturegs\",\"muhitreza\",\"doctorbokhari\",\"jbarkerjune\",\"innadaptimmune\",\"chaitali_abp\",\"musthafaabdulra\",\"cheese24k\",\"vaxyourfam\",\"iangray44757496\",\"jimguenther5\",\"dabar00\",\"arashthingtosay\",\"inoviolt\",\"peterhotez\",\"lindellgirl\",\"globocean\",\"allenschrall\",\"architecturegs\",\"besane4\",\"rxrega\",\"spiketoronto\",\"emilyle30611735\",\"archerflame007\",\"alamerqld\",\"edavidan\",\"lynnfynn3\",\"nikolovscience\",\"kees71234\",\"alamerqld\",\"nikolovscience\",\"kees71234\",\"alamerqld\",\"nikolovscience\",\"alamerqld\",\"willard1951\",\"mikedel21893959\",\"jimdtweet\",\"rustyaway\",\"cheese24k\",\"infectiousrash\",\"ingridebap\",\"muhitreza\",\"katerina_wild\",\"sunnynewyork0\",\"mathenaut\",\"nikolovscience\",\"willard1951\",\"b_bolshevik100\",\"cheryl1492\",\"seruminstindia\",\"utobian\",\"astrazeneca\",\"billgates\",\"maddow\",\"seruminstindia\",\"icmrdelhi\",\"adarpoonawalla\",\"billgates\",\"bharatbiotech\",\"jnjnews\",\"zydusuniverse\",\"uniofoxford\",\"novavax\",\"doctorsoumya\",\"biontech_group\",\"moneycontrolcom\",\"medicaldialogs\",\"chaitali_abp\",\"abledoc\",\"niks_2180\",\"thetribunechd\",\"ians_india\",\"etnowlive\",\"kapilvgandhi\",\"pratidintime\",\"sankar_mm\",\"prokerala\",\"prakashlalam\",\"mediaindiagroup\",\"rituparnasarm10\",\"adarpoonawalla\",\"ishdeep_kohli\",\"mojil1998\",\"ewarren\",\"seanhannity\",\"senatemajldr\",\"speakerpelosi\",\"presssec\",\"ivankatrump\",\"abc\",\"aoc\",\"chriscuomo\",\"tuckercarlson\",\"projectlincoln\",\"maddow\",\"berniesanders\",\"cdcdirector\",\"billgates\",\"youtube\",\"tamphotog\",\"freedomgirl2011\",\"muhitreza\",\"npvsp4backup\",\"nayansthankiya\",\"mjrny361\",\"thomaspane3\",\"_simona_f\",\"mal1976retaf\",\"4uidance\",\"ivankatrump\",\"bosa6688\",\"gbigsangle\",\"the_moccasin_\",\"allenschrall\",\"lisadowell66\",\"ridgebrook\",\"roxydoxy1527\",\"join_2020\",\"archerflame007\",\"gerald_weaver_\",\"jenpowers20\",\"havenmeadows_19\",\"pkflrda\",\"commentoniowa\",\"peopleb4pharma\",\"ridgebrook\",\"tamphotog\",\"bosa6688\",\"mjrny361\",\"anthonyhamelin5\",\"crandall333\",\"sputnikint\",\"deenursern\",\"pkflrda\",\"lisadowell66\",\"architecturegs\",\"ingridebap\",\"doctorbokhari\",\"acidfast1\",\"brunoamato_1\",\"gerald_weaver_\",\"thomaspane3\",\"rrbassett\",\"maslow_jan\",\"pkflrda\",\"dma16\",\"lisadowell66\",\"ridgebrook\",\"victor48355670\",\"sputnikint\",\"drshannonkroner\",\"susie1773\",\"maslow_jan\",\"commentoniowa\",\"dachsymom2\",\"ridgebrook\",\"jewishvoice\",\"hhsgov\",\"moderna_tx\",\"erictopol\",\"deptofdefense\",\"ap\",\"timesnow\",\"indiatoday\",\"icmrdelhi\",\"cnnnews18\",\"profsudhir\",\"maheshchinnapa3\",\"ashok5422000\",\"kantakkantak\",\"adarpoonawalla\",\"bharatbiotech\",\"debayanepygen\",\"_aabha_\",\"prakashlalam\",\"anish90616235\",\"vikiseema\",\"politico\",\"judgejeanine\",\"delbigtree\",\"adarpoonawalla\",\"astrazeneca\",\"novavax\",\"moderna_tx\",\"cnnnews18\",\"bharatbiotech\",\"doctorsoumya\",\"prinsciadvgoi\",\"piyushgoyal\",\"astrazeneca\",\"drtedros\",\"erictopol\",\"gavi\",\"bosa6688\",\"thomaspane3\",\"jbarkerjune\",\"_simona_f\",\"mal1976retaf\",\"gbigsangle\",\"4uidance\",\"the_moccasin_\",\"infectiousrash\",\"lisadowell66\",\"roxydoxy1527\",\"join_2020\",\"victor48355670\",\"archerflame007\",\"icmrdelhi\",\"arindam4world\",\"mirrornow\",\"zephyr999999999\",\"sankar_mm\",\"lovingvaccines\",\"chaitali_abp\",\"thetribunechd\",\"apkabapu\",\"us_core\",\"telangana1st\",\"rupamsarkar\",\"kunalsaini900\",\"jo_da123\",\"prokerala\",\"manojkumar_rvt\",\"roneljitl\",\"drjssuri\",\"researchschola6\",\"jarjarapu\",\"niks_2180\",\"d_talkingpoints\",\"kapilvgandhi\",\"ddnewslive\",\"santhemant\",\"sunjayjk\",\"indiadst\",\"hinduvedik\",\"ankursi62001010\",\"ravisin88527356\",\"shaikbazid\",\"innadaptimmune\",\"etnowlive\",\"jagan1137\",\"pibmumbai\",\"judgejeanine\",\"architecturegs\",\"piaffe13\",\"lynnlustigla\",\"cspan\",\"pkflrda\",\"drsynchronicity\",\"brunoamato_1\",\"peterhotez\",\"doritmi\",\"vaxyourfam\",\"cepivaccines\",\"astrazeneca\",\"moderna_tx\",\"senategop\",\"maheshchinnapa3\",\"jori_d0523\",\"crandall333\",\"loraymuhammad\",\"arumughamvinu\",\"pragdreamer\",\"vaxyourfam\",\"yd52\",\"sunjayjk\",\"besane4\",\"rxrega\",\"tchailatte\",\"katerina_wild\",\"drsynchronicity\",\"archerflame007\",\"bonitacanadian\",\"stabill\",\"muhitreza\",\"gerald_weaver_\",\"nskif1j1\",\"globocean\",\"democratfed\",\"apifeelgood\",\"nayansthankiya\",\"gavi\",\"dbtindia\",\"cepivaccines\",\"mcfunny\",\"thereal_truther\",\"awithonelison\",\"zooeraina\",\"shepard_harley\",\"pjmoore1958\",\"plasticdoe\",\"_mamadeb\",\"ianfmusgrave\",\"marthacurlee3\",\"med1cinewoman\",\"melindafirst100\",\"mjinnj80\",\"mjonesnr\",\"monstercoyliar\",\"mtb_chum\",\"geoffschuler\",\"janeeopie\",\"youtube\",\"jestrbob\",\"jkellyca\",\"kathmarval\",\"patrickenrigh20\",\"phadingdark\",\"drlindamd\",\"wearelions3\",\"wendyorent\",\"doubledumas\",\"beckyjohnson222\",\"betteannec\",\"4pp34\",\"bbcforsnowwhite\",\"autisticshill\",\"doritmi\",\"staci04907284\",\"stopvaxxedlies\",\"takethatcdc\",\"tigerquinn7\",\"tiochango_\",\"truthlovingdr\",\"useemdumb\",\"frankdelia7\",\"bluelionblog\",\"carlsmythe\",\"chrisjohnsonmd\",\"macbaird13\",\"lotusoak2\",\"kstateturk\",\"krebiozen\",\"iron_mechanic\",\"sftechworker\",\"professorlou1\",\"jaikanta22\",\"smcwoof\",\"green_cait\",\"muaythaiguy44\",\"tandt_seo\",\"mynameisearlb\",\"sylviedparris\",\"lauradekker1\",\"markmcdougall13\",\"chrisjohnsonmd\",\"macbaird13\",\"ianfmusgrave\",\"geoffschuler\",\"beckyjohnson222\",\"kstateturk\",\"stopvaxxedlies\",\"monstercoyliar\",\"_mamadeb\",\"hopebegley\",\"janeeopie\",\"jkellyca\",\"kathmarval\",\"jami_denice\",\"aly_meek\",\"barryjohnreid21\",\"science_cited\",\"phochsian\",\"swani741\",\"risettemd\",\"stopcensorship7\",\"provaxtexan\",\"frankdelia7\",\"christiano_84\",\"carlysnydermd\",\"med1cinewoman\",\"rcprentice\",\"thereal_truther\",\"bluelionblog\",\"pjmoore1958\",\"jestrbob\",\"katlarue7\",\"kayvonpaul\",\"krebiozen\",\"lightcontrol2\",\"lotusoak2\",\"plasticdoe\",\"mattb1974\",\"melindafirst100\",\"mjinnj80\",\"mjonesnr\",\"monstatofu\",\"phadingdark\",\"tiochango_\",\"jeremy_hume\",\"shepard_harley\",\"staci04907284\",\"svaxhole\",\"takethatcdc\",\"tigerquinn7\",\"zooeraina\",\"troydee\",\"useemdumb\",\"vilethepro\",\"wearelions3\",\"wendyorent\",\"yellostvstone\",\"mtb_chum\",\"organicdot\",\"patrickenrigh20\",\"paulvcooper1\",\"marthacurlee3\",\"shared_facts\",\"hupperichwerner\",\"autisticshill\",\"bbcforsnowwhite\",\"betteannec\",\"carlsmythe\",\"covidmillion\",\"death_is_final\",\"doritmi\",\"doubledumas\",\"dreadpirrob42\",\"drlindamd\",\"eddarrell\",\"auscandoc\",\"angela_bower\",\"4pp34\",\"100dianne\",\"md444444444\",\"natedoromal\",\"benadamso_o\",\"drchriscole\",\"sunnynewyork0\",\"anthonyhamelin5\",\"truetrumpseries\",\"ingridebap\",\"jbarkerjune\",\"gerald_weaver_\",\"tamphotog\",\"crandall333\",\"yd52\",\"bameado1\",\"barda\",\"jpatter91510186\",\"deptofdefense\",\"cepivaccines\",\"inoviolt\",\"moderna_tx\",\"statnews\",\"politico\",\"reuters\",\"geneticliteracy\",\"cspan\",\"business\",\"peterhotez\",\"theatlantic\",\"arumughamvinu\",\"geneticliteracy\",\"iangray44757496\",\"arashthingtosay\",\"emilyle30611735\",\"fat2fit7\",\"rajubramara\",\"ddnewslive\",\"ankursi62001010\",\"anilkum02840073\",\"nbcnews\",\"astrazeneca\",\"uniofoxford\",\"moderna_tx\",\"politico\",\"democratfed\",\"abledoc\",\"theceomagazineg\",\"arumughamvinu\",\"medicaldialogs\",\"piaffe13\",\"etnowlive\",\"jskennedymd\",\"hivpxresearch\",\"jo_da123\",\"lynnlustigla\",\"prokerala\",\"ians_india\",\"pacifist322\",\"rwingjr\",\"democratfed\",\"mediaindiagroup\",\"brebutterfly\",\"rituparnasarm10\",\"ishdeep_kohli\",\"geneonlinenews\",\"mirrornow\",\"fat2fit7\",\"carlosdelrio7\",\"loraymuhammad\",\"moderna_tx\",\"hhsgov\",\"merck\",\"ap\",\"nbcnews\",\"novavax\",\"billgates\",\"theatlantic\",\"scottgottliebmd\",\"cepivaccines\",\"biontech_group\",\"barda\",\"bbcworld\",\"nihdirector\",\"peterhotez\",\"theceomagazineg\",\"etnowlive\",\"jskennedymd\",\"abledoc\",\"hivpxresearch\",\"lynnlustigla\",\"piaffe13\",\"ians_india\",\"rwingjr\",\"democratfed\",\"pquirke100\",\"the_plughd\",\"mediaindiagroup\",\"brebutterfly\",\"medicaldialogs\",\"geneonlinenews\",\"nayansthankiya\",\"charlotteoworld\",\"chaitali_abp\",\"fat2fit7\",\"carlosdelrio7\",\"loraymuhammad\",\"uniofoxford\",\"cnnnews18\",\"bharatbiotech\",\"gatesfoundation\",\"o_rips\",\"charlotteoworld\",\"professorlou1\",\"sallykp\",\"lovereignssupr1\",\"beckyjohnson222\",\"bloody_scandal\",\"business\",\"utobian\",\"just4thecause\",\"drshannonkroner\",\"democratfed\",\"delbigtree\",\"peterhotez\",\"science_cited\",\"jnjnews\",\"lalaruefrench75\",\"macbaird13\",\"rosewind2007\",\"hopebegley\",\"juanmav85\",\"mcgrooverson\",\"and_kell\",\"ap\",\"reuters\",\"margie_moo\",\"childrenshd\",\"susie1773\",\"professorlou1\",\"truthismaster\",\"badzoot7\",\"democratfed\",\"freedomgirl2011\",\"fcmfcs2019\",\"kenneth72712993\",\"tinfoilawards\",\"willard1951\",\"nikolovscience\",\"dan613\",\"edavidan\",\"pib_india\",\"mygovindia\",\"mib_india\",\"hrdministry\",\"eduminofindia\",\"hmoindia\",\"myogiadityanath\",\"pibhindi\",\"transformindia\",\"ddnewslive\",\"amitshah\",\"kantakkantak\",\"adarpoonawalla\",\"bharatbiotech\",\"reuters\",\"bharatbiotech\",\"telanganacmo\",\"drtedros\",\"billgates\",\"business\",\"erictopol\",\"cepivaccines\",\"drtedros\",\"gavi\",\"billgates\",\"uniofoxford\",\"chefdrew702\",\"americanmeoh\",\"algorithmdancer\",\"hivpxresearch\",\"geneticliteracy\",\"lovingvaccines\",\"emilyle30611735\",\"tadityaverma\",\"jalwa_a_hind\",\"nm_hs_rms\",\"vinayku53547026\",\"mehak16912398\",\"codplay05550206\",\"sandeshy786\",\"shubha40742127\",\"divyanshu8967\",\"rikayush\",\"chanchal7266\",\"preetic52668187\",\"myogiadityanath\",\"amitshah\",\"republic\",\"nbcnews\",\"nitin_gadkari\",\"rashtrapatibhvn\",\"maddow\",\"senategop\",\"join_2020\",\"gerald_weaver_\",\"pkflrda\",\"yd52\",\"drtedros\",\"moesgoi\",\"indiadst\",\"csir_ind\",\"dbtindia\",\"gatesfoundation\",\"billgates\",\"drtedros\",\"gavi\",\"un\",\"uniofoxford\",\"incindia\",\"indiadst\",\"moayush\",\"dbtindia\",\"csir_ind\",\"bjp4india\",\"ashok5422000\",\"gerald_weaver_\",\"havenmeadows_19\",\"ridgebrook\",\"roxydoxy1527\",\"gatesfoundation\",\"cepivaccines\",\"barda\",\"deptofdefense\",\"gavi\",\"the_moccasin_\",\"4uidance\",\"acidfast1\",\"gwlucky\",\"join_2020\",\"loudobbs\",\"business\",\"luisaortizrois\",\"architecturegs\",\"nihdirector\",\"peopleb4pharma\",\"rainbow_golden\",\"kelli_the1st\",\"drtedros\",\"amitshah\",\"doctorsoumya\",\"the_plughd\",\"krishan76666405\",\"shaikbazid\",\"reply2world\",\"lalaruefrench75\",\"doctorsoumya\",\"vaishalimuzuda\",\"prokerala\",\"globocean\",\"richirraphael\",\"americanmeoh\",\"ishdeep_kohli\",\"vikiseema\",\"milan71655879\",\"bodhaybodh\",\"vinayku53547026\",\"profsudhir\",\"debayanepygen\",\"himanshukkv\",\"vishash72004985\",\"jalwa_a_hind\",\"gauravv75471188\",\"mahajantweet\",\"sbhattacharjee2\",\"mehak16912398\",\"vanwaridevesh\",\"shibadatta007\",\"kunalsaini900\",\"durganaidukaka1\",\"ajeetimpact\",\"absoluteindnews\",\"deepakr05146852\",\"aawpsee\",\"vikiseema\",\"sandeshy786\",\"tadityaverma\",\"shubha40742127\",\"rikayush\",\"divyanshu8967\",\"sbpryadav\",\"rajeshvrc\",\"aroraaroraankit\",\"milan71655879\",\"us_core\",\"wasim9876543\",\"mojil1998\",\"chanchal7266\",\"bodhaybodh\",\"rupamsarkar\",\"areebasabri26\",\"rajeevchaudhur1\",\"americanmeoh\",\"lynnlustigla\",\"rwingjr\",\"carlosdelrio7\",\"loraymuhammad\",\"scottgottliebmd\",\"berniesanders\",\"billgates\",\"utobian\",\"melindafirst100\",\"dbongino\",\"beckyjohnson222\",\"nbcnews\",\"3montmonty\",\"bameado1\",\"avadamac\",\"kelli_the1st\",\"mrthinker07\",\"quinntisg\",\"useemdumb\",\"doritmi\",\"delbigtree\",\"utobian\",\"wearelions3\",\"mel_we89\",\"science_cited\",\"janeeopie\",\"hopebegley\",\"frankdelia7\",\"med1cinewoman\",\"marthacurlee3\",\"monstercoyliar\",\"plasticdoe\",\"pjmoore1958\",\"phadingdark\",\"patrickenrigh20\",\"mtb_chum\",\"kstateturk\",\"krebiozen\",\"kathmarval\",\"jkellyca\",\"jestrbob\",\"macbaird13\",\"lotusoak2\",\"lauradekker1\",\"mjonesnr\",\"melindafirst100\",\"fiski70\",\"betteannec\",\"beckyjohnson222\",\"bbcforsnowwhite\",\"autisticshill\",\"_mamadeb\",\"4pp34\",\"bluelionblog\",\"chrisjohnsonmd\",\"carlsmythe\",\"mjinnj80\",\"geoffschuler\",\"ianfmusgrave\",\"doubledumas\",\"drlindamd\",\"wendyorent\",\"youtube\",\"zooeraina\",\"tiochango_\",\"shepard_harley\",\"staci04907284\",\"stopvaxxedlies\",\"takethatcdc\",\"tigerquinn7\",\"lg28640297\",\"bharatbiotech\",\"uniofoxford\",\"jnjnews\",\"zydusuniverse\",\"nikolovscience\",\"dan613\",\"edavidan\",\"willard1951\",\"mathenaut\",\"nikolovscience\",\"dan613\",\"willard1951\",\"tandt_seo\",\"jaikanta22\",\"muaythaiguy44\",\"wendyorent\",\"iron_mechanic\",\"provaxtexan\",\"science_cited\",\"swani741\",\"risettemd\",\"ianfmusgrave\",\"smcwoof\",\"dan613\",\"md444444444\",\"natedoromal\",\"beckyjohnson222\",\"nikolovscience\",\"dan613\",\"tracemetalclean\",\"friendsoscience\",\"sftechworker\",\"professorlou1\",\"green_cait\",\"kayvonpaul\",\"chrisjohnsonmd\",\"sylviedparris\",\"barryjohnreid21\",\"risettemd\",\"phochsian\",\"christiano_84\",\"carlysnydermd\",\"ianfmusgrave\",\"med1cinewoman\",\"rcprentice\",\"markmcdougall13\",\"smcwoof\",\"mynameisearlb\",\"iron_mechanic\",\"geoffschuler\",\"kathmarval\",\"benadamso_o\",\"paulvcooper1\",\"beckyjohnson222\",\"organicdot\",\"drjssuri\",\"indiatoday\",\"prinsciadvgoi\",\"cepivaccines\",\"niks_2180\",\"santhemant\",\"sunjayjk\",\"ndtv\",\"etnowlive\",\"sankar_mm\",\"manojkumar_rvt\",\"abpnews\",\"d_talkingpoints\",\"rituparnasarm10\",\"mojil1998\",\"geneonlinenews\",\"chaitali_abp\",\"jagan1137\",\"pibmumbai\",\"tamphotog\",\"americanmeoh\",\"tchailatte\",\"bosa6688\",\"besane4\",\"bonitacanadian\",\"barda\",\"cepivaccines\",\"gatesfoundation\",\"deptofdefense\",\"billgates\",\"arashthingtosay\",\"cepivaccines\",\"moesgoi\",\"csir_ind\",\"dbtindia\",\"indiadst\",\"un\",\"youtube\",\"scottgottliebmd\",\"business\",\"cspan\",\"ap\",\"cbsnews\",\"bjp4india\",\"piyushgoyal\",\"jnjnews\",\"novavax\",\"biontech_group\",\"loraymuhammad\",\"rwingjr\",\"mediaindiagroup\",\"crandall333\",\"jskennedymd\",\"bec215\",\"geneticliteracy\",\"pragdreamer\",\"yd52\",\"besane4\",\"tchailatte\",\"jimguenther5\",\"npvsp4backup\",\"muaythaiguy44\",\"archerflame007\",\"stevendean0\",\"bonitacanadian\",\"ddnewslive\",\"adiacc\",\"jalwa_a_hind\",\"pratidintime\",\"je_etu\",\"gauravv75471188\",\"vinayku53547026\",\"aarohijaiswal15\",\"mahajantweet\",\"greatin18713111\",\"codplay05550206\",\"mehak16912398\",\"vanwaridevesh\",\"adgroblko\",\"deepakr05146852\",\"aawpsee\",\"sandeshy786\",\"sachi_mahe\",\"shubha40742127\",\"divyanshu8967\",\"thepluviophile1\",\"rikayush\",\"anilkum02840073\",\"chanchal7266\",\"areebasabri26\",\"rajeevchaudhur1\",\"jayajiban\",\"thomaspane3\",\"truthlovingdr\",\"rrbassett\",\"_simona_f\",\"the_priyakapoor\",\"adgroblko\",\"vikiseema\",\"tadityaverma\",\"aroraaroraankit\",\"milan71655879\",\"ddyadagirinews\",\"ddnewslive\",\"adiacc\",\"jalwa_a_hind\",\"rajubramara\",\"gauravv75471188\",\"je_etu\",\"researchschola6\",\"vinayku53547026\",\"jarjarapu\",\"aarohijaiswal15\",\"mahajantweet\",\"codplay05550206\",\"mehak16912398\",\"adgroblko\",\"greatin18713111\",\"deepakr05146852\",\"aawpsee\",\"indiadst\",\"ankursi62001010\",\"sandeshy786\",\"sachi_mahe\",\"shubha40742127\",\"dbtindia\",\"divyanshu8967\",\"thepluviophile1\",\"rikayush\",\"anilkum02840073\",\"us_core\",\"chanchal7266\",\"areebasabri26\",\"rajeevchaudhur1\",\"jayajiban\",\"ddyadagirinews\",\"adiacc\",\"jalwa_a_hind\",\"rajubramara\",\"je_etu\",\"gauravv75471188\",\"aarohijaiswal15\",\"mahajantweet\",\"mehak16912398\",\"vanwaridevesh\",\"deepakr05146852\",\"aawpsee\",\"ankursi62001010\",\"sandeshy786\",\"shubha40742127\",\"thepluviophile1\",\"rikayush\",\"anilkum02840073\",\"divyanshu8967\",\"chanchal7266\",\"areebasabri26\",\"rajeevchaudhur1\",\"aarohijaiswal15\",\"je_etu\",\"adiacc\",\"vanwaridevesh\",\"aawpsee\",\"himanshukkv\",\"gauravv75471188\",\"mahajantweet\",\"codplay05550206\",\"deepakr05146852\",\"rajeshvrc\",\"areebasabri26\",\"rajeevchaudhur1\",\"begentle50\",\"brianbloop2\",\"beowulfschaefer\",\"centrefuter\",\"cathyby\",\"butlerrichard2\",\"roblev0\",\"resiguru\",\"mindedmusically\",\"markwh2001\",\"kid_alabama\",\"jag11814459\",\"davidgsmith18\",\"davidmetroland\",\"afewpoints\",\"veuvek\",\"the_leaver\",\"susan04071\",\"sir_tom_tucker\",\"shaneja16905901\",\"david19531501\",\"dw2essex\",\"gazza41\",\"f505eb72b9cd493\",\"european_kate\",\"macid3000\",\"chrisgregson123\",\"johnrya13591294\",\"irisheurophile\",\"edele_bear\",\"david_vaporium\",\"thegrimbarian\",\"andycarp18\",\"viv_cooper\",\"triplegggx\",\"robertcecil1608\",\"mattadkin\",\"geor97\",\"brianbloop2\",\"shaneja16905901\",\"davidmetroland\",\"centrefuter\",\"resiguru\",\"robertcecil1608\",\"cathyby\",\"geor97\",\"roblev0\",\"afewpoints\",\"dbtindia\",\"zydusuniverse\",\"uniofoxford\",\"novavax\",\"nihdirector\",\"kremlinrussia_e\",\"biontech_group\",\"adarpoonawalla\",\"nikolovscience\",\"edavidan\",\"kees71234\",\"dan613\",\"cheryl1492\",\"glennedrover\",\"utobian\",\"hmoindia\",\"transformindia\",\"mygovindia\",\"judgejeanine\",\"oann\",\"business\",\"who_europe\",\"whosearo\",\"whoemro\",\"whoafro\",\"pahowho\",\"gavi\",\"whowpro\",\"jimguenther5\",\"carlosdelrio7\",\"dabar00\",\"professorlou1\",\"fat2fit7\",\"roxydoxy1527\",\"_simona_f\",\"allenschrall\",\"gwlucky\",\"4uidance\",\"flitesurgn\",\"crabb_vicki\",\"doritmi\",\"andrewlazarus4\",\"margie_moo\",\"wendyorent\",\"green_cait\",\"laughlandmorgan\",\"bloody_scandal\",\"bglthmnd\",\"betteannec\",\"auscandoc\",\"geoffschuler\",\"lynnfynn3\",\"luhhrennn\",\"liamkav\",\"frankdelia7\",\"agileconcept\",\"lalaruefrench75\",\"kstateturk\",\"kevinault\",\"just4thecause\",\"jkellyca\",\"jdsro159\",\"handmadekathy\",\"carlsmythe\",\"chamberdisciple\",\"charitable_fury\",\"docemru\",\"swedishchf\",\"takethatdoctors\",\"troydee\",\"md444444444\",\"michaelmina_lab\",\"mmelgar09\",\"mstrixter\",\"mynameisearlb\",\"parentmindinc\",\"shonadmcdermott\",\"pennington_dora\",\"provaxtexan\",\"retire_young_38\",\"rocza\",\"runhack\",\"dreadpirrob42\",\"grumfromnorwich\",\"lewbloch\",\"muaythaiguy44\",\"roguetrader84\",\"iron_mechanic\",\"professorlou1\",\"risettemd\",\"julieamclean\",\"katlarue7\",\"qtent2016\",\"paulvcooper1\",\"marikatt77\",\"lewbloch\",\"muaythaiguy44\",\"iron_mechanic\",\"jami_denice\",\"aly_meek\",\"provaxtexan\",\"stopcensorship7\",\"risettemd\",\"kstateturk\",\"md444444444\",\"mommaesq\",\"pennington_dora\",\"wendyorent\",\"runhack\",\"4uidance\",\"rrbassett\",\"_simona_f\",\"lisadowell66\",\"roxydoxy1527\",\"lewbloch\",\"muaythaiguy44\",\"tandt_seo\",\"alisonpalk\",\"iron_mechanic\",\"aly_meek\",\"jami_denice\",\"provaxtexan\",\"science_cited\",\"rosewind2007\",\"hopebegley\",\"stopcensorship7\",\"risettemd\",\"kstateturk\",\"juanmav85\",\"just4thecause\",\"smcwoof\",\"md444444444\",\"mcgrooverson\",\"mommaesq\",\"pennington_dora\",\"natedoromal\",\"runhack\",\"wendyorent\",\"lauradekker1\",\"iron_mechanic\",\"sftechworker\",\"professorlou1\",\"benadamso_o\",\"green_cait\",\"lewbloch\",\"stopcensorship7\",\"muaythaiguy44\",\"tandt_seo\",\"med1cinewoman\",\"jami_denice\",\"sylviedparris\",\"chrisjohnsonmd\",\"barryjohnreid21\",\"science_cited\",\"janeeopie\",\"rosewind2007\",\"phochsian\",\"aly_meek\",\"badzoot7\",\"swani741\",\"provaxtexan\",\"hopebegley\",\"risettemd\",\"kstateturk\",\"frankdelia7\",\"carlysnydermd\",\"ianfmusgrave\",\"juanmav85\",\"smcwoof\",\"bluelionblog\",\"md444444444\",\"geoffschuler\",\"kathmarval\",\"mcgrooverson\",\"mommaesq\",\"pennington_dora\",\"natedoromal\",\"staci04907284\",\"wendyorent\",\"takethatcdc\",\"tigerquinn7\",\"tiochango_\",\"useemdumb\",\"wearelions3\",\"zooeraina\",\"stopvaxxedlies\",\"shepard_harley\",\"plasticdoe\",\"autisticshill\",\"bbcforsnowwhite\",\"melindafirst100\",\"macbaird13\",\"marthacurlee3\",\"4pp34\",\"mjinnj80\",\"beckyjohnson222\",\"mjonesnr\",\"monstercoyliar\",\"mtb_chum\",\"patrickenrigh20\",\"phadingdark\",\"pjmoore1958\",\"lotusoak2\",\"krebiozen\",\"jkellyca\",\"jestrbob\",\"drlindamd\",\"_mamadeb\",\"doubledumas\",\"dfreedman7\",\"carlsmythe\",\"betteannec\",\"runhack\",\"drchriscole\",\"paulvcooper1\",\"scottgottliebmd\",\"just4thecause\",\"badzoot7\",\"republic\",\"indiatoday\",\"cnnnews18\",\"kantakkantak\",\"debayanepygen\",\"_aabha_\",\"prakashlalam\",\"anish90616235\",\"aroraaroraankit\",\"jagan1137\",\"nskif1j1\",\"dabar00\",\"architecturegs\",\"jewishvoice\",\"arashthingtosay\",\"freedomgirl2011\",\"professorlou1\",\"hpvsideeffects\",\"susie1773\",\"truthlovingdr\",\"lovereignssupr1\",\"just4thecause\",\"transformindia\",\"mygovindia\",\"hmoindia\",\"gavi\",\"dbtindia\",\"gatesfoundation\",\"prinsciadvgoi\",\"frankdelia7\",\"citeretv\",\"carlsmythe\",\"chaoticsx2\",\"chrisjohnsonmd\",\"beckyjohnson222\",\"monstercoyliar\",\"barryjohnreid21\",\"_mamadeb\",\"boastira\",\"margie_moo\",\"paulvcooper1\",\"pjmoore1958\",\"kayvonpaul\",\"krebiozen\",\"lg28640297\",\"lovereignssupr1\",\"macbaird13\",\"maggiec_95\",\"monstatofu\",\"organicdot\",\"vilethepro\",\"thatbackwoodsb\",\"rcprentice\",\"risettemd\",\"shared_facts\",\"geoffschuler\",\"haircutspock\",\"hpvsideeffects\",\"hupperichwerner\",\"katlarue7\",\"smcwoof\",\"stopvaxxedlies\",\"rainmc\",\"jestrbob\",\"jkellyca\",\"kathmarval\",\"janeeopie\",\"iron_mechanic\",\"ianfmusgrave\",\"david_5705\",\"gardeniagal4\",\"geminifty\",\"musthafaabdulra\",\"etnowlive\",\"mediaindiagroup\",\"jo_da123\",\"democratfed\",\"globocean\",\"freedomgirl2011\",\"americanmeoh\",\"ishdeep_kohli\",\"democratfed\",\"freedomgirl2011\",\"mommaesq\",\"mrthinker07\",\"kuriousmind93\",\"theatlantic\",\"muaythaiguy44\",\"lewbloch\",\"iron_mechanic\",\"jami_denice\",\"provaxtexan\",\"aly_meek\",\"risettemd\",\"stopcensorship7\",\"kstateturk\",\"lauradekker1\",\"bluelionblog\",\"md444444444\",\"mommaesq\",\"pennington_dora\",\"runhack\",\"wendyorent\",\"drchriscole\",\"lewbloch\",\"aly_meek\",\"kstateturk\",\"provaxtexan\",\"mommaesq\",\"md444444444\",\"iron_mechanic\",\"pennington_dora\",\"runhack\",\"wendyorent\",\"pragdreamer\",\"infectiousrash\",\"truthismaster\",\"jimguenther5\",\"victor48355670\",\"lotusoak2\",\"whowpro\",\"whosearo\",\"whoemro\",\"whoafro\",\"who_europe\",\"pahowho\",\"rome_fell\",\"billgates\",\"cepivaccines\",\"dbtindia\",\"indiadst\",\"zydusuniverse\",\"prinsciadvgoi\",\"drhvoffice\",\"csir_ind\",\"macbaird13\",\"janeeopie\",\"boastira\",\"jkellyca\",\"hatgineal\",\"ianfmusgrave\",\"mommabear1231\",\"mattb1974\",\"krebiozen\",\"kayvonpaul\",\"kathmarval\",\"ktibus\",\"docemru\",\"doubledumas\",\"geoffschuler\",\"golfergirl2018\",\"frankdelia7\",\"frdmfighternj\",\"geminifty\",\"clues\",\"doubledoublejon\",\"organicdot\",\"monstercoyliar\",\"nosciencedenial\",\"ilzheven\",\"urfriendstell\",\"pharmaintyomama\",\"beckyjohnson222\",\"rome_fell\",\"risettemd\",\"pjmoore1958\",\"_mamadeb\",\"vilethepro\",\"shared_facts\",\"carlsmythe\",\"stopvaxxedlies\",\"chrisjohnsonmd\",\"agileconcept\",\"ajg6882\",\"sftechworker\",\"green_cait\",\"barryjohnreid21\",\"lauradekker1\",\"chrisjohnsonmd\",\"janeeopie\",\"phochsian\",\"beckyjohnson222\",\"badzoot7\",\"swani741\",\"hopebegley\",\"christiano_84\",\"frankdelia7\",\"carlysnydermd\",\"ianfmusgrave\",\"rcprentice\",\"med1cinewoman\",\"markmcdougall13\",\"smcwoof\",\"bluelionblog\",\"mynameisearlb\",\"iron_mechanic\",\"geoffschuler\",\"kathmarval\",\"benadamso_o\",\"takethatcdc\",\"drchriscole\",\"paulvcooper1\",\"moesgoi\",\"indiadst\",\"dbtindia\",\"csir_ind\",\"mygovindia\",\"kremlinrussia_e\",\"adarpoonawalla\",\"muaythaiguy44\",\"lauradekker1\",\"aly_meek\",\"swani741\",\"risettemd\",\"kstateturk\",\"bluelionblog\",\"iron_mechanic\",\"drchriscole\",\"ishdeep_kohli\",\"jo_da123\",\"rob_miller12345\",\"iangray44757496\",\"22vetsaday1\",\"americanmeoh\",\"muaythaiguy44\",\"david19531501\",\"roblev0\",\"davidgsmith18\",\"davidmetroland\",\"afewpoints\",\"beowulfschaefer\",\"edele_bear\",\"butlerrichard2\",\"gazza41\",\"veuvek\",\"dw2essex\",\"andycarp18\",\"johnrya13591294\",\"chrisgregson123\",\"kid_alabama\",\"mattadkin\",\"resiguru\",\"mindedmusically\",\"macid3000\",\"susan04071\",\"sir_tom_tucker\",\"shaneja16905901\",\"irisheurophile\",\"cathyby\",\"robertcecil1608\",\"triplegggx\",\"european_kate\",\"jag11814459\",\"markwh2001\",\"centrefuter\",\"david_vaporium\",\"the_leaver\",\"geor97\",\"f505eb72b9cd493\",\"thegrimbarian\",\"viv_cooper\",\"shaneja16905901\",\"davidmetroland\",\"centrefuter\",\"robertcecil1608\",\"cathyby\",\"geor97\",\"roblev0\",\"afewpoints\",\"cbsnews\",\"kremlinrussia_e\",\"mygovindia\",\"dreadpirrob42\",\"provaxtexan\",\"lg28640297\",\"kstateturk\",\"lightcontrol2\",\"lynnfynn3\",\"reuters\",\"swedishchf\",\"wendyorent\",\"jkellyca\",\"agileconcept\",\"ap\",\"frankdelia7\",\"peterhotez\",\"geoffschuler\",\"handmadekathy\",\"auscandoc\",\"charitable_fury\",\"md444444444\",\"paulvcooper1\",\"mstrixter\",\"beckyjohnson222\",\"democratfed\",\"utobian\",\"mcgrooverson\",\"biontech_group\",\"lovereignssupr1\",\"science_cited\",\"beckyjohnson222\",\"victor48355670\",\"cepivaccines\",\"barda\",\"novavax\",\"iron_mechanic\",\"provaxtexan\",\"risettemd\",\"christiano_84\",\"rcprentice\",\"lauradekker1\",\"markmcdougall13\",\"smcwoof\",\"mynameisearlb\",\"bluelionblog\",\"md444444444\",\"drchriscole\",\"vishash72004985\",\"ps_9171\",\"vinayku53547026\",\"gauravs39703048\",\"shibadatta007\",\"santhemant\",\"ajeetimpact\",\"durganaidukaka1\",\"absoluteindnews\",\"kalki783\",\"vikiseema\",\"sbpryadav\",\"milan71655879\",\"mojil1998\",\"wasim9876543\",\"rupamsarkar\",\"jagan1137\",\"rosewind2007\",\"dfreedman7\",\"tiochango_\",\"drchriscole\",\"beckyjohnson222\",\"janeeopie\",\"monstercoyliar\",\"risettemd\",\"christiano_84\",\"rcprentice\",\"kstateturk\",\"ianfmusgrave\",\"immunotoxphd\",\"jestrbob\",\"jkellyca\",\"kfunk937\",\"krebiozen\",\"kuriousmind93\",\"laughlandmorgan\",\"liamkav\",\"fiski70\",\"eddarrell\",\"_mamadeb\",\"mstrixter\",\"takethatcdc\",\"stopvaxxedlies\",\"quatloosx\",\"roguetrader84\",\"runhack\",\"wendyorent\",\"smcwoof\",\"badzoot7\",\"bluelionblog\",\"david_5705\",\"markmcdougall13\",\"mynameisearlb\",\"tandt_seo\",\"juanmav85\",\"science_cited\",\"dfreedman7\",\"mcgrooverson\",\"mstrixter\",\"smcwoof\",\"bluelionblog\",\"natedoromal\",\"drchriscole\",\"drhvoffice\",\"indiatoday\",\"hmoindia\",\"un\",\"kunalsaini900\",\"ians_india\",\"ps_9171\",\"bodhaybodh\",\"mygovindia\",\"cbsnews\",\"shaneja16905901\",\"mindedmusically\",\"davidmetroland\",\"centrefuter\",\"robertcecil1608\",\"cathyby\",\"geor97\",\"afewpoints\",\"beowulfschaefer\",\"butlerrichard2\",\"davidgsmith18\",\"jag11814459\",\"veuvek\",\"johnrya13591294\",\"triplegggx\",\"thegrimbarian\",\"gazza41\",\"f505eb72b9cd493\",\"european_kate\",\"edele_bear\",\"dw2essex\",\"the_leaver\",\"susan04071\",\"sir_tom_tucker\",\"resiguru\",\"irisheurophile\",\"mattadkin\",\"markwh2001\",\"macid3000\",\"delbigtree\",\"kunalsaini900\",\"richirraphael\",\"billgates\",\"rainbow_golden\",\"jo_da123\",\"thomaspane3\",\"avadamac\",\"gwlucky\",\"roxydoxy1527\",\"4uidance\",\"cnnnews18\",\"bbcworld\",\"ndtv\",\"ps_9171\",\"ranajhk\",\"jarjarapu\",\"abhishe48784479\",\"hinduvedik\",\"ravisin88527356\",\"rupamsarkar\",\"pibmumbai\",\"shaneja16905901\",\"robertcecil1608\",\"mindedmusically\",\"centrefuter\",\"resiguru\",\"cathyby\",\"geor97\",\"afewpoints\",\"shaneja16905901\",\"mindedmusically\",\"veuvek\",\"thegrimbarian\",\"susan04071\",\"robertcecil1608\",\"resiguru\",\"mattadkin\",\"markwh2001\",\"macid3000\",\"afewpoints\",\"andycarp18\",\"gazza41\",\"kid_alabama\",\"johnrya13591294\",\"irisheurophile\",\"cathyby\",\"geor97\",\"european_kate\",\"edele_bear\",\"dw2essex\",\"chrisgregson123\",\"butlerrichard2\",\"beowulfschaefer\",\"centrefuter\",\"shaneja16905901\",\"cathyby\",\"dw2essex\",\"mindedmusically\",\"centrefuter\",\"resiguru\",\"robertcecil1608\",\"geor97\",\"sir_tom_tucker\",\"susan04071\",\"the_leaver\",\"veuvek\",\"butlerrichard2\",\"david_vaporium\",\"european_kate\",\"f505eb72b9cd493\",\"gazza41\",\"jag11814459\",\"chrisgregson123\",\"kid_alabama\",\"markwh2001\",\"beowulfschaefer\",\"andycarp18\",\"krebiozen\",\"janeeopie\",\"immunotoxphd\",\"katlarue7\",\"jkellyca\",\"kfunk937\",\"chrisjohnsonmd\",\"bluelionblog\",\"bglthmnd\",\"death_is_final\",\"wendyorent\",\"chaoticsx2\",\"frankdelia7\",\"geoffschuler\",\"ianfmusgrave\",\"lalaruefrench75\",\"natedoromal\",\"monstercoyliar\",\"lightcontrol2\",\"lg28640297\",\"kstateturk\",\"takethatdoctors\",\"smcwoof\",\"risettemd\",\"shaneja16905901\",\"mindedmusically\",\"centrefuter\",\"resiguru\",\"robertcecil1608\",\"cathyby\",\"geor97\",\"shaneja16905901\",\"mindedmusically\",\"centrefuter\",\"resiguru\",\"robertcecil1608\",\"cathyby\",\"geor97\",\"shaneja16905901\",\"mindedmusically\",\"centrefuter\",\"resiguru\",\"robertcecil1608\",\"cathyby\",\"geor97\",\"shaneja16905901\",\"centrefuter\",\"robertcecil1608\",\"cathyby\",\"geor97\",\"shaneja16905901\",\"centrefuter\",\"mindedmusically\",\"resiguru\",\"robertcecil1608\",\"cathyby\",\"geor97\",\"_simona_f\",\"lg28640297\",\"kuriousmind93\",\"innadaptimmune\",\"nskif1j1\",\"sftechworker\",\"sunjayjk\",\"besane4\",\"carlosdelrio7\",\"muhitreza\",\"npvsp4backup\",\"sunnynewyork0\",\"nayansthankiya\",\"shaneja16905901\",\"mindedmusically\",\"centrefuter\",\"resiguru\",\"robertcecil1608\",\"cathyby\",\"geor97\",\"mindedmusically\",\"resiguru\",\"robertcecil1608\",\"geor97\",\"shaneja16905901\",\"shaneja16905901\",\"mindedmusically\",\"centrefuter\",\"resiguru\",\"robertcecil1608\",\"cathyby\",\"geor97\",\"shaneja16905901\",\"resiguru\",\"geor97\",\"mindedmusically\",\"centrefuter\",\"robertcecil1608\",\"cathyby\",\"boastira\",\"vilethepro\",\"urfriendstell\",\"stopvaxxedlies\",\"organicdot\",\"nosciencedenial\",\"monstercoyliar\",\"shared_facts\",\"doubledoublejon\",\"doubledumas\",\"ianfmusgrave\",\"ilzheven\",\"ktibus\",\"krebiozen\",\"kayvonpaul\",\"kathmarval\",\"jkellyca\",\"janeeopie\",\"_mamadeb\",\"clues\",\"agileconcept\",\"ajg6882\",\"docemru\",\"chrisjohnsonmd\",\"mattb1974\",\"beckyjohnson222\",\"hatgineal\",\"rome_fell\",\"risettemd\",\"pjmoore1958\",\"pharmaintyomama\",\"carlsmythe\",\"golfergirl2018\",\"geoffschuler\",\"geminifty\",\"frankdelia7\",\"phochsian\",\"chrisjohnsonmd\",\"barryjohnreid21\",\"mynameisearlb\",\"iron_mechanic\",\"geoffschuler\",\"kathmarval\",\"paulvcooper1\",\"apifeelgood\",\"beckyjohnson222\",\"natedoromal\",\"utobian\",\"mrthinker07\",\"jkellyca\",\"shared_facts\",\"quatloosx\",\"green_cait\",\"ianfmusgrave\",\"chrisjohnsonmd\",\"barryjohnreid21\",\"ilzheven\",\"hatgineal\",\"science_cited\",\"janeeopie\",\"med1cinewoman\",\"phochsian\",\"mattb1974\",\"ktibus\",\"krebiozen\",\"kayvonpaul\",\"kathmarval\",\"badzoot7\",\"hopebegley\",\"frankdelia7\",\"christiano_84\",\"carlysnydermd\",\"rcprentice\",\"markmcdougall13\",\"golfergirl2018\",\"bluelionblog\",\"smcwoof\",\"mynameisearlb\",\"iron_mechanic\",\"geoffschuler\",\"vilethepro\",\"urfriendstell\",\"natedoromal\",\"monstercoyliar\",\"mommabear1231\",\"carlsmythe\",\"mel_we89\",\"stopvaxxedlies\",\"nosciencedenial\",\"rome_fell\",\"risettemd\",\"clues\",\"frdmfighternj\",\"doubledoublejon\",\"geminifty\",\"takethatcdc\",\"benadamso_o\",\"docemru\",\"alisonpalk\",\"plasticdoe\",\"pjmoore1958\",\"pharmaintyomama\",\"organicdot\",\"ajg6882\",\"paulvcooper1\",\"drchriscole\",\"_mamadeb\",\"lewbloch\",\"mommaesq\",\"pennington_dora\",\"runhack\",\"wendyorent\",\"green_cait\",\"kathmarval\",\"chrisjohnsonmd\",\"jami_denice\",\"barryjohnreid21\",\"janeeopie\",\"science_cited\",\"phochsian\",\"hopebegley\",\"frankdelia7\",\"provaxtexan\",\"carlysnydermd\",\"ianfmusgrave\",\"med1cinewoman\",\"smcwoof\",\"bluelionblog\",\"natedoromal\",\"benadamso_o\",\"takethatcdc\",\"drchriscole\",\"mrthinker07\",\"shared_facts\",\"science_cited\",\"badzoot7\",\"charitable_fury\",\"iron_mechanic\",\"jestrbob\",\"jkellyca\",\"just4thecause\",\"risettemd\",\"aly_meek\",\"swedishchf\",\"handmadekathy\",\"frankdelia7\",\"geoffschuler\",\"golfergirl2018\",\"jami_denice\",\"fiski70\",\"stopcensorship7\",\"kstateturk\",\"katlarue7\",\"rcprentice\",\"mstrixter\",\"md444444444\",\"iron_mechanic\",\"chrisjohnsonmd\",\"barryjohnreid21\",\"science_cited\",\"phochsian\",\"risettemd\",\"mommaesq\",\"smcwoof\",\"geoffschuler\",\"natedoromal\",\"takethatcdc\",\"paulvcooper1\",\"mindedmusically\",\"resiguru\",\"robertcecil1608\",\"geor97\",\"shaneja16905901\",\"shaneja16905901\",\"centrefuter\",\"resiguru\",\"robertcecil1608\",\"cathyby\",\"geor97\",\"mindedmusically\",\"centrefuter\",\"viv_cooper\",\"thegrimbarian\",\"the_leaver\",\"jag11814459\",\"cathyby\",\"sir_tom_tucker\",\"f505eb72b9cd493\",\"european_kate\",\"shaneja16905901\",\"cathyby\",\"shaneja16905901\",\"viv_cooper\",\"european_kate\",\"thegrimbarian\",\"the_leaver\",\"susan04071\",\"sir_tom_tucker\",\"triplegggx\",\"jag11814459\",\"f505eb72b9cd493\",\"centrefuter\",\"robertcecil1608\",\"geor97\",\"shaneja16905901\",\"centrefuter\",\"robertcecil1608\",\"cathyby\",\"geor97\",\"shaneja16905901\",\"centrefuter\",\"robertcecil1608\",\"cathyby\",\"geor97\",\"shaneja16905901\",\"centrefuter\",\"robertcecil1608\",\"cathyby\",\"geor97\",\"triplegggx\",\"thegrimbarian\",\"the_leaver\",\"robertcecil1608\",\"european_kate\",\"markwh2001\",\"irisheurophile\",\"cathyby\",\"centrefuter\",\"geor97\",\"viv_cooper\",\"jag11814459\",\"jeremy_hume\",\"david_vaporium\",\"f505eb72b9cd493\",\"centrefuter\",\"robertcecil1608\",\"cathyby\",\"geor97\",\"centrefuter\",\"robertcecil1608\",\"triplegggx\",\"thegrimbarian\",\"european_kate\",\"markwh2001\",\"f505eb72b9cd493\",\"jag11814459\",\"the_leaver\",\"geor97\",\"iron_mechanic\",\"green_cait\",\"chrisjohnsonmd\",\"barryjohnreid21\",\"science_cited\",\"janeeopie\",\"phochsian\",\"hopebegley\",\"risettemd\",\"shepard_harley\",\"staci04907284\",\"med1cinewoman\",\"drlindamd\",\"doubledumas\",\"4pp34\",\"_mamadeb\",\"autisticshill\",\"bbcforsnowwhite\",\"betteannec\",\"bluelionblog\",\"carlsmythe\",\"kathmarval\",\"kstateturk\",\"lotusoak2\",\"jestrbob\",\"jkellyca\",\"wearelions3\",\"tiochango_\",\"useemdumb\",\"wendyorent\",\"zooeraina\",\"tigerquinn7\",\"takethatcdc\",\"stopvaxxedlies\",\"ianfmusgrave\",\"plasticdoe\",\"melindafirst100\",\"mjinnj80\",\"mjonesnr\",\"monstercoyliar\",\"mtb_chum\",\"patrickenrigh20\",\"phadingdark\",\"pjmoore1958\",\"geoffschuler\",\"marthacurlee3\",\"carlysnydermd\",\"mattb1974\",\"smcwoof\",\"md444444444\",\"natedoromal\",\"benadamso_o\",\"paulvcooper1\",\"nikolovscience\",\"kees71234\",\"adarpoonawalla\",\"nsitharaman\",\"prakashlalam\",\"ians_india\",\"thetribunechd\",\"kapilvgandhi\",\"sunjayjk\",\"ishdeep_kohli\",\"hmoindia\",\"mygovindia\",\"transformindia\",\"pibhindi\",\"lewbloch\",\"luhhrennn\",\"mommaesq\",\"jami_denice\",\"aly_meek\",\"badzoot7\",\"swani741\",\"stopcensorship7\",\"kstateturk\",\"lucycali88\",\"mstrixter\",\"pennington_dora\",\"wendyorent\",\"runhack\",\"ladyoftheocean1\",\"dominique85_86\",\"mongo3804\",\"allie4christ\",\"_kel_varnsen_\",\"doubledumas\",\"digivorr\",\"psfnyc5\",\"rocket_1981\",\"vickie627\",\"ziggystardad\",\"vickie627\",\"allie4christ\",\"notreadyyet82\",\"_kel_varnsen_\",\"ziggystardad\",\"psfnyc5\",\"mongo3804\",\"rocket_1981\",\"doubledumas\",\"dominique85_86\",\"digivorr\",\"zydusuniverse\",\"debayanepygen\",\"drsynchronicity\",\"prokerala\",\"mojil1998\",\"mygovindia\",\"hmoindia\",\"transformindia\",\"americanmeoh\",\"jo_da123\",\"drjssuri\",\"besane4\",\"chefdrew702\",\"cnnbrk\",\"bbcworld\",\"mathenaut\",\"nikolovscience\",\"edavidan\",\"cheryl1492\",\"glennedrover\",\"rob_miller12345\",\"pibhindi\",\"whosearo\",\"whowpro\",\"whosearo\",\"whoemro\",\"whoafro\",\"who_europe\",\"pahowho\",\"the_leaver\",\"thegrimbarian\",\"triplegggx\",\"robertcecil1608\",\"european_kate\",\"f505eb72b9cd493\",\"jag11814459\",\"markwh2001\",\"novavax\",\"biontech_group\",\"rwingjr\",\"barda\",\"deptofdefense\",\"spiketoronto\",\"carlosdelrio7\",\"loraymuhammad\",\"arashthingtosay\",\"rwingjr\",\"rituparnasarm10\",\"spiketoronto\",\"loraymuhammad\",\"robertcecil1608\",\"geor97\",\"3montmonty\",\"americanmeoh\",\"bec215\",\"stevendean0\",\"robertcecil1608\",\"geor97\",\"robertcecil1608\",\"rob_miller12345\",\"mattb1974\",\"peterhotez\",\"kevinault\",\"juanmav85\",\"mcgrooverson\",\"takethatcdc\",\"drlindamd\",\"robertcecil1608\",\"geor97\",\"janeeopie\",\"takethatcdc\",\"3montmonty\",\"bec215\",\"infectiousrash\",\"yd52\",\"apifeelgood\",\"stevendean0\",\"janeeopie\",\"hopebegley\",\"takethatcdc\",\"notreadyyet82\",\"allie4christ\",\"ziggystardad\",\"digivorr\",\"mongo3804\",\"vickie627\",\"rocket_1981\",\"psfnyc5\",\"cbsnews\",\"green_cait\",\"chrisjohnsonmd\",\"barryjohnreid21\",\"janeeopie\",\"phochsian\",\"hopebegley\",\"carlysnydermd\",\"ianfmusgrave\",\"med1cinewoman\",\"kathmarval\",\"benadamso_o\",\"takethatcdc\",\"paulvcooper1\",\"science_cited\",\"quinntisg\",\"youtube\",\"cnnnews18\",\"indiatoday\",\"ndtv\",\"green_cait\",\"aly_meek\",\"janeeopie\",\"badzoot7\",\"swani741\",\"stopcensorship7\",\"hopebegley\",\"kstateturk\",\"carlysnydermd\",\"ianfmusgrave\",\"med1cinewoman\",\"dan613\",\"benadamso_o\",\"takethatcdc\",\"green_cait\",\"chrisjohnsonmd\",\"jami_denice\",\"barryjohnreid21\",\"science_cited\",\"janeeopie\",\"phochsian\",\"hopebegley\",\"christiano_84\",\"carlysnydermd\",\"ianfmusgrave\",\"med1cinewoman\",\"rcprentice\",\"markmcdougall13\",\"smcwoof\",\"bluelionblog\",\"mynameisearlb\",\"iron_mechanic\",\"geoffschuler\",\"kathmarval\",\"natedoromal\",\"takethatcdc\",\"benadamso_o\",\"paulvcooper1\",\"drchriscole\",\"smcwoof\",\"green_cait\",\"chrisjohnsonmd\",\"barryjohnreid21\",\"janeeopie\",\"science_cited\",\"phochsian\",\"swani741\",\"hopebegley\",\"christiano_84\",\"carlysnydermd\",\"ajg6882\",\"alisonpalk\",\"carlsmythe\",\"clues\",\"docemru\",\"doubledoublejon\",\"frdmfighternj\",\"takethatdoctors\",\"urfriendstell\",\"monstercoyliar\",\"mattb1974\",\"med1cinewoman\",\"mel_we89\",\"mommabear1231\",\"nosciencedenial\",\"vilethepro\",\"organicdot\",\"pharmaintyomama\",\"ktibus\",\"stopvaxxedlies\",\"shared_facts\",\"rome_fell\",\"risettemd\",\"geminifty\",\"geoffschuler\",\"golfergirl2018\",\"hatgineal\",\"ilzheven\",\"jkellyca\",\"kathmarval\",\"kayvonpaul\",\"rcprentice\",\"markmcdougall13\",\"mynameisearlb\",\"bluelionblog\",\"iron_mechanic\",\"natedoromal\",\"takethatcdc\",\"benadamso_o\",\"drchriscole\",\"paulvcooper1\",\"janeeopie\",\"hopebegley\",\"takethatcdc\",\"green_cait\",\"janeeopie\",\"hopebegley\",\"carlysnydermd\",\"frdmfighternj\",\"ajg6882\",\"bluelionblog\",\"carlsmythe\",\"chrisjohnsonmd\",\"geminifty\",\"geoffschuler\",\"alisonpalk\",\"agileconcept\",\"phadingdark\",\"mattb1974\",\"mel_we89\",\"mommabear1231\",\"monstercoyliar\",\"organicdot\",\"pharmaintyomama\",\"golfergirl2018\",\"shared_facts\",\"mtb_chum\",\"kayvonpaul\",\"kathmarval\",\"tiochango_\",\"stopvaxxedlies\",\"jkellyca\",\"benadamso_o\",\"takethatcdc\",\"drchriscole\",\"janeeopie\",\"takethatcdc\",\"janeeopie\",\"hopebegley\",\"takethatcdc\",\"janeeopie\",\"hopebegley\",\"takethatcdc\",\"smcwoof\",\"green_cait\",\"chrisjohnsonmd\",\"janeeopie\",\"barryjohnreid21\",\"science_cited\",\"phochsian\",\"hopebegley\",\"christiano_84\",\"carlysnydermd\",\"rcprentice\",\"markmcdougall13\",\"bluelionblog\",\"mynameisearlb\",\"geoffschuler\",\"iron_mechanic\",\"kathmarval\",\"natedoromal\",\"benadamso_o\",\"takethatcdc\",\"drchriscole\",\"paulvcooper1\",\"janeeopie\",\"hopebegley\",\"benadamso_o\",\"takethatcdc\",\"iron_mechanic\",\"smcwoof\",\"green_cait\",\"md444444444\",\"chrisjohnsonmd\",\"barryjohnreid21\",\"jami_denice\",\"science_cited\",\"janeeopie\",\"phochsian\",\"swani741\",\"risettemd\",\"christiano_84\",\"carlysnydermd\",\"rcprentice\",\"markmcdougall13\",\"dan613\",\"mynameisearlb\",\"rainmc\",\"monstatofu\",\"organicdot\",\"paulvcooper1\",\"shared_facts\",\"stopvaxxedlies\",\"thatbackwoodsb\",\"svaxhole\",\"kathmarval\",\"maggiec_95\",\"gardeniagal4\",\"angela_bower\",\"katlarue7\",\"kayvonpaul\",\"death_is_final\",\"carlsmythe\",\"chaoticsx2\",\"citeretv\",\"covidmillion\",\"david_5705\",\"haircutspock\",\"hpvsideeffects\",\"hupperichwerner\",\"natedoromal\",\"takethatcdc\",\"benadamso_o\",\"smcwoof\",\"green_cait\",\"chrisjohnsonmd\",\"barryjohnreid21\",\"patrickenrigh20\",\"kstateturk\",\"doubledumas\",\"kathmarval\",\"science_cited\",\"jkellyca\",\"tigerquinn7\",\"tiochango_\",\"useemdumb\",\"phadingdark\",\"staci04907284\",\"stopvaxxedlies\",\"takethatcdc\",\"wearelions3\",\"wendyorent\",\"drlindamd\",\"jestrbob\",\"carlsmythe\",\"bluelionblog\",\"lotusoak2\",\"betteannec\",\"4pp34\",\"autisticshill\",\"bbcforsnowwhite\",\"phochsian\",\"hopebegley\",\"risettemd\",\"christiano_84\",\"carlysnydermd\",\"markmcdougall13\",\"rcprentice\",\"mynameisearlb\",\"iron_mechanic\",\"natedoromal\",\"benadamso_o\",\"drchriscole\",\"paulvcooper1\",\"ddyadagirinews\",\"deenursern\",\"kees71234\",\"lisadowell66\",\"richirraphael\",\"rituparnasarm10\",\"jami_denice\",\"takethatcdc\",\"paulvcooper1\",\"smcwoof\",\"green_cait\",\"iron_mechanic\",\"chrisjohnsonmd\",\"barryjohnreid21\",\"science_cited\",\"phochsian\",\"aly_meek\",\"stopcensorship7\",\"kstateturk\",\"christiano_84\",\"carlysnydermd\",\"markmcdougall13\",\"rcprentice\",\"mynameisearlb\",\"bluelionblog\",\"md444444444\",\"natedoromal\",\"benadamso_o\",\"takethatcdc\",\"drchriscole\",\"paulvcooper1\",\"green_cait\",\"chrisjohnsonmd\",\"barryjohnreid21\",\"phochsian\",\"carlysnydermd\",\"markmcdougall13\",\"iron_mechanic\",\"shared_facts\",\"stopvaxxedlies\",\"urfriendstell\",\"vilethepro\",\"risettemd\",\"rome_fell\",\"kayvonpaul\",\"golfergirl2018\",\"hatgineal\",\"ilzheven\",\"ktibus\",\"pharmaintyomama\",\"mattb1974\",\"nosciencedenial\",\"organicdot\",\"geminifty\",\"doubledumas\",\"doubledoublejon\",\"agileconcept\",\"ajg6882\",\"carlsmythe\",\"chaoticsx2\",\"clues\",\"docemru\",\"takethatcdc\",\"benadamso_o\",\"paulvcooper1\",\"hopebegley\",\"takethatcdc\",\"hopebegley\",\"takethatcdc\",\"hopebegley\",\"takethatcdc\",\"takethatcdc\",\"iron_mechanic\",\"science_cited\",\"swani741\",\"risettemd\",\"hopebegley\",\"lewbloch\",\"smcwoof\",\"bluelionblog\",\"md444444444\",\"natedoromal\",\"takethatcdc\",\"drchriscole\",\"lalaruefrench75\",\"grumfromnorwich\",\"jdsro159\",\"katlarue7\",\"kevinault\",\"laughlandmorgan\",\"liamkav\",\"betteannec\",\"bglthmnd\",\"green_cait\",\"chamberdisciple\",\"carlsmythe\",\"luhhrennn\",\"mynameisearlb\",\"takethatdoctors\",\"troydee\",\"shonadmcdermott\",\"michaelmina_lab\",\"mmelgar09\",\"parentmindinc\",\"pennington_dora\",\"retire_young_38\",\"rocza\",\"roguetrader84\",\"runhack\",\"greatin18713111\",\"adiacc\",\"jalwa_a_hind\",\"je_etu\",\"gauravv75471188\",\"jarjarapu\",\"aarohijaiswal15\",\"gauravs39703048\",\"mahajantweet\",\"codplay05550206\",\"anish90616235\",\"adgroblko\",\"deepakr05146852\",\"sachi_mahe\",\"shubha40742127\",\"thepluviophile1\",\"divyanshu8967\",\"rikayush\",\"sbpryadav\",\"chanchal7266\",\"areebasabri26\",\"rajeevchaudhur1\",\"jayajiban\",\"nsitharaman\",\"himanshukkv\",\"adiacc\",\"gauravv75471188\",\"mahajantweet\",\"durganaidukaka1\",\"deepakr05146852\",\"vikiseema\",\"ankursi62001010\",\"shubha40742127\",\"thepluviophile1\",\"rikayush\",\"divyanshu8967\",\"rajeshvrc\",\"chanchal7266\",\"areebasabri26\",\"rajeevchaudhur1\",\"frdmfighternj\",\"mommabear1231\",\"mattb1974\",\"shared_facts\",\"stopvaxxedlies\",\"urfriendstell\",\"mel_we89\",\"organicdot\",\"geminifty\",\"chrisjohnsonmd\",\"bluelionblog\",\"benadamso_o\",\"golfergirl2018\",\"kayvonpaul\",\"pharmaintyomama\",\"alisonpalk\",\"agileconcept\",\"ajg6882\",\"lewbloch\",\"swani741\",\"carlsmythe\",\"mommaesq\",\"pennington_dora\",\"runhack\",\"carlysnydermd\",\"benadamso_o\",\"psfnyc5\",\"carlysnydermd\",\"takethatcdc\",\"dominique85_86\",\"lewbloch\",\"mommaesq\",\"pennington_dora\",\"takethatcdc\",\"runhack\",\"takethatcdc\",\"takethatcdc\",\"hopebegley\",\"takethatcdc\",\"hopebegley\",\"takethatcdc\",\"chrisjohnsonmd\",\"barryjohnreid21\",\"phochsian\",\"badzoot7\",\"swani741\",\"christiano_84\",\"carlysnydermd\",\"rcprentice\",\"markmcdougall13\",\"smcwoof\",\"bluelionblog\",\"mynameisearlb\",\"iron_mechanic\",\"benadamso_o\",\"takethatcdc\",\"drchriscole\",\"paulvcooper1\",\"science_cited\",\"jami_denice\",\"hopebegley\",\"smcwoof\",\"bluelionblog\",\"natedoromal\",\"lotusoak2\",\"useemdumb\",\"tiochango_\",\"tigerquinn7\",\"kstateturk\",\"carlsmythe\",\"chrisjohnsonmd\",\"drchriscole\",\"hopebegley\",\"hopebegley\",\"bluelionblog\",\"benadamso_o\",\"drchriscole\",\"carlosdelrio7\",\"hivpxresearch\",\"lalaruefrench75\",\"hopebegley\",\"drchriscole\",\"science_cited\",\"hopebegley\",\"quatloosx\",\"badzoot7\",\"smcwoof\",\"david_5705\",\"kuriousmind93\",\"eddarrell\",\"fiski70\",\"immunotoxphd\",\"kfunk937\",\"natedoromal\",\"benadamso_o\",\"lewbloch\",\"chrisjohnsonmd\",\"barryjohnreid21\",\"aly_meek\",\"phochsian\",\"swani741\",\"hopebegley\",\"carlysnydermd\",\"lucycali88\",\"mynameisearlb\",\"iron_mechanic\",\"mommaesq\",\"pennington_dora\",\"benadamso_o\",\"runhack\",\"paulvcooper1\",\"natedoromal\",\"vilethepro\",\"thatbackwoodsb\",\"svaxhole\",\"monstatofu\",\"haircutspock\",\"paulvcooper1\",\"rainmc\",\"rcprentice\",\"risettemd\",\"maggiec_95\",\"organicdot\",\"shared_facts\",\"smcwoof\",\"david_5705\",\"death_is_final\",\"gardeniagal4\",\"hpvsideeffects\",\"hatgineal\",\"ilzheven\",\"hupperichwerner\",\"angela_bower\",\"barryjohnreid21\",\"chaoticsx2\",\"citeretv\",\"kayvonpaul\",\"katlarue7\",\"science_cited\",\"phochsian\",\"hopebegley\",\"carlysnydermd\",\"iron_mechanic\",\"benadamso_o\",\"paulvcooper1\",\"jalwa_a_hind\",\"gauravv75471188\",\"je_etu\",\"aarohijaiswal15\",\"mahajantweet\",\"deepakr05146852\",\"shubha40742127\",\"divyanshu8967\",\"rikayush\",\"chanchal7266\",\"areebasabri26\",\"rajeevchaudhur1\",\"telanganacmo\",\"jagan1137\",\"absoluteindnews\",\"mogiliballa\",\"jagan1137\",\"whosearo\",\"lynnfynn3\",\"kees71234\",\"tracemetalclean\",\"incitatum\",\"drjssuri\",\"ps_9171\",\"shibadatta007\",\"santhemant\",\"kalki783\",\"22vetsaday1\",\"steverhone4\",\"americanmeoh\",\"sachi_mahe\",\"isadorapalacio1\",\"musthafaabdulra\",\"amit_clicks\",\"charitable_fury\",\"rcprentice\",\"md444444444\",\"mstrixter\",\"paulvcooper1\",\"swedishchf\",\"lynnfynn3\",\"handmadekathy\",\"kstateturk\",\"agileconcept\",\"auscandoc\",\"risettemd\",\"hpvsideeffects\",\"citeretv\",\"death_is_final\",\"barryjohnreid21\",\"docemru\",\"haircutspock\",\"hupperichwerner\",\"katlarue7\",\"gardeniagal4\",\"chaoticsx2\",\"monstatofu\",\"organicdot\",\"rainmc\",\"shared_facts\",\"smcwoof\",\"svaxhole\",\"thatbackwoodsb\",\"vilethepro\",\"kayvonpaul\",\"angela_bower\",\"markmcdougall13\",\"maggiec_95\",\"risettemd\",\"jami_denice\",\"stopcensorship7\",\"kstateturk\",\"md444444444\",\"piyushgoyal\",\"besane4\",\"chefdrew702\",\"fat2fit7\",\"hpvsideeffects\",\"victor48355670\",\"jami_denice\",\"science_cited\",\"aly_meek\",\"stopcensorship7\",\"risettemd\",\"troydee\",\"takethatdoctors\",\"smcwoof\",\"shonadmcdermott\",\"runhack\",\"rocza\",\"retire_young_38\",\"chamberdisciple\",\"monstatofu\",\"michaelmina_lab\",\"laughlandmorgan\",\"kevinault\",\"katlarue7\",\"jdsro159\",\"handmadekathy\",\"fiski70\",\"grumfromnorwich\",\"mstrixter\",\"david_5705\",\"md444444444\",\"natedoromal\",\"pibhindi\",\"kees71234\",\"md444444444\",\"barryjohnreid21\",\"phochsian\",\"christiano_84\",\"carlysnydermd\",\"rcprentice\",\"markmcdougall13\",\"smcwoof\",\"mynameisearlb\",\"paulvcooper1\",\"carlysnydermd\",\"benadamso_o\",\"barryjohnreid21\",\"phochsian\",\"christiano_84\",\"carlysnydermd\",\"rcprentice\",\"markmcdougall13\",\"smcwoof\",\"mynameisearlb\",\"benadamso_o\",\"paulvcooper1\",\"barryjohnreid21\",\"carlysnydermd\",\"hopebegley\",\"kfunk937\",\"kuriousmind93\",\"quatloosx\",\"immunotoxphd\",\"badzoot7\",\"david_5705\",\"eddarrell\",\"fiski70\",\"science_cited\",\"barryjohnreid21\",\"phochsian\",\"christiano_84\",\"carlysnydermd\",\"rcprentice\",\"markmcdougall13\",\"smcwoof\",\"benadamso_o\",\"phochsian\",\"carlysnydermd\",\"barryjohnreid21\",\"carlysnydermd\",\"badzoot7\",\"carlysnydermd\",\"barryjohnreid21\",\"phochsian\",\"christiano_84\",\"carlysnydermd\",\"rcprentice\",\"markmcdougall13\",\"smcwoof\",\"mynameisearlb\",\"benadamso_o\",\"paulvcooper1\",\"ayushmannha\",\"moayush\",\"barryjohnreid21\",\"carlysnydermd\",\"csir_ind\",\"indiadst\",\"moesgoi\",\"risettemd\",\"md444444444\",\"benadamso_o\",\"carlysnydermd\",\"benadamso_o\",\"barryjohnreid21\",\"risettemd\",\"carlysnydermd\",\"ndtv\",\"incindia\",\"nsitharaman\",\"piyushgoyal\",\"rashtrapatibhvn\",\"sunjayjk\",\"the_priyakapoor\",\"_aabha_\",\"carlysnydermd\",\"benadamso_o\",\"barryjohnreid21\",\"carlysnydermd\",\"carlysnydermd\",\"smcwoof\",\"barryjohnreid21\",\"science_cited\",\"phochsian\",\"jami_denice\",\"lightcontrol2\",\"angela_bower\",\"swedishchf\",\"mstrixter\",\"paulvcooper1\",\"stopcensorship7\",\"handmadekathy\",\"christiano_84\",\"carlysnydermd\",\"rcprentice\",\"markmcdougall13\",\"mynameisearlb\",\"natedoromal\",\"carlysnydermd\",\"benadamso_o\",\"jami_denice\",\"carlysnydermd\",\"benadamso_o\",\"carlysnydermd\",\"benadamso_o\",\"katlarue7\",\"lightcontrol2\",\"markmcdougall13\",\"barryjohnreid21\",\"aly_meek\",\"science_cited\",\"phochsian\",\"stopcensorship7\",\"christiano_84\",\"rcprentice\",\"troydee\",\"monstatofu\",\"natedoromal\",\"yellostvstone\",\"svaxhole\",\"takethatdoctors\",\"kfunk937\",\"lalaruefrench75\",\"hupperichwerner\",\"angela_bower\",\"immunotoxphd\",\"jeremy_hume\",\"gardeniagal4\",\"chaoticsx2\",\"covidmillion\",\"death_is_final\",\"eddarrell\",\"auscandoc\",\"bglthmnd\",\"mynameisearlb\",\"paulvcooper1\",\"prinsciadvgoi\",\"pibhindi\",\"indiadst\",\"barryjohnreid21\",\"phochsian\",\"paulvcooper1\",\"barryjohnreid21\",\"science_cited\",\"phochsian\",\"natedoromal\",\"paulvcooper1\",\"haircutspock\",\"thatbackwoodsb\",\"hupperichwerner\",\"hpvsideeffects\",\"gardeniagal4\",\"david_5705\",\"maggiec_95\",\"katlarue7\",\"monstatofu\",\"rcprentice\",\"rainmc\",\"paulvcooper1\",\"phochsian\",\"christiano_84\",\"markmcdougall13\",\"mynameisearlb\",\"vaishalimuzuda\",\"apifeelgood\",\"nayansthankiya\",\"phochsian\",\"jami_denice\",\"markmcdougall13\",\"maggiec_95\",\"katlarue7\",\"david_5705\",\"gardeniagal4\",\"monstatofu\",\"thatbackwoodsb\",\"rcprentice\",\"rainmc\",\"hupperichwerner\",\"hpvsideeffects\",\"haircutspock\",\"phochsian\",\"vaishalimuzuda\",\"ranajhk\",\"sunjayjk\",\"22vetsaday1\",\"apifeelgood\",\"jagan1137\",\"aly_meek\",\"phochsian\",\"stopcensorship7\",\"christiano_84\",\"rcprentice\",\"markmcdougall13\",\"mynameisearlb\",\"vaishalimuzuda\",\"bec215\",\"pragdreamer\",\"jenpowers20\",\"besane4\",\"prinsciadvgoi\",\"ayushmannha\",\"lewbloch\",\"aly_meek\",\"stopcensorship7\",\"lucycali88\",\"mommaesq\",\"pennington_dora\",\"runhack\",\"lewbloch\",\"pennington_dora\",\"science_cited\",\"lucycali88\",\"mynameisearlb\",\"mommaesq\",\"natedoromal\",\"runhack\",\"hopebegley\",\"christiano_84\",\"rcprentice\",\"markmcdougall13\",\"md444444444\",\"lewbloch\",\"mommaesq\",\"pennington_dora\",\"runhack\",\"lewbloch\",\"mommaesq\",\"pennington_dora\",\"runhack\",\"lewbloch\",\"badzoot7\",\"mommaesq\",\"pennington_dora\",\"natedoromal\",\"runhack\",\"lewbloch\",\"aly_meek\",\"stopcensorship7\",\"mommaesq\",\"pennington_dora\",\"runhack\",\"lewbloch\",\"aly_meek\",\"stopcensorship7\",\"lucycali88\",\"mommaesq\",\"pennington_dora\",\"runhack\",\"jami_denice\",\"aly_meek\",\"stopcensorship7\",\"md444444444\",\"lewbloch\",\"jami_denice\",\"stopcensorship7\",\"mommaesq\",\"pennington_dora\",\"runhack\",\"jami_denice\",\"stopcensorship7\",\"md444444444\",\"lewbloch\",\"aly_meek\",\"science_cited\",\"stopcensorship7\",\"mommaesq\",\"pennington_dora\",\"natedoromal\",\"runhack\",\"lewbloch\",\"aly_meek\",\"swani741\",\"stopcensorship7\",\"christiano_84\",\"lucycali88\",\"rcprentice\",\"mommaesq\",\"markmcdougall13\",\"pennington_dora\",\"runhack\",\"badzoot7\",\"swani741\",\"mstrixter\",\"lewbloch\",\"aly_meek\",\"stopcensorship7\",\"lucycali88\",\"mommaesq\",\"pennington_dora\",\"runhack\",\"lewbloch\",\"aly_meek\",\"mommaesq\",\"pennington_dora\",\"runhack\",\"aly_meek\",\"jami_denice\",\"swani741\",\"stopcensorship7\",\"juanmav85\",\"mcgrooverson\",\"lewbloch\",\"mommaesq\",\"gardeniagal4\",\"eddarrell\",\"hupperichwerner\",\"angela_bower\",\"covidmillion\",\"death_is_final\",\"markmcdougall13\",\"katlarue7\",\"rcprentice\",\"runhack\",\"lewbloch\",\"aly_meek\",\"lucycali88\",\"mommaesq\",\"pennington_dora\",\"runhack\",\"lewbloch\",\"aly_meek\",\"stopcensorship7\",\"lucycali88\",\"mommaesq\",\"pennington_dora\",\"runhack\",\"lewbloch\",\"mommaesq\",\"grumfromnorwich\",\"julieamclean\",\"marikatt77\",\"runhack\",\"roguetrader84\",\"rocza\",\"retire_young_38\",\"qtent2016\",\"lewbloch\",\"aly_meek\",\"stopcensorship7\",\"mommaesq\",\"runhack\",\"lewbloch\",\"aly_meek\",\"stopcensorship7\",\"mommaesq\",\"runhack\",\"lewbloch\",\"aly_meek\",\"jami_denice\",\"stopcensorship7\",\"mommaesq\",\"julieamclean\",\"grumfromnorwich\",\"qtent2016\",\"roguetrader84\",\"katlarue7\",\"marikatt77\",\"nihdirector\",\"whoemro\",\"pahowho\",\"whowpro\",\"whoafro\",\"who_europe\",\"maslow_jan\",\"drjssuri\",\"lewbloch\",\"jami_denice\",\"science_cited\",\"phochsian\",\"aly_meek\",\"stopcensorship7\",\"christiano_84\",\"rcprentice\",\"markmcdougall13\",\"natedoromal\",\"phochsian\",\"markmcdougall13\",\"phochsian\",\"christiano_84\",\"covidmillion\",\"angela_bower\",\"death_is_final\",\"lightcontrol2\",\"eddarrell\",\"svaxhole\",\"yellostvstone\",\"gardeniagal4\",\"hupperichwerner\",\"jeremy_hume\",\"science_cited\",\"christiano_84\",\"markmcdougall13\",\"natedoromal\",\"rob_miller12345\",\"christiano_84\",\"death_is_final\",\"hupperichwerner\",\"eddarrell\",\"covidmillion\",\"jeremy_hume\",\"yellostvstone\",\"svaxhole\",\"angela_bower\",\"lewbloch\",\"aly_meek\",\"swani741\",\"stopcensorship7\",\"mommaesq\",\"quatloosx\",\"natedoromal\",\"kfunk937\",\"aly_meek\",\"immunotoxphd\",\"piyushgoyal\",\"indiadst\",\"csir_ind\",\"ayushmannha\",\"mathenaut\",\"tracemetalclean\",\"theatlantic\",\"incindia\",\"phochsian\",\"phochsian\",\"phochsian\",\"swani741\",\"phochsian\",\"aly_meek\",\"phochsian\",\"stopcensorship7\",\"phochsian\",\"christiano_84\",\"moayush\",\"carlysnydermd\",\"benadamso_o\",\"moesgoi\",\"indiadst\",\"csir_ind\",\"ayushmannha\",\"pibhindi\",\"who_europe\",\"whowpro\",\"whoemro\",\"whoafro\",\"pahowho\",\"theatlantic\",\"yellostvstone\",\"tchailatte\",\"spiketoronto\",\"moayush\",\"greatin18713111\",\"durganaidukaka1\",\"us_core\",\"quatloosx\",\"glennedrover\",\"deptofdefense\",\"who_europe\",\"whoafro\",\"whowpro\",\"whoemro\",\"pahowho\",\"sunjayjk\",\"besane4\",\"innadaptimmune\",\"chefdrew702\",\"cbsnews\",\"kfunk937\",\"aly_meek\",\"immunotoxphd\",\"carlysnydermd\",\"benadamso_o\",\"ayushmannha\",\"piyushgoyal\",\"pibhindi\",\"researchschola6\",\"greatin18713111\",\"ajeetimpact\",\"indiadst\",\"pibmumbai\",\"juanmav85\",\"cbsnews\",\"lewbloch\",\"alisonpalk\",\"kantakkantak\",\"_aabha_\",\"anish90616235\",\"jagan1137\",\"bec215\",\"yd52\",\"jewishvoice\",\"drsynchronicity\",\"nayansthankiya\",\"bonitacanadian\",\"himanshukkv\",\"ziggystardad\",\"notreadyyet82\",\"mongo3804\",\"notreadyyet82\",\"mongo3804\",\"rocket_1981\",\"vickie627\",\"psfnyc5\",\"allie4christ\",\"carlysnydermd\",\"roguetrader84\",\"qtent2016\",\"marikatt77\",\"julieamclean\",\"aly_meek\",\"swani741\",\"mommaesq\",\"codplay05550206\",\"psfnyc5\",\"rocket_1981\",\"mongo3804\",\"vickie627\",\"allie4christ\",\"jami_denice\",\"fiski70\",\"robertcecil1608\",\"geor97\",\"robertcecil1608\",\"geor97\",\"viv_cooper\",\"david_vaporium\",\"jeremy_hume\",\"geor97\",\"christiano_84\",\"manojkumar_rvt\",\"kalki783\",\"ankursi62001010\",\"jagan1137\",\"nm_hs_rms\",\"anish90616235\",\"vikiseema\",\"preetic52668187\",\"nm_hs_rms\",\"_aabha_\",\"aroraaroraankit\",\"preetic52668187\",\"incindia\",\"indiadst\",\"csir_ind\",\"nsitharaman\",\"piyushgoyal\",\"glennedrover\",\"edavidan\",\"whoafro\",\"notreadyyet82\",\"psfnyc5\",\"notreadyyet82\",\"psfnyc5\",\"julieamclean\",\"christiano_84\",\"incitatum\",\"isadorapalacio1\",\"fiski70\",\"incitatum\",\"isadorapalacio1\",\"incitatum\",\"isadorapalacio1\",\"incitatum\",\"isadorapalacio1\",\"psfnyc5\",\"kantakkantak\",\"incitatum\",\"isadorapalacio1\",\"marikatt77\",\"qtent2016\",\"julieamclean\",\"indiadst\",\"moesgoi\",\"csir_ind\",\"viv_cooper\",\"jeremy_hume\",\"david_vaporium\",\"vikiseema\",\"fiski70\",\"christiano_84\",\"eddarrell\",\"christiano_84\",\"notreadyyet82\",\"rocket_1981\",\"qtent2016\",\"marikatt77\",\"julieamclean\",\"fiski70\",\"lucycali88\",\"researchschola6\",\"lucycali88\",\"notreadyyet82\",\"pibmumbai\",\"nm_hs_rms\",\"_aabha_\",\"vikiseema\",\"aroraaroraankit\",\"amit_clicks\",\"preetic52668187\",\"ankursi62001010\",\"yellostvstone\",\"jeremy_hume\",\"covidmillion\",\"vikiseema\",\"mojil1998\"],\"start\":[\"jurg_ames\",\"jurg_ames\",\"jurg_ames\",\"jurg_ames\",\"jurg_ames\",\"jurg_ames\",\"jurg_ames\",\"jurg_ames\",\"jurg_ames\",\"jurg_ames\",\"jurg_ames\",\"jurg_ames\",\"realdonaldtrump\",\"realdonaldtrump\",\"realdonaldtrump\",\"realdonaldtrump\",\"realdonaldtrump\",\"realdonaldtrump\",\"realdonaldtrump\",\"realdonaldtrump\",\"realdonaldtrump\",\"realdonaldtrump\",\"realdonaldtrump\",\"realdonaldtrump\",\"realdonaldtrump\",\"realdonaldtrump\",\"realdonaldtrump\",\"realdonaldtrump\",\"realdonaldtrump\",\"realdonaldtrump\",\"realdonaldtrump\",\"realdonaldtrump\",\"realdonaldtrump\",\"realdonaldtrump\",\"realdonaldtrump\",\"realdonaldtrump\",\"realdonaldtrump\",\"realdonaldtrump\",\"realdonaldtrump\",\"realdonaldtrump\",\"realdonaldtrump\",\"realdonaldtrump\",\"realdonaldtrump\",\"realdonaldtrump\",\"realdonaldtrump\",\"realdonaldtrump\",\"realdonaldtrump\",\"realdonaldtrump\",\"realdonaldtrump\",\"realdonaldtrump\",\"realdonaldtrump\",\"realdonaldtrump\",\"realdonaldtrump\",\"realdonaldtrump\",\"realdonaldtrump\",\"realdonaldtrump\",\"realdonaldtrump\",\"realdonaldtrump\",\"realdonaldtrump\",\"realdonaldtrump\",\"realdonaldtrump\",\"realdonaldtrump\",\"realdonaldtrump\",\"realdonaldtrump\",\"realdonaldtrump\",\"realdonaldtrump\",\"realdonaldtrump\",\"realdonaldtrump\",\"realdonaldtrump\",\"realdonaldtrump\",\"realdonaldtrump\",\"realdonaldtrump\",\"realdonaldtrump\",\"realdonaldtrump\",\"realdonaldtrump\",\"realdonaldtrump\",\"realdonaldtrump\",\"realdonaldtrump\",\"realdonaldtrump\",\"realdonaldtrump\",\"realdonaldtrump\",\"realdonaldtrump\",\"realdonaldtrump\",\"realdonaldtrump\",\"realdonaldtrump\",\"realdonaldtrump\",\"realdonaldtrump\",\"realdonaldtrump\",\"realdonaldtrump\",\"realdonaldtrump\",\"realdonaldtrump\",\"realdonaldtrump\",\"realdonaldtrump\",\"realdonaldtrump\",\"realdonaldtrump\",\"realdonaldtrump\",\"realdonaldtrump\",\"realdonaldtrump\",\"realdonaldtrump\",\"realdonaldtrump\",\"realdonaldtrump\",\"realdonaldtrump\",\"realdonaldtrump\",\"realdonaldtrump\",\"realdonaldtrump\",\"realdonaldtrump\",\"realdonaldtrump\",\"realdonaldtrump\",\"realdonaldtrump\",\"realdonaldtrump\",\"realdonaldtrump\",\"realdonaldtrump\",\"realdonaldtrump\",\"realdonaldtrump\",\"realdonaldtrump\",\"realdonaldtrump\",\"realdonaldtrump\",\"realdonaldtrump\",\"jcho710\",\"jcho710\",\"jcho710\",\"jcho710\",\"jcho710\",\"jcho710\",\"jcho710\",\"jcho710\",\"jcho710\",\"jcho710\",\"jcho710\",\"jcho710\",\"jcho710\",\"jcho710\",\"jcho710\",\"jcho710\",\"jcho710\",\"jcho710\",\"jcho710\",\"jcho710\",\"jcho710\",\"jcho710\",\"jcho710\",\"jcho710\",\"jcho710\",\"jcho710\",\"joebiden\",\"joebiden\",\"joebiden\",\"joebiden\",\"joebiden\",\"joebiden\",\"joebiden\",\"joebiden\",\"joebiden\",\"joebiden\",\"joebiden\",\"joebiden\",\"joebiden\",\"joebiden\",\"joebiden\",\"joebiden\",\"joebiden\",\"joebiden\",\"joebiden\",\"joebiden\",\"joebiden\",\"joebiden\",\"joebiden\",\"joebiden\",\"joebiden\",\"joebiden\",\"joebiden\",\"joebiden\",\"joebiden\",\"joebiden\",\"joebiden\",\"joebiden\",\"joebiden\",\"joebiden\",\"joebiden\",\"joebiden\",\"joebiden\",\"joebiden\",\"kamalaharris\",\"kamalaharris\",\"kamalaharris\",\"kamalaharris\",\"kamalaharris\",\"kamalaharris\",\"kamalaharris\",\"kamalaharris\",\"kamalaharris\",\"kamalaharris\",\"kamalaharris\",\"kamalaharris\",\"kamalaharris\",\"kamalaharris\",\"kamalaharris\",\"kamalaharris\",\"kamalaharris\",\"kamalaharris\",\"kamalaharris\",\"nygovcuomo\",\"nygovcuomo\",\"nygovcuomo\",\"nygovcuomo\",\"nygovcuomo\",\"nygovcuomo\",\"nygovcuomo\",\"nygovcuomo\",\"nygovcuomo\",\"nygovcuomo\",\"nygovcuomo\",\"nygovcuomo\",\"nygovcuomo\",\"nygovcuomo\",\"nygovcuomo\",\"nygovcuomo\",\"nygovcuomo\",\"nygovcuomo\",\"nygovcuomo\",\"nygovcuomo\",\"nygovcuomo\",\"gavinnewsom\",\"gavinnewsom\",\"gavinnewsom\",\"gavinnewsom\",\"gavinnewsom\",\"gavinnewsom\",\"gavinnewsom\",\"gavinnewsom\",\"mrfunnyfff\",\"mrfunnyfff\",\"mrfunnyfff\",\"mrfunnyfff\",\"mrfunnyfff\",\"mrfunnyfff\",\"mrfunnyfff\",\"mrfunnyfff\",\"mrfunnyfff\",\"pfizer\",\"pfizer\",\"pfizer\",\"pfizer\",\"pfizer\",\"pfizer\",\"pfizer\",\"pfizer\",\"pfizer\",\"pfizer\",\"pfizer\",\"pfizer\",\"pfizer\",\"pfizer\",\"pfizer\",\"pfizer\",\"pfizer\",\"pfizer\",\"pfizer\",\"pfizer\",\"pfizer\",\"pfizer\",\"pfizer\",\"pfizer\",\"pfizer\",\"pfizer\",\"pfizer\",\"pfizer\",\"pfizer\",\"pfizer\",\"ingrahamangle\",\"ingrahamangle\",\"ingrahamangle\",\"ingrahamangle\",\"ingrahamangle\",\"ingrahamangle\",\"ingrahamangle\",\"ingrahamangle\",\"ingrahamangle\",\"ingrahamangle\",\"ingrahamangle\",\"ingrahamangle\",\"ingrahamangle\",\"ingrahamangle\",\"ingrahamangle\",\"ingrahamangle\",\"ingrahamangle\",\"ingrahamangle\",\"realjameswoods\",\"realjameswoods\",\"realjameswoods\",\"realjameswoods\",\"realjameswoods\",\"realjameswoods\",\"realjameswoods\",\"realjameswoods\",\"realjameswoods\",\"realjameswoods\",\"drdavidsamadi\",\"drdavidsamadi\",\"drdavidsamadi\",\"drdavidsamadi\",\"drdavidsamadi\",\"drdavidsamadi\",\"drdavidsamadi\",\"drdavidsamadi\",\"vv85767417\",\"vv85767417\",\"vv85767417\",\"vv85767417\",\"vv85767417\",\"vv85767417\",\"vv85767417\",\"vv85767417\",\"busydrt\",\"busydrt\",\"busydrt\",\"busydrt\",\"busydrt\",\"busydrt\",\"busydrt\",\"busydrt\",\"busydrt\",\"hillaryclinton\",\"hillaryclinton\",\"hillaryclinton\",\"hillaryclinton\",\"hillaryclinton\",\"hillaryclinton\",\"jpatte8007\",\"jpatte8007\",\"jpatte8007\",\"jpatte8007\",\"jpatte8007\",\"jpatte8007\",\"jpatte8007\",\"jpatte8007\",\"jpatte8007\",\"jpatte8007\",\"jpatte8007\",\"jpatte8007\",\"jpatte8007\",\"jpatte8007\",\"jpatte8007\",\"jpatte8007\",\"jpatte8007\",\"jpatte8007\",\"jpatte8007\",\"opchaud87084772\",\"opchaud87084772\",\"opchaud87084772\",\"opchaud87084772\",\"opchaud87084772\",\"opchaud87084772\",\"opchaud87084772\",\"opchaud87084772\",\"opchaud87084772\",\"opchaud87084772\",\"opchaud87084772\",\"opchaud87084772\",\"opchaud87084772\",\"opchaud87084772\",\"opchaud87084772\",\"opchaud87084772\",\"opchaud87084772\",\"opchaud87084772\",\"narendramodi\",\"narendramodi\",\"narendramodi\",\"narendramodi\",\"narendramodi\",\"narendramodi\",\"narendramodi\",\"narendramodi\",\"narendramodi\",\"narendramodi\",\"narendramodi\",\"narendramodi\",\"narendramodi\",\"narendramodi\",\"narendramodi\",\"narendramodi\",\"narendramodi\",\"narendramodi\",\"narendramodi\",\"narendramodi\",\"narendramodi\",\"narendramodi\",\"narendramodi\",\"narendramodi\",\"narendramodi\",\"narendramodi\",\"narendramodi\",\"narendramodi\",\"narendramodi\",\"narendramodi\",\"narendramodi\",\"narendramodi\",\"narendramodi\",\"narendramodi\",\"narendramodi\",\"narendramodi\",\"narendramodi\",\"narendramodi\",\"narendramodi\",\"narendramodi\",\"narendramodi\",\"narendramodi\",\"narendramodi\",\"narendramodi\",\"narendramodi\",\"narendramodi\",\"narendramodi\",\"narendramodi\",\"narendramodi\",\"narendramodi\",\"narendramodi\",\"narendramodi\",\"narendramodi\",\"narendramodi\",\"narendramodi\",\"narendramodi\",\"narendramodi\",\"narendramodi\",\"narendramodi\",\"narendramodi\",\"narendramodi\",\"narendramodi\",\"narendramodi\",\"narendramodi\",\"narendramodi\",\"narendramodi\",\"narendramodi\",\"narendramodi\",\"narendramodi\",\"narendramodi\",\"narendramodi\",\"narendramodi\",\"narendramodi\",\"narendramodi\",\"narendramodi\",\"narendramodi\",\"narendramodi\",\"narendramodi\",\"narendramodi\",\"narendramodi\",\"narendramodi\",\"narendramodi\",\"narendramodi\",\"narendramodi\",\"narendramodi\",\"narendramodi\",\"realcandaceo\",\"realcandaceo\",\"realcandaceo\",\"realcandaceo\",\"realcandaceo\",\"realcandaceo\",\"realcandaceo\",\"drakejirk\",\"drakejirk\",\"drakejirk\",\"drakejirk\",\"drakejirk\",\"drakejirk\",\"drakejirk\",\"drakejirk\",\"drakejirk\",\"drakejirk\",\"drakejirk\",\"drakejirk\",\"drakejirk\",\"drakejirk\",\"drakejirk\",\"drakejirk\",\"drakejirk\",\"drakejirk\",\"drakejirk\",\"drakejirk\",\"drakejirk\",\"stevefda\",\"stevefda\",\"stevefda\",\"stevefda\",\"stevefda\",\"stevefda\",\"stevefda\",\"stevefda\",\"stevefda\",\"stevefda\",\"stevefda\",\"stevefda\",\"stevefda\",\"stevefda\",\"stevefda\",\"stevefda\",\"stevefda\",\"stevefda\",\"stevefda\",\"stevefda\",\"stevefda\",\"stevefda\",\"stevefda\",\"stevefda\",\"stevefda\",\"stevefda\",\"stevefda\",\"stevefda\",\"stevefda\",\"stevefda\",\"stevefda\",\"stevefda\",\"stevefda\",\"stevefda\",\"whitehouse\",\"whitehouse\",\"whitehouse\",\"whitehouse\",\"whitehouse\",\"whitehouse\",\"whitehouse\",\"whitehouse\",\"whitehouse\",\"whitehouse\",\"whitehouse\",\"whitehouse\",\"whitehouse\",\"whitehouse\",\"whitehouse\",\"whitehouse\",\"whitehouse\",\"whitehouse\",\"whitehouse\",\"whitehouse\",\"whitehouse\",\"whitehouse\",\"whitehouse\",\"whitehouse\",\"whitehouse\",\"whitehouse\",\"whitehouse\",\"whitehouse\",\"whitehouse\",\"whitehouse\",\"whitehouse\",\"who\",\"who\",\"who\",\"who\",\"who\",\"who\",\"who\",\"who\",\"who\",\"who\",\"who\",\"who\",\"who\",\"who\",\"who\",\"who\",\"who\",\"who\",\"who\",\"who\",\"who\",\"who\",\"who\",\"who\",\"who\",\"who\",\"who\",\"who\",\"who\",\"who\",\"who\",\"who\",\"who\",\"who\",\"who\",\"who\",\"who\",\"who\",\"who\",\"who\",\"who\",\"who\",\"who\",\"who\",\"who\",\"who\",\"who\",\"who\",\"who\",\"who\",\"who\",\"who\",\"who\",\"who\",\"who\",\"who\",\"who\",\"who\",\"who\",\"who\",\"who\",\"who\",\"who\",\"who\",\"who\",\"who\",\"who\",\"who\",\"who\",\"who\",\"who\",\"who\",\"who\",\"who\",\"who\",\"who\",\"who\",\"who\",\"who\",\"who\",\"who\",\"who\",\"jpnadda\",\"jpnadda\",\"jpnadda\",\"jpnadda\",\"jpnadda\",\"jpnadda\",\"jpnadda\",\"jpnadda\",\"jpnadda\",\"jpnadda\",\"jpnadda\",\"jpnadda\",\"jpnadda\",\"jpnadda\",\"jpnadda\",\"jpnadda\",\"jpnadda\",\"jpnadda\",\"jpnadda\",\"donaldjtrumpjr\",\"donaldjtrumpjr\",\"donaldjtrumpjr\",\"donaldjtrumpjr\",\"donaldjtrumpjr\",\"donaldjtrumpjr\",\"donaldjtrumpjr\",\"donaldjtrumpjr\",\"donaldjtrumpjr\",\"donaldjtrumpjr\",\"donaldjtrumpjr\",\"donaldjtrumpjr\",\"donaldjtrumpjr\",\"donaldjtrumpjr\",\"donaldjtrumpjr\",\"donaldjtrumpjr\",\"donaldjtrumpjr\",\"donaldjtrumpjr\",\"donaldjtrumpjr\",\"donaldjtrumpjr\",\"donaldjtrumpjr\",\"donaldjtrumpjr\",\"donaldjtrumpjr\",\"donaldjtrumpjr\",\"donaldjtrumpjr\",\"donaldjtrumpjr\",\"donaldjtrumpjr\",\"donaldjtrumpjr\",\"donaldjtrumpjr\",\"donaldjtrumpjr\",\"donaldjtrumpjr\",\"donaldjtrumpjr\",\"donaldjtrumpjr\",\"donaldjtrumpjr\",\"donaldjtrumpjr\",\"donaldjtrumpjr\",\"kumaraakarsh1\",\"kumaraakarsh1\",\"kumaraakarsh1\",\"kumaraakarsh1\",\"kumaraakarsh1\",\"kumaraakarsh1\",\"kumaraakarsh1\",\"kumaraakarsh1\",\"kumaraakarsh1\",\"kumaraakarsh1\",\"kumaraakarsh1\",\"kumaraakarsh1\",\"kumaraakarsh1\",\"vbkerry\",\"vbkerry\",\"vbkerry\",\"vbkerry\",\"vbkerry\",\"vbkerry\",\"vbkerry\",\"vbkerry\",\"vbkerry\",\"nytimes\",\"nytimes\",\"nytimes\",\"nytimes\",\"nytimes\",\"nytimes\",\"nytimes\",\"nytimes\",\"nytimes\",\"nytimes\",\"nytimes\",\"nytimes\",\"nytimes\",\"nytimes\",\"nytimes\",\"nytimes\",\"nytimes\",\"nytimes\",\"nytimes\",\"nytimes\",\"nytimes\",\"nytimes\",\"nytimes\",\"nytimes\",\"nytimes\",\"nytimes\",\"nytimes\",\"nytimes\",\"nytimes\",\"nytimes\",\"nytimes\",\"nytimes\",\"nytimes\",\"discangirl\",\"discangirl\",\"discangirl\",\"discangirl\",\"discangirl\",\"discangirl\",\"potus\",\"potus\",\"potus\",\"potus\",\"potus\",\"potus\",\"potus\",\"potus\",\"potus\",\"potus\",\"potus\",\"potus\",\"potus\",\"potus\",\"potus\",\"potus\",\"potus\",\"potus\",\"potus\",\"potus\",\"potus\",\"potus\",\"potus\",\"potus\",\"potus\",\"potus\",\"potus\",\"potus\",\"potus\",\"potus\",\"potus\",\"potus\",\"potus\",\"potus\",\"potus\",\"potus\",\"potus\",\"potus\",\"potus\",\"potus\",\"potus\",\"potus\",\"potus\",\"potus\",\"potus\",\"potus\",\"potus\",\"potus\",\"potus\",\"alsportugal\",\"alsportugal\",\"alsportugal\",\"alsportugal\",\"alsportugal\",\"alsportugal\",\"alsportugal\",\"alsportugal\",\"alsportugal\",\"alsportugal\",\"alsportugal\",\"alsportugal\",\"alsportugal\",\"ema_news\",\"ema_news\",\"ema_news\",\"ema_news\",\"ema_news\",\"ema_news\",\"ema_news\",\"ema_news\",\"dg_nta\",\"dg_nta\",\"dg_nta\",\"dg_nta\",\"dg_nta\",\"dg_nta\",\"jamespady\",\"jamespady\",\"jamespady\",\"barbarajdurkin\",\"barbarajdurkin\",\"barbarajdurkin\",\"barbarajdurkin\",\"barbarajdurkin\",\"barbarajdurkin\",\"barbarajdurkin\",\"barbarajdurkin\",\"barbarajdurkin\",\"barbarajdurkin\",\"barbarajdurkin\",\"barbarajdurkin\",\"barbarajdurkin\",\"barbarajdurkin\",\"barbarajdurkin\",\"barbarajdurkin\",\"barbarajdurkin\",\"barbarajdurkin\",\"barbarajdurkin\",\"barbarajdurkin\",\"barbarajdurkin\",\"barbarajdurkin\",\"barbarajdurkin\",\"barbarajdurkin\",\"barbarajdurkin\",\"barbarajdurkin\",\"barbarajdurkin\",\"barbarajdurkin\",\"barbarajdurkin\",\"barbarajdurkin\",\"barbarajdurkin\",\"barbarajdurkin\",\"barbarajdurkin\",\"barbarajdurkin\",\"barbarajdurkin\",\"barbarajdurkin\",\"barbarajdurkin\",\"barbarajdurkin\",\"barbarajdurkin\",\"barbarajdurkin\",\"barbarajdurkin\",\"barbarajdurkin\",\"barbarajdurkin\",\"barbarajdurkin\",\"roypentland\",\"roypentland\",\"roypentland\",\"roypentland\",\"roypentland\",\"roypentland\",\"roypentland\",\"roypentland\",\"roypentland\",\"roypentland\",\"roypentland\",\"roypentland\",\"roypentland\",\"cici07786373\",\"cici07786373\",\"cici07786373\",\"cici07786373\",\"cici07786373\",\"cici07786373\",\"cici07786373\",\"gop\",\"gop\",\"gop\",\"gop\",\"gop\",\"gop\",\"gop\",\"gop\",\"gop\",\"gop\",\"gop\",\"gop\",\"gop\",\"gop\",\"gop\",\"gop\",\"gop\",\"gop\",\"gop\",\"gop\",\"gop\",\"gop\",\"gop\",\"gop\",\"gop\",\"mike_pence\",\"mike_pence\",\"mike_pence\",\"mike_pence\",\"mike_pence\",\"mike_pence\",\"mike_pence\",\"mike_pence\",\"rahulgandhi\",\"rahulgandhi\",\"rahulgandhi\",\"rahulgandhi\",\"rahulgandhi\",\"rahulgandhi\",\"rahulgandhi\",\"rahulgandhi\",\"rahulgandhi\",\"rahulgandhi\",\"rahulgandhi\",\"mpsac\",\"mpsac\",\"mpsac\",\"mpsac\",\"thedaily1birdy\",\"thedaily1birdy\",\"thedaily1birdy\",\"thedaily1birdy\",\"thedaily1birdy\",\"thedaily1birdy\",\"thedaily1birdy\",\"thedaily1birdy\",\"thedaily1birdy\",\"thedaily1birdy\",\"thedaily1birdy\",\"thedaily1birdy\",\"droy_dr\",\"droy_dr\",\"droy_dr\",\"droy_dr\",\"droy_dr\",\"droy_dr\",\"droy_dr\",\"droy_dr\",\"droy_dr\",\"droy_dr\",\"pmoindia\",\"pmoindia\",\"pmoindia\",\"pmoindia\",\"pmoindia\",\"pmoindia\",\"pmoindia\",\"pmoindia\",\"pmoindia\",\"pmoindia\",\"pmoindia\",\"pmoindia\",\"pmoindia\",\"pmoindia\",\"pmoindia\",\"pmoindia\",\"pmoindia\",\"pmoindia\",\"pmoindia\",\"pmoindia\",\"pmoindia\",\"pmoindia\",\"pmoindia\",\"pmoindia\",\"pmoindia\",\"pmoindia\",\"pmoindia\",\"pmoindia\",\"pmoindia\",\"pmoindia\",\"pmoindia\",\"pmoindia\",\"pmoindia\",\"pmoindia\",\"pmoindia\",\"pmoindia\",\"pmoindia\",\"pmoindia\",\"pmoindia\",\"pmoindia\",\"pmoindia\",\"pmoindia\",\"pmoindia\",\"pmoindia\",\"pmoindia\",\"pmoindia\",\"pmoindia\",\"pmoindia\",\"pmoindia\",\"pmoindia\",\"pmoindia\",\"pmoindia\",\"pmoindia\",\"pmoindia\",\"pmoindia\",\"pmoindia\",\"pmoindia\",\"pmoindia\",\"pmoindia\",\"pmoindia\",\"pmoindia\",\"pmoindia\",\"pmoindia\",\"pmoindia\",\"pmoindia\",\"pmoindia\",\"pmoindia\",\"pmoindia\",\"pmoindia\",\"pmoindia\",\"pmoindia\",\"pmoindia\",\"pmoindia\",\"pmoindia\",\"pmoindia\",\"pmoindia\",\"pmoindia\",\"pmoindia\",\"pmoindia\",\"pmoindia\",\"pmoindia\",\"pmoindia\",\"pmoindia\",\"no2wind\",\"no2wind\",\"no2wind\",\"no2wind\",\"no2wind\",\"no2wind\",\"no2wind\",\"no2wind\",\"no2wind\",\"no2wind\",\"no2wind\",\"no2wind\",\"no2wind\",\"no2wind\",\"no2wind\",\"no2wind\",\"no2wind\",\"no2wind\",\"no2wind\",\"no2wind\",\"no2wind\",\"no2wind\",\"no2wind\",\"no2wind\",\"no2wind\",\"dineshk27504774\",\"dineshk27504774\",\"dineshk27504774\",\"dineshk27504774\",\"dineshk27504774\",\"dineshk27504774\",\"dineshk27504774\",\"dineshk27504774\",\"dineshk27504774\",\"dineshk27504774\",\"dineshk27504774\",\"dineshk27504774\",\"dawntj90\",\"dawntj90\",\"dawntj90\",\"dawntj90\",\"dawntj90\",\"dawntj90\",\"dawntj90\",\"dawntj90\",\"dawntj90\",\"dawntj90\",\"dawntj90\",\"deanna4congress\",\"deanna4congress\",\"deanna4congress\",\"deanna4congress\",\"deanna4congress\",\"deanna4congress\",\"lifeispietzsche\",\"lifeispietzsche\",\"lifeispietzsche\",\"lifeispietzsche\",\"lifeispietzsche\",\"lifeispietzsche\",\"lifeispietzsche\",\"lifeispietzsche\",\"lifeispietzsche\",\"lifeispietzsche\",\"lifeispietzsche\",\"lifeispietzsche\",\"digdougftw\",\"digdougftw\",\"digdougftw\",\"digdougftw\",\"digdougftw\",\"assocdesign\",\"assocdesign\",\"assocdesign\",\"assocdesign\",\"assocdesign\",\"assocdesign\",\"us_fda\",\"us_fda\",\"us_fda\",\"us_fda\",\"us_fda\",\"us_fda\",\"us_fda\",\"us_fda\",\"us_fda\",\"us_fda\",\"us_fda\",\"us_fda\",\"us_fda\",\"us_fda\",\"us_fda\",\"us_fda\",\"us_fda\",\"us_fda\",\"us_fda\",\"us_fda\",\"us_fda\",\"us_fda\",\"us_fda\",\"us_fda\",\"us_fda\",\"us_fda\",\"us_fda\",\"us_fda\",\"us_fda\",\"us_fda\",\"us_fda\",\"us_fda\",\"us_fda\",\"us_fda\",\"us_fda\",\"us_fda\",\"us_fda\",\"us_fda\",\"us_fda\",\"us_fda\",\"us_fda\",\"post1113a\",\"post1113a\",\"post1113a\",\"post1113a\",\"post1113a\",\"post1113a\",\"post1113a\",\"post1113a\",\"cnn\",\"cnn\",\"cnn\",\"cnn\",\"cnn\",\"cnn\",\"cnn\",\"cnn\",\"cnn\",\"cnn\",\"cnn\",\"cnn\",\"cnn\",\"cnn\",\"cnn\",\"cnn\",\"cnn\",\"cnn\",\"cnn\",\"cnn\",\"cnn\",\"cnn\",\"cnn\",\"cnn\",\"cnn\",\"cnn\",\"cnn\",\"cnn\",\"cnn\",\"cnn\",\"cnn\",\"cnn\",\"cnn\",\"cnn\",\"cnn\",\"cnn\",\"cnn\",\"cnn\",\"cnn\",\"cnn\",\"cnn\",\"cnn\",\"tqmka\",\"tqmka\",\"tqmka\",\"tqmka\",\"tqmka\",\"tqmka\",\"juliacantero9\",\"juliacantero9\",\"juliacantero9\",\"juliacantero9\",\"juliacantero9\",\"erictrump\",\"erictrump\",\"erictrump\",\"erictrump\",\"erictrump\",\"erictrump\",\"erictrump\",\"erictrump\",\"erictrump\",\"erictrump\",\"erictrump\",\"erictrump\",\"erictrump\",\"erictrump\",\"erictrump\",\"erictrump\",\"erictrump\",\"erictrump\",\"erictrump\",\"erictrump\",\"erictrump\",\"erictrump\",\"erictrump\",\"erictrump\",\"erictrump\",\"erictrump\",\"markmeadows\",\"markmeadows\",\"markmeadows\",\"markmeadows\",\"markmeadows\",\"markmeadows\",\"markmeadows\",\"markmeadows\",\"markmeadows\",\"markmeadows\",\"markmeadows\",\"markmeadows\",\"markmeadows\",\"markmeadows\",\"markmeadows\",\"markmeadows\",\"markmeadows\",\"markmeadows\",\"markmeadows\",\"markmeadows\",\"markmeadows\",\"markmeadows\",\"markmeadows\",\"flotus\",\"flotus\",\"flotus\",\"flotus\",\"flotus\",\"flotus\",\"flotus\",\"flotus\",\"flotus\",\"flotus\",\"flotus\",\"flotus\",\"flotus\",\"flotus\",\"flotus\",\"flotus\",\"flotus\",\"flotus\",\"flotus\",\"flotus\",\"flotus\",\"flotus\",\"flotus\",\"flotus\",\"flotus\",\"flotus\",\"secazar\",\"secazar\",\"secazar\",\"secazar\",\"secazar\",\"secazar\",\"secazar\",\"secazar\",\"secazar\",\"secazar\",\"secazar\",\"secazar\",\"secazar\",\"secazar\",\"secazar\",\"secazar\",\"secazar\",\"secazar\",\"secazar\",\"secazar\",\"secazar\",\"secazar\",\"secazar\",\"secazar\",\"secazar\",\"secazar\",\"secazar\",\"secazar\",\"secazar\",\"healthwiremedia\",\"healthwiremedia\",\"healthwiremedia\",\"healthwiremedia\",\"healthwiremedia\",\"healthwiremedia\",\"healthwiremedia\",\"healthwiremedia\",\"healthwiremedia\",\"healthwiremedia\",\"healthwiremedia\",\"mohfw_india\",\"mohfw_india\",\"mohfw_india\",\"mohfw_india\",\"mohfw_india\",\"mohfw_india\",\"mohfw_india\",\"mohfw_india\",\"mohfw_india\",\"mohfw_india\",\"mohfw_india\",\"mohfw_india\",\"mohfw_india\",\"mohfw_india\",\"mohfw_india\",\"mohfw_india\",\"mohfw_india\",\"mohfw_india\",\"mohfw_india\",\"mohfw_india\",\"mohfw_india\",\"mohfw_india\",\"mohfw_india\",\"mohfw_india\",\"mohfw_india\",\"mohfw_india\",\"mohfw_india\",\"mohfw_india\",\"mohfw_india\",\"mohfw_india\",\"mohfw_india\",\"mohfw_india\",\"mohfw_india\",\"mohfw_india\",\"mohfw_india\",\"mohfw_india\",\"mohfw_india\",\"mohfw_india\",\"mohfw_india\",\"mohfw_india\",\"mohfw_india\",\"mohfw_india\",\"mohfw_india\",\"mohfw_india\",\"mohfw_india\",\"mohfw_india\",\"mohfw_india\",\"mohfw_india\",\"mohfw_india\",\"mohfw_india\",\"mohfw_india\",\"mohfw_india\",\"mohfw_india\",\"mohfw_india\",\"mohfw_india\",\"mohfw_india\",\"mohfw_india\",\"mohfw_india\",\"mohfw_india\",\"mohfw_india\",\"mohfw_india\",\"mohfw_india\",\"mohfw_india\",\"aajtak\",\"aajtak\",\"aajtak\",\"aajtak\",\"aajtak\",\"aajtak\",\"aajtak\",\"aajtak\",\"aajtak\",\"nitiaayog\",\"nitiaayog\",\"nitiaayog\",\"nitiaayog\",\"nitiaayog\",\"nitiaayog\",\"nitiaayog\",\"nitiaayog\",\"nitiaayog\",\"nitiaayog\",\"nitiaayog\",\"nitiaayog\",\"nitiaayog\",\"nitiaayog\",\"nitiaayog\",\"vp\",\"vp\",\"vp\",\"vp\",\"vp\",\"vp\",\"vp\",\"vp\",\"vp\",\"vp\",\"vp\",\"vp\",\"vp\",\"vp\",\"vp\",\"vp\",\"vp\",\"vp\",\"vp\",\"vp\",\"vp\",\"vp\",\"vp\",\"vp\",\"vp\",\"vp\",\"vp\",\"vp\",\"vp\",\"vp\",\"vp\",\"vp\",\"vp\",\"vp\",\"robertkennedyjr\",\"robertkennedyjr\",\"robertkennedyjr\",\"robertkennedyjr\",\"robertkennedyjr\",\"robertkennedyjr\",\"robertkennedyjr\",\"robertkennedyjr\",\"robertkennedyjr\",\"thehill\",\"thehill\",\"thehill\",\"thehill\",\"thehill\",\"thehill\",\"ambarin03\",\"ambarin03\",\"ambarin03\",\"ambarin03\",\"ambarin03\",\"ambarin03\",\"ambarin03\",\"ambarin03\",\"ambarin03\",\"ambarin03\",\"drrpnishank\",\"drrpnishank\",\"drrpnishank\",\"drrpnishank\",\"drrpnishank\",\"drrpnishank\",\"drrpnishank\",\"drrpnishank\",\"drrpnishank\",\"drrpnishank\",\"drrpnishank\",\"drrpnishank\",\"drrpnishank\",\"drrpnishank\",\"drrpnishank\",\"drrpnishank\",\"drrpnishank\",\"drrpnishank\",\"drrpnishank\",\"drrpnishank\",\"drrpnishank\",\"drrpnishank\",\"drrpnishank\",\"drrpnishank\",\"drrpnishank\",\"drrpnishank\",\"drrpnishank\",\"drrpnishank\",\"drrpnishank\",\"drrpnishank\",\"jamz129\",\"jamz129\",\"jamz129\",\"jamz129\",\"jamz129\",\"jamz129\",\"jamz129\",\"jamz129\",\"jamz129\",\"jamz129\",\"jamz129\",\"jamz129\",\"jamz129\",\"jamz129\",\"jamz129\",\"jamz129\",\"jamz129\",\"jamz129\",\"jamz129\",\"jamz129\",\"jamz129\",\"jamz129\",\"jamz129\",\"jamz129\",\"jamz129\",\"jamz129\",\"jamz129\",\"fauntleroy1934\",\"fauntleroy1934\",\"fauntleroy1934\",\"fauntleroy1934\",\"fauntleroy1934\",\"fauntleroy1934\",\"reckedrik\",\"reckedrik\",\"reckedrik\",\"reckedrik\",\"stormsignalsa\",\"stormsignalsa\",\"stormsignalsa\",\"stormsignalsa\",\"stormsignalsa\",\"stormsignalsa\",\"stormsignalsa\",\"thedisproof\",\"thedisproof\",\"thedisproof\",\"thedisproof\",\"thedisproof\",\"thedisproof\",\"thedisproof\",\"thedisproof\",\"thedisproof\",\"thedisproof\",\"narvuntien\",\"narvuntien\",\"narvuntien\",\"narvuntien\",\"narvuntien\",\"narvuntien\",\"narvuntien\",\"narvuntien\",\"narvuntien\",\"narvuntien\",\"narvuntien\",\"narvuntien\",\"narvuntien\",\"narvuntien\",\"narvuntien\",\"narvuntien\",\"narvuntien\",\"cjtjgeol\",\"cjtjgeol\",\"cjtjgeol\",\"over400ppm\",\"over400ppm\",\"over400ppm\",\"over400ppm\",\"over400ppm\",\"over400ppm\",\"feynmanfreaky\",\"feynmanfreaky\",\"feynmanfreaky\",\"feynmanfreaky\",\"ibergwiesel\",\"ibergwiesel\",\"ibergwiesel\",\"ibergwiesel\",\"ibergwiesel\",\"raiisha4\",\"realadamqureshi\",\"realadamqureshi\",\"realadamqureshi\",\"realadamqureshi\",\"householdrules\",\"householdrules\",\"householdrules\",\"householdrules\",\"senschumer\",\"senschumer\",\"senschumer\",\"senschumer\",\"senschumer\",\"senschumer\",\"senschumer\",\"senschumer\",\"mishra035\",\"mishra035\",\"mishra035\",\"mishra035\",\"mishra035\",\"drharshvardhan\",\"drharshvardhan\",\"drharshvardhan\",\"drharshvardhan\",\"drharshvardhan\",\"drharshvardhan\",\"drharshvardhan\",\"drharshvardhan\",\"drharshvardhan\",\"drharshvardhan\",\"drharshvardhan\",\"drharshvardhan\",\"drharshvardhan\",\"drharshvardhan\",\"drharshvardhan\",\"drharshvardhan\",\"drharshvardhan\",\"drharshvardhan\",\"drharshvardhan\",\"drharshvardhan\",\"drharshvardhan\",\"drharshvardhan\",\"drharshvardhan\",\"drharshvardhan\",\"drharshvardhan\",\"drharshvardhan\",\"drharshvardhan\",\"drharshvardhan\",\"drharshvardhan\",\"drharshvardhan\",\"drharshvardhan\",\"drharshvardhan\",\"drharshvardhan\",\"drharshvardhan\",\"drharshvardhan\",\"drharshvardhan\",\"drharshvardhan\",\"drharshvardhan\",\"drharshvardhan\",\"drharshvardhan\",\"drharshvardhan\",\"drharshvardhan\",\"drharshvardhan\",\"drharshvardhan\",\"drharshvardhan\",\"drharshvardhan\",\"drharshvardhan\",\"drharshvardhan\",\"drharshvardhan\",\"drharshvardhan\",\"drharshvardhan\",\"drharshvardhan\",\"drharshvardhan\",\"drharshvardhan\",\"drharshvardhan\",\"drharshvardhan\",\"drharshvardhan\",\"drharshvardhan\",\"drharshvardhan\",\"drharshvardhan\",\"drharshvardhan\",\"drharshvardhan\",\"drharshvardhan\",\"drharshvardhan\",\"drharshvardhan\",\"drharshvardhan\",\"drharshvardhan\",\"drharshvardhan\",\"drharshvardhan\",\"drharshvardhan\",\"drharshvardhan\",\"drharshvardhan\",\"lorne88784595\",\"lorne88784595\",\"lorne88784595\",\"gopchairwoman\",\"gopchairwoman\",\"gopchairwoman\",\"gopchairwoman\",\"gopchairwoman\",\"gopchairwoman\",\"gopchairwoman\",\"gopchairwoman\",\"teamtrump\",\"teamtrump\",\"teamtrump\",\"teamtrump\",\"teamtrump\",\"bubbasranch\",\"bubbasranch\",\"bubbasranch\",\"bubbasranch\",\"bubbasranch\",\"bubbasranch\",\"bubbasranch\",\"rrrkkkmmm1\",\"rrrkkkmmm1\",\"rrrkkkmmm1\",\"rrrkkkmmm1\",\"rrrkkkmmm1\",\"rrrkkkmmm1\",\"rrrkkkmmm1\",\"wsj\",\"wsj\",\"wsj\",\"wsj\",\"wsj\",\"wsj\",\"wsj\",\"wsj\",\"wsj\",\"wsj\",\"wsj\",\"wsj\",\"robertagramsey\",\"robertagramsey\",\"robertagramsey\",\"robertagramsey\",\"robertagramsey\",\"bobbiefromil\",\"bobbiefromil\",\"bobbiefromil\",\"bobbiefromil\",\"avimishra037\",\"avimishra037\",\"avimishra037\",\"avimishra037\",\"avimishra037\",\"avimishra037\",\"avimishra037\",\"avimishra037\",\"avimishra037\",\"avimishra037\",\"covidnewsbymib\",\"covidnewsbymib\",\"covidnewsbymib\",\"covidnewsbymib\",\"covidnewsbymib\",\"covidnewsbymib\",\"covidnewsbymib\",\"covidnewsbymib\",\"covidnewsbymib\",\"foxnews\",\"foxnews\",\"foxnews\",\"foxnews\",\"foxnews\",\"foxnews\",\"foxnews\",\"foxnews\",\"foxnews\",\"foxnews\",\"foxnews\",\"foxnews\",\"foxnews\",\"foxnews\",\"foxnews\",\"foxnews\",\"foxnews\",\"foxnews\",\"foxnews\",\"foxnews\",\"washingtonpost\",\"washingtonpost\",\"washingtonpost\",\"washingtonpost\",\"washingtonpost\",\"washingtonpost\",\"washingtonpost\",\"washingtonpost\",\"washingtonpost\",\"washingtonpost\",\"washingtonpost\",\"washingtonpost\",\"washingtonpost\",\"washingtonpost\",\"washingtonpost\",\"washingtonpost\",\"washingtonpost\",\"washingtonpost\",\"washingtonpost\",\"washingtonpost\",\"medbennett\",\"medbennett\",\"medbennett\",\"medbennett\",\"medbennett\",\"medbennett\",\"medbennett\",\"medbennett\",\"macalusojoseph\",\"macalusojoseph\",\"macalusojoseph\",\"macalusojoseph\",\"macalusojoseph\",\"macalusojoseph\",\"macalusojoseph\",\"macalusojoseph\",\"macalusojoseph\",\"cdcgov\",\"cdcgov\",\"cdcgov\",\"cdcgov\",\"cdcgov\",\"cdcgov\",\"cdcgov\",\"cdcgov\",\"cdcgov\",\"cdcgov\",\"cdcgov\",\"cdcgov\",\"cdcgov\",\"cdcgov\",\"cdcgov\",\"cdcgov\",\"cdcgov\",\"cdcgov\",\"cdcgov\",\"cdcgov\",\"cdcgov\",\"cdcgov\",\"cdcgov\",\"cdcgov\",\"cdcgov\",\"cdcgov\",\"cdcgov\",\"cdcgov\",\"cdcgov\",\"tangomitteckel\",\"tangomitteckel\",\"tangomitteckel\",\"tangomitteckel\",\"tangomitteckel\",\"tangomitteckel\",\"tangomitteckel\",\"tangomitteckel\",\"tangomitteckel\",\"tangomitteckel\",\"tangomitteckel\",\"msnbc\",\"msnbc\",\"msnbc\",\"msnbc\",\"msnbc\",\"msnbc\",\"msnbc\",\"msnbc\",\"msnbc\",\"msnbc\",\"msnbc\",\"msnbc\",\"msnbc\",\"msnbc\",\"msnbc\",\"msnbc\",\"paprikalady\",\"paprikalady\",\"paprikalady\",\"highwiretalk\",\"highwiretalk\",\"highwiretalk\",\"highwiretalk\",\"highwiretalk\",\"highwiretalk\",\"inoviopharma\",\"inoviopharma\",\"inoviopharma\",\"inoviopharma\",\"inoviopharma\",\"inoviopharma\",\"inoviopharma\",\"inoviopharma\",\"inoviopharma\",\"bhoj66120035\",\"bhoj66120035\",\"bhoj66120035\",\"bhoj66120035\",\"bhoj66120035\",\"bhoj66120035\",\"bhoj66120035\",\"bhoj66120035\",\"bhoj66120035\",\"bhoj66120035\",\"bhoj66120035\",\"bhoj66120035\",\"bhoj66120035\",\"bajoria_radhika\",\"bajoria_radhika\",\"bajoria_radhika\",\"bajoria_radhika\",\"bajoria_radhika\",\"bajoria_radhika\",\"sburke85\",\"sburke85\",\"sburke85\",\"sburke85\",\"sburke85\",\"sburke85\",\"sburke85\",\"sburke85\",\"sburke85\",\"alexberenson\",\"alexberenson\",\"alexberenson\",\"alexberenson\",\"alexberenson\",\"alexberenson\",\"alexberenson\",\"alexberenson\",\"alexberenson\",\"tonybaduy\",\"tonybaduy\",\"tonybaduy\",\"tonybaduy\",\"tonybaduy\",\"tonybaduy\",\"tonybaduy\",\"tonybaduy\",\"tonybaduy\",\"tonybaduy\",\"tonybaduy\",\"tonybaduy\",\"tonybaduy\",\"tonybaduy\",\"jackjsherebkin\",\"jackjsherebkin\",\"jackjsherebkin\",\"jackjsherebkin\",\"jackjsherebkin\",\"jackjsherebkin\",\"jackjsherebkin\",\"jackjsherebkin\",\"jackjsherebkin\",\"jackjsherebkin\",\"jackjsherebkin\",\"thinks_about_it\",\"thinks_about_it\",\"thinks_about_it\",\"kdooleyyoung\",\"kdooleyyoung\",\"kdooleyyoung\",\"anne4189\",\"anne4189\",\"anne4189\",\"anne4189\",\"anne4189\",\"anne4189\",\"anne4189\",\"anne4189\",\"anne4189\",\"anne4189\",\"anne4189\",\"anne4189\",\"nih\",\"nih\",\"nih\",\"nih\",\"nih\",\"nih\",\"nih\",\"nih\",\"nih\",\"nih\",\"nih\",\"nih\",\"nih\",\"nih\",\"nih\",\"nih\",\"nih\",\"cnbc\",\"cnbc\",\"cnbc\",\"cnbc\",\"cnbc\",\"cnbc\",\"cnbc\",\"cnbc\",\"cnbc\",\"cnbc\",\"cnbc\",\"cnbc\",\"cnbc\",\"cnbc\",\"cnbc\",\"cnbc\",\"cnbc\",\"htservadac\",\"htservadac\",\"htservadac\",\"nickapalmer\",\"nickapalmer\",\"nickapalmer\",\"electricelecti1\",\"electricelecti1\",\"electricelecti1\",\"rushhourp\",\"rushhourp\",\"rushhourp\",\"alamerqld\",\"alamerqld\",\"alamerqld\",\"barackobama\",\"barackobama\",\"barackobama\",\"barackobama\",\"barackobama\",\"barackobama\",\"jimdtweet\",\"jimdtweet\",\"jimdtweet\",\"mikedel21893959\",\"mikedel21893959\",\"lulu111593\",\"lulu111593\",\"lulu111593\",\"lulu111593\",\"lulu111593\",\"thewalltweets\",\"thewalltweets\",\"thewalltweets\",\"thewalltweets\",\"thewalltweets\",\"thewalltweets\",\"thewalltweets\",\"thewalltweets\",\"thewalltweets\",\"thewalltweets\",\"thewalltweets\",\"seruminstindia\",\"seruminstindia\",\"seruminstindia\",\"seruminstindia\",\"seruminstindia\",\"seruminstindia\",\"seruminstindia\",\"seruminstindia\",\"seruminstindia\",\"seruminstindia\",\"seruminstindia\",\"seruminstindia\",\"seruminstindia\",\"seruminstindia\",\"seruminstindia\",\"seruminstindia\",\"seruminstindia\",\"seruminstindia\",\"cheese24k\",\"cheese24k\",\"cheese24k\",\"cheese24k\",\"cheese24k\",\"cheese24k\",\"cheese24k\",\"cheese24k\",\"cheese24k\",\"cheese24k\",\"cheese24k\",\"cheese24k\",\"cheese24k\",\"cheese24k\",\"cheese24k\",\"cheese24k\",\"ewarren\",\"ewarren\",\"ewarren\",\"ewarren\",\"ewarren\",\"seanhannity\",\"seanhannity\",\"seanhannity\",\"seanhannity\",\"seanhannity\",\"seanhannity\",\"seanhannity\",\"seanhannity\",\"seanhannity\",\"seanhannity\",\"seanhannity\",\"seanhannity\",\"seanhannity\",\"seanhannity\",\"seanhannity\",\"senatemajldr\",\"senatemajldr\",\"senatemajldr\",\"senatemajldr\",\"senatemajldr\",\"senatemajldr\",\"senatemajldr\",\"speakerpelosi\",\"speakerpelosi\",\"speakerpelosi\",\"speakerpelosi\",\"speakerpelosi\",\"speakerpelosi\",\"speakerpelosi\",\"speakerpelosi\",\"speakerpelosi\",\"speakerpelosi\",\"speakerpelosi\",\"presssec\",\"presssec\",\"presssec\",\"presssec\",\"presssec\",\"presssec\",\"presssec\",\"presssec\",\"presssec\",\"presssec\",\"presssec\",\"presssec\",\"ivankatrump\",\"ivankatrump\",\"ivankatrump\",\"ivankatrump\",\"ivankatrump\",\"ivankatrump\",\"ivankatrump\",\"ivankatrump\",\"lawrencegostin\",\"lawrencegostin\",\"lawrencegostin\",\"lawrencegostin\",\"lawrencegostin\",\"bagaidr\",\"bagaidr\",\"bagaidr\",\"bagaidr\",\"timesnow\",\"timesnow\",\"timesnow\",\"timesnow\",\"timesnow\",\"timesnow\",\"timesnow\",\"timesnow\",\"timesnow\",\"timesnow\",\"timesnow\",\"dma16\",\"dma16\",\"dma16\",\"moneycontrolcom\",\"moneycontrolcom\",\"moneycontrolcom\",\"moneycontrolcom\",\"moneycontrolcom\",\"moneycontrolcom\",\"draghafur\",\"draghafur\",\"draghafur\",\"draghafur\",\"draghafur\",\"draghafur\",\"draghafur\",\"tuckercarlson\",\"tuckercarlson\",\"tuckercarlson\",\"tuckercarlson\",\"tuckercarlson\",\"tuckercarlson\",\"tuckercarlson\",\"tuckercarlson\",\"tuckercarlson\",\"tuckercarlson\",\"tuckercarlson\",\"tuckercarlson\",\"tuckercarlson\",\"tuckercarlson\",\"nvitweets\",\"icmrdelhi\",\"icmrdelhi\",\"icmrdelhi\",\"icmrdelhi\",\"icmrdelhi\",\"icmrdelhi\",\"icmrdelhi\",\"icmrdelhi\",\"icmrdelhi\",\"icmrdelhi\",\"icmrdelhi\",\"icmrdelhi\",\"icmrdelhi\",\"icmrdelhi\",\"icmrdelhi\",\"icmrdelhi\",\"icmrdelhi\",\"icmrdelhi\",\"icmrdelhi\",\"icmrdelhi\",\"icmrdelhi\",\"icmrdelhi\",\"icmrdelhi\",\"icmrdelhi\",\"icmrdelhi\",\"icmrdelhi\",\"icmrdelhi\",\"icmrdelhi\",\"icmrdelhi\",\"icmrdelhi\",\"icmrdelhi\",\"icmrdelhi\",\"icmrdelhi\",\"icmrdelhi\",\"mjrny361\",\"cdcdirector\",\"cdcdirector\",\"cdcdirector\",\"cdcdirector\",\"cdcdirector\",\"cdcdirector\",\"cdcdirector\",\"sarahdespres\",\"sarahdespres\",\"sarahdespres\",\"sarahdespres\",\"sarahdespres\",\"greenenergyital\",\"greenenergyital\",\"abc\",\"abc\",\"abc\",\"abc\",\"abc\",\"abc\",\"abc\",\"abc\",\"abc\",\"abc\",\"abc\",\"abc\",\"abc\",\"abc\",\"abc\",\"abc\",\"aoc\",\"aoc\",\"aoc\",\"aoc\",\"aoc\",\"aoc\",\"aoc\",\"aoc\",\"arindam4world\",\"arindam4world\",\"arindam4world\",\"plumprofessora\",\"plumprofessora\",\"plumprofessora\",\"plumprofessora\",\"plumprofessora\",\"plumprofessora\",\"plumprofessora\",\"plumprofessora\",\"plumprofessora\",\"plumprofessora\",\"plumprofessora\",\"plumprofessora\",\"plumprofessora\",\"plumprofessora\",\"plumprofessora\",\"plumprofessora\",\"plumprofessora\",\"plumprofessora\",\"plumprofessora\",\"plumprofessora\",\"plumprofessora\",\"plumprofessora\",\"plumprofessora\",\"plumprofessora\",\"plumprofessora\",\"plumprofessora\",\"plumprofessora\",\"plumprofessora\",\"plumprofessora\",\"plumprofessora\",\"plumprofessora\",\"plumprofessora\",\"plumprofessora\",\"plumprofessora\",\"plumprofessora\",\"plumprofessora\",\"plumprofessora\",\"plumprofessora\",\"plumprofessora\",\"plumprofessora\",\"plumprofessora\",\"plumprofessora\",\"plumprofessora\",\"plumprofessora\",\"plumprofessora\",\"plumprofessora\",\"plumprofessora\",\"plumprofessora\",\"plumprofessora\",\"mcfunny\",\"mcfunny\",\"mcfunny\",\"mcfunny\",\"mcfunny\",\"mcfunny\",\"mcfunny\",\"mcfunny\",\"mcfunny\",\"mcfunny\",\"mcfunny\",\"mcfunny\",\"mcfunny\",\"mcfunny\",\"mcfunny\",\"mcfunny\",\"mcfunny\",\"mcfunny\",\"mcfunny\",\"mcfunny\",\"mcfunny\",\"mcfunny\",\"mcfunny\",\"mcfunny\",\"mcfunny\",\"mcfunny\",\"mcfunny\",\"mcfunny\",\"mcfunny\",\"mcfunny\",\"mcfunny\",\"mcfunny\",\"mcfunny\",\"mcfunny\",\"mcfunny\",\"mcfunny\",\"mcfunny\",\"mcfunny\",\"mcfunny\",\"mcfunny\",\"mcfunny\",\"mcfunny\",\"mcfunny\",\"mcfunny\",\"mcfunny\",\"mcfunny\",\"mcfunny\",\"mcfunny\",\"mcfunny\",\"mcfunny\",\"mcfunny\",\"mcfunny\",\"mcfunny\",\"mcfunny\",\"mcfunny\",\"mcfunny\",\"mcfunny\",\"mcfunny\",\"mcfunny\",\"mcfunny\",\"mcfunny\",\"mcfunny\",\"mcfunny\",\"mcfunny\",\"mcfunny\",\"mcfunny\",\"mcfunny\",\"mcfunny\",\"mcfunny\",\"mcfunny\",\"mcfunny\",\"mcfunny\",\"mcfunny\",\"mcfunny\",\"mcfunny\",\"mcfunny\",\"mcfunny\",\"mcfunny\",\"mcfunny\",\"mcfunny\",\"mcfunny\",\"mcfunny\",\"mcfunny\",\"mcfunny\",\"mcfunny\",\"mcfunny\",\"mcfunny\",\"mcfunny\",\"mcfunny\",\"mcfunny\",\"mcfunny\",\"mcfunny\",\"mcfunny\",\"mcfunny\",\"mcfunny\",\"chriscuomo\",\"chriscuomo\",\"chriscuomo\",\"chriscuomo\",\"chriscuomo\",\"projectlincoln\",\"projectlincoln\",\"projectlincoln\",\"projectlincoln\",\"projectlincoln\",\"alexcareaga\",\"alexcareaga\",\"alexcareaga\",\"alexcareaga\",\"alexcareaga\",\"alexcareaga\",\"vaxyourfam\",\"vaxyourfam\",\"vaxyourfam\",\"vaxyourfam\",\"vaxyourfam\",\"vaxyourfam\",\"vaxyourfam\",\"vaxyourfam\",\"statnews\",\"statnews\",\"statnews\",\"statnews\",\"statnews\",\"statnews\",\"airnewsalerts\",\"airnewsalerts\",\"airnewsalerts\",\"airnewsalerts\",\"jori_d0523\",\"avoiceforchoice\",\"avoiceforchoice\",\"avoiceforchoice\",\"avoiceforchoice\",\"avoiceforchoice\",\"astrazeneca\",\"astrazeneca\",\"astrazeneca\",\"astrazeneca\",\"astrazeneca\",\"astrazeneca\",\"astrazeneca\",\"astrazeneca\",\"astrazeneca\",\"astrazeneca\",\"astrazeneca\",\"astrazeneca\",\"astrazeneca\",\"astrazeneca\",\"astrazeneca\",\"astrazeneca\",\"astrazeneca\",\"astrazeneca\",\"astrazeneca\",\"astrazeneca\",\"astrazeneca\",\"astrazeneca\",\"astrazeneca\",\"astrazeneca\",\"arumughamvinu\",\"arumughamvinu\",\"arumughamvinu\",\"arumughamvinu\",\"arumughamvinu\",\"arumughamvinu\",\"arumughamvinu\",\"arumughamvinu\",\"arumughamvinu\",\"arumughamvinu\",\"arumughamvinu\",\"arumughamvinu\",\"arumughamvinu\",\"arumughamvinu\",\"arumughamvinu\",\"moderna_tx\",\"moderna_tx\",\"moderna_tx\",\"moderna_tx\",\"moderna_tx\",\"moderna_tx\",\"moderna_tx\",\"moderna_tx\",\"moderna_tx\",\"moderna_tx\",\"moderna_tx\",\"moderna_tx\",\"moderna_tx\",\"moderna_tx\",\"moderna_tx\",\"moderna_tx\",\"moderna_tx\",\"moderna_tx\",\"moderna_tx\",\"moderna_tx\",\"moderna_tx\",\"moderna_tx\",\"abledoc\",\"abledoc\",\"abledoc\",\"abledoc\",\"drtessat\",\"drtessat\",\"drtessat\",\"drtessat\",\"drtessat\",\"drtessat\",\"drtessat\",\"drtessat\",\"drtessat\",\"drtessat\",\"drtessat\",\"drtessat\",\"drtessat\",\"drtessat\",\"drtessat\",\"drtessat\",\"drtessat\",\"drtessat\",\"drtessat\",\"drtessat\",\"drtessat\",\"drtessat\",\"drtessat\",\"drtessat\",\"drtessat\",\"drtessat\",\"drtessat\",\"o_rips\",\"o_rips\",\"o_rips\",\"o_rips\",\"o_rips\",\"o_rips\",\"b_bolshevik100\",\"b_bolshevik100\",\"b_bolshevik100\",\"b_bolshevik100\",\"b_bolshevik100\",\"b_bolshevik100\",\"b_bolshevik100\",\"shivamwadhwani2\",\"shivamwadhwani2\",\"shivamwadhwani2\",\"shivamwadhwani2\",\"shivamwadhwani2\",\"shivamwadhwani2\",\"shivamwadhwani2\",\"shivamwadhwani2\",\"shivamwadhwani2\",\"shivamwadhwani2\",\"shivamwadhwani2\",\"mirrornow\",\"mirrornow\",\"mirrornow\",\"telangana1st\",\"telangana1st\",\"telangana1st\",\"telangana1st\",\"telangana1st\",\"telangana1st\",\"inoviolt\",\"inoviolt\",\"inoviolt\",\"inoviolt\",\"inoviolt\",\"inoviolt\",\"inoviolt\",\"erictopol\",\"erictopol\",\"erictopol\",\"erictopol\",\"erictopol\",\"erictopol\",\"hrdministry\",\"hrdministry\",\"hrdministry\",\"hrdministry\",\"hrdministry\",\"hrdministry\",\"hrdministry\",\"hrdministry\",\"hrdministry\",\"hrdministry\",\"hrdministry\",\"hrdministry\",\"maheshchinnapa3\",\"maheshchinnapa3\",\"maheshchinnapa3\",\"maheshchinnapa3\",\"maheshchinnapa3\",\"maheshchinnapa3\",\"algorithmdancer\",\"piaffe13\",\"senategop\",\"senategop\",\"senategop\",\"senategop\",\"roneljitl\",\"roneljitl\",\"roneljitl\",\"roneljitl\",\"roneljitl\",\"theceomagazineg\",\"theceomagazineg\",\"theceomagazineg\",\"theceomagazineg\",\"theceomagazineg\",\"theceomagazineg\",\"apkabapu\",\"apkabapu\",\"apkabapu\",\"apkabapu\",\"apkabapu\",\"apkabapu\",\"gopleader\",\"gopleader\",\"gopleader\",\"gopleader\",\"gopleader\",\"pquirke100\",\"pquirke100\",\"pquirke100\",\"pquirke100\",\"pquirke100\",\"marklevinshow\",\"marklevinshow\",\"marklevinshow\",\"marklevinshow\",\"marklevinshow\",\"vdeshtwit\",\"vdeshtwit\",\"yolandadn44\",\"hhsgov\",\"hhsgov\",\"hhsgov\",\"hhsgov\",\"hhsgov\",\"zephyr999999999\",\"zephyr999999999\",\"zephyr999999999\",\"drtedros\",\"drtedros\",\"drtedros\",\"drtedros\",\"drtedros\",\"drtedros\",\"drtedros\",\"drtedros\",\"drtedros\",\"drtedros\",\"drtedros\",\"drtedros\",\"nitin_gadkari\",\"nitin_gadkari\",\"nitin_gadkari\",\"amitshah\",\"amitshah\",\"amitshah\",\"amitshah\",\"amitshah\",\"amitshah\",\"amitshah\",\"amitshah\",\"amitshah\",\"amitshah\",\"amitshah\",\"amitshah\",\"amitshah\",\"amitshah\",\"amitshah\",\"amitshah\",\"amitshah\",\"amitshah\",\"amitshah\",\"amitshah\",\"amitshah\",\"amitshah\",\"amitshah\",\"amitshah\",\"amitshah\",\"amitshah\",\"amitshah\",\"amitshah\",\"amitshah\",\"amitshah\",\"amitshah\",\"amitshah\",\"amitshah\",\"amitshah\",\"amitshah\",\"amitshah\",\"merck\",\"merck\",\"merck\",\"merck\",\"merck\",\"truetrumpseries\",\"truetrumpseries\",\"kaylakma\",\"kaylakma\",\"kaylakma\",\"kaylakma\",\"kaylakma\",\"kaylakma\",\"politico\",\"politico\",\"politico\",\"politico\",\"thereal_truther\",\"thereal_truther\",\"thereal_truther\",\"thereal_truther\",\"thereal_truther\",\"thereal_truther\",\"thereal_truther\",\"thereal_truther\",\"thereal_truther\",\"thereal_truther\",\"thereal_truther\",\"thereal_truther\",\"thereal_truther\",\"thereal_truther\",\"thereal_truther\",\"thereal_truther\",\"thereal_truther\",\"thereal_truther\",\"thereal_truther\",\"thereal_truther\",\"thereal_truther\",\"thereal_truther\",\"thereal_truther\",\"thereal_truther\",\"thereal_truther\",\"thereal_truther\",\"thereal_truther\",\"thereal_truther\",\"thereal_truther\",\"thereal_truther\",\"thereal_truther\",\"thereal_truther\",\"thereal_truther\",\"thereal_truther\",\"thereal_truther\",\"thereal_truther\",\"thereal_truther\",\"thereal_truther\",\"thereal_truther\",\"thereal_truther\",\"thereal_truther\",\"thereal_truther\",\"thereal_truther\",\"thereal_truther\",\"thereal_truther\",\"thereal_truther\",\"thereal_truther\",\"thereal_truther\",\"thereal_truther\",\"thereal_truther\",\"thereal_truther\",\"thereal_truther\",\"thereal_truther\",\"thereal_truther\",\"thereal_truther\",\"medicaldialogs\",\"medicaldialogs\",\"medicaldialogs\",\"medicaldialogs\",\"kenneth72712993\",\"kenneth72712993\",\"kenneth72712993\",\"kenneth72712993\",\"fcmfcs2019\",\"fcmfcs2019\",\"fcmfcs2019\",\"fcmfcs2019\",\"tinfoilawards\",\"tinfoilawards\",\"tinfoilawards\",\"tinfoilawards\",\"tinfoilawards\",\"tinfoilawards\",\"tinfoilawards\",\"tinfoilawards\",\"tinfoilawards\",\"tinfoilawards\",\"tinfoilawards\",\"tinfoilawards\",\"tinfoilawards\",\"tinfoilawards\",\"tinfoilawards\",\"willard1951\",\"willard1951\",\"willard1951\",\"willard1951\",\"100dianne\",\"100dianne\",\"100dianne\",\"100dianne\",\"100dianne\",\"100dianne\",\"100dianne\",\"100dianne\",\"100dianne\",\"100dianne\",\"100dianne\",\"100dianne\",\"100dianne\",\"100dianne\",\"100dianne\",\"100dianne\",\"100dianne\",\"100dianne\",\"100dianne\",\"100dianne\",\"100dianne\",\"100dianne\",\"100dianne\",\"100dianne\",\"doctorsoumya\",\"doctorsoumya\",\"doctorsoumya\",\"doctorsoumya\",\"doctorsoumya\",\"doctorsoumya\",\"doctorsoumya\",\"doctorsoumya\",\"bharatbiotech\",\"bharatbiotech\",\"bharatbiotech\",\"bharatbiotech\",\"bharatbiotech\",\"bharatbiotech\",\"bharatbiotech\",\"bharatbiotech\",\"bharatbiotech\",\"bharatbiotech\",\"bharatbiotech\",\"maddow\",\"maddow\",\"maddow\",\"maddow\",\"maddow\",\"maddow\",\"fabricsorganic\",\"fabricsorganic\",\"fabricsorganic\",\"fabricsorganic\",\"fabricsorganic\",\"jpatter91510186\",\"jpatter91510186\",\"shaikbazid\",\"shaikbazid\",\"shaikbazid\",\"shaikbazid\",\"commentoniowa\",\"rxrega\",\"rxrega\",\"rxrega\",\"rxrega\",\"doctorbokhari\",\"doctorbokhari\",\"sbhattacharjee2\",\"sbhattacharjee2\",\"lynnlustigla\",\"lynnlustigla\",\"lynnlustigla\",\"jnjnews\",\"jnjnews\",\"jnjnews\",\"nbcnews\",\"nbcnews\",\"nbcnews\",\"nbcnews\",\"nbcnews\",\"nbcnews\",\"nbcnews\",\"nbcnews\",\"nbcnews\",\"nbcnews\",\"nbcnews\",\"nbcnews\",\"nbcnews\",\"nbcnews\",\"mib_india\",\"mib_india\",\"mib_india\",\"mib_india\",\"mib_india\",\"mib_india\",\"mib_india\",\"mib_india\",\"mib_india\",\"mib_india\",\"mib_india\",\"mib_india\",\"mib_india\",\"mib_india\",\"mib_india\",\"mib_india\",\"mib_india\",\"mib_india\",\"mib_india\",\"mib_india\",\"mib_india\",\"mib_india\",\"mib_india\",\"mib_india\",\"mib_india\",\"mib_india\",\"mib_india\",\"randpaul\",\"randpaul\",\"randpaul\",\"randpaul\",\"myogiadityanath\",\"myogiadityanath\",\"myogiadityanath\",\"myogiadityanath\",\"myogiadityanath\",\"myogiadityanath\",\"pib_india\",\"pib_india\",\"pib_india\",\"pib_india\",\"pib_india\",\"pib_india\",\"pib_india\",\"pib_india\",\"pib_india\",\"pib_india\",\"pib_india\",\"pib_india\",\"pib_india\",\"pib_india\",\"pib_india\",\"pib_india\",\"pib_india\",\"pib_india\",\"pib_india\",\"pib_india\",\"pib_india\",\"pib_india\",\"pib_india\",\"pib_india\",\"pib_india\",\"pib_india\",\"pib_india\",\"pib_india\",\"pib_india\",\"pib_india\",\"pib_india\",\"pib_india\",\"pib_india\",\"ddnewslive\",\"ddnewslive\",\"ddnewslive\",\"ddnewslive\",\"ddnewslive\",\"ddnewslive\",\"ddnewslive\",\"ddnewslive\",\"ddnewslive\",\"ddnewslive\",\"ddnewslive\",\"ddnewslive\",\"ddnewslive\",\"ddnewslive\",\"ddnewslive\",\"ddnewslive\",\"ddnewslive\",\"ddnewslive\",\"ddnewslive\",\"ddnewslive\",\"ddnewslive\",\"ddnewslive\",\"eduminofindia\",\"eduminofindia\",\"eduminofindia\",\"eduminofindia\",\"eduminofindia\",\"eduminofindia\",\"eduminofindia\",\"eduminofindia\",\"eduminofindia\",\"eduminofindia\",\"eduminofindia\",\"eduminofindia\",\"eduminofindia\",\"cheesenbranston\",\"cheesenbranston\",\"cheesenbranston\",\"cheesenbranston\",\"cheesenbranston\",\"cheesenbranston\",\"cheesenbranston\",\"cheesenbranston\",\"cheesenbranston\",\"cheesenbranston\",\"cheesenbranston\",\"cheesenbranston\",\"cheesenbranston\",\"cheesenbranston\",\"cheesenbranston\",\"cheesenbranston\",\"cheesenbranston\",\"cheesenbranston\",\"cheesenbranston\",\"cheesenbranston\",\"cheesenbranston\",\"cheesenbranston\",\"cheesenbranston\",\"cheesenbranston\",\"cheesenbranston\",\"cheesenbranston\",\"cheesenbranston\",\"cheesenbranston\",\"cheesenbranston\",\"cheesenbranston\",\"cheesenbranston\",\"cheesenbranston\",\"cheesenbranston\",\"cheesenbranston\",\"cheesenbranston\",\"cheesenbranston\",\"cheesenbranston\",\"cheesenbranston\",\"begentle50\",\"begentle50\",\"begentle50\",\"begentle50\",\"begentle50\",\"begentle50\",\"begentle50\",\"begentle50\",\"begentle50\",\"begentle50\",\"chaitali_abp\",\"chaitali_abp\",\"chaitali_abp\",\"chaitali_abp\",\"chaitali_abp\",\"chaitali_abp\",\"chaitali_abp\",\"chaitali_abp\",\"gillesnfio\",\"gillesnfio\",\"gillesnfio\",\"gillesnfio\",\"gillesnfio\",\"gillesnfio\",\"charlotteoworld\",\"mehak16912398\",\"mehak16912398\",\"mehak16912398\",\"the_moccasin_\",\"the_moccasin_\",\"yazanf91\",\"yazanf91\",\"yazanf91\",\"yazanf91\",\"yazanf91\",\"yazanf91\",\"yazanf91\",\"yazanf91\",\"business\",\"business\",\"business\",\"business\",\"business\",\"judgejeanine\",\"judgejeanine\",\"judgejeanine\",\"judgejeanine\",\"judgejeanine\",\"jaikanta22\",\"jaikanta22\",\"jaikanta22\",\"jaikanta22\",\"jaikanta22\",\"jaikanta22\",\"jaikanta22\",\"jaikanta22\",\"jaikanta22\",\"jaikanta22\",\"jaikanta22\",\"jaikanta22\",\"jaikanta22\",\"jaikanta22\",\"jaikanta22\",\"jaikanta22\",\"jaikanta22\",\"jaikanta22\",\"jaikanta22\",\"jaikanta22\",\"jaikanta22\",\"jaikanta22\",\"jaikanta22\",\"jaikanta22\",\"jaikanta22\",\"jaikanta22\",\"jaikanta22\",\"jaikanta22\",\"jaikanta22\",\"jaikanta22\",\"jaikanta22\",\"jaikanta22\",\"jaikanta22\",\"jaikanta22\",\"jaikanta22\",\"jaikanta22\",\"jaikanta22\",\"jaikanta22\",\"jaikanta22\",\"jaikanta22\",\"jaikanta22\",\"jaikanta22\",\"jaikanta22\",\"jaikanta22\",\"jaikanta22\",\"jaikanta22\",\"jaikanta22\",\"jaikanta22\",\"jaikanta22\",\"jaikanta22\",\"jaikanta22\",\"jaikanta22\",\"jaikanta22\",\"jaikanta22\",\"jaikanta22\",\"jaikanta22\",\"jaikanta22\",\"flitesurgn\",\"flitesurgn\",\"flitesurgn\",\"flitesurgn\",\"flitesurgn\",\"flitesurgn\",\"flitesurgn\",\"flitesurgn\",\"flitesurgn\",\"flitesurgn\",\"flitesurgn\",\"flitesurgn\",\"flitesurgn\",\"flitesurgn\",\"dbongino\",\"dbongino\",\"dbongino\",\"dbongino\",\"dbongino\",\"crabb_vicki\",\"crabb_vicki\",\"crabb_vicki\",\"crabb_vicki\",\"crabb_vicki\",\"crabb_vicki\",\"crabb_vicki\",\"crabb_vicki\",\"crabb_vicki\",\"crabb_vicki\",\"crabb_vicki\",\"crabb_vicki\",\"crabb_vicki\",\"crabb_vicki\",\"crabb_vicki\",\"crabb_vicki\",\"crabb_vicki\",\"crabb_vicki\",\"crabb_vicki\",\"crabb_vicki\",\"crabb_vicki\",\"crabb_vicki\",\"crabb_vicki\",\"crabb_vicki\",\"doritmi\",\"doritmi\",\"doritmi\",\"doritmi\",\"doritmi\",\"doritmi\",\"doritmi\",\"doritmi\",\"doritmi\",\"doritmi\",\"doritmi\",\"doritmi\",\"doritmi\",\"doritmi\",\"doritmi\",\"doritmi\",\"doritmi\",\"doritmi\",\"doritmi\",\"doritmi\",\"doritmi\",\"doritmi\",\"doritmi\",\"doritmi\",\"doritmi\",\"doritmi\",\"doritmi\",\"doritmi\",\"doritmi\",\"doritmi\",\"doritmi\",\"doritmi\",\"doritmi\",\"doritmi\",\"doritmi\",\"doritmi\",\"doritmi\",\"doritmi\",\"doritmi\",\"doritmi\",\"doritmi\",\"doritmi\",\"doritmi\",\"doritmi\",\"doritmi\",\"doritmi\",\"doritmi\",\"doritmi\",\"doritmi\",\"doritmi\",\"doritmi\",\"doritmi\",\"doritmi\",\"doritmi\",\"doritmi\",\"doritmi\",\"doritmi\",\"doritmi\",\"doritmi\",\"doritmi\",\"doritmi\",\"doritmi\",\"doritmi\",\"doritmi\",\"doritmi\",\"doritmi\",\"doritmi\",\"doritmi\",\"doritmi\",\"doritmi\",\"doritmi\",\"doritmi\",\"doritmi\",\"doritmi\",\"doritmi\",\"doritmi\",\"doritmi\",\"and_kell\",\"and_kell\",\"and_kell\",\"profsudhir\",\"profsudhir\",\"profsudhir\",\"republic\",\"republic\",\"republic\",\"republic\",\"republic\",\"republic\",\"republic\",\"scottgottliebmd\",\"scottgottliebmd\",\"scottgottliebmd\",\"scottgottliebmd\",\"scottgottliebmd\",\"childrenshd\",\"childrenshd\",\"childrenshd\",\"childrenshd\",\"childrenshd\",\"childrenshd\",\"childrenshd\",\"sandeshy786\",\"sandeshy786\",\"sandeshy786\",\"lovingvaccines\",\"lovingvaccines\",\"lovingvaccines\",\"lovingvaccines\",\"professorlou1\",\"professorlou1\",\"professorlou1\",\"professorlou1\",\"professorlou1\",\"professorlou1\",\"professorlou1\",\"professorlou1\",\"professorlou1\",\"professorlou1\",\"professorlou1\",\"professorlou1\",\"professorlou1\",\"professorlou1\",\"professorlou1\",\"professorlou1\",\"professorlou1\",\"professorlou1\",\"professorlou1\",\"professorlou1\",\"professorlou1\",\"professorlou1\",\"professorlou1\",\"professorlou1\",\"professorlou1\",\"professorlou1\",\"professorlou1\",\"professorlou1\",\"professorlou1\",\"professorlou1\",\"professorlou1\",\"professorlou1\",\"professorlou1\",\"professorlou1\",\"professorlou1\",\"professorlou1\",\"professorlou1\",\"professorlou1\",\"professorlou1\",\"professorlou1\",\"professorlou1\",\"professorlou1\",\"professorlou1\",\"uniofoxford\",\"uniofoxford\",\"uniofoxford\",\"uniofoxford\",\"uniofoxford\",\"uniofoxford\",\"uniofoxford\",\"uniofoxford\",\"uniofoxford\",\"sallykp\",\"sallykp\",\"sallykp\",\"sallykp\",\"sallykp\",\"bosa6688\",\"andrewlazarus4\",\"andrewlazarus4\",\"andrewlazarus4\",\"andrewlazarus4\",\"andrewlazarus4\",\"andrewlazarus4\",\"andrewlazarus4\",\"andrewlazarus4\",\"andrewlazarus4\",\"andrewlazarus4\",\"andrewlazarus4\",\"andrewlazarus4\",\"andrewlazarus4\",\"andrewlazarus4\",\"andrewlazarus4\",\"andrewlazarus4\",\"andrewlazarus4\",\"margie_moo\",\"margie_moo\",\"margie_moo\",\"margie_moo\",\"margie_moo\",\"margie_moo\",\"margie_moo\",\"margie_moo\",\"margie_moo\",\"margie_moo\",\"oann\",\"oann\",\"oann\",\"oann\",\"oann\",\"freedomgirl2011\",\"freedomgirl2011\",\"freedomgirl2011\",\"freedomgirl2011\",\"freedomgirl2011\",\"freedomgirl2011\",\"freedomgirl2011\",\"cacoethes_carpe\",\"cacoethes_carpe\",\"cacoethes_carpe\",\"sankar_mm\",\"sankar_mm\",\"sankar_mm\",\"sankar_mm\",\"sankar_mm\",\"sankar_mm\",\"sylviedparris\",\"sylviedparris\",\"sylviedparris\",\"sylviedparris\",\"sylviedparris\",\"sylviedparris\",\"sylviedparris\",\"sylviedparris\",\"sylviedparris\",\"sylviedparris\",\"sylviedparris\",\"sylviedparris\",\"sylviedparris\",\"sylviedparris\",\"sylviedparris\",\"sylviedparris\",\"sylviedparris\",\"sylviedparris\",\"sylviedparris\",\"sylviedparris\",\"sylviedparris\",\"sylviedparris\",\"sylviedparris\",\"sylviedparris\",\"sylviedparris\",\"sylviedparris\",\"sylviedparris\",\"sylviedparris\",\"sylviedparris\",\"sylviedparris\",\"sylviedparris\",\"sylviedparris\",\"sylviedparris\",\"sylviedparris\",\"sylviedparris\",\"sylviedparris\",\"sylviedparris\",\"sylviedparris\",\"sylviedparris\",\"macbaird13\",\"macbaird13\",\"macbaird13\",\"macbaird13\",\"macbaird13\",\"macbaird13\",\"macbaird13\",\"macbaird13\",\"macbaird13\",\"macbaird13\",\"macbaird13\",\"macbaird13\",\"macbaird13\",\"macbaird13\",\"macbaird13\",\"macbaird13\",\"macbaird13\",\"macbaird13\",\"macbaird13\",\"macbaird13\",\"macbaird13\",\"macbaird13\",\"macbaird13\",\"macbaird13\",\"macbaird13\",\"macbaird13\",\"macbaird13\",\"macbaird13\",\"krishan76666405\",\"krishan76666405\",\"krishan76666405\",\"krishan76666405\",\"pratidintime\",\"pratidintime\",\"pratidintime\",\"awithonelison\",\"awithonelison\",\"awithonelison\",\"awithonelison\",\"awithonelison\",\"awithonelison\",\"awithonelison\",\"awithonelison\",\"awithonelison\",\"gavi\",\"gavi\",\"gavi\",\"gavi\",\"gavi\",\"gavi\",\"gavi\",\"brianbloop2\",\"brianbloop2\",\"brianbloop2\",\"brianbloop2\",\"brianbloop2\",\"brianbloop2\",\"brianbloop2\",\"brianbloop2\",\"brianbloop2\",\"brianbloop2\",\"brianbloop2\",\"brianbloop2\",\"brianbloop2\",\"brianbloop2\",\"brianbloop2\",\"brianbloop2\",\"brianbloop2\",\"brianbloop2\",\"brianbloop2\",\"brianbloop2\",\"brianbloop2\",\"brianbloop2\",\"brianbloop2\",\"brianbloop2\",\"brianbloop2\",\"brianbloop2\",\"brianbloop2\",\"brianbloop2\",\"brianbloop2\",\"brianbloop2\",\"brianbloop2\",\"brianbloop2\",\"brianbloop2\",\"brianbloop2\",\"brianbloop2\",\"brianbloop2\",\"david19531501\",\"david19531501\",\"david19531501\",\"david19531501\",\"david19531501\",\"david19531501\",\"david19531501\",\"david19531501\",\"crandall333\",\"sentinel_assam\",\"sentinel_assam\",\"muaythaiguy44\",\"muaythaiguy44\",\"muaythaiguy44\",\"muaythaiguy44\",\"muaythaiguy44\",\"muaythaiguy44\",\"muaythaiguy44\",\"muaythaiguy44\",\"muaythaiguy44\",\"muaythaiguy44\",\"muaythaiguy44\",\"muaythaiguy44\",\"muaythaiguy44\",\"muaythaiguy44\",\"muaythaiguy44\",\"muaythaiguy44\",\"muaythaiguy44\",\"muaythaiguy44\",\"muaythaiguy44\",\"muaythaiguy44\",\"muaythaiguy44\",\"muaythaiguy44\",\"pacifist322\",\"pacifist322\",\"pacifist322\",\"pacifist322\",\"democratfed\",\"democratfed\",\"democratfed\",\"democratfed\",\"iangray44757496\",\"iangray44757496\",\"iangray44757496\",\"dreadpirrob42\",\"dreadpirrob42\",\"dreadpirrob42\",\"dreadpirrob42\",\"dreadpirrob42\",\"dreadpirrob42\",\"dreadpirrob42\",\"dreadpirrob42\",\"dreadpirrob42\",\"dreadpirrob42\",\"dreadpirrob42\",\"dreadpirrob42\",\"bjp4india\",\"bjp4india\",\"bjp4india\",\"bjp4india\",\"bjp4india\",\"bjp4india\",\"bjp4india\",\"bjp4india\",\"bjp4india\",\"bjp4india\",\"bjp4india\",\"bjp4india\",\"bjp4india\",\"bjp4india\",\"bjp4india\",\"bjp4india\",\"bjp4india\",\"lauradekker1\",\"lauradekker1\",\"lauradekker1\",\"lauradekker1\",\"lauradekker1\",\"lauradekker1\",\"lauradekker1\",\"lauradekker1\",\"lauradekker1\",\"lauradekker1\",\"lauradekker1\",\"lauradekker1\",\"lauradekker1\",\"lauradekker1\",\"lauradekker1\",\"lauradekker1\",\"lauradekker1\",\"lauradekker1\",\"lauradekker1\",\"lauradekker1\",\"lauradekker1\",\"lauradekker1\",\"lauradekker1\",\"lauradekker1\",\"lauradekker1\",\"lauradekker1\",\"lauradekker1\",\"lauradekker1\",\"lauradekker1\",\"lauradekker1\",\"lauradekker1\",\"lauradekker1\",\"lauradekker1\",\"lauradekker1\",\"lauradekker1\",\"lauradekker1\",\"rosewind2007\",\"rosewind2007\",\"rosewind2007\",\"rosewind2007\",\"rosewind2007\",\"rosewind2007\",\"rosewind2007\",\"rosewind2007\",\"rosewind2007\",\"rosewind2007\",\"reply2world\",\"reply2world\",\"reply2world\",\"reply2world\",\"drhvoffice\",\"drhvoffice\",\"drhvoffice\",\"drhvoffice\",\"anilkum02840073\",\"jimguenther5\",\"roblev0\",\"roblev0\",\"roblev0\",\"roblev0\",\"roblev0\",\"roblev0\",\"roblev0\",\"roblev0\",\"roblev0\",\"roblev0\",\"roblev0\",\"roblev0\",\"roblev0\",\"roblev0\",\"roblev0\",\"roblev0\",\"roblev0\",\"roblev0\",\"roblev0\",\"roblev0\",\"roblev0\",\"roblev0\",\"roblev0\",\"roblev0\",\"roblev0\",\"roblev0\",\"roblev0\",\"roblev0\",\"roblev0\",\"truthismaster\",\"kremlinrussia_e\",\"kremlinrussia_e\",\"sputnikint\",\"sputnikint\",\"sputnikint\",\"loudobbs\",\"loudobbs\",\"loudobbs\",\"loudobbs\",\"loudobbs\",\"ashok5422000\",\"ashok5422000\",\"ashok5422000\",\"dbtindia\",\"dbtindia\",\"dbtindia\",\"dbtindia\",\"dbtindia\",\"dbtindia\",\"dbtindia\",\"dbtindia\",\"davidgsmith18\",\"davidgsmith18\",\"davidgsmith18\",\"davidgsmith18\",\"davidgsmith18\",\"davidgsmith18\",\"davidgsmith18\",\"davidgsmith18\",\"davidmetroland\",\"davidmetroland\",\"davidmetroland\",\"davidmetroland\",\"davidmetroland\",\"davidmetroland\",\"davidmetroland\",\"davidmetroland\",\"davidmetroland\",\"davidmetroland\",\"davidmetroland\",\"davidmetroland\",\"davidmetroland\",\"davidmetroland\",\"davidmetroland\",\"davidmetroland\",\"davidmetroland\",\"davidmetroland\",\"davidmetroland\",\"davidmetroland\",\"davidmetroland\",\"davidmetroland\",\"davidmetroland\",\"davidmetroland\",\"davidmetroland\",\"afewpoints\",\"afewpoints\",\"afewpoints\",\"afewpoints\",\"afewpoints\",\"afewpoints\",\"afewpoints\",\"afewpoints\",\"afewpoints\",\"afewpoints\",\"afewpoints\",\"afewpoints\",\"afewpoints\",\"afewpoints\",\"afewpoints\",\"afewpoints\",\"afewpoints\",\"afewpoints\",\"afewpoints\",\"afewpoints\",\"afewpoints\",\"afewpoints\",\"afewpoints\",\"tandt_seo\",\"tandt_seo\",\"tandt_seo\",\"tandt_seo\",\"tandt_seo\",\"tandt_seo\",\"tandt_seo\",\"tandt_seo\",\"tandt_seo\",\"tandt_seo\",\"tandt_seo\",\"tandt_seo\",\"tandt_seo\",\"tandt_seo\",\"tandt_seo\",\"tandt_seo\",\"tandt_seo\",\"tandt_seo\",\"tandt_seo\",\"tandt_seo\",\"tandt_seo\",\"tandt_seo\",\"tandt_seo\",\"tandt_seo\",\"beowulfschaefer\",\"beowulfschaefer\",\"beowulfschaefer\",\"beowulfschaefer\",\"beowulfschaefer\",\"beowulfschaefer\",\"beowulfschaefer\",\"edele_bear\",\"edele_bear\",\"edele_bear\",\"edele_bear\",\"edele_bear\",\"edele_bear\",\"edele_bear\",\"butlerrichard2\",\"butlerrichard2\",\"butlerrichard2\",\"butlerrichard2\",\"butlerrichard2\",\"butlerrichard2\",\"butlerrichard2\",\"gazza41\",\"gazza41\",\"gazza41\",\"gazza41\",\"gazza41\",\"veuvek\",\"veuvek\",\"veuvek\",\"veuvek\",\"veuvek\",\"veuvek\",\"veuvek\",\"billgates\",\"billgates\",\"billgates\",\"billgates\",\"billgates\",\"billgates\",\"billgates\",\"billgates\",\"billgates\",\"berniesanders\",\"berniesanders\",\"berniesanders\",\"berniesanders\",\"dw2essex\",\"dw2essex\",\"dw2essex\",\"dw2essex\",\"dw2essex\",\"dw2essex\",\"dw2essex\",\"andycarp18\",\"andycarp18\",\"andycarp18\",\"andycarp18\",\"andycarp18\",\"johnrya13591294\",\"johnrya13591294\",\"johnrya13591294\",\"johnrya13591294\",\"johnrya13591294\",\"johnrya13591294\",\"johnrya13591294\",\"chrisgregson123\",\"chrisgregson123\",\"chrisgregson123\",\"chrisgregson123\",\"chrisgregson123\",\"chrisgregson123\",\"chrisgregson123\",\"sftechworker\",\"sftechworker\",\"sftechworker\",\"sftechworker\",\"sftechworker\",\"sftechworker\",\"sftechworker\",\"sftechworker\",\"sftechworker\",\"sftechworker\",\"sftechworker\",\"sftechworker\",\"sftechworker\",\"sftechworker\",\"sftechworker\",\"sftechworker\",\"sftechworker\",\"sftechworker\",\"sftechworker\",\"sftechworker\",\"sftechworker\",\"sftechworker\",\"sftechworker\",\"sftechworker\",\"sftechworker\",\"sftechworker\",\"sftechworker\",\"sftechworker\",\"sftechworker\",\"sftechworker\",\"sftechworker\",\"sftechworker\",\"sftechworker\",\"sftechworker\",\"sftechworker\",\"sftechworker\",\"boastira\",\"boastira\",\"boastira\",\"boastira\",\"boastira\",\"boastira\",\"boastira\",\"boastira\",\"cspan\",\"lovereignssupr1\",\"lovereignssupr1\",\"lovereignssupr1\",\"lovereignssupr1\",\"beckyjohnson222\",\"beckyjohnson222\",\"beckyjohnson222\",\"beckyjohnson222\",\"beckyjohnson222\",\"beckyjohnson222\",\"beckyjohnson222\",\"beckyjohnson222\",\"beckyjohnson222\",\"beckyjohnson222\",\"beckyjohnson222\",\"beckyjohnson222\",\"beckyjohnson222\",\"beckyjohnson222\",\"beckyjohnson222\",\"beckyjohnson222\",\"beckyjohnson222\",\"beckyjohnson222\",\"beckyjohnson222\",\"beckyjohnson222\",\"beckyjohnson222\",\"beckyjohnson222\",\"beckyjohnson222\",\"beckyjohnson222\",\"beckyjohnson222\",\"beckyjohnson222\",\"beckyjohnson222\",\"beckyjohnson222\",\"beckyjohnson222\",\"beckyjohnson222\",\"beckyjohnson222\",\"beckyjohnson222\",\"beckyjohnson222\",\"beckyjohnson222\",\"beckyjohnson222\",\"beckyjohnson222\",\"beckyjohnson222\",\"beckyjohnson222\",\"beckyjohnson222\",\"beckyjohnson222\",\"beckyjohnson222\",\"beckyjohnson222\",\"beckyjohnson222\",\"beckyjohnson222\",\"beckyjohnson222\",\"beckyjohnson222\",\"beckyjohnson222\",\"beckyjohnson222\",\"beckyjohnson222\",\"beckyjohnson222\",\"beckyjohnson222\",\"beckyjohnson222\",\"beckyjohnson222\",\"beckyjohnson222\",\"beckyjohnson222\",\"beckyjohnson222\",\"beckyjohnson222\",\"beckyjohnson222\",\"bloody_scandal\",\"bloody_scandal\",\"bloody_scandal\",\"bloody_scandal\",\"bloody_scandal\",\"krebiozen\",\"krebiozen\",\"krebiozen\",\"krebiozen\",\"krebiozen\",\"krebiozen\",\"krebiozen\",\"krebiozen\",\"krebiozen\",\"krebiozen\",\"krebiozen\",\"krebiozen\",\"krebiozen\",\"krebiozen\",\"krebiozen\",\"krebiozen\",\"krebiozen\",\"krebiozen\",\"krebiozen\",\"krebiozen\",\"utobian\",\"utobian\",\"utobian\",\"utobian\",\"provaxtexan\",\"provaxtexan\",\"provaxtexan\",\"provaxtexan\",\"provaxtexan\",\"provaxtexan\",\"provaxtexan\",\"provaxtexan\",\"provaxtexan\",\"provaxtexan\",\"provaxtexan\",\"provaxtexan\",\"provaxtexan\",\"provaxtexan\",\"provaxtexan\",\"provaxtexan\",\"provaxtexan\",\"provaxtexan\",\"provaxtexan\",\"provaxtexan\",\"lg28640297\",\"lg28640297\",\"lg28640297\",\"lg28640297\",\"lg28640297\",\"lg28640297\",\"lg28640297\",\"lg28640297\",\"lg28640297\",\"lg28640297\",\"lg28640297\",\"lg28640297\",\"kid_alabama\",\"kid_alabama\",\"kid_alabama\",\"kid_alabama\",\"kid_alabama\",\"mattadkin\",\"mattadkin\",\"mattadkin\",\"mattadkin\",\"mattadkin\",\"mattadkin\",\"resiguru\",\"resiguru\",\"resiguru\",\"resiguru\",\"resiguru\",\"resiguru\",\"resiguru\",\"resiguru\",\"resiguru\",\"resiguru\",\"resiguru\",\"mindedmusically\",\"mindedmusically\",\"mindedmusically\",\"mindedmusically\",\"mindedmusically\",\"mindedmusically\",\"mindedmusically\",\"mindedmusically\",\"mindedmusically\",\"mindedmusically\",\"mindedmusically\",\"mindedmusically\",\"mindedmusically\",\"mindedmusically\",\"macid3000\",\"macid3000\",\"macid3000\",\"macid3000\",\"macid3000\",\"susan04071\",\"susan04071\",\"susan04071\",\"susan04071\",\"susan04071\",\"sir_tom_tucker\",\"sir_tom_tucker\",\"sir_tom_tucker\",\"sir_tom_tucker\",\"sir_tom_tucker\",\"shaneja16905901\",\"shaneja16905901\",\"shaneja16905901\",\"shaneja16905901\",\"shaneja16905901\",\"shaneja16905901\",\"shaneja16905901\",\"shaneja16905901\",\"shaneja16905901\",\"shaneja16905901\",\"shaneja16905901\",\"shaneja16905901\",\"shaneja16905901\",\"shaneja16905901\",\"shaneja16905901\",\"irisheurophile\",\"irisheurophile\",\"irisheurophile\",\"irisheurophile\",\"cathyby\",\"cathyby\",\"cathyby\",\"cathyby\",\"cathyby\",\"cathyby\",\"cathyby\",\"cathyby\",\"cathyby\",\"cathyby\",\"frankdelia7\",\"frankdelia7\",\"frankdelia7\",\"frankdelia7\",\"frankdelia7\",\"frankdelia7\",\"frankdelia7\",\"frankdelia7\",\"frankdelia7\",\"frankdelia7\",\"frankdelia7\",\"frankdelia7\",\"frankdelia7\",\"frankdelia7\",\"frankdelia7\",\"frankdelia7\",\"frankdelia7\",\"frankdelia7\",\"frankdelia7\",\"frankdelia7\",\"frankdelia7\",\"frankdelia7\",\"frankdelia7\",\"frankdelia7\",\"frankdelia7\",\"frankdelia7\",\"frankdelia7\",\"frankdelia7\",\"frankdelia7\",\"frankdelia7\",\"frankdelia7\",\"frankdelia7\",\"frankdelia7\",\"frankdelia7\",\"frankdelia7\",\"frankdelia7\",\"frankdelia7\",\"frankdelia7\",\"frankdelia7\",\"frankdelia7\",\"frankdelia7\",\"frankdelia7\",\"frankdelia7\",\"frankdelia7\",\"frankdelia7\",\"frankdelia7\",\"frankdelia7\",\"frankdelia7\",\"frankdelia7\",\"frankdelia7\",\"frankdelia7\",\"frankdelia7\",\"frankdelia7\",\"susie1773\",\"susie1773\",\"niks_2180\",\"niks_2180\",\"adarpoonawalla\",\"adarpoonawalla\",\"adarpoonawalla\",\"adarpoonawalla\",\"adarpoonawalla\",\"adarpoonawalla\",\"vanwaridevesh\",\"vanwaridevesh\",\"vanwaridevesh\",\"vanwaridevesh\",\"just4thecause\",\"just4thecause\",\"just4thecause\",\"just4thecause\",\"just4thecause\",\"just4thecause\",\"just4thecause\",\"just4thecause\",\"just4thecause\",\"just4thecause\",\"just4thecause\",\"just4thecause\",\"just4thecause\",\"just4thecause\",\"epicethanol86\",\"epicethanol86\",\"epicethanol86\",\"epicethanol86\",\"epicethanol86\",\"epicethanol86\",\"epicethanol86\",\"epicethanol86\",\"epicethanol86\",\"epicethanol86\",\"epicethanol86\",\"ladyoftheocean1\",\"ladyoftheocean1\",\"ladyoftheocean1\",\"ladyoftheocean1\",\"ladyoftheocean1\",\"ladyoftheocean1\",\"ladyoftheocean1\",\"ladyoftheocean1\",\"ladyoftheocean1\",\"ladyoftheocean1\",\"ladyoftheocean1\",\"etnowlive\",\"etnowlive\",\"etnowlive\",\"zydusuniverse\",\"zydusuniverse\",\"aawpsee\",\"aawpsee\",\"aawpsee\",\"cepivaccines\",\"cepivaccines\",\"cepivaccines\",\"cepivaccines\",\"cepivaccines\",\"dabar00\",\"dabar00\",\"friendsoscience\",\"friendsoscience\",\"friendsoscience\",\"friendsoscience\",\"friendsoscience\",\"delbigtree\",\"rupamsarkar\",\"rupamsarkar\",\"blackca58774349\",\"blackca58774349\",\"blackca58774349\",\"blackca58774349\",\"blackca58774349\",\"blackca58774349\",\"centrefuter\",\"centrefuter\",\"centrefuter\",\"centrefuter\",\"centrefuter\",\"centrefuter\",\"centrefuter\",\"centrefuter\",\"geneonlinenews\",\"geneonlinenews\",\"novavax\",\"novavax\",\"novavax\",\"novavax\",\"novavax\",\"novavax\",\"biontech_group\",\"biontech_group\",\"biontech_group\",\"biontech_group\",\"biontech_group\",\"markwh2001\",\"markwh2001\",\"reuters\",\"reuters\",\"reuters\",\"reuters\",\"the_leaver\",\"the_leaver\",\"f505eb72b9cd493\",\"dfreedman7\",\"dfreedman7\",\"dfreedman7\",\"dfreedman7\",\"dfreedman7\",\"dfreedman7\",\"dfreedman7\",\"dfreedman7\",\"european_kate\",\"european_kate\",\"zooeraina\",\"zooeraina\",\"ap\",\"ap\",\"ap\",\"ap\",\"ap\",\"ap\",\"shepard_harley\",\"shepard_harley\",\"shepard_harley\",\"_kel_varnsen_\",\"_kel_varnsen_\",\"_kel_varnsen_\",\"_kel_varnsen_\",\"_kel_varnsen_\",\"_kel_varnsen_\",\"_kel_varnsen_\",\"_kel_varnsen_\",\"mrthinker07\",\"pjmoore1958\",\"pjmoore1958\",\"pjmoore1958\",\"pjmoore1958\",\"pjmoore1958\",\"pjmoore1958\",\"pjmoore1958\",\"pjmoore1958\",\"pjmoore1958\",\"pjmoore1958\",\"pjmoore1958\",\"pjmoore1958\",\"pjmoore1958\",\"peterhotez\",\"peterhotez\",\"acidfast1\",\"prakashlalam\",\"prakashlalam\",\"prakashlalam\",\"plasticdoe\",\"plasticdoe\",\"plasticdoe\",\"plasticdoe\",\"plasticdoe\",\"plasticdoe\",\"plasticdoe\",\"plasticdoe\",\"plasticdoe\",\"plasticdoe\",\"plasticdoe\",\"plasticdoe\",\"plasticdoe\",\"plasticdoe\",\"_mamadeb\",\"_mamadeb\",\"_mamadeb\",\"_mamadeb\",\"_mamadeb\",\"_mamadeb\",\"_mamadeb\",\"_mamadeb\",\"_mamadeb\",\"_mamadeb\",\"_mamadeb\",\"_mamadeb\",\"_mamadeb\",\"_mamadeb\",\"_mamadeb\",\"_mamadeb\",\"_mamadeb\",\"_mamadeb\",\"_mamadeb\",\"_mamadeb\",\"_mamadeb\",\"_mamadeb\",\"_mamadeb\",\"_mamadeb\",\"_mamadeb\",\"ianfmusgrave\",\"ianfmusgrave\",\"ianfmusgrave\",\"ianfmusgrave\",\"ianfmusgrave\",\"ianfmusgrave\",\"ianfmusgrave\",\"ianfmusgrave\",\"ianfmusgrave\",\"ianfmusgrave\",\"ianfmusgrave\",\"ianfmusgrave\",\"ianfmusgrave\",\"ianfmusgrave\",\"ianfmusgrave\",\"ianfmusgrave\",\"ianfmusgrave\",\"ianfmusgrave\",\"ianfmusgrave\",\"ianfmusgrave\",\"ianfmusgrave\",\"ianfmusgrave\",\"ianfmusgrave\",\"ianfmusgrave\",\"ianfmusgrave\",\"ianfmusgrave\",\"ianfmusgrave\",\"ianfmusgrave\",\"ianfmusgrave\",\"ianfmusgrave\",\"ianfmusgrave\",\"ianfmusgrave\",\"ianfmusgrave\",\"ianfmusgrave\",\"ianfmusgrave\",\"ianfmusgrave\",\"ianfmusgrave\",\"ianfmusgrave\",\"ianfmusgrave\",\"ianfmusgrave\",\"ianfmusgrave\",\"ianfmusgrave\",\"ianfmusgrave\",\"ianfmusgrave\",\"ianfmusgrave\",\"ianfmusgrave\",\"ianfmusgrave\",\"ianfmusgrave\",\"ianfmusgrave\",\"ianfmusgrave\",\"ianfmusgrave\",\"ianfmusgrave\",\"marthacurlee3\",\"marthacurlee3\",\"marthacurlee3\",\"med1cinewoman\",\"med1cinewoman\",\"med1cinewoman\",\"med1cinewoman\",\"med1cinewoman\",\"med1cinewoman\",\"med1cinewoman\",\"med1cinewoman\",\"med1cinewoman\",\"med1cinewoman\",\"med1cinewoman\",\"med1cinewoman\",\"med1cinewoman\",\"med1cinewoman\",\"med1cinewoman\",\"med1cinewoman\",\"med1cinewoman\",\"med1cinewoman\",\"med1cinewoman\",\"med1cinewoman\",\"med1cinewoman\",\"med1cinewoman\",\"med1cinewoman\",\"med1cinewoman\",\"med1cinewoman\",\"med1cinewoman\",\"med1cinewoman\",\"med1cinewoman\",\"med1cinewoman\",\"med1cinewoman\",\"med1cinewoman\",\"melindafirst100\",\"melindafirst100\",\"mjinnj80\",\"mjinnj80\",\"mjinnj80\",\"mjonesnr\",\"mjonesnr\",\"mjonesnr\",\"monstercoyliar\",\"monstercoyliar\",\"monstercoyliar\",\"monstercoyliar\",\"monstercoyliar\",\"monstercoyliar\",\"monstercoyliar\",\"monstercoyliar\",\"monstercoyliar\",\"monstercoyliar\",\"monstercoyliar\",\"monstercoyliar\",\"monstercoyliar\",\"monstercoyliar\",\"monstercoyliar\",\"monstercoyliar\",\"monstercoyliar\",\"monstercoyliar\",\"monstercoyliar\",\"monstercoyliar\",\"monstercoyliar\",\"monstercoyliar\",\"mtb_chum\",\"mtb_chum\",\"mtb_chum\",\"mtb_chum\",\"geoffschuler\",\"geoffschuler\",\"geoffschuler\",\"geoffschuler\",\"geoffschuler\",\"geoffschuler\",\"geoffschuler\",\"geoffschuler\",\"geoffschuler\",\"geoffschuler\",\"geoffschuler\",\"geoffschuler\",\"geoffschuler\",\"geoffschuler\",\"geoffschuler\",\"geoffschuler\",\"geoffschuler\",\"geoffschuler\",\"geoffschuler\",\"geoffschuler\",\"geoffschuler\",\"geoffschuler\",\"geoffschuler\",\"geoffschuler\",\"geoffschuler\",\"geoffschuler\",\"geoffschuler\",\"geoffschuler\",\"geoffschuler\",\"geoffschuler\",\"geoffschuler\",\"geoffschuler\",\"geoffschuler\",\"geoffschuler\",\"geoffschuler\",\"geoffschuler\",\"geoffschuler\",\"geoffschuler\",\"geoffschuler\",\"geoffschuler\",\"geoffschuler\",\"geoffschuler\",\"geoffschuler\",\"geoffschuler\",\"janeeopie\",\"janeeopie\",\"janeeopie\",\"janeeopie\",\"janeeopie\",\"janeeopie\",\"janeeopie\",\"janeeopie\",\"janeeopie\",\"janeeopie\",\"janeeopie\",\"janeeopie\",\"janeeopie\",\"janeeopie\",\"janeeopie\",\"janeeopie\",\"janeeopie\",\"janeeopie\",\"janeeopie\",\"janeeopie\",\"janeeopie\",\"janeeopie\",\"janeeopie\",\"janeeopie\",\"janeeopie\",\"janeeopie\",\"janeeopie\",\"janeeopie\",\"janeeopie\",\"janeeopie\",\"janeeopie\",\"janeeopie\",\"janeeopie\",\"janeeopie\",\"janeeopie\",\"janeeopie\",\"janeeopie\",\"janeeopie\",\"janeeopie\",\"janeeopie\",\"janeeopie\",\"youtube\",\"youtube\",\"youtube\",\"youtube\",\"youtube\",\"youtube\",\"jestrbob\",\"jestrbob\",\"jestrbob\",\"jkellyca\",\"jkellyca\",\"jkellyca\",\"jkellyca\",\"jkellyca\",\"jkellyca\",\"jkellyca\",\"jkellyca\",\"jkellyca\",\"jkellyca\",\"jkellyca\",\"jkellyca\",\"jkellyca\",\"jkellyca\",\"jkellyca\",\"jkellyca\",\"jkellyca\",\"jkellyca\",\"jkellyca\",\"jkellyca\",\"jkellyca\",\"jkellyca\",\"kathmarval\",\"kathmarval\",\"kathmarval\",\"kathmarval\",\"kathmarval\",\"kathmarval\",\"kathmarval\",\"kathmarval\",\"kathmarval\",\"kathmarval\",\"kathmarval\",\"kathmarval\",\"kathmarval\",\"kathmarval\",\"kathmarval\",\"kathmarval\",\"kathmarval\",\"kathmarval\",\"kathmarval\",\"kathmarval\",\"kathmarval\",\"kathmarval\",\"kathmarval\",\"kathmarval\",\"kathmarval\",\"kathmarval\",\"kathmarval\",\"kathmarval\",\"kathmarval\",\"kathmarval\",\"kathmarval\",\"kathmarval\",\"kathmarval\",\"kathmarval\",\"patrickenrigh20\",\"patrickenrigh20\",\"phadingdark\",\"phadingdark\",\"drlindamd\",\"drlindamd\",\"wearelions3\",\"wendyorent\",\"wendyorent\",\"wendyorent\",\"wendyorent\",\"wendyorent\",\"wendyorent\",\"wendyorent\",\"wendyorent\",\"wendyorent\",\"wendyorent\",\"wendyorent\",\"wendyorent\",\"wendyorent\",\"wendyorent\",\"wendyorent\",\"wendyorent\",\"wendyorent\",\"wendyorent\",\"wendyorent\",\"wendyorent\",\"wendyorent\",\"wendyorent\",\"wendyorent\",\"wendyorent\",\"wendyorent\",\"wendyorent\",\"wendyorent\",\"wendyorent\",\"wendyorent\",\"wendyorent\",\"wendyorent\",\"wendyorent\",\"wendyorent\",\"wendyorent\",\"wendyorent\",\"wendyorent\",\"wendyorent\",\"mygovindia\",\"mygovindia\",\"mygovindia\",\"mygovindia\",\"mygovindia\",\"mygovindia\",\"mygovindia\",\"mygovindia\",\"mygovindia\",\"mygovindia\",\"mygovindia\",\"mygovindia\",\"mygovindia\",\"mygovindia\",\"mygovindia\",\"mygovindia\",\"mygovindia\",\"mygovindia\",\"mygovindia\",\"mygovindia\",\"mygovindia\",\"mygovindia\",\"mygovindia\",\"sbpryadav\",\"hmoindia\",\"hmoindia\",\"hmoindia\",\"hmoindia\",\"hmoindia\",\"hmoindia\",\"hmoindia\",\"hmoindia\",\"hmoindia\",\"hmoindia\",\"hmoindia\",\"hmoindia\",\"hmoindia\",\"hmoindia\",\"hmoindia\",\"hmoindia\",\"green_cait\",\"green_cait\",\"green_cait\",\"green_cait\",\"green_cait\",\"green_cait\",\"green_cait\",\"green_cait\",\"green_cait\",\"green_cait\",\"green_cait\",\"green_cait\",\"green_cait\",\"green_cait\",\"green_cait\",\"green_cait\",\"green_cait\",\"green_cait\",\"green_cait\",\"green_cait\",\"green_cait\",\"green_cait\",\"green_cait\",\"green_cait\",\"frdmfighternj\",\"frdmfighternj\",\"doubledumas\",\"doubledumas\",\"doubledumas\",\"doubledumas\",\"betteannec\",\"betteannec\",\"betteannec\",\"betteannec\",\"betteannec\",\"4pp34\",\"bbcforsnowwhite\",\"autisticshill\",\"autisticshill\",\"staci04907284\",\"staci04907284\",\"stopvaxxedlies\",\"stopvaxxedlies\",\"stopvaxxedlies\",\"stopvaxxedlies\",\"stopvaxxedlies\",\"stopvaxxedlies\",\"stopvaxxedlies\",\"stopvaxxedlies\",\"stopvaxxedlies\",\"stopvaxxedlies\",\"stopvaxxedlies\",\"stopvaxxedlies\",\"stopvaxxedlies\",\"stopvaxxedlies\",\"stopvaxxedlies\",\"stopvaxxedlies\",\"stopvaxxedlies\",\"takethatcdc\",\"takethatcdc\",\"takethatcdc\",\"takethatcdc\",\"takethatcdc\",\"takethatcdc\",\"takethatcdc\",\"takethatcdc\",\"takethatcdc\",\"takethatcdc\",\"takethatcdc\",\"takethatcdc\",\"takethatcdc\",\"takethatcdc\",\"tigerquinn7\",\"tiochango_\",\"tiochango_\",\"tiochango_\",\"tiochango_\",\"arashthingtosay\",\"carlosdelrio7\",\"truthlovingdr\",\"useemdumb\",\"bluelionblog\",\"bluelionblog\",\"bluelionblog\",\"bluelionblog\",\"bluelionblog\",\"bluelionblog\",\"bluelionblog\",\"bluelionblog\",\"bluelionblog\",\"bluelionblog\",\"bluelionblog\",\"bluelionblog\",\"bluelionblog\",\"bluelionblog\",\"carlsmythe\",\"carlsmythe\",\"carlsmythe\",\"carlsmythe\",\"carlsmythe\",\"carlsmythe\",\"carlsmythe\",\"carlsmythe\",\"carlsmythe\",\"carlsmythe\",\"carlsmythe\",\"carlsmythe\",\"carlsmythe\",\"carlsmythe\",\"carlsmythe\",\"carlsmythe\",\"chrisjohnsonmd\",\"chrisjohnsonmd\",\"chrisjohnsonmd\",\"chrisjohnsonmd\",\"chrisjohnsonmd\",\"chrisjohnsonmd\",\"chrisjohnsonmd\",\"chrisjohnsonmd\",\"chrisjohnsonmd\",\"chrisjohnsonmd\",\"chrisjohnsonmd\",\"chrisjohnsonmd\",\"chrisjohnsonmd\",\"chrisjohnsonmd\",\"chrisjohnsonmd\",\"chrisjohnsonmd\",\"chrisjohnsonmd\",\"chrisjohnsonmd\",\"chrisjohnsonmd\",\"chrisjohnsonmd\",\"chrisjohnsonmd\",\"chrisjohnsonmd\",\"chrisjohnsonmd\",\"chrisjohnsonmd\",\"chrisjohnsonmd\",\"chrisjohnsonmd\",\"chrisjohnsonmd\",\"chrisjohnsonmd\",\"chrisjohnsonmd\",\"chrisjohnsonmd\",\"chrisjohnsonmd\",\"chrisjohnsonmd\",\"chrisjohnsonmd\",\"quinntisg\",\"transformindia\",\"transformindia\",\"transformindia\",\"transformindia\",\"transformindia\",\"transformindia\",\"transformindia\",\"transformindia\",\"transformindia\",\"transformindia\",\"transformindia\",\"transformindia\",\"ddyadagirinews\",\"ddyadagirinews\",\"telanganacmo\",\"telanganacmo\",\"telanganacmo\",\"ians_india\",\"nikolovscience\",\"nikolovscience\",\"nikolovscience\",\"whosearo\",\"whosearo\",\"whosearo\",\"whosearo\",\"whosearo\",\"whosearo\",\"whosearo\",\"whosearo\",\"whosearo\",\"whosearo\",\"whosearo\",\"whosearo\",\"whosearo\",\"iron_mechanic\",\"iron_mechanic\",\"iron_mechanic\",\"iron_mechanic\",\"iron_mechanic\",\"iron_mechanic\",\"iron_mechanic\",\"iron_mechanic\",\"iron_mechanic\",\"iron_mechanic\",\"iron_mechanic\",\"iron_mechanic\",\"iron_mechanic\",\"iron_mechanic\",\"iron_mechanic\",\"iron_mechanic\",\"iron_mechanic\",\"iron_mechanic\",\"iron_mechanic\",\"iron_mechanic\",\"iron_mechanic\",\"iron_mechanic\",\"iron_mechanic\",\"iron_mechanic\",\"iron_mechanic\",\"iron_mechanic\",\"iron_mechanic\",\"iron_mechanic\",\"iron_mechanic\",\"iron_mechanic\",\"iron_mechanic\",\"iron_mechanic\",\"iron_mechanic\",\"iron_mechanic\",\"charitable_fury\",\"charitable_fury\",\"charitable_fury\",\"charitable_fury\",\"charitable_fury\",\"gauravs39703048\",\"barda\",\"barda\",\"barda\",\"lotusoak2\",\"lotusoak2\",\"kstateturk\",\"kstateturk\",\"kstateturk\",\"kstateturk\",\"kstateturk\",\"kstateturk\",\"kstateturk\",\"kstateturk\",\"kstateturk\",\"kstateturk\",\"kstateturk\",\"kstateturk\",\"kstateturk\",\"kstateturk\",\"kstateturk\",\"kstateturk\",\"kstateturk\",\"kstateturk\",\"kstateturk\",\"kstateturk\",\"kstateturk\",\"kstateturk\",\"kstateturk\",\"kstateturk\",\"kstateturk\",\"kstateturk\",\"aarohijaiswal15\",\"lynnfynn3\",\"lynnfynn3\",\"vilethepro\",\"vilethepro\",\"vilethepro\",\"vilethepro\",\"vilethepro\",\"vilethepro\",\"vilethepro\",\"vilethepro\",\"vilethepro\",\"urfriendstell\",\"urfriendstell\",\"organicdot\",\"organicdot\",\"organicdot\",\"organicdot\",\"organicdot\",\"organicdot\",\"organicdot\",\"organicdot\",\"organicdot\",\"organicdot\",\"nosciencedenial\",\"nosciencedenial\",\"drchriscole\",\"drchriscole\",\"drchriscole\",\"drchriscole\",\"drchriscole\",\"drchriscole\",\"drchriscole\",\"drchriscole\",\"drchriscole\",\"shared_facts\",\"shared_facts\",\"shared_facts\",\"shared_facts\",\"shared_facts\",\"shared_facts\",\"shared_facts\",\"shared_facts\",\"shared_facts\",\"doubledoublejon\",\"doubledoublejon\",\"ilzheven\",\"ilzheven\",\"ktibus\",\"ktibus\",\"kayvonpaul\",\"kayvonpaul\",\"kayvonpaul\",\"kayvonpaul\",\"kayvonpaul\",\"kayvonpaul\",\"kayvonpaul\",\"kayvonpaul\",\"kayvonpaul\",\"kayvonpaul\",\"wasim9876543\",\"wasim9876543\",\"clues\",\"clues\",\"abhishe48784479\",\"abhishe48784479\",\"abhishe48784479\",\"agileconcept\",\"agileconcept\",\"agileconcept\",\"ajg6882\",\"ajg6882\",\"docemru\",\"docemru\",\"docemru\",\"milan71655879\",\"milan71655879\",\"milan71655879\",\"milan71655879\",\"milan71655879\",\"ndtv\",\"ndtv\",\"ndtv\",\"mattb1974\",\"mattb1974\",\"hatgineal\",\"hatgineal\",\"rome_fell\",\"risettemd\",\"risettemd\",\"risettemd\",\"risettemd\",\"risettemd\",\"risettemd\",\"risettemd\",\"risettemd\",\"risettemd\",\"risettemd\",\"risettemd\",\"risettemd\",\"risettemd\",\"risettemd\",\"risettemd\",\"risettemd\",\"risettemd\",\"risettemd\",\"pharmaintyomama\",\"pharmaintyomama\",\"golfergirl2018\",\"golfergirl2018\",\"golfergirl2018\",\"geminifty\",\"geminifty\",\"smcwoof\",\"smcwoof\",\"smcwoof\",\"smcwoof\",\"smcwoof\",\"smcwoof\",\"smcwoof\",\"smcwoof\",\"smcwoof\",\"smcwoof\",\"smcwoof\",\"smcwoof\",\"smcwoof\",\"smcwoof\",\"smcwoof\",\"smcwoof\",\"smcwoof\",\"smcwoof\",\"smcwoof\",\"smcwoof\",\"smcwoof\",\"smcwoof\",\"smcwoof\",\"smcwoof\",\"smcwoof\",\"smcwoof\",\"smcwoof\",\"smcwoof\",\"smcwoof\",\"smcwoof\",\"smcwoof\",\"jarjarapu\",\"jarjarapu\",\"jarjarapu\",\"citeretv\",\"citeretv\",\"citeretv\",\"chaoticsx2\",\"chaoticsx2\",\"chaoticsx2\",\"chaoticsx2\",\"chaoticsx2\",\"barryjohnreid21\",\"barryjohnreid21\",\"barryjohnreid21\",\"barryjohnreid21\",\"barryjohnreid21\",\"barryjohnreid21\",\"barryjohnreid21\",\"barryjohnreid21\",\"barryjohnreid21\",\"barryjohnreid21\",\"barryjohnreid21\",\"barryjohnreid21\",\"barryjohnreid21\",\"barryjohnreid21\",\"barryjohnreid21\",\"barryjohnreid21\",\"bbcworld\",\"bbcworld\",\"bbcworld\",\"paulvcooper1\",\"paulvcooper1\",\"paulvcooper1\",\"paulvcooper1\",\"paulvcooper1\",\"paulvcooper1\",\"paulvcooper1\",\"paulvcooper1\",\"paulvcooper1\",\"paulvcooper1\",\"paulvcooper1\",\"paulvcooper1\",\"paulvcooper1\",\"paulvcooper1\",\"maggiec_95\",\"un\",\"un\",\"un\",\"un\",\"un\",\"un\",\"monstatofu\",\"monstatofu\",\"monstatofu\",\"monstatofu\",\"monstatofu\",\"monstatofu\",\"monstatofu\",\"cnnbrk\",\"cnnbrk\",\"cnnbrk\",\"cnnbrk\",\"cnnbrk\",\"ps_9171\",\"ps_9171\",\"laughlandmorgan\",\"laughlandmorgan\",\"laughlandmorgan\",\"laughlandmorgan\",\"laughlandmorgan\",\"laughlandmorgan\",\"laughlandmorgan\",\"bglthmnd\",\"bglthmnd\",\"bglthmnd\",\"bglthmnd\",\"bglthmnd\",\"bglthmnd\",\"bglthmnd\",\"bglthmnd\",\"auscandoc\",\"auscandoc\",\"auscandoc\",\"auscandoc\",\"auscandoc\",\"luhhrennn\",\"luhhrennn\",\"luhhrennn\",\"luhhrennn\",\"liamkav\",\"liamkav\",\"liamkav\",\"liamkav\",\"lalaruefrench75\",\"lalaruefrench75\",\"lalaruefrench75\",\"lalaruefrench75\",\"lalaruefrench75\",\"lalaruefrench75\",\"kevinault\",\"kevinault\",\"kevinault\",\"kevinault\",\"kevinault\",\"kevinault\",\"jdsro159\",\"jdsro159\",\"jdsro159\",\"jdsro159\",\"jdsro159\",\"jdsro159\",\"jdsro159\",\"handmadekathy\",\"handmadekathy\",\"handmadekathy\",\"handmadekathy\",\"chamberdisciple\",\"chamberdisciple\",\"chamberdisciple\",\"chamberdisciple\",\"chamberdisciple\",\"chamberdisciple\",\"swedishchf\",\"swedishchf\",\"swedishchf\",\"takethatdoctors\",\"takethatdoctors\",\"takethatdoctors\",\"takethatdoctors\",\"takethatdoctors\",\"takethatdoctors\",\"takethatdoctors\",\"takethatdoctors\",\"troydee\",\"troydee\",\"troydee\",\"troydee\",\"troydee\",\"troydee\",\"troydee\",\"troydee\",\"troydee\",\"troydee\",\"troydee\",\"md444444444\",\"md444444444\",\"md444444444\",\"michaelmina_lab\",\"michaelmina_lab\",\"michaelmina_lab\",\"michaelmina_lab\",\"michaelmina_lab\",\"michaelmina_lab\",\"michaelmina_lab\",\"mmelgar09\",\"mmelgar09\",\"mmelgar09\",\"mmelgar09\",\"mmelgar09\",\"mstrixter\",\"mstrixter\",\"mstrixter\",\"mstrixter\",\"mstrixter\",\"mstrixter\",\"mynameisearlb\",\"mynameisearlb\",\"mynameisearlb\",\"mynameisearlb\",\"mynameisearlb\",\"mynameisearlb\",\"mynameisearlb\",\"mynameisearlb\",\"mynameisearlb\",\"mynameisearlb\",\"mynameisearlb\",\"mynameisearlb\",\"parentmindinc\",\"parentmindinc\",\"parentmindinc\",\"parentmindinc\",\"parentmindinc\",\"parentmindinc\",\"shonadmcdermott\",\"shonadmcdermott\",\"shonadmcdermott\",\"shonadmcdermott\",\"shonadmcdermott\",\"shonadmcdermott\",\"shonadmcdermott\",\"pennington_dora\",\"pennington_dora\",\"pennington_dora\",\"pennington_dora\",\"pennington_dora\",\"pennington_dora\",\"pennington_dora\",\"pennington_dora\",\"pennington_dora\",\"pennington_dora\",\"retire_young_38\",\"retire_young_38\",\"retire_young_38\",\"retire_young_38\",\"retire_young_38\",\"rocza\",\"rocza\",\"rocza\",\"rocza\",\"rocza\",\"runhack\",\"runhack\",\"runhack\",\"runhack\",\"runhack\",\"runhack\",\"runhack\",\"runhack\",\"runhack\",\"runhack\",\"runhack\",\"musthafaabdulra\",\"musthafaabdulra\",\"musthafaabdulra\",\"musthafaabdulra\",\"musthafaabdulra\",\"musthafaabdulra\",\"nihdirector\",\"nihdirector\",\"katlarue7\",\"katlarue7\",\"katlarue7\",\"katlarue7\",\"katlarue7\",\"katlarue7\",\"katlarue7\",\"katlarue7\",\"katlarue7\",\"katlarue7\",\"thatbackwoodsb\",\"rcprentice\",\"rcprentice\",\"rcprentice\",\"rcprentice\",\"rcprentice\",\"rcprentice\",\"rcprentice\",\"rcprentice\",\"rcprentice\",\"rcprentice\",\"rcprentice\",\"rcprentice\",\"rcprentice\",\"lightcontrol2\",\"lightcontrol2\",\"lightcontrol2\",\"lightcontrol2\",\"markmcdougall13\",\"markmcdougall13\",\"markmcdougall13\",\"markmcdougall13\",\"markmcdougall13\",\"markmcdougall13\",\"markmcdougall13\",\"markmcdougall13\",\"markmcdougall13\",\"markmcdougall13\",\"grumfromnorwich\",\"grumfromnorwich\",\"grumfromnorwich\",\"grumfromnorwich\",\"grumfromnorwich\",\"science_cited\",\"science_cited\",\"science_cited\",\"science_cited\",\"science_cited\",\"bodhaybodh\",\"ranajhk\",\"ranajhk\",\"ranajhk\",\"dan613\",\"dan613\",\"geneticliteracy\",\"santhemant\",\"haircutspock\",\"hpvsideeffects\",\"hupperichwerner\",\"hupperichwerner\",\"rainmc\",\"david_5705\",\"david_5705\",\"david_5705\",\"gardeniagal4\",\"gardeniagal4\",\"shibadatta007\",\"mommabear1231\",\"mommabear1231\",\"ravisin88527356\",\"ravisin88527356\",\"ravisin88527356\",\"mogiliballa\",\"je_etu\",\"steverhone4\",\"steverhone4\",\"steverhone4\",\"steverhone4\",\"steverhone4\",\"lindellgirl\",\"theatlantic\",\"theatlantic\",\"theatlantic\",\"sachi_mahe\",\"moayush\",\"moayush\",\"moayush\",\"rainbow_golden\",\"rainbow_golden\",\"rainbow_golden\",\"22vetsaday1\",\"22vetsaday1\",\"22vetsaday1\",\"22vetsaday1\",\"22vetsaday1\",\"gatesfoundation\",\"gatesfoundation\",\"gatesfoundation\",\"gatesfoundation\",\"tchailatte\",\"natedoromal\",\"natedoromal\",\"natedoromal\",\"mel_we89\",\"mel_we89\",\"us_core\",\"us_core\",\"adiacc\",\"prinsciadvgoi\",\"prinsciadvgoi\",\"prinsciadvgoi\",\"prinsciadvgoi\",\"prinsciadvgoi\",\"mcgrooverson\",\"pragdreamer\",\"phochsian\",\"benadamso_o\",\"indiatoday\",\"indiatoday\",\"indiatoday\",\"indiatoday\",\"cbsnews\",\"cbsnews\",\"cbsnews\",\"cbsnews\",\"cbsnews\",\"cbsnews\",\"rajeshvrc\",\"digivorr\",\"digivorr\",\"digivorr\",\"ziggystardad\",\"ziggystardad\",\"ziggystardad\",\"ziggystardad\",\"ziggystardad\",\"ziggystardad\",\"alisonpalk\",\"lewbloch\",\"lewbloch\",\"lewbloch\",\"lewbloch\",\"roguetrader84\",\"roguetrader84\",\"roguetrader84\",\"pibhindi\",\"dominique85_86\",\"dominique85_86\",\"dominique85_86\",\"dominique85_86\",\"dominique85_86\",\"stopcensorship7\",\"stopcensorship7\",\"triplegggx\",\"triplegggx\",\"thegrimbarian\",\"thegrimbarian\",\"robertcecil1608\",\"robertcecil1608\",\"robertcecil1608\",\"robertcecil1608\",\"death_is_final\",\"ayushmannha\",\"ayushmannha\",\"ayushmannha\",\"ayushmannha\",\"rashtrapatibhvn\",\"rashtrapatibhvn\",\"rashtrapatibhvn\",\"rashtrapatibhvn\",\"zeenews\",\"zeenews\",\"zeenews\",\"zeenews\",\"jagan1137\",\"ajeetimpact\",\"ajeetimpact\",\"debayanepygen\",\"debayanepygen\",\"cheryl1492\",\"glennedrover\",\"rob_miller12345\",\"vickie627\",\"vickie627\",\"allie4christ\",\"allie4christ\",\"swani741\",\"svaxhole\",\"whoafro\",\"whoafro\",\"jami_denice\",\"who_europe\",\"who_europe\",\"whoemro\",\"whoemro\",\"pahowho\",\"pahowho\",\"mongo3804\",\"cnnnews18\",\"whowpro\",\"whowpro\",\"mommaesq\",\"mommaesq\",\"mommaesq\",\"hinduvedik\",\"hinduvedik\",\"hinduvedik\",\"geor97\",\"geor97\",\"geor97\",\"nsitharaman\",\"hopebegley\",\"angela_bower\",\"mathenaut\",\"eddarrell\",\"psfnyc5\",\"psfnyc5\",\"aly_meek\",\"aly_meek\",\"aly_meek\",\"aly_meek\",\"qtent2016\",\"indiadst\",\"marikatt77\",\"rocket_1981\",\"csir_ind\",\"abpnews\",\"abpnews\",\"abpnews\",\"abpnews\",\"abpnews\",\"abpnews\",\"piyushgoyal\",\"christiano_84\",\"christiano_84\",\"christiano_84\",\"incindia\",\"incindia\"],\"width\":[186,25,12,8,4,4,4,4,3,2,1,1,29,21,18,18,12,12,11,11,10,10,10,9,8,8,7,7,6,6,6,6,5,5,5,5,5,4,4,4,4,4,4,4,4,3,3,3,3,3,3,3,3,3,3,2,2,2,2,2,2,2,2,2,2,2,2,2,2,2,2,2,2,2,2,2,2,2,2,2,2,2,2,1,1,1,1,1,1,1,1,1,1,1,1,1,1,1,1,1,1,1,1,1,1,1,1,1,1,1,1,1,1,1,1,1,1,1,163,92,91,72,52,41,38,30,25,23,18,16,8,6,6,4,3,3,3,2,2,2,2,2,2,2,15,9,8,8,7,6,4,4,4,3,3,3,2,2,2,2,2,2,2,2,2,2,2,2,2,1,1,1,1,1,1,1,1,1,1,1,1,1,8,6,3,3,2,2,2,2,2,2,1,1,1,1,1,1,1,1,1,20,19,6,5,4,3,2,2,2,2,1,1,1,1,1,1,1,1,1,1,1,5,4,2,1,1,1,1,1,62,11,11,9,9,5,2,1,1,5,3,3,3,3,2,2,2,2,2,2,1,1,1,1,1,1,1,1,1,1,1,1,1,1,1,1,1,1,1,10,9,3,3,3,2,2,2,2,1,1,1,1,1,1,1,1,1,4,4,3,2,2,1,1,1,1,1,3,2,2,2,2,1,1,1,36,14,5,2,1,1,1,1,4,2,2,1,1,1,1,1,1,2,1,1,1,1,1,18,12,7,6,5,4,2,2,2,2,2,2,1,1,1,1,1,1,1,28,24,24,12,10,4,4,4,3,3,2,2,1,1,1,1,1,1,22,16,13,12,6,6,6,5,5,5,4,4,4,4,4,3,3,3,3,3,3,2,2,2,2,2,2,2,2,1,1,1,1,1,1,1,1,1,1,1,1,1,1,1,1,1,1,1,1,1,1,1,1,1,1,1,1,1,1,1,1,1,1,1,1,1,1,1,1,1,1,1,1,1,1,1,1,1,1,1,1,1,1,1,1,1,4,1,1,1,1,1,1,25,11,10,2,5,3,2,2,2,2,2,2,2,2,1,1,1,1,1,1,1,14,13,9,9,8,6,4,4,3,2,2,2,2,2,2,2,2,2,1,1,1,1,1,1,1,1,1,1,1,1,1,1,1,1,4,4,4,4,3,3,3,3,2,2,2,2,2,2,2,2,2,1,1,1,1,1,1,1,1,1,1,1,1,1,1,11,10,9,8,7,6,6,6,6,5,5,4,4,4,4,3,3,3,3,3,3,3,2,2,2,2,2,2,2,2,2,2,2,2,2,2,2,2,2,2,2,2,2,2,2,1,1,1,1,1,1,1,1,1,1,1,1,1,1,1,1,1,1,1,1,1,1,1,1,1,1,1,1,1,1,1,1,1,1,1,1,1,13,11,6,5,4,3,3,2,2,2,2,1,1,1,1,1,1,1,1,14,13,9,9,8,4,4,2,2,2,2,2,2,2,2,2,2,1,1,1,1,1,1,1,1,1,1,1,1,1,1,1,1,1,1,1,20,18,14,5,3,3,2,2,1,1,1,1,1,21,3,1,1,1,1,1,1,1,7,7,6,3,2,2,2,2,2,2,2,2,2,1,1,1,1,1,1,1,1,1,1,1,1,1,1,1,1,1,1,1,1,21,2,1,1,1,1,15,14,13,9,9,8,4,3,3,3,3,2,2,2,2,2,2,2,2,2,2,2,2,2,1,1,1,1,1,1,1,1,1,1,1,1,1,1,1,1,1,1,1,1,1,1,1,1,1,21,15,7,6,4,4,4,3,2,1,1,1,1,6,4,4,3,2,1,1,1,4,2,1,1,1,1,3,2,2,19,2,16,15,15,1,14,14,14,14,1,14,14,14,14,12,11,3,10,9,8,8,8,8,2,8,8,8,4,3,2,2,2,2,2,1,2,1,1,1,1,1,1,1,2,2,2,1,1,1,1,1,1,1,1,1,1,3,3,1,1,1,1,1,4,4,3,3,2,2,2,2,2,2,2,2,1,1,1,1,1,1,1,1,1,1,1,1,1,4,4,2,2,2,1,1,1,2,2,2,1,1,1,1,1,1,1,1,2,1,1,1,14,5,4,4,4,4,4,3,3,2,2,2,17,14,5,3,2,2,1,1,1,1,8,6,6,5,5,4,3,3,3,3,3,2,2,2,2,2,2,2,2,2,2,2,2,2,1,1,1,1,1,1,1,1,1,1,1,1,1,1,1,1,1,1,1,1,1,1,1,1,1,1,1,1,1,1,1,1,1,1,1,1,1,1,1,1,1,1,1,1,1,1,1,1,1,1,1,1,1,1,1,1,1,1,1,2,1,1,1,1,1,1,1,1,1,1,1,1,1,1,1,1,1,1,1,1,1,1,1,1,4,4,2,1,1,1,1,1,1,1,1,1,3,2,1,1,1,1,1,1,1,1,1,3,2,2,2,2,1,10,7,6,4,4,2,2,2,2,2,2,1,2,1,1,1,1,10,4,4,4,2,1,9,8,7,5,4,4,4,4,3,3,3,3,3,2,2,2,2,2,2,1,1,1,1,1,1,1,1,1,1,1,1,1,1,1,1,1,1,1,1,1,1,15,8,4,2,2,1,1,1,8,5,4,4,3,3,2,2,2,2,2,2,2,2,2,2,1,1,1,1,1,1,1,1,1,1,1,1,1,1,1,1,1,1,1,1,1,1,1,1,1,1,2,1,1,1,1,1,14,14,14,14,14,13,9,9,8,2,2,2,2,2,2,2,1,1,1,1,1,1,1,1,1,1,1,1,1,1,1,13,9,8,7,2,2,2,2,2,2,1,1,1,1,1,1,1,1,1,1,1,1,1,13,9,9,4,4,4,2,2,2,2,2,2,1,1,1,1,1,1,1,1,1,1,1,1,1,1,13,9,9,5,3,2,2,2,2,2,2,2,2,2,1,1,1,1,1,1,1,1,1,1,1,1,1,1,1,14,4,3,3,1,1,1,1,1,1,1,7,7,7,6,4,4,3,2,2,2,2,2,2,2,2,2,1,1,1,1,1,1,1,1,1,1,1,1,1,1,1,1,1,1,1,1,1,1,1,1,1,1,1,1,1,1,1,1,1,1,1,1,1,1,1,1,1,1,1,1,1,1,1,4,2,1,1,1,1,1,1,1,5,4,3,2,2,2,1,1,1,1,1,1,1,1,1,13,9,9,8,3,2,2,2,2,2,2,2,2,2,1,1,1,1,1,1,1,1,1,1,1,1,1,1,1,1,1,1,1,1,4,2,2,2,2,2,2,1,1,6,3,3,1,1,1,14,4,4,4,3,3,3,3,3,1,10,4,4,4,4,3,3,2,2,2,2,2,2,2,2,1,1,1,1,1,1,1,1,1,1,1,1,1,1,1,3,2,2,2,1,1,1,1,1,1,1,1,1,1,1,1,1,1,1,1,1,1,1,1,1,1,1,4,2,1,1,1,1,2,1,1,1,2,2,1,1,1,1,1,5,2,2,1,1,1,1,1,1,1,2,1,1,1,1,1,1,1,1,1,1,1,1,1,1,1,1,2,1,1,2,1,1,1,1,1,2,2,1,1,2,1,1,1,1,4,4,2,2,2,12,2,2,1,8,6,4,3,2,1,1,1,6,1,1,1,1,8,6,6,6,5,4,3,3,3,3,3,2,2,2,2,2,2,2,2,2,2,2,2,2,2,2,2,2,2,2,2,2,2,2,2,2,2,2,1,1,1,1,1,1,1,1,1,1,1,1,1,1,1,1,1,1,1,1,1,1,1,1,1,1,1,1,1,1,1,1,1,1,4,3,3,2,2,2,2,1,1,1,1,3,3,2,2,1,2,1,1,1,1,1,1,11,4,2,2,2,1,1,4,3,2,2,1,1,1,1,1,1,1,1,5,4,4,3,1,2,2,1,1,11,7,4,3,2,2,1,1,1,1,5,1,1,1,1,1,1,1,1,8,3,3,3,1,1,1,1,1,1,1,1,1,1,1,1,1,1,1,1,8,7,4,3,2,2,2,1,1,1,1,1,1,1,1,1,1,1,1,1,5,1,1,1,1,1,1,1,10,9,7,2,1,1,1,1,1,5,4,3,3,2,2,2,1,1,1,1,1,1,1,1,1,1,1,1,1,1,1,1,1,1,1,1,1,1,2,1,1,1,1,1,1,1,1,1,1,3,3,2,1,1,1,1,1,1,1,1,1,1,1,1,1,1,1,1,3,3,2,2,1,1,7,6,5,5,3,2,2,1,1,2,2,2,2,2,2,1,1,1,1,1,1,1,6,2,2,2,1,1,9,3,2,2,2,2,1,1,1,4,3,3,2,1,1,1,1,1,1,2,5,5,5,5,4,1,1,1,1,1,1,1,2,1,1,1,1,1,1,1,1,1,1,1,1,1,1,1,1,7,4,1,1,1,1,1,1,1,1,1,1,3,2,1,1,1,1,1,1,1,1,1,1,1,1,1,1,1,6,5,4,4,3,2,2,1,1,1,1,1,1,1,1,1,1,1,1,1,2,1,1,2,1,1,1,1,1,1,1,1,8,1,1,1,1,1,1,1,1,1,1,2,1,1,1,1,8,4,3,2,2,2,1,1,1,1,1,8,5,4,4,3,2,2,2,2,1,1,1,1,1,1,1,1,1,8,8,8,8,8,8,7,7,7,7,7,5,3,2,2,1,1,1,1,1,1,4,3,2,2,2,2,1,1,1,1,1,1,1,1,1,1,1,1,1,1,1,1,2,2,2,2,2,2,2,1,1,1,1,5,2,2,2,2,1,1,1,1,1,1,1,3,3,2,2,1,1,1,1,1,1,1,1,1,1,2,2,1,4,2,2,1,1,1,1,1,1,1,1,2,1,1,2,2,1,1,1,1,2,2,1,1,1,1,1,3,3,2,2,2,2,2,1,1,1,1,1,1,1,7,6,6,5,4,3,2,2,2,2,2,2,2,1,1,1,1,1,1,1,1,1,1,1,1,1,1,1,1,1,1,1,1,1,1,2,2,2,1,1,1,1,1,2,2,2,1,1,4,2,4,2,2,2,2,1,1,1,1,1,1,1,1,1,1,1,2,2,1,1,1,1,1,1,4,2,1,7,5,4,3,3,3,3,3,3,3,3,3,3,3,3,3,3,1,3,3,3,3,3,3,3,3,3,3,3,3,3,3,3,3,3,3,3,3,3,3,3,3,3,3,3,3,3,3,3,3,2,2,2,1,2,2,2,2,2,1,2,1,2,1,1,1,1,2,2,2,2,1,2,1,1,1,1,1,1,1,1,1,1,1,1,1,1,1,1,1,1,1,1,1,1,1,1,1,1,1,1,1,1,1,1,1,1,1,1,1,1,1,1,1,1,1,1,1,1,1,1,1,1,1,1,1,1,1,1,1,1,1,1,1,1,1,1,1,1,1,1,1,1,1,2,2,1,1,1,3,2,2,1,1,2,2,2,2,1,1,7,5,2,2,1,1,1,1,4,1,1,1,1,1,1,1,1,1,4,6,4,2,2,2,6,6,6,2,2,2,2,1,1,1,1,1,1,1,1,1,1,1,1,1,1,1,1,1,6,6,5,3,3,3,2,2,2,2,2,2,1,1,1,3,2,2,2,1,1,1,1,1,1,1,1,1,1,1,1,1,1,1,1,1,1,4,2,1,1,6,2,3,4,3,3,3,3,3,1,2,1,2,2,2,2,2,2,1,1,1,1,1,1,1,1,1,3,2,2,1,1,1,1,1,1,1,1,1,1,2,2,2,2,1,1,1,1,1,1,1,1,1,1,3,2,2,1,1,1,6,3,2,2,1,1,1,2,2,1,1,1,1,2,1,1,1,1,1,1,1,1,1,1,1,4,4,3,2,2,2,1,6,2,1,1,1,2,1,1,1,1,2,2,1,1,1,1,1,1,1,1,1,1,2,1,1,1,1,2,2,2,1,1,4,2,1,1,1,2,1,2,2,1,1,1,1,5,5,5,5,2,2,2,2,1,1,1,1,1,1,1,1,1,1,2,2,2,1,1,1,1,1,1,1,1,1,1,1,1,1,1,1,1,1,1,1,1,1,1,1,1,1,1,1,1,1,1,1,1,1,2,1,1,1,1,3,2,3,3,2,2,2,1,3,2,2,1,3,3,1,1,2,2,2,2,2,1,1,1,1,1,1,1,1,1,1,1,1,1,1,1,1,1,1,1,1,1,1,1,1,1,1,1,1,1,1,1,1,1,1,1,1,1,1,1,1,1,1,1,1,1,1,5,2,2,1,1,1,1,1,1,1,1,1,3,2,2,2,2,1,1,1,1,1,1,1,1,1,1,1,1,1,1,2,2,2,2,2,2,1,1,1,1,1,1,1,1,1,1,1,1,1,1,1,1,1,1,2,2,1,1,1,1,1,1,3,1,1,1,1,1,1,1,1,1,1,2,2,2,1,1,1,3,3,2,1,1,2,2,1,1,1,1,1,1,1,1,1,1,1,1,1,5,1,1,2,2,1,2,2,1,1,1,1,1,1,1,1,1,1,1,1,2,1,1,1,1,1,1,1,1,1,1,1,1,1,1,1,1,1,1,1,1,1,1,1,1,1,1,2,1,1,1,1,1,1,1,1,1,3,2,1,1,1,1,1,1,1,1,1,1,1,1,1,1,1,1,1,1,1,1,1,1,1,1,1,1,1,1,1,1,1,2,1,1,1,1,1,1,1,1,1,1,1,1,1,1,1,1,1,1,1,1,1,2,2,2,2,2,1,1,1,1,1,1,1,1,4,3,3,1,1,3,1,3,3,3,3,3,3,1,1,3,3,3,3,2,3,3,3,3,3,2,2,1,1,1,1,1,1,1,1,1,1,1,3,2,1,1,1,1,1,1,1,1,2,2,1,1,1,1,1,1,2,2,1,1,1,1,1,1,1,1,4,4,4,2,2,2,2,2,2,2,2,2,2,1,1,2,1,1,1,1,4,4,4,4,4,1,2,2,2,2,2,2,2,2,2,2,2,2,2,2,2,2,2,2,2,2,2,2,2,2,2,2,1,2,2,2,2,2,2,2,2,2,2,1,2,2,1,2,2,2,1,1,1,1,1,1,1,2,2,2,1,1,1,1,1,1,1,1,1,1,1,2,1,1,1,1,2,2,2,2,2,1,1,1,1,1,1,1,1,1,1,1,1,1,1,1,1,1,1,1,3,3,2,2,2,2,2,2,2,2,1,2,2,1,1,1,1,1,1,1,1,1,1,1,1,1,1,1,1,1,1,1,1,1,1,1,1,1,1,1,1,1,1,1,1,1,1,1,1,1,1,1,1,1,1,1,1,1,1,1,1,1,1,1,1,1,1,1,1,1,1,1,1,1,1,1,1,3,2,1,4,1,1,1,1,1,1,1,1,1,1,1,1,1,1,4,2,2,2,2,1,1,1,1,1,3,2,1,1,3,2,2,2,2,2,2,2,2,2,2,1,2,2,2,2,2,2,2,2,2,2,2,2,2,2,2,2,2,2,2,2,2,2,2,2,2,2,2,2,2,2,1,2,2,2,1,1,1,1,1,1,2,2,2,1,1,2,2,2,2,1,1,1,1,1,1,1,1,1,1,1,1,1,1,2,1,1,1,1,1,1,1,1,1,1,1,1,1,1,2,1,1,1,1,1,1,2,2,1,3,1,1,1,1,1,4,2,2,2,2,2,2,2,2,2,1,2,2,2,2,2,2,2,2,2,2,2,2,2,2,2,2,2,2,2,2,2,2,2,2,2,2,2,2,2,2,2,2,2,1,1,1,1,1,1,1,1,1,1,1,1,1,1,1,1,1,1,1,1,1,1,1,1,1,1,1,2,1,1,2,2,1,1,1,1,1,1,1,2,1,1,1,1,1,1,4,1,3,2,1,3,3,3,3,3,3,3,3,3,3,3,1,1,3,3,3,2,3,1,1,2,2,2,2,1,1,1,1,1,1,1,2,1,1,1,1,1,1,1,2,1,1,4,3,3,2,2,2,2,2,2,2,2,2,2,2,2,2,2,2,2,2,2,1,4,2,2,1,2,2,1,1,2,2,1,2,1,1,1,1,1,1,1,1,1,1,1,1,1,1,1,1,1,1,1,1,1,1,1,1,1,1,1,1,4,3,2,1,2,2,2,1,1,1,1,1,1,1,1,1,1,1,1,1,1,1,1,1,1,1,1,1,1,1,1,1,1,1,1,1,2,2,1,1,1,1,1,1,1,1,4,1,1,1,2,1,1,1,1,1,1,2,1,1,1,1,1,1,1,1,1,1,1,1,1,1,1,1,1,1,1,1,1,1,1,1,1,1,1,3,2,1,3,2,1,3,2,1,1,1,1,1,1,1,1,1,1,1,1,1,1,2,2,1,1,1,1,1,1,2,1,1,1,1,1,1,1,1,1,1,1,1,1,1,1,1,1,1,1,1,1,1,1,1,1,1,2,1,1,1,1,1,1,1,1,1,1,1,1,1,1,1,1,1,1,1,1,3,2,2,2,2,2,2,2,2,2,2,2,2,2,2,2,2,2,2,2,2,2,2,2,2,1,1,1,1,1,1,2,1,1,1,1,1,1,2,1,1,1,1,1,1,2,1,1,1,1,2,2,1,1,1,1,1,3,2,2,2,1,1,1,1,1,3,1,1,1,2,1,1,1,1,1,1,1,1,1,1,1,2,1,1,1,1,1,1,2,2,2,1,1,1,1,3,2,2,2,2,2,2,2,2,2,2,2,2,2,2,2,2,2,2,2,2,2,2,2,2,2,2,2,2,2,2,2,2,2,2,2,2,2,1,1,1,1,1,1,2,2,2,1,1,2,1,2,2,1,1,1,1,1,1,1,1,1,1,1,1,1,1,1,1,1,1,1,1,1,1,1,1,1,1,1,1,1,1,1,1,1,1,1,1,1,1,1,1,1,1,1,1,1,1,1,1,1,1,1,1,1,1,2,1,1,1,1,2,2,2,1,1,1,1,1,1,1,1,1,1,1,1,1,1,1,1,1,2,2,1,1,2,2,1,1,1,1,1,1,1,1,1,1,1,1,1,1,1,1,1,1,2,2,1,1,1,1,1,1,1,1,1,1,1,1,1,1,1,2,1,1,1,1,1,1,1,1,1,1,1,1,1,1,1,1,1,1,1,1,1,1,1,1,1,1,1,1,1,1,3,1,1,1,1,3,1,1,1,1,2,1,1,1,1,2,2,2,1,2,2,2,1,1,1,1,1,1,1,1,1,1,1,1,1,1,1,1,1,1,1,1,1,1,3,2,1,1,1,1,1,1,1,1,1,1,1,1,1,1,1,1,1,1,1,1,1,1,1,1,1,1,1,1,1,1,1,1,1,1,1,1,1,1,1,1,1,1,1,1,1,1,1,1,1,1,1,2,1,3,1,3,3,2,1,1,1,1,1,1,1,2,2,2,1,1,1,1,1,1,1,1,1,1,1,2,2,2,1,1,1,1,1,1,1,1,2,2,1,1,1,1,1,1,1,1,1,3,1,1,1,1,1,1,1,2,2,1,1,1,2,2,1,1,1,1,1,2,1,1,1,1,1,1,1,1,1,1,1,1,1,1,1,1,3,3,1,1,1,1,1,1,2,1,1,1,1,1,1,3,2,1,1,1,1,1,2,2,2,2,1,1,1,1,1,1,1,1,3,1,1,1,1,1,1,1,1,1,1,1,1,1,1,1,1,1,2,2,1,1,1,1,1,1,1,1,1,1,1,1,1,1,1,1,1,2,1,1,1,1,1,1,1,1,1,1,1,1,1,2,2,1,1,1,1,1,1,1,1,1,1,1,1,1,1,1,1,1,1,1,1,1,1,1,2,2,1,1,1,1,1,1,1,1,1,1,1,1,1,1,1,1,1,1,1,1,1,1,1,1,1,1,1,1,1,1,1,1,1,1,1,1,1,1,1,1,1,1,1,1,1,1,1,1,1,1,1,1,1,2,1,1,1,1,1,1,1,1,1,1,1,1,1,1,1,1,1,1,1,1,1,1,1,1,1,1,1,1,1,1,1,1,1,1,1,1,1,1,2,2,2,1,1,1,1,1,1,1,1,1,1,1,1,1,1,1,1,1,1,1,1,1,1,1,3,1,2,2,1,1,1,1,1,1,1,1,1,1,1,1,1,1,1,1,1,1,1,1,1,1,1,1,1,1,1,1,1,1,1,1,1,1,1,1,1,1,1,1,2,2,1,1,1,1,1,1,1,1,1,1,1,1,1,1,1,1,1,1,1,1,1,1,1,1,1,1,1,1,1,1,1,1,1,1,1,1,1,1,1,2,1,1,1,1,1,1,1,1,2,2,2,2,1,1,1,1,1,1,1,1,1,1,1,1,1,1,1,1,1,1,2,1,1,1,1,1,1,1,1,1,1,1,1,1,1,1,1,1,1,1,1,1,1,1,1,1,1,1,1,1,1,1,1,1,1,1,1,1,1,1,1,2,1,1,1,1,1,1,1,1,1,1,1,1,1,1,1,1,1,1,1,1,1,1,1,1,1,1,1,1,1,1,1,1,1,1,1,1,2,1,1,1,1,1,1,1,1,1,1,1,1,1,1,1,1,1,1,1,1,1,1,1,1,1,1,1,1,1,1,1,1,1,1,1,1,1,1,1,3,2,2,2,2,2,2,2,2,2,2,2,2,2,2,2,2,2,2,2,1,1,1,1,1,1,1,1,1,1,2,1,1,1,1,1,1,1,1,1,1,2,1,1,1,1,1,1,1,1,1,1,1,1,1,1,1,1,1,1,1,1,1,1,1,1,1,1,1,1,1,1,1,1,1,1,1,3,1,1,1,2,1,1,1,1,1,1,1,1,1,1,1,1,1,2,2,1,1,1,1,1,1,1,1,1,1,1,1,1,1,2,2,2,2,2,2,1,2,2,2,2,2,2,1,2,2,2,2,2,2,2,2,1,2,2,2,2,1,1,1,1,1,1,1,1,1,1,1,1,1,1,1,1,1,1,1,3,1,1,1,1,1,2,2,1,1,1,1,1,1,1,1,1,1,1,1,1,1,3,2,2,2,2,2,2,2,2,2,2,1,1,1,1,1,1,1,1,1,1,1,1,1,1,1,1,1,1,1,1,1,1,1,2,1,1,1,1,1,1,1,1,1,1,1,1,1,1,1,1,1,1,1,1,1,1,1,1,1,1,1,1,1,1,1,1,1,1,1,1,1,1,1,1,1,1,1,1,1,1,1,1,1,1,1,1,1,1,1,1,1,1,1,1,1,1,1,1,1,1,1,1,1,1,1,1,1,1,1,1,1,1,1,1,1,1,1,1,1,1,1,1,1,1,1,1,1,1,1,1,1,1,1,1,1,1,1,1,1,1,1,1,1,1,1,2,1,1,1,1,2,1,1,1,1,1,1,1,2,1,1,1,1,1,1,1,1,1,1,1,1,1,1,1,1,1,1,1,1,1,1,1,1,2,2,1,1,1,1,1,1,1,1,1,1,1,1,1,1,1,1,1,1,1,1,1,1,1,1,1,1,1,1,1,1,1,1,1,1,1,1,1,1,1,1,1,1,1,1,1,1,1,1,1,1,1,1,1,1,1,1,1,1,1,1,1,1,1,1,1,1,1,1,1,1,1,1,1,1,1,1,1,1,1,1,1,1,1,1,1,1,1,1,1,1,1,1,1,1,2,1,1,1,1,1,1,2,2,1,1,1,1,1,1,1,1,1,1,1,2,1,1,1,2,1,1,1,2,1,1,1,1,1,2,1,1,1,1,1,2,1,1,1,1,1,1,1,1,1,1,2,1,1,1,1,1,1,1,1,2,1,1,1,1,1,1,1,2,1,1,1,1,1,1,1,1,1,1,1,1,1,2,1,1,1,1,1,1,2,1,1,1,1,1,1,1,1,1,1,2,1,1,1,1,1,1,1,1,1,1,1,2,1,1,1,1,1,2,1,1,1,1,1,1,2,1,1,1,1,1,1,1,1,1,2,1,1,1,1,2,1,1,1,1,2,1,1,1,1,1,1,1,1,1,1,2,1,1,1,1,1,2,1,2,1,1,1,1,1,1,1,1,1,1,2,1,1,1,1,1,1,1,1,1,1,1,1,1,1,1,1,2,1,1,1,1,1,1,1,1,1,2,1,1,1,1,2,1,1,1,1,1,1,1,1,1,1,1,1,1,1,1,1,1,1,1,1,1,1,1,1,1,1,1,1,1,1,1,1,1,1,1,1,1,1,1,2,1,1,1,2,1,1,1,1,1,1,1,1,1,1,1,1,1,1,1,1,1,1,1,1,1,1,1,1,1,1,1,1,1,1,1,1,1,1,1,1,1,1,1,2,1,1,1,1,1,1,1,1,1,1,2,1,1,1,1,1,1,1,1,1,1,1,1,1,1,1,1,1,1,1,1,1,1,1,1,1,1,1,1,1,1,1,1,1,1,1,1,1,1,1,1,1,1,2,1,1,1,1,1,1,1,1,1,1,1,1,1,1,1,1,1,1,1,1,1,1,1,1,1,1,1,1,1,1,1,1,1,1,1,1,1,1,1,1,1,1,1,1,1,1,1,1,1,1,1,1,1,1,1,1]},\"selected\":{\"id\":\"12175\"},\"selection_policy\":{\"id\":\"12176\"}},\"id\":\"11630\",\"type\":\"ColumnDataSource\"},{\"attributes\":{\"data_source\":{\"id\":\"11630\"},\"glyph\":{\"id\":\"11648\"},\"hover_glyph\":null,\"muted_glyph\":null,\"view\":{\"id\":\"11632\"}},\"id\":\"11631\",\"type\":\"GlyphRenderer\"},{\"attributes\":{\"axis\":{\"id\":\"11605\"},\"ticker\":null},\"id\":\"11608\",\"type\":\"Grid\"},{\"attributes\":{},\"id\":\"11603\",\"type\":\"LinearScale\"},{\"attributes\":{\"source\":{\"id\":\"11630\"}},\"id\":\"11632\",\"type\":\"CDSView\"},{\"attributes\":{},\"id\":\"11613\",\"type\":\"PanTool\"},{\"attributes\":{},\"id\":\"12159\",\"type\":\"AllLabels\"},{\"attributes\":{},\"id\":\"12178\",\"type\":\"UnionRenderers\"},{\"attributes\":{},\"id\":\"11614\",\"type\":\"WheelZoomTool\"},{\"attributes\":{\"end\":10.1,\"start\":-10.1},\"id\":\"11594\",\"type\":\"Range1d\"},{\"attributes\":{},\"id\":\"12177\",\"type\":\"Selection\"},{\"attributes\":{},\"id\":\"11615\",\"type\":\"SaveTool\"},{\"attributes\":{},\"id\":\"12176\",\"type\":\"UnionRenderers\"},{\"attributes\":{},\"id\":\"11616\",\"type\":\"ResetTool\"},{\"attributes\":{\"fill_color\":{\"field\":\"adjusted_node_size\",\"transform\":{\"id\":\"11642\"}},\"size\":{\"field\":\"adjusted_node_size\"}},\"id\":\"11643\",\"type\":\"Circle\"},{\"attributes\":{},\"id\":\"12174\",\"type\":\"BasicTickFormatter\"},{\"attributes\":{\"data\":{\"adjusted_node_size\":[6,101,21,34,14,16,3,4,25,13,5,3,3,5,1,16,12,81,2,16,29,27,78,14,34,8,6,30,3,47,11,3,1,1,42,8,4,21,3,7,3,12,7,80,21,10,7,2,11,1,5,38,5,42,2,4,24,20,25,26,7,60,4,11,30,5,2,7,26,27,3,1,4,7,22,1,4,2,3,4,1,1,1,4,4,74,2,3,2,4,6,8,4,3,11,5,23,18,5,5,26,23,14,1,2,4,14,7,9,4,4,5,15,9,3,1,15,13,12,1,1,1,1,19,2,3,3,1,4,11,15,29,1,14,4,11,12,8,6,0,7,1,7,5,15,1,34,3,6,4,2,15,5,4,43,90,1,4,3,12,2,0,1,4,5,26,24,25,2,30,3,10,8,1,4,10,5,8,4,2,3,2,5,8,6,1,7,2,4,4,2,4,16,1,1,38,1,2,6,3,56,3,1,2,12,9,2,20,9,13,5,3,2,5,7,2,4,1,6,5,17,24,1,2,33,24,10,32,5,10,3,0,5,3,3,6,3,53,9,3,19,77,4,2,3,6,1,4,5,3,46,12,1,5,2,12,7,5,8,4,6,36,29,4,2,4,9,32,4,1,1,31,1,12,1,9,15,38,8,1,8,1,4,6,27,2,1,2,1,3,8,3,16,5,24,24,23,6,5,6,4,6,4,19,2,6,3,5,5,35,5,2,1,5,71,1,24,7,25,11,3,4,22,24,3,5,6,5,33,3,28,61,4,2,9,5,14,5,6,3,1,4,1,6,12,1,2,2,6,6,1,27,1,9,5,4,3,3,5,4,6,6,1,5,2,7,1,16,8,2,4,16,29,65,2,38,2,2,2,29,4,61,62,7,6,33,48,2,3,3,1,48,2,3,29,3,19,37,1,9,7,4,1,1,2,2,27,49,2,7,2,4,2,2,4,33,28,55,1,13,3,1,4,2,16,15,1,58,3,2,4,1,4,42,4,1,22,12,2,17,1,24,16,1,2,1,17,3,1,3,5,3,4,5,3,6,2,1,42,3,5,4,58,6,2,3,2,6,45,1,41,1,5,10,4,5,5,6,4,1,1,9,4,4,4,3,2,8,10,20,4,1,10,32,2,4,30,3,3,37,8,2,19,1,37,4,34,4,33,2,2,3,1,7,11,2,3,1,3,7,1,6,5,3,4,1,4,3,1,9,4,1,1,3,2,4,3,1,3,3,3,1,29,1,1,4,4,5,1,5,2,2,2,4,1,1,1,37,32,5,8,2,2,0,4,3,1,32,3,1,3,5,5,2,27,2,3,1,1,2,5,1,3,5,31,1,4,4,1,2,6,1,3,2,10,4,2,6,4,4,1,5,2,1,1,2,1,1,1,4,1,16,4,4,2,2,1,4,2,5,5,19,2,1,1,1,3,3,3,1,1,3,2,5,31,1,1,6,29,1,1,2,3,32,4,2,3,2,4,5,33,1,14,1,2,1,7,2,4,2,3,2,1,3,1,1,1,2,1,1,3,3,1,9,1,1,1,1,1,1,2,1,3,2,3,29,1,2,2,1,38,2,2,1,5,1,1,4,2,1,1,6,5,1,5,2,2,1,7,5,2,2,1,5,1,1,1,2,5,2,6,5,1,1,4,1,1],\"degree\":[12,107,27,40,20,22,9,10,31,19,11,9,9,11,7,22,18,87,8,22,35,33,84,20,40,14,12,36,9,53,17,9,7,7,48,14,10,27,9,13,9,18,13,86,27,16,13,8,17,7,11,44,11,48,8,10,30,26,31,32,13,66,10,17,36,11,8,13,32,33,9,7,10,13,28,7,10,8,9,10,7,7,7,10,10,80,8,9,8,10,12,14,10,9,17,11,29,24,11,11,32,29,20,7,8,10,20,13,15,10,10,11,21,15,9,7,21,19,18,7,7,7,7,25,8,9,9,7,10,17,21,35,7,20,10,17,18,14,12,6,13,7,13,11,21,7,40,9,12,10,8,21,11,10,49,96,7,10,9,18,8,6,7,10,11,32,30,31,8,36,9,16,14,7,10,16,11,14,10,8,9,8,11,14,12,7,13,8,10,10,8,10,22,7,7,44,7,8,12,9,62,9,7,8,18,15,8,26,15,19,11,9,8,11,13,8,10,7,12,11,23,30,7,8,39,30,16,38,11,16,9,6,11,9,9,12,9,59,15,9,25,83,10,8,9,12,7,10,11,9,52,18,7,11,8,18,13,11,14,10,12,42,35,10,8,10,15,38,10,7,7,37,7,18,7,15,21,44,14,7,14,7,10,12,33,8,7,8,7,9,14,9,22,11,30,30,29,12,11,12,10,12,10,25,8,12,9,11,11,41,11,8,7,11,77,7,30,13,31,17,9,10,28,30,9,11,12,11,39,9,34,67,10,8,15,11,20,11,12,9,7,10,7,12,18,7,8,8,12,12,7,33,7,15,11,10,9,9,11,10,12,12,7,11,8,13,7,22,14,8,10,22,35,71,8,44,8,8,8,35,10,67,68,13,12,39,54,8,9,9,7,54,8,9,35,9,25,43,7,15,13,10,7,7,8,8,33,55,8,13,8,10,8,8,10,39,34,61,7,19,9,7,10,8,22,21,7,64,9,8,10,7,10,48,10,7,28,18,8,23,7,30,22,7,8,7,23,9,7,9,11,9,10,11,9,12,8,7,48,9,11,10,64,12,8,9,8,12,51,7,47,7,11,16,10,11,11,12,10,7,7,15,10,10,10,9,8,14,16,26,10,7,16,38,8,10,36,9,9,43,14,8,25,7,43,10,40,10,39,8,8,9,7,13,17,8,9,7,9,13,7,12,11,9,10,7,10,9,7,15,10,7,7,9,8,10,9,7,9,9,9,7,35,7,7,10,10,11,7,11,8,8,8,10,7,7,7,43,38,11,14,8,8,6,10,9,7,38,9,7,9,11,11,8,33,8,9,7,7,8,11,7,9,11,37,7,10,10,7,8,12,7,9,8,16,10,8,12,10,10,7,11,8,7,7,8,7,7,7,10,7,22,10,10,8,8,7,10,8,11,11,25,8,7,7,7,9,9,9,7,7,9,8,11,37,7,7,12,35,7,7,8,9,38,10,8,9,8,10,11,39,7,20,7,8,7,13,8,10,8,9,8,7,9,7,7,7,8,7,7,9,9,7,15,7,7,7,7,7,7,8,7,9,8,9,35,7,8,8,7,44,8,8,7,11,7,7,10,8,7,7,12,11,7,11,8,8,7,13,11,8,8,7,11,7,7,7,8,11,8,12,11,7,7,10,7,7],\"index\":[\"jurg_ames\",\"realdonaldtrump\",\"jcho710\",\"joebiden\",\"kamalaharris\",\"nygovcuomo\",\"gavinnewsom\",\"mrfunnyfff\",\"pfizer\",\"ingrahamangle\",\"realjameswoods\",\"drdavidsamadi\",\"vv85767417\",\"busydrt\",\"hillaryclinton\",\"jpatte8007\",\"opchaud87084772\",\"narendramodi\",\"realcandaceo\",\"drakejirk\",\"stevefda\",\"whitehouse\",\"who\",\"jpnadda\",\"donaldjtrumpjr\",\"kumaraakarsh1\",\"vbkerry\",\"nytimes\",\"discangirl\",\"potus\",\"alsportugal\",\"ema_news\",\"dg_nta\",\"jamespady\",\"barbarajdurkin\",\"roypentland\",\"cici07786373\",\"gop\",\"mike_pence\",\"rahulgandhi\",\"mpsac\",\"thedaily1birdy\",\"droy_dr\",\"pmoindia\",\"no2wind\",\"dineshk27504774\",\"dawntj90\",\"deanna4congress\",\"lifeispietzsche\",\"digdougftw\",\"assocdesign\",\"us_fda\",\"post1113a\",\"cnn\",\"tqmka\",\"juliacantero9\",\"erictrump\",\"markmeadows\",\"flotus\",\"secazar\",\"healthwiremedia\",\"mohfw_india\",\"aajtak\",\"nitiaayog\",\"vp\",\"robertkennedyjr\",\"thehill\",\"ambarin03\",\"drrpnishank\",\"jamz129\",\"fauntleroy1934\",\"reckedrik\",\"stormsignalsa\",\"thedisproof\",\"narvuntien\",\"cjtjgeol\",\"over400ppm\",\"feynmanfreaky\",\"ibergwiesel\",\"julia70256353\",\"raiisha4\",\"realadamqureshi\",\"householdrules\",\"senschumer\",\"mishra035\",\"drharshvardhan\",\"lorne88784595\",\"gopchairwoman\",\"teamtrump\",\"bubbasranch\",\"rrrkkkmmm1\",\"wsj\",\"robertagramsey\",\"bobbiefromil\",\"avimishra037\",\"covidnewsbymib\",\"foxnews\",\"washingtonpost\",\"medbennett\",\"macalusojoseph\",\"cdcgov\",\"tangomitteckel\",\"msnbc\",\"paprikalady\",\"highwiretalk\",\"inoviopharma\",\"bhoj66120035\",\"bajoria_radhika\",\"sburke85\",\"martagonzlezac2\",\"pedrocunit\",\"alexberenson\",\"tonybaduy\",\"jackjsherebkin\",\"thinks_about_it\",\"kdooleyyoung\",\"anne4189\",\"nih\",\"cnbc\",\"htservadac\",\"nickapalmer\",\"electricelecti1\",\"rushhourp\",\"alamerqld\",\"barackobama\",\"jimdtweet\",\"mikedel21893959\",\"rustyaway\",\"lulu111593\",\"thewalltweets\",\"seruminstindia\",\"cheese24k\",\"ewarren\",\"seanhannity\",\"senatemajldr\",\"speakerpelosi\",\"presssec\",\"ivankatrump\",\"lawrencegostin\",\"bagaidr\",\"timesnow\",\"dma16\",\"moneycontrolcom\",\"draghafur\",\"tuckercarlson\",\"nvitweets\",\"icmrdelhi\",\"mjrny361\",\"cdcdirector\",\"sarahdespres\",\"greenenergyital\",\"abc\",\"aoc\",\"arindam4world\",\"plumprofessora\",\"mcfunny\",\"chriscuomo\",\"projectlincoln\",\"alexcareaga\",\"vaxyourfam\",\"statnews\",\"airnewsalerts\",\"jori_d0523\",\"alseurope1\",\"avoiceforchoice\",\"astrazeneca\",\"arumughamvinu\",\"moderna_tx\",\"abledoc\",\"drtessat\",\"o_rips\",\"b_bolshevik100\",\"shivamwadhwani2\",\"mirrornow\",\"telangana1st\",\"inoviolt\",\"erictopol\",\"hrdministry\",\"maheshchinnapa3\",\"algorithmdancer\",\"piaffe13\",\"senategop\",\"roneljitl\",\"theceomagazineg\",\"apkabapu\",\"gopleader\",\"pquirke100\",\"marklevinshow\",\"vdeshtwit\",\"yolandadn44\",\"hhsgov\",\"zephyr999999999\",\"drtedros\",\"nitin_gadkari\",\"the_plughd\",\"amitshah\",\"merck\",\"truetrumpseries\",\"kaylakma\",\"politico\",\"thereal_truther\",\"medicaldialogs\",\"kenneth72712993\",\"fcmfcs2019\",\"tinfoilawards\",\"willard1951\",\"drshannonkroner\",\"100dianne\",\"doctorsoumya\",\"bharatbiotech\",\"maddow\",\"fabricsorganic\",\"jpatter91510186\",\"shaikbazid\",\"commentoniowa\",\"rxrega\",\"doctorbokhari\",\"sbhattacharjee2\",\"lynnlustigla\",\"jnjnews\",\"nbcnews\",\"mib_india\",\"randpaul\",\"myogiadityanath\",\"pib_india\",\"ddnewslive\",\"eduminofindia\",\"cheesenbranston\",\"begentle50\",\"chaitali_abp\",\"gillesnfio\",\"charlotteoworld\",\"mehak16912398\",\"the_moccasin_\",\"yazanf91\",\"business\",\"judgejeanine\",\"jaikanta22\",\"flitesurgn\",\"dbongino\",\"crabb_vicki\",\"doritmi\",\"and_kell\",\"profsudhir\",\"republic\",\"scottgottliebmd\",\"katerina_wild\",\"childrenshd\",\"sandeshy786\",\"lovingvaccines\",\"professorlou1\",\"uniofoxford\",\"sallykp\",\"bosa6688\",\"brunoamato_1\",\"andrewlazarus4\",\"margie_moo\",\"oann\",\"freedomgirl2011\",\"cacoethes_carpe\",\"sankar_mm\",\"sylviedparris\",\"macbaird13\",\"krishan76666405\",\"pratidintime\",\"awithonelison\",\"gavi\",\"brianbloop2\",\"david19531501\",\"crandall333\",\"sentinel_assam\",\"muaythaiguy44\",\"pacifist322\",\"democratfed\",\"iangray44757496\",\"dreadpirrob42\",\"bjp4india\",\"lauradekker1\",\"rosewind2007\",\"tamphotog\",\"reply2world\",\"drhvoffice\",\"anilkum02840073\",\"jimguenther5\",\"roblev0\",\"truthismaster\",\"kremlinrussia_e\",\"brebutterfly\",\"sputnikint\",\"loudobbs\",\"ashok5422000\",\"jskennedymd\",\"dbtindia\",\"davidgsmith18\",\"davidmetroland\",\"afewpoints\",\"tandt_seo\",\"beowulfschaefer\",\"edele_bear\",\"butlerrichard2\",\"gazza41\",\"veuvek\",\"archerflame007\",\"billgates\",\"berniesanders\",\"dw2essex\",\"andycarp18\",\"johnrya13591294\",\"chrisgregson123\",\"sftechworker\",\"boastira\",\"muhitreza\",\"cspan\",\"lovereignssupr1\",\"beckyjohnson222\",\"bloody_scandal\",\"krebiozen\",\"utobian\",\"provaxtexan\",\"lg28640297\",\"kid_alabama\",\"mattadkin\",\"resiguru\",\"mindedmusically\",\"macid3000\",\"susan04071\",\"_simona_f\",\"sir_tom_tucker\",\"shaneja16905901\",\"irisheurophile\",\"cathyby\",\"frankdelia7\",\"susie1773\",\"niks_2180\",\"adarpoonawalla\",\"vanwaridevesh\",\"just4thecause\",\"epicethanol86\",\"ladyoftheocean1\",\"stabill\",\"1americangirl\",\"etnowlive\",\"zydusuniverse\",\"aawpsee\",\"cepivaccines\",\"dabar00\",\"friendsoscience\",\"delbigtree\",\"alschange\",\"rupamsarkar\",\"blackca58774349\",\"centrefuter\",\"geneonlinenews\",\"novavax\",\"biontech_group\",\"markwh2001\",\"jag11814459\",\"reuters\",\"the_leaver\",\"f505eb72b9cd493\",\"dfreedman7\",\"european_kate\",\"zooeraina\",\"ap\",\"shepard_harley\",\"_kel_varnsen_\",\"mrthinker07\",\"pjmoore1958\",\"peterhotez\",\"acidfast1\",\"prakashlalam\",\"plasticdoe\",\"_mamadeb\",\"ianfmusgrave\",\"marthacurlee3\",\"med1cinewoman\",\"melindafirst100\",\"mjinnj80\",\"mjonesnr\",\"monstercoyliar\",\"mtb_chum\",\"geoffschuler\",\"janeeopie\",\"youtube\",\"jestrbob\",\"jkellyca\",\"kathmarval\",\"patrickenrigh20\",\"phadingdark\",\"drlindamd\",\"wearelions3\",\"wendyorent\",\"mal1976retaf\",\"bameado1\",\"mygovindia\",\"sbpryadav\",\"hmoindia\",\"green_cait\",\"frdmfighternj\",\"doubledumas\",\"betteannec\",\"prokerala\",\"4pp34\",\"bbcforsnowwhite\",\"autisticshill\",\"staci04907284\",\"stopvaxxedlies\",\"takethatcdc\",\"tigerquinn7\",\"tiochango_\",\"arashthingtosay\",\"carlosdelrio7\",\"truthlovingdr\",\"useemdumb\",\"gerald_weaver_\",\"bluelionblog\",\"carlsmythe\",\"chrisjohnsonmd\",\"quinntisg\",\"transformindia\",\"ddyadagirinews\",\"telanganacmo\",\"ians_india\",\"thomaspane3\",\"nikolovscience\",\"whosearo\",\"havenmeadows_19\",\"iron_mechanic\",\"charitable_fury\",\"gauravs39703048\",\"barda\",\"3montmonty\",\"lotusoak2\",\"kstateturk\",\"aarohijaiswal15\",\"papaldh\",\"lynnfynn3\",\"vilethepro\",\"urfriendstell\",\"organicdot\",\"nosciencedenial\",\"drchriscole\",\"shared_facts\",\"doubledoublejon\",\"ilzheven\",\"ktibus\",\"kayvonpaul\",\"wasim9876543\",\"clues\",\"abhishe48784479\",\"agileconcept\",\"ajg6882\",\"docemru\",\"milan71655879\",\"ndtv\",\"mattb1974\",\"hatgineal\",\"rome_fell\",\"risettemd\",\"pharmaintyomama\",\"golfergirl2018\",\"geminifty\",\"smcwoof\",\"jarjarapu\",\"citeretv\",\"jbarkerjune\",\"vinayku53547026\",\"chaoticsx2\",\"barryjohnreid21\",\"bbcworld\",\"paulvcooper1\",\"maggiec_95\",\"un\",\"monstatofu\",\"cnnbrk\",\"ps_9171\",\"laughlandmorgan\",\"bglthmnd\",\"auscandoc\",\"luhhrennn\",\"liamkav\",\"lalaruefrench75\",\"kevinault\",\"jdsro159\",\"handmadekathy\",\"chamberdisciple\",\"swedishchf\",\"takethatdoctors\",\"troydee\",\"md444444444\",\"michaelmina_lab\",\"mmelgar09\",\"mstrixter\",\"mynameisearlb\",\"parentmindinc\",\"shonadmcdermott\",\"pennington_dora\",\"retire_young_38\",\"rocza\",\"runhack\",\"musthafaabdulra\",\"nihdirector\",\"katlarue7\",\"thatbackwoodsb\",\"rcprentice\",\"lightcontrol2\",\"markmcdougall13\",\"grumfromnorwich\",\"science_cited\",\"bodhaybodh\",\"sunnynewyork0\",\"ranajhk\",\"thetribunechd\",\"architecturegs\",\"dan613\",\"geneticliteracy\",\"santhemant\",\"haircutspock\",\"hpvsideeffects\",\"hupperichwerner\",\"rainmc\",\"david_5705\",\"gardeniagal4\",\"als_viola\",\"shibadatta007\",\"mommabear1231\",\"ravisin88527356\",\"luisaortizrois\",\"mogiliballa\",\"americanmeoh\",\"je_etu\",\"steverhone4\",\"lindellgirl\",\"theatlantic\",\"sachi_mahe\",\"moayush\",\"rainbow_golden\",\"quatloosx\",\"22vetsaday1\",\"gatesfoundation\",\"tchailatte\",\"kelli_the1st\",\"natedoromal\",\"ishdeep_kohli\",\"mel_we89\",\"us_core\",\"adiacc\",\"prinsciadvgoi\",\"join_2020\",\"divyanshu8967\",\"mcgrooverson\",\"drjssuri\",\"pragdreamer\",\"apifeelgood\",\"kuriousmind93\",\"vishash72004985\",\"anthonyhamelin5\",\"phochsian\",\"benadamso_o\",\"indiatoday\",\"cbsnews\",\"rajeshvrc\",\"himanshukkv\",\"digivorr\",\"ziggystardad\",\"gbigsangle\",\"alisonpalk\",\"lewbloch\",\"roguetrader84\",\"globocean\",\"allenschrall\",\"pibhindi\",\"areebasabri26\",\"dominique85_86\",\"stopcensorship7\",\"fat2fit7\",\"innadaptimmune\",\"chefdrew702\",\"emilyle30611735\",\"4uidance\",\"rajeevchaudhur1\",\"immunotoxphd\",\"triplegggx\",\"thegrimbarian\",\"robertcecil1608\",\"kfunk937\",\"jalwa_a_hind\",\"death_is_final\",\"stevendean0\",\"loraymuhammad\",\"ayushmannha\",\"rashtrapatibhvn\",\"zeenews\",\"carmen19811626\",\"jagan1137\",\"ajeetimpact\",\"debayanepygen\",\"cheryl1492\",\"glennedrover\",\"durganaidukaka1\",\"ingridebap\",\"sunjayjk\",\"rob_miller12345\",\"vickie627\",\"allie4christ\",\"dachsymom2\",\"maslow_jan\",\"rwingjr\",\"rajubramara\",\"mediaindiagroup\",\"juanmav85\",\"swani741\",\"kees71234\",\"ridgebrook\",\"svaxhole\",\"charimarquezh\",\"deenursern\",\"whoafro\",\"tadityaverma\",\"mahajantweet\",\"deepakr05146852\",\"jami_denice\",\"greatin18713111\",\"gwlucky\",\"kalki783\",\"avadamac\",\"who_europe\",\"whoemro\",\"pahowho\",\"mongo3804\",\"cnnnews18\",\"whowpro\",\"roxydoxy1527\",\"gauravv75471188\",\"mommaesq\",\"peopleb4pharma\",\"hinduvedik\",\"edavidan\",\"geor97\",\"nsitharaman\",\"kapilvgandhi\",\"kunalsaini900\",\"deptofdefense\",\"hopebegley\",\"angela_bower\",\"jo_da123\",\"mathenaut\",\"hivpxresearch\",\"eddarrell\",\"psfnyc5\",\"aly_meek\",\"qtent2016\",\"indiadst\",\"marikatt77\",\"moesgoi\",\"rocket_1981\",\"csir_ind\",\"anamerkel\",\"fiski70\",\"abpnews\",\"vaishalimuzuda\",\"david_vaporium\",\"viv_cooper\",\"rrbassett\",\"the_priyakapoor\",\"incitatum\",\"kantakkantak\",\"notreadyyet82\",\"nm_hs_rms\",\"manojkumar_rvt\",\"bec215\",\"piyushgoyal\",\"julieamclean\",\"badzoot7\",\"nskif1j1\",\"researchschola6\",\"_aabha_\",\"d_talkingpoints\",\"tracemetalclean\",\"jenpowers20\",\"marirosifernan1\",\"pkflrda\",\"infectiousrash\",\"kemaletdin\",\"codplay05550206\",\"christiano_84\",\"anish90616235\",\"yellostvstone\",\"jeremy_hume\",\"covidmillion\",\"carlysnydermd\",\"joseaguilarpar1\",\"lisadowell66\",\"adgroblko\",\"lucycali88\",\"yd52\",\"incindia\",\"elaamigos\",\"violaquadri1\",\"richirraphael\",\"absoluteindnews\",\"vikiseema\",\"ankursi62001010\",\"rituparnasarm10\",\"besane4\",\"marinabazan7\",\"drsynchronicity\",\"jewishvoice\",\"shubha40742127\",\"vanessa29859116\",\"piano83562583\",\"susana12154086\",\"thepluviophile1\",\"rikayush\",\"isadorapalacio1\",\"aroraaroraankit\",\"spiketoronto\",\"victor48355670\",\"npvsp4backup\",\"mojil1998\",\"nayansthankiya\",\"chanchal7266\",\"pibmumbai\",\"bonitacanadian\",\"amit_clicks\",\"preetic52668187\",\"jayajiban\"]},\"selected\":{\"id\":\"12177\"},\"selection_policy\":{\"id\":\"12178\"}},\"id\":\"11626\",\"type\":\"ColumnDataSource\"},{\"attributes\":{},\"id\":\"12172\",\"type\":\"AllLabels\"},{\"attributes\":{\"line_alpha\":{\"value\":0.5}},\"id\":\"11648\",\"type\":\"MultiLine\"},{\"attributes\":{},\"id\":\"12167\",\"type\":\"NodesOnly\"},{\"attributes\":{},\"id\":\"11601\",\"type\":\"LinearScale\"},{\"attributes\":{\"end\":10.1,\"start\":-10.1},\"id\":\"11595\",\"type\":\"Range1d\"},{\"attributes\":{},\"id\":\"12175\",\"type\":\"Selection\"},{\"attributes\":{\"high\":101,\"low\":0,\"palette\":[\"#3288bd\",\"#66c2a5\",\"#abdda4\",\"#e6f598\",\"#fee08b\",\"#fdae61\",\"#f46d43\",\"#d53e4f\"]},\"id\":\"11642\",\"type\":\"LinearColorMapper\"},{\"attributes\":{\"graph_layout\":{\"100dianne\":[-4.202147417449792,0.45543890863377023],\"1americangirl\":[-0.904236673105448,2.8043976312649743],\"22vetsaday1\":[1.8915731590985536,-5.261052244856126],\"3montmonty\":[3.247373665044984,1.4398534172136268],\"4pp34\":[-5.774797064163955,-3.4500728861097505],\"4uidance\":[1.0678562290562892,6.2512222282688965],\"_aabha_\":[5.791225503518578,1.9430131714935217],\"_kel_varnsen_\":[-0.5943128603577195,-2.278949379352764],\"_mamadeb\":[-4.291566125679297,-0.1267853563082181],\"_simona_f\":[-1.492468458107589,2.2279115273133088],\"aajtak\":[5.28763519144753,-0.2502413669488828],\"aarohijaiswal15\":[7.758025944715903,-2.6614884412384305],\"aawpsee\":[7.421844438080576,-2.42808643113253],\"abc\":[3.3533061282662295,1.5762364668046787],\"abhishe48784479\":[3.5613722052531656,-4.666091195257463],\"abledoc\":[5.920359981582187,1.2767377326667118],\"abpnews\":[5.572164281944196,1.5356076617050016],\"absoluteindnews\":[5.835759226971797,-4.770440077224031],\"acidfast1\":[-1.8083143810969105,2.068977794178252],\"adarpoonawalla\":[6.14135404009139,0.0017892810820557914],\"adgroblko\":[7.400509028975747,-0.9268328029071253],\"adiacc\":[7.530283770083151,-2.949698529063104],\"afewpoints\":[-5.739561420487137,4.558358565433717],\"agileconcept\":[-2.4221491637212327,-3.6154206111658542],\"airnewsalerts\":[5.612520175616004,-5.1197261116831765],\"ajeetimpact\":[6.327125190106394,-4.30161041498483],\"ajg6882\":[-4.475010031678695,-3.190565513621584],\"alamerqld\":[-3.3956000284501546,5.944547900364697],\"alexberenson\":[-2.79019224652877,1.036671385240608],\"alexcareaga\":[4.099504445546943,2.8413953892187163],\"algorithmdancer\":[-0.36587195348817025,-0.32053421714999814],\"alisonpalk\":[-4.097300667997797,-3.829540888050367],\"allenschrall\":[-0.21686558795629235,1.9361022496748581],\"allie4christ\":[-1.18140054894751,-6.334786942068183],\"als_viola\":[0.1991861273530429,4.8105802473138075],\"alschange\":[0.20491225437385718,3.3025517922992256],\"alseurope1\":[1.049731890878825,5.2415267633561315],\"alsportugal\":[1.0431431596917193,2.3459750830033315],\"aly_meek\":[-4.500276897316359,-4.1728600587878715],\"ambarin03\":[7.7789609629845335,-1.9666757328242432],\"americanmeoh\":[3.5717726199387405,-0.6772934201500889],\"amit_clicks\":[2.3202876492085815,-0.5518646887314594],\"amitshah\":[5.6711775782445235,-2.072621035761406],\"anamerkel\":[0.4485540898564309,5.689769389438022],\"and_kell\":[-0.8583170843665275,0.610391305688365],\"andrewlazarus4\":[-2.197631376212239,-4.041202821562075],\"andycarp18\":[-7.536120015868485,5.658175305177294],\"angela_bower\":[-6.10416859017908,-0.7578538349707314],\"anilkum02840073\":[7.155009128324033,-3.1561850925274477],\"anish90616235\":[6.882239402603261,-1.9871457366276355],\"ankursi62001010\":[6.1133012051537685,-4.452136056641595],\"anne4189\":[-0.3393880698109134,2.5136261993032045],\"anthonyhamelin5\":[0.38775120171231225,3.2050406793268995],\"aoc\":[-0.24925510051083294,3.265994586108869],\"ap\":[0.03783142456093123,-0.6686279817872319],\"apifeelgood\":[1.084063833643109,-1.4336516678021014],\"apkabapu\":[5.978138492804058,-4.692876783739769],\"arashthingtosay\":[4.6211760415277325,2.824947407324771],\"archerflame007\":[0.9211949597048698,-0.44996431019422617],\"architecturegs\":[2.0783715605303734,1.0938594859893491],\"areebasabri26\":[7.7368838274571585,-2.198686360092684],\"arindam4world\":[4.4905925712569905,-1.4568816440842065],\"aroraaroraankit\":[5.604320095049512,0.028302435598626507],\"arumughamvinu\":[1.747853166606649,0.6082041838024423],\"ashok5422000\":[2.692884038329734,0.2630093937046247],\"assocdesign\":[-1.4382605693080341,0.8227037140974626],\"astrazeneca\":[2.7307624513144204,-0.3583552470927242],\"auscandoc\":[-2.841695697674596,-3.352347475158727],\"autisticshill\":[-5.89052207596911,-3.102171842685983],\"avadamac\":[-0.43177599662471255,2.8158252287488073],\"avimishra037\":[4.925910098109187,-3.18308461468488],\"avoiceforchoice\":[2.1559699558167544,-0.6468830004385522],\"awithonelison\":[-2.1058262506641414,-3.645309125832076],\"ayushmannha\":[4.104087957641144,-6.28242659661366],\"b_bolshevik100\":[-4.597682769020487,2.3320787396480203],\"badzoot7\":[-2.4624451511177345,-1.2643218027104297],\"bagaidr\":[6.895105492683064,-0.3157381892106821],\"bajoria_radhika\":[5.607417243146721,-0.42811658161646265],\"bameado1\":[1.0468453716004082,3.5830335940880045],\"barackobama\":[2.1347313328177737,4.582530413806883],\"barbarajdurkin\":[-2.0634021404629546,3.3671151102002024],\"barda\":[4.64496579368283,2.993992952675008],\"barryjohnreid21\":[-4.829841074139319,-1.0454956363545211],\"bbcforsnowwhite\":[-6.050958967117977,-3.001248671501495],\"bbcworld\":[4.493786357992315,2.051004175338366],\"bec215\":[2.609046766211169,2.7538459289329476],\"beckyjohnson222\":[-2.4400249583526694,-0.42592713498974827],\"begentle50\":[-8.738962907328963,3.0331827038694397],\"benadamso_o\":[-5.361328500103989,-1.136638658108456],\"beowulfschaefer\":[-6.615183545264239,6.404065069084016],\"berniesanders\":[0.5915417343350604,5.0926355447586324],\"besane4\":[3.0881596496083046,2.2390196342026303],\"betteannec\":[-4.538057076220439,-3.048290571145066],\"bglthmnd\":[-4.494033171259768,-3.5073056965541953],\"bharatbiotech\":[4.503598160857346,-1.1456450323090746],\"bhoj66120035\":[1.677706740876387,-1.5651354256414198],\"billgates\":[0.44333844958375423,-0.6481723172247714],\"biontech_group\":[4.54842128808599,1.1476938100277492],\"bjp4india\":[5.41710792738692,-5.486631907580179],\"blackca58774349\":[1.901672036237524,-5.547063980343737],\"bloody_scandal\":[-1.086053404346325,-4.257757540421964],\"bluelionblog\":[-3.8617267663498467,-1.915726983785303],\"boastira\":[-5.772620215391924,-1.6374294623111536],\"bobbiefromil\":[0.628359583090332,2.084147768978087],\"bodhaybodh\":[6.889169290509523,-3.6161708503144276],\"bonitacanadian\":[2.475242823193427,4.588220321311685],\"bosa6688\":[0.16582250314007882,1.449061179189544],\"brebutterfly\":[0.9968205902011729,1.0065503017639394],\"brianbloop2\":[-6.1771658331147465,4.133015488829002],\"brunoamato_1\":[0.3538577645584273,2.7635246245918683],\"bubbasranch\":[-4.164900194423888,2.8946049931456335],\"business\":[-0.044332705767194724,-1.7281478175929814],\"busydrt\":[-2.6835617446429514,0.2515507832300237],\"butlerrichard2\":[-6.7537469017805565,6.260307132463873],\"cacoethes_carpe\":[0.27807288922912166,-0.8564848692176943],\"carlosdelrio7\":[3.4768564231367165,1.7854727000602766],\"carlsmythe\":[-3.9843895352724346,-2.418092631414886],\"carlysnydermd\":[-5.063492901353077,-1.4436549414257531],\"carmen19811626\":[-0.0029344269890397047,5.670217278099727],\"cathyby\":[-7.860615666149819,5.07247474904876],\"cbsnews\":[1.2138868095645685,4.682038158235401],\"cdcdirector\":[3.0863992861995437,4.023412708861636],\"cdcgov\":[2.6089451994046944,0.9343038245825298],\"centrefuter\":[-8.14494156582015,5.199221877640912],\"cepivaccines\":[3.0128859755893767,-0.31507066199641454],\"chaitali_abp\":[5.1097360070815325,-0.44080686297790217],\"chamberdisciple\":[-3.9976429863947214,-4.904381065899221],\"chanchal7266\":[7.641280403073539,-0.49511815698230116],\"chaoticsx2\":[-5.679222898340502,-0.6405559633875265],\"charimarquezh\":[0.28860427061661414,5.690691918885274],\"charitable_fury\":[-1.6856921534742477,-4.15768714331813],\"charlotteoworld\":[-0.8300933045002329,1.461267903809731],\"cheese24k\":[1.4923446183103055,1.3799479597275544],\"cheesenbranston\":[-6.069973746119989,4.2893118328498865],\"chefdrew702\":[1.5541867469015873,1.5299351334138225],\"cheryl1492\":[-3.1748351157905184,6.168285623793443],\"childrenshd\":[-1.436596686472727,-1.8170329808083763],\"chriscuomo\":[3.754034844160536,4.537799123971014],\"chrisgregson123\":[-8.690292752707762,3.47023478539993],\"chrisjohnsonmd\":[-4.610490637845168,-0.7548274589745294],\"christiano_84\":[-5.135672356603277,-0.5654107696017822],\"cici07786373\":[1.4416765120902957,2.3666217589920397],\"citeretv\":[-3.1160839477410014,-2.457603737343601],\"cjtjgeol\":[-4.557801388177811,3.4939849816500077],\"clues\":[-3.1688971305401665,-3.831015163516348],\"cnbc\":[2.763989940870337,1.8140339809698198],\"cnn\":[1.5356246231227975,0.48907738050391225],\"cnnbrk\":[1.8748656000846462,2.6356361092431464],\"cnnnews18\":[5.6286250069288855,2.144293957059568],\"codplay05550206\":[7.908654350814314,-2.190701534589723],\"commentoniowa\":[1.3320092933686491,0.31171467665806596],\"covidmillion\":[-6.334586388450218,-0.4659750116079608],\"covidnewsbymib\":[2.9208472161792574,-4.810403903027928],\"crabb_vicki\":[-2.4431440274899696,-3.413746386685987],\"crandall333\":[2.3183019973869414,4.928756274216481],\"csir_ind\":[4.37979203452326,-6.910559009175285],\"cspan\":[0.46067181247686795,4.554163887501203],\"d_talkingpoints\":[4.51053379184004,-3.142212981251273],\"dabar00\":[1.9462605961373076,3.871344244546391],\"dachsymom2\":[-0.3756761259799012,3.4595499983805564],\"dan613\":[-4.80302161723864,1.8820492538582962],\"david19531501\":[-8.68494669580877,4.002477684817385],\"david_5705\":[-4.8427464133711835,-3.4329591649000326],\"david_vaporium\":[-3.073982028145277,2.6127814917316705],\"davidgsmith18\":[-6.500220860254193,6.589480035273437],\"davidmetroland\":[-8.063253147373423,4.511830071423043],\"dawntj90\":[-3.9276240031501564,3.8158344437823426],\"dbongino\":[-1.8039984546537,5.250137128430594],\"dbtindia\":[4.504625345267005,-2.8086029155931764],\"ddnewslive\":[6.40027312577247,-2.3215388852684633],\"ddyadagirinews\":[2.718021654494218,-3.3617130812203095],\"deanna4congress\":[-3.30855098780308,2.1309234575757032],\"death_is_final\":[-6.1198421827041765,-0.9281375003739116],\"debayanepygen\":[5.156152105728134,-1.1243954456835354],\"deenursern\":[2.398225769773469,3.115177223834253],\"deepakr05146852\":[7.81195259618901,-1.4582878454637742],\"delbigtree\":[-1.8032812005108005,-0.7313662897205502],\"democratfed\":[-0.4614014880556361,-0.5799681825784658],\"deptofdefense\":[3.170438322267934,3.527851506410201],\"dfreedman7\":[-0.9007665581485554,-2.5503514911824356],\"dg_nta\":[7.964812195369263,1.3145953159835622],\"digdougftw\":[-3.138467252757991,4.623552062858754],\"digivorr\":[-0.8626609693442779,-6.335543714996798],\"dineshk27504774\":[4.357147966540299,-4.131336464321809],\"discangirl\":[0.044115799528311135,0.5057290722823966],\"divyanshu8967\":[7.764230354828691,-0.7468149462554654],\"dma16\":[-1.9022840170043043,2.269166833512555],\"docemru\":[-5.05859892221459,-2.2532923660034436],\"doctorbokhari\":[0.7561670572980095,1.5945579625396964],\"doctorsoumya\":[2.7403741374069295,-2.554254196078834],\"dominique85_86\":[-4.648835488375097,-6.697209442081656],\"donaldjtrumpjr\":[1.7742793803182242,3.5227336395636146],\"doritmi\":[-3.2672509941973735,-1.7809317089986545],\"doubledoublejon\":[-5.243028184044473,1.0959348077929507],\"doubledumas\":[-4.755256180828603,-3.9605591839155063],\"draghafur\":[3.7859241534179033,-2.479283107707378],\"drakejirk\":[3.466304252144468,1.2059082464394573],\"drchriscole\":[-3.95236139446812,-2.1693599674847404],\"drdavidsamadi\":[-3.265380194993578,2.543134100670423],\"dreadpirrob42\":[-2.621465931324507,-3.2203500814403263],\"drharshvardhan\":[4.593290941083936,-2.2304543388015454],\"drhvoffice\":[5.468621203009221,-0.5393311441276311],\"drjssuri\":[4.619797241088971,-1.0902723721800565],\"drlindamd\":[-4.471281093770406,-3.885235365587722],\"droy_dr\":[1.9576789337652916,-1.8016307110921443],\"drrpnishank\":[8.344895830966774,-0.39730869091865806],\"drshannonkroner\":[-1.4909827744708892,1.4960057019588953],\"drsynchronicity\":[2.0617433450884115,2.794914317176321],\"drtedros\":[1.5148792304956826,-2.5290739127574113],\"drtessat\":[-1.3430444558349648,-0.61586314271124],\"durganaidukaka1\":[4.389499371183239,-3.738793230664156],\"dw2essex\":[-7.099138998772882,5.996867991138044],\"edavidan\":[-3.5352402836690535,5.83509986640414],\"eddarrell\":[-5.720904141428614,0.21116356604661415],\"edele_bear\":[-6.876777377328429,6.471124396609395],\"eduminofindia\":[10.0,-1.977226364449256],\"elaamigos\":[0.8064278110285777,5.238393359085534],\"electricelecti1\":[-2.1271613863737264,6.354746333975703],\"ema_news\":[1.6432785542012716,6.841694888800515],\"emilyle30611735\":[0.2873383529357387,0.02887113082973056],\"epicethanol86\":[-2.9760810763928967,-5.7832910134763145],\"erictopol\":[3.5876108014359747,0.8772486255011417],\"erictrump\":[1.9407228047777532,4.958577150466481],\"etnowlive\":[1.6693799657575032,-0.7196348286322388],\"european_kate\":[-7.270078298673941,5.862266949807391],\"ewarren\":[4.027152790354376,2.397129373678492],\"f505eb72b9cd493\":[-8.951498992221646,3.259248671558907],\"fabricsorganic\":[0.9902492792630112,0.7505306546237789],\"fat2fit7\":[0.4466140519189982,-0.4296583910071534],\"fauntleroy1934\":[-4.444986711177453,2.8227864423891056],\"fcmfcs2019\":[-5.788151171428121,3.3352436349797543],\"feynmanfreaky\":[-2.8354552001759283,4.930575109783705],\"fiski70\":[-4.448182098999922,-4.844389968732613],\"flitesurgn\":[-2.004611382120854,-4.222206367123123],\"flotus\":[1.3406277886374944,6.018314827170495],\"foxnews\":[0.6893808440890942,3.620800999749791],\"frankdelia7\":[-3.5777066561412854,-2.087852047565332],\"frdmfighternj\":[-5.678820857429109,0.7680386233488146],\"freedomgirl2011\":[0.583254479157908,-3.5657302609486297],\"friendsoscience\":[-2.732552489037652,6.178037283233924],\"gardeniagal4\":[-5.955350160766961,-0.36817261216257013],\"gatesfoundation\":[4.854149989123642,1.442010899781443],\"gauravs39703048\":[4.555448773544477,-3.635906818048208],\"gauravv75471188\":[7.910923086774451,-1.3152594944144032],\"gavi\":[1.0119809472661703,-2.4638167659890207],\"gavinnewsom\":[-1.3949230175548,-1.371331180173922],\"gazza41\":[-6.285178838363923,6.656154290563694],\"gbigsangle\":[0.27460625298767116,1.892197377779296],\"geminifty\":[-3.873583994687578,-3.1507253974131926],\"geneonlinenews\":[5.377328881034058,2.4548235665639506],\"geneticliteracy\":[1.2415568958199108,-2.1649081557605125],\"geoffschuler\":[-3.6668246128493327,-0.7264386070704694],\"geor97\":[-6.216813018446966,3.4038984765834304],\"gerald_weaver_\":[2.4920735013250908,5.194498594339484],\"gillesnfio\":[-4.099196964014346,4.482114246991821],\"glennedrover\":[-1.703587221658157,5.866538687304887],\"globocean\":[3.389246410045754,0.04685145557848255],\"golfergirl2018\":[-4.890917051622155,-2.784529276228345],\"gop\":[2.276431333494905,1.869144695082679],\"gopchairwoman\":[3.5809134565774814,3.3879263398633217],\"gopleader\":[4.576215868958058,3.7934489923538766],\"greatin18713111\":[6.480786874105705,-4.646223164186295],\"green_cait\":[-4.62018203150339,-1.6211007259863686],\"greenenergyital\":[1.3008932517799254,3.0615620530097627],\"grumfromnorwich\":[-2.445497507176411,-4.9884659705171215],\"gwlucky\":[-2.0036708865446893,2.972421699196337],\"haircutspock\":[-6.066888192588072,-0.09459091774288686],\"handmadekathy\":[-1.8750530438037107,-4.2582657801686485],\"hatgineal\":[-3.789675296340676,-3.6298407130520425],\"havenmeadows_19\":[-0.6987619772576831,3.4511082738116188],\"healthwiremedia\":[3.6180656256946504,-2.7662094250679092],\"hhsgov\":[3.7539659322296277,3.308229481957677],\"highwiretalk\":[-0.6435496851997722,-1.932247087088676],\"hillaryclinton\":[-1.2996643757596387,3.8201954510427214],\"himanshukkv\":[7.556643470852364,0.29340096538531796],\"hinduvedik\":[5.076858800097873,-5.678117295541331],\"hivpxresearch\":[3.922804722236075,3.0956338812507447],\"hmoindia\":[5.709731709430435,-1.186602763561748],\"hopebegley\":[-4.186243797432745,-1.3809149099962037],\"householdrules\":[-1.244478657234092,2.979114120771405],\"hpvsideeffects\":[-5.081153473396327,-2.5077332506344594],\"hrdministry\":[8.054869946476025,0.7536663384766583],\"htservadac\":[-3.9146047026027864,4.2189052271296745],\"hupperichwerner\":[-5.577373997307433,-0.38378317562262115],\"ianfmusgrave\":[-4.008963038648427,-0.7825908014715512],\"iangray44757496\":[4.3406945107607635,0.7363414685822235],\"ians_india\":[4.511383349335155,-1.702636604631669],\"ibergwiesel\":[-3.3658268107859715,4.368734342991],\"icmrdelhi\":[4.513942132030902,-2.367016539490688],\"ilzheven\":[-3.5566275171088377,-3.669532704551106],\"immunotoxphd\":[-6.538479405104969,-2.366871577159624],\"incindia\":[4.813634686177406,-5.990065044410056],\"incitatum\":[2.0131727878707464,-5.465108848300675],\"indiadst\":[5.21324622793812,-4.790152892135908],\"indiatoday\":[4.0824130252980835,-1.4294648252991011],\"infectiousrash\":[-1.1835900160773754,1.5777073798106578],\"ingrahamangle\":[-0.9770569756712079,3.9187143597102407],\"ingridebap\":[1.9725842314942632,5.858691527777255],\"innadaptimmune\":[3.4483794174024065,-1.0488382658629678],\"inoviolt\":[1.5134211240331743,0.21441408969974907],\"inoviopharma\":[4.404117268593089,3.5488467079849326],\"irisheurophile\":[-8.987622365372605,2.713803855210281],\"iron_mechanic\":[-3.813152294616303,-1.1375632920611511],\"isadorapalacio1\":[1.6824826907957524,-5.548180518333411],\"ishdeep_kohli\":[2.110375611354219,-3.9537967057690415],\"ivankatrump\":[2.6493919157644696,3.051730744422352],\"jackjsherebkin\":[-5.764624096843001,1.6734168459008265],\"jag11814459\":[-8.990722613808595,3.5788049822557473],\"jagan1137\":[3.6636146390622044,-2.086711818186731],\"jaikanta22\":[-2.6061540387117694,-2.435672650823828],\"jalwa_a_hind\":[7.898140832609042,-1.0174437464404744],\"jamespady\":[-1.786130868295701,0.9695912016496904],\"jami_denice\":[-5.207619389060196,-4.001354942431645],\"jamz129\":[-3.487977706504573,3.7124299094330464],\"janeeopie\":[-4.458183467224507,-1.8907590204330968],\"jarjarapu\":[6.394149055847293,-3.883058728033735],\"jayajiban\":[6.330636527821139,-4.711087924038479],\"jbarkerjune\":[1.0996644684975159,2.694976850225114],\"jcho710\":[-1.140057034202885,2.0386740242336177],\"jdsro159\":[-3.8103920169290433,-5.041176177206585],\"je_etu\":[7.691787825111874,-2.8209003436965383],\"jenpowers20\":[-1.0990704088611631,3.1855539127515775],\"jeremy_hume\":[-7.0689489455572145,0.2924052772821782],\"jestrbob\":[-4.1952755484437345,-3.2129504546964656],\"jewishvoice\":[2.8768052945791966,4.568173938021844],\"jimdtweet\":[-2.8772825924836365,6.108255782108991],\"jimguenther5\":[-0.22407369175543232,0.9044709960882996],\"jkellyca\":[-2.863787357057247,-2.1851796576500306],\"jnjnews\":[1.40976961513859,-1.991141252626987],\"jo_da123\":[2.9415452650486174,-2.417073027414062],\"joebiden\":[0.5286806317913716,1.9259098969771706],\"johnrya13591294\":[-7.45679498410709,6.017913528400538],\"join_2020\":[-1.2044689117823613,3.5134558912259557],\"jori_d0523\":[-0.7847743875760043,1.2753271172059792],\"joseaguilarpar1\":[-0.21277215528631804,5.594491906559978],\"jpatte8007\":[0.929587724955771,2.886716611340723],\"jpatter91510186\":[4.55294599490514,3.8715315969542248],\"jpnadda\":[5.357336500675354,-5.713742248062893],\"jskennedymd\":[3.306417344603652,0.4847266428098785],\"juanmav85\":[-1.5662076333221944,-4.055534715093857],\"judgejeanine\":[-0.2681299612179767,6.395354807828943],\"julia70256353\":[0.9239194772378029,5.311198005691928],\"juliacantero9\":[0.6574589204870892,5.293728647460013],\"julieamclean\":[-2.0190678294389683,-5.128958635721214],\"jurg_ames\":[-0.1509349614997002,3.029657754974968],\"just4thecause\":[-1.5364430290700684,-3.1131205612799464],\"kalki783\":[3.4375617240509966,-4.4809964260143635],\"kamalaharris\":[-0.012714791460954653,3.75804681725457],\"kantakkantak\":[2.2907368363304115,-0.8124315577936163],\"kapilvgandhi\":[6.96476674053586,-1.646331465864151],\"katerina_wild\":[0.17855291701974113,0.9148194031752648],\"kathmarval\":[-4.384850103745708,-1.1329020643076537],\"katlarue7\":[-4.638864405159569,-2.450969650760341],\"kaylakma\":[-1.4216743884019223,0.29269201796181743],\"kayvonpaul\":[-5.0730330830295935,0.15813179975495104],\"kdooleyyoung\":[4.1006506142385115,4.461252769249814],\"kees71234\":[-2.876646368653966,3.0106198197380283],\"kelli_the1st\":[0.7513417172183523,2.7102844027226354],\"kemaletdin\":[-0.062384472154593,5.495942000148299],\"kenneth72712993\":[-5.6646156999126545,3.618546062226258],\"kevinault\":[-1.7819063155317931,-4.941935588493028],\"kfunk937\":[-6.347138795939822,-2.8765485514210676],\"kid_alabama\":[-7.7046469192917995,5.56158361449279],\"krebiozen\":[-4.341518939640113,-0.37271932706883576],\"kremlinrussia_e\":[2.1134037149901195,-4.695064715655464],\"krishan76666405\":[3.1412857833963503,-4.250702701466266],\"kstateturk\":[-2.9843645750765457,-3.0898675650301617],\"ktibus\":[-4.8849103151120685,1.3323335905132245],\"kumaraakarsh1\":[7.407279888100779,-1.9620194605107626],\"kunalsaini900\":[4.114094543466869,-3.251393491374607],\"kuriousmind93\":[-1.4641383261770355,-0.07297460384805547],\"ladyoftheocean1\":[-2.284151320875927,-5.765372010861924],\"lalaruefrench75\":[-1.317867444513374,-2.558168531286345],\"laughlandmorgan\":[-3.6509928740930553,-4.702897608958928],\"lauradekker1\":[-2.5989617008540145,-1.8968789202138667],\"lawrencegostin\":[2.1535470964318613,0.6163952319534712],\"lewbloch\":[-3.578504978675936,-3.9151872510174757],\"lg28640297\":[-1.903312679849137,-1.9904125283162097],\"liamkav\":[-2.854888533507934,-4.891223287997753],\"lifeispietzsche\":[0.3927632995995229,2.450623213642222],\"lightcontrol2\":[-2.4098623442927805,-3.0946736636653713],\"lindellgirl\":[-0.16701809929381117,0.4511157235214739],\"lisadowell66\":[-1.499328357000086,1.9113867060799286],\"loraymuhammad\":[5.176167217092506,2.6637986177983723],\"lorne88784595\":[-1.3904793309551668,2.5607135653880015],\"lotusoak2\":[-1.946830025175992,-3.0012743756938445],\"loudobbs\":[-0.719365794012681,5.932683142862166],\"lovereignssupr1\":[-2.9918764794490516,0.7951290991702705],\"lovingvaccines\":[2.5860871654247624,-4.411669844352161],\"lucycali88\":[-5.534689555368197,-5.2043301435927365],\"luhhrennn\":[-1.6405511375059365,-5.114018713740645],\"luisaortizrois\":[-0.4259185532954855,5.555417467900076],\"lulu111593\":[1.4366584847002482,-1.138441879542351],\"lynnfynn3\":[-2.6961133332775145,1.4862540419447214],\"lynnlustigla\":[1.4249870126154451,1.0412081922473964],\"macalusojoseph\":[3.687130854728062,-0.28879558846531],\"macbaird13\":[-3.798339442706228,-0.011577739789025604],\"macid3000\":[-8.988508943631896,2.5601623940876097],\"maddow\":[4.18032690095639,2.2300690693125733],\"maggiec_95\":[-5.934556748493355,0.27052846706850264],\"mahajantweet\":[7.916174549537979,-1.5998785041441592],\"maheshchinnapa3\":[4.86036893777669,-0.702924785887892],\"mal1976retaf\":[-1.3161818894156678,2.7716385921395172],\"manojkumar_rvt\":[3.6886543078082994,-3.695778533886977],\"margie_moo\":[-1.8723739809949165,-3.5266483513685603],\"marikatt77\":[-2.6691730423014337,-5.475304520078708],\"marinabazan7\":[-0.4933153519020705,5.321926334921066],\"marirosifernan1\":[0.15373471747961423,5.626154859251891],\"marklevinshow\":[-1.4045166223270886,5.726482155490077],\"markmcdougall13\":[-3.515869322131913,-0.5621661387838174],\"markmeadows\":[2.1617265721847394,5.315080056965511],\"markwh2001\":[-8.569964649097853,4.1938777114414885],\"martagonzlezac2\":[0.4470458842188776,5.211860076614953],\"marthacurlee3\":[-6.411008939064656,-1.5453206825543622],\"maslow_jan\":[1.1053708224197594,2.0856053825763046],\"mathenaut\":[-6.771139085597137,2.9558786979812193],\"mattadkin\":[-9.006358335005263,2.9255058776786895],\"mattb1974\":[-4.715797159000885,0.5254828698048902],\"mcfunny\":[-3.973806586993475,-1.5697148087048383],\"mcgrooverson\":[-1.2360586512773244,-3.7620084178636692],\"md444444444\":[-2.335187913674097,-1.6755393250876514],\"med1cinewoman\":[-5.168276946969442,-0.9697893443676519],\"medbennett\":[-4.190247790428134,3.0995652867522754],\"mediaindiagroup\":[2.4547747141372622,-0.16338045088755032],\"medicaldialogs\":[5.241913941807259,-0.7947680734478927],\"mehak16912398\":[7.74369048850562,-1.1415443503692628],\"mel_we89\":[-3.6089596830975816,-3.3880468501008423],\"melindafirst100\":[-4.7159973736011,0.7161656221593804],\"merck\":[5.151322841598904,2.13119312818386],\"mib_india\":[8.318549014759304,-3.392952025270566],\"michaelmina_lab\":[-3.6500911046276974,-5.103918535442969],\"mike_pence\":[2.4179677029811746,4.308752681856471],\"mikedel21893959\":[-4.449852311251476,4.551152469383408],\"milan71655879\":[6.47817319576283,-4.436307803753335],\"mindedmusically\":[-8.136039102626691,4.855987140587428],\"mirrornow\":[3.250484515663014,-2.2539934419085452],\"mishra035\":[3.805573835965921,-4.4067013368010235],\"mjinnj80\":[-6.365997339813581,-1.7327952380080494],\"mjonesnr\":[-6.069253511962552,-2.761295815215642],\"mjrny361\":[-0.4170008573300037,3.7287072130266856],\"mmelgar09\":[-2.2934318422288986,-5.339680403020942],\"moayush\":[5.065432225625945,-6.754122177573594],\"moderna_tx\":[3.1427383201186063,0.8773376931251853],\"moesgoi\":[3.741829158080416,-7.278428124558259],\"mogiliballa\":[3.637326605359818,-4.062550993838997],\"mohfw_india\":[4.43586638455441,-2.308787395105554],\"mojil1998\":[6.8569588565032005,-2.6149536301583596],\"mommabear1231\":[-5.768561382365236,0.6123666643430279],\"mommaesq\":[-1.8524351721828138,-2.268509404322742],\"moneycontrolcom\":[4.064170732991918,-0.8051207476904053],\"mongo3804\":[-1.7064821610005974,-6.39885824900868],\"monstatofu\":[-5.378832003050586,-2.127999516321955],\"monstercoyliar\":[-4.298546261469135,0.0028471270633892154],\"mpsac\":[0.7032324939535249,2.9770549464260965],\"mrfunnyfff\":[0.3544604018313705,-0.18727893183427655],\"mrthinker07\":[-1.6746677546814814,0.01582249935291248],\"msnbc\":[2.2225295834589267,2.8465503057082193],\"mstrixter\":[-1.9238238361730748,-3.84928789239505],\"mtb_chum\":[-6.255332022524369,-2.1869100096616556],\"muaythaiguy44\":[-1.0437023811513375,-1.43654304317771],\"muhitreza\":[0.685745614573729,1.2697241302190052],\"musthafaabdulra\":[3.411342580391956,-3.130946634875141],\"mygovindia\":[7.822929817485782,-3.7696780799000287],\"mynameisearlb\":[-2.702994689150645,-0.6905070498089038],\"myogiadityanath\":[7.638127125408451,0.8077512135880252],\"narendramodi\":[5.0686909797681565,-1.8583218284143943],\"narvuntien\":[-3.396541519254911,4.800701944536772],\"natedoromal\":[-3.6094625085548615,-1.334164147270404],\"nayansthankiya\":[1.0561536152965882,1.7413786877530895],\"nbcnews\":[1.0537188529899248,0.4049968000309855],\"ndtv\":[4.908528628256988,0.5107540014234382],\"nickapalmer\":[-1.9412514619207388,6.422150761296795],\"nih\":[2.7787497943657256,-0.06105882299565774],\"nihdirector\":[4.9125292448642215,1.63225531789124],\"nikolovscience\":[-2.6404075814981525,4.014182169663014],\"niks_2180\":[4.238962821903673,-2.9379843205205662],\"nitiaayog\":[2.9826651977485183,-3.8546869979364295],\"nitin_gadkari\":[6.55202261762429,-5.314935144714217],\"nm_hs_rms\":[5.699853268786338,0.2866426600172363],\"no2wind\":[-3.699781056435332,4.599521789774036],\"nosciencedenial\":[-5.171265908492449,1.3109284233974146],\"notreadyyet82\":[-0.27926089762959233,-6.268299989630081],\"novavax\":[4.1873890889198755,1.5327187326000924],\"npvsp4backup\":[0.07311204001045349,2.213449296600447],\"nsitharaman\":[2.600516493268621,-5.268653122905833],\"nskif1j1\":[0.020873797813577556,1.828959593877212],\"nvitweets\":[3.9560935100734094,-3.513080343214027],\"nygovcuomo\":[-1.169169241500188,-0.31228570193092886],\"nytimes\":[1.107209682769621,0.5482241841806796],\"o_rips\":[-1.2495579370399552,-1.0084680018389007],\"oann\":[-1.1618908963823291,5.3227845806390555],\"opchaud87084772\":[3.5149595213432496,-4.177246666541053],\"organicdot\":[-4.97315598499201,0.24478899265315118],\"over400ppm\":[-3.5903228624438164,4.233125191686177],\"pacifist322\":[0.5265085413841067,-2.8232835716138],\"pahowho\":[0.8528184502916378,-5.152816534862111],\"papaldh\":[-0.5583176129899292,2.4810845732238826],\"paprikalady\":[-4.297715835496743,3.8530344410828503],\"parentmindinc\":[-3.3291935293719113,-5.2195103948062975],\"patrickenrigh20\":[-6.216098297870252,-2.39252229161117],\"paulvcooper1\":[-3.3129441919975826,-1.239896296638257],\"pedrocunit\":[0.0374528349202997,4.84298393207637],\"pennington_dora\":[-3.1414410333725487,-4.131220255321544],\"peopleb4pharma\":[3.6863877408378976,4.046958276822382],\"peterhotez\":[-0.3316244311632101,-0.0103982328627491],\"pfizer\":[2.8102101881194304,0.28974263081264157],\"phadingdark\":[-6.155897387927654,-2.5221310249815874],\"pharmaintyomama\":[-4.180177593596709,-3.4147409154842365],\"phochsian\":[-4.911195593940215,-1.4889747685213521],\"piaffe13\":[3.966784302431063,3.800463813516892],\"piano83562583\":[-0.6301886696108717,5.375323577515314],\"pib_india\":[6.26995499293526,-2.715953495578785],\"pibhindi\":[7.351045440733243,-5.138665799717807],\"pibmumbai\":[5.010803077294305,-6.014450837561779],\"piyushgoyal\":[4.4988841468444445,-5.981860878239696],\"pjmoore1958\":[-4.764527251845126,0.12445700570860647],\"pkflrda\":[0.3523652314946961,3.638293159946941],\"plasticdoe\":[-4.504093427809285,-0.2653746011138424],\"plumprofessora\":[-3.520090160535991,-1.6638634530116578],\"pmoindia\":[5.1244672082306915,-1.830357700246546],\"politico\":[3.2484559997349787,3.8345006679324993],\"post1113a\":[1.2279258933474748,2.587318655462037],\"potus\":[-0.5818309470464031,1.998812346468931],\"pquirke100\":[1.3705658081878387,0.11132913034671019],\"pragdreamer\":[-0.8070508733037844,2.017937499817522],\"prakashlalam\":[6.767590598697778,-0.5019517112541355],\"pratidintime\":[6.71890417818565,-3.0429543421253222],\"preetic52668187\":[5.709389235461674,0.4119902381856079],\"presssec\":[0.7710288144051702,4.324969146166016],\"prinsciadvgoi\":[4.063548621634488,-5.863164561572578],\"professorlou1\":[-2.6741866923189668,-0.5745716619901255],\"profsudhir\":[6.8981456502293295,-1.1022426128288303],\"projectlincoln\":[3.5764755250332425,4.741713200983256],\"prokerala\":[1.8240075455631166,-1.2074399751919043],\"provaxtexan\":[-3.144847699703967,-3.1370673737614827],\"ps_9171\":[3.9640502328087828,-3.7767334259425884],\"psfnyc5\":[-2.619976178422777,-5.8186039007022075],\"qtent2016\":[-3.16005775455958,-5.431179520913859],\"quatloosx\":[-1.615103862017333,-2.2745052774392485],\"quinntisg\":[-2.097626246931064,0.4961958913404639],\"rahulgandhi\":[3.5369403554551178,-3.461264966727339],\"raiisha4\":[4.810076735509923,-2.8894583203686657],\"rainbow_golden\":[-0.46389313213002104,1.3720047942122728],\"rainmc\":[-6.10376169097283,-1.088113022857565],\"rajeevchaudhur1\":[7.8974442946249495,-1.8346190539714515],\"rajeshvrc\":[7.662556525819567,0.07148186335465576],\"rajubramara\":[6.72722719261441,-4.242969672753931],\"ranajhk\":[3.3139444512152805,-4.61799927078303],\"randpaul\":[-2.334896485879092,4.724060403087604],\"rashtrapatibhvn\":[2.897736782105692,-4.583838390767435],\"ravisin88527356\":[3.662842531478603,-4.52319006752981],\"rcprentice\":[-4.847524197168174,-0.4856399137959628],\"realadamqureshi\":[0.42677854537015164,0.8751291857435183],\"realcandaceo\":[-2.3881018297412253,0.25349011112937014],\"realdonaldtrump\":[-0.5084354207506193,0.43841411172748335],\"realjameswoods\":[-1.4001474580166282,5.098037469119254],\"reckedrik\":[-4.203876762339091,3.9536897437016667],\"reply2world\":[2.2086395215732324,-1.1402126919921083],\"republic\":[5.834223225672909,1.0623273043623596],\"researchschola6\":[5.910143126301604,-5.149088045722068],\"resiguru\":[-8.4687572752154,4.825328778442603],\"retire_young_38\":[-3.0567533854048796,-5.212728719646612],\"reuters\":[0.5266992238616309,-2.47120059120885],\"richirraphael\":[1.5694052339054003,-1.7271171100265275],\"ridgebrook\":[3.571790957353278,5.393375908666321],\"rikayush\":[7.653153648905505,-0.6394415953977922],\"risettemd\":[-3.6941462204767332,-2.3617241721194535],\"rituparnasarm10\":[1.7517327183277995,-3.1086542961736283],\"rob_miller12345\":[0.1664047361308396,-2.3419724427634034],\"robertagramsey\":[-0.9062327069814652,3.297869771006871],\"robertcecil1608\":[-6.215325161806785,3.5596786284551034],\"robertkennedyjr\":[-3.0106717202192677,1.3634113878204663],\"roblev0\":[-7.7489505282354125,4.855794006592833],\"rocket_1981\":[-1.49407620226797,-6.376115222968217],\"rocza\":[-2.783931427131314,-5.261901743480385],\"roguetrader84\":[-2.5186253525563607,-4.691688512695738],\"rome_fell\":[-1.5222130380845982,-3.4207867522389788],\"roneljitl\":[3.197197551402754,-4.084369038342121],\"rosewind2007\":[-2.9652428201541223,-2.835921345985224],\"roxydoxy1527\":[2.0662436637707216,6.37226818194701],\"roypentland\":[-3.914094005028607,3.149088490952783],\"rrbassett\":[-1.7985920904937036,2.833668269418476],\"rrrkkkmmm1\":[-0.5831638199760152,2.2479234148696023],\"runhack\":[-3.282860154505631,-3.87671825923619],\"rupamsarkar\":[4.242534052338965,-3.841613403107527],\"rushhourp\":[-2.3998804834312373,6.441555591458699],\"rustyaway\":[-2.0974980948532282,6.722448723280545],\"rwingjr\":[5.48793690359388,2.734268115864641],\"rxrega\":[1.6741227261943203,3.2551072596041712],\"sachi_mahe\":[4.180581377348045,-4.385942033367182],\"sallykp\":[-0.44909708080014,-3.0410608744041148],\"sandeshy786\":[7.721105364903427,-0.9109451623723767],\"sankar_mm\":[6.3490611875815075,-3.321525575027729],\"santhemant\":[5.606221830364515,-3.9332312464676846],\"sarahdespres\":[-0.299573272844395,-0.5850687521228982],\"sbhattacharjee2\":[6.931715820682957,-4.026195890850684],\"sbpryadav\":[4.600206212884886,-3.472687805620127],\"sburke85\":[-1.5152572380772396,0.5543943236684029],\"science_cited\":[-2.7106773317065413,-1.170383178350457],\"scottgottliebmd\":[2.5261512204320793,2.2865151917805027],\"seanhannity\":[1.7684912895994507,4.273343263785912],\"secazar\":[1.4295879545605583,3.8905660824094865],\"senategop\":[2.5563286052710783,6.183812450056578],\"senatemajldr\":[3.3212763106982375,4.494069167097874],\"senschumer\":[2.923642577369925,4.191936904433996],\"sentinel_assam\":[4.34097472154173,-3.455027631969087],\"seruminstindia\":[4.456549249045671,-0.40750865904339956],\"sftechworker\":[-2.911590585813921,-1.0646946352736368],\"shaikbazid\":[3.278356413602986,-3.9620930963624876],\"shaneja16905901\":[-6.4164530221890965,3.3401460384304893],\"shared_facts\":[-4.414306100737892,0.45107494638094264],\"shepard_harley\":[-6.3063723308927955,-2.0331384014615597],\"shibadatta007\":[3.925803811918864,-4.132577890909171],\"shivamwadhwani2\":[7.739425917125796,-1.7079819132108511],\"shonadmcdermott\":[-3.491124508562308,-5.137252678266877],\"shubha40742127\":[7.472762420916499,-1.310679329465742],\"sir_tom_tucker\":[-8.643480919683586,3.7034510360717334],\"smcwoof\":[-4.331953108447503,-1.2677201273059764],\"speakerpelosi\":[3.396308532033486,3.130269963141762],\"spiketoronto\":[4.350763975889898,3.0961611377198164],\"sputnikint\":[2.132383520546425,-0.33060209916776107],\"stabill\":[-0.45720331187144725,1.1143494685102637],\"staci04907284\":[-5.790589126401394,-3.2579822235297455],\"statnews\":[2.5872355741483752,1.4637468628321968],\"stevefda\":[1.6373896067399616,3.881421474760477],\"stevendean0\":[2.1768976565309894,2.448469494457337],\"steverhone4\":[1.7838369783522474,-5.4829449401954236],\"stopcensorship7\":[-4.910996366141629,-4.379203019979716],\"stopvaxxedlies\":[-4.096639674222361,-0.014136126953233047],\"stormsignalsa\":[-4.190080000951285,3.502153714051386],\"sunjayjk\":[3.165649260685527,-1.485738026914045],\"sunnynewyork0\":[2.5362995402946593,5.521285519491595],\"susan04071\":[-8.651808122926678,3.270003797310089],\"susana12154086\":[-0.7015215464122823,5.239749895376312],\"susie1773\":[-1.852380229116465,3.6869265918008693],\"svaxhole\":[-7.028696207610319,-1.6631778594950903],\"swani741\":[-2.937521986626823,-1.6651376562122608],\"swedishchf\":[-1.6150697622379224,-4.262067619087293],\"sylviedparris\":[-4.995860600351299,-1.3100017908067283],\"tadityaverma\":[5.392581658377857,-1.2900410146552481],\"takethatcdc\":[-4.346859765045606,-2.0483999064784393],\"takethatdoctors\":[-5.099339097941978,-2.714894788165736],\"tamphotog\":[2.841552012601933,5.31476157333187],\"tandt_seo\":[-4.949911316761854,-3.0748760311870376],\"tangomitteckel\":[-3.7293185206901502,5.724357080224617],\"tchailatte\":[3.3053080043058474,2.5331810354626727],\"teamtrump\":[-2.547944499198988,3.157961187634862],\"telangana1st\":[2.06384165220612,-2.6926873503804987],\"telanganacmo\":[1.7915078298194238,-5.161117478803681],\"thatbackwoodsb\":[-6.003135733409991,0.08796840365372179],\"the_leaver\":[-8.48715551228398,3.852365037903195],\"the_moccasin_\":[-1.463836060561484,3.3808708598423607],\"the_plughd\":[4.268789983076407,0.03193525144955498],\"the_priyakapoor\":[7.2719370821161595,-0.20096724317076464],\"theatlantic\":[0.5708765009434661,-1.3301845024107914],\"theceomagazineg\":[1.059490121685563,-0.8591542118299009],\"thedaily1birdy\":[0.8058014857866763,2.2065756312010207],\"thedisproof\":[-4.4994125768916575,3.0205323135124957],\"thegrimbarian\":[-7.175100881403057,6.257578023899807],\"thehill\":[3.7146270410947944,3.1140983371480826],\"thepluviophile1\":[7.882891881619995,-0.12453831194020858],\"thereal_truther\":[-3.1608236555924374,-1.3479676360051647],\"thetribunechd\":[4.936458854418381,-2.5530656974136887],\"thewalltweets\":[3.587470765179678,-1.5347334305120535],\"thinks_about_it\":[-4.582928271734077,2.7648107212012585],\"thomaspane3\":[-1.8453563986679415,2.6672150468014175],\"tigerquinn7\":[-5.607070322091669,-3.509902042934164],\"timesnow\":[5.307962051719119,0.22519411286602237],\"tinfoilawards\":[-3.19956756295871,-0.3113292400554474],\"tiochango_\":[-5.690445262700584,-2.683616886886256],\"tonybaduy\":[-3.2916433842237827,1.4277095529743349],\"tqmka\":[-2.983166490905258,4.791125077311302],\"tracemetalclean\":[-4.7416337661249734,3.843375357112484],\"transformindia\":[9.96768125224016,-1.517385731777221],\"triplegggx\":[-6.215310546214078,6.816346810610758],\"troydee\":[-4.808466084408446,-3.229284487198546],\"truetrumpseries\":[-0.4736508913236431,3.1992670141380586],\"truthismaster\":[-2.8623640866943867,2.5915281265723733],\"truthlovingdr\":[-3.809475393285974,1.3364298021354202],\"tuckercarlson\":[0.018306534666535573,3.982342735597921],\"un\":[1.8353054949176226,-3.233285696308621],\"uniofoxford\":[2.267582679881224,-1.8154286792672503],\"urfriendstell\":[-5.391047000951603,0.8456809015409763],\"us_core\":[4.074503364943318,-4.088086189768404],\"us_fda\":[2.2913570156340164,1.971315607223849],\"useemdumb\":[-5.4995261270140485,-3.6582491888898363],\"utobian\":[-2.834511402253203,0.38180551374196237],\"vaishalimuzuda\":[0.704664687901235,-1.5148334381647426],\"vanessa29859116\":[0.8757977108871443,4.6784205308661555],\"vanwaridevesh\":[7.7574208662333275,-2.4654418026248064],\"vaxyourfam\":[1.570735039523613,-0.36085129020487944],\"vbkerry\":[1.9758574738159942,0.8406919517863908],\"vdeshtwit\":[-0.24891131520361337,1.5219306710329872],\"veuvek\":[-6.9260642683106175,6.140773126262509],\"vickie627\":[-1.3314211914377176,-6.370494952622415],\"victor48355670\":[-1.7321651628808143,1.2184890306668685],\"vikiseema\":[6.780351219098851,-3.2041200885332333],\"vilethepro\":[-4.919347590184822,0.3936156100256965],\"vinayku53547026\":[7.424175448585445,-3.5837137719634704],\"violaquadri1\":[-0.30899091483085284,5.404012644025883],\"vishash72004985\":[6.878630425596466,-3.8478668130930065],\"viv_cooper\":[-9.092464008573417,2.2703673886311053],\"vp\":[1.6441955840659854,4.556408410529294],\"vv85767417\":[-1.0704507486633454,0.5090460790044212],\"washingtonpost\":[0.4044250379958515,0.35904257473762086],\"wasim9876543\":[6.527318760203761,-4.16991402688594],\"wearelions3\":[-6.447308375168458,-1.8877101342416722],\"wendyorent\":[-2.7325961655445963,-2.9577092528976454],\"whitehouse\":[2.804761605063806,2.220853161126039],\"who\":[2.1954092221931316,-2.0556995116190833],\"who_europe\":[0.9326796188775284,-5.015585826876225],\"whoafro\":[0.7285092422359165,-4.649417114012944],\"whoemro\":[0.9958120968362717,-5.158512200643507],\"whosearo\":[2.2555437904864637,-3.132880391095393],\"whowpro\":[1.0936529973467086,-4.984044771023096],\"willard1951\":[-5.104198689853666,4.424562992971801],\"wsj\":[0.6624755287870665,-0.9825115755760923],\"yazanf91\":[1.2510995714455166,-4.4013511904644265],\"yd52\":[4.015767740725757,4.18369986419587],\"yellostvstone\":[-2.2682186541908638,-0.12153308705915825],\"yolandadn44\":[-0.2382106716831066,4.743526733749452],\"youtube\":[-0.1556763468317404,-0.9573618589782107],\"zeenews\":[2.4924445507854647,-0.9335131271933335],\"zephyr999999999\":[2.010891002509511,-1.557575108094851],\"ziggystardad\":[-0.5498225547015195,-6.203800684877563],\"zooeraina\":[-6.507276994487082,-1.3516286858217221],\"zydusuniverse\":[5.590546659675133,1.0333012982371947]}},\"id\":\"11633\",\"type\":\"StaticLayoutProvider\"},{\"attributes\":{},\"id\":\"12162\",\"type\":\"NodesOnly\"},{\"attributes\":{},\"id\":\"12161\",\"type\":\"BasicTickFormatter\"},{\"attributes\":{\"active_multi\":null,\"active_scroll\":{\"id\":\"11614\"},\"tools\":[{\"id\":\"11613\"},{\"id\":\"11614\"},{\"id\":\"11615\"},{\"id\":\"11616\"},{\"id\":\"11617\"}]},\"id\":\"11618\",\"type\":\"Toolbar\"},{\"attributes\":{\"edge_renderer\":{\"id\":\"11631\"},\"inspection_policy\":{\"id\":\"12162\"},\"layout_provider\":{\"id\":\"11633\"},\"node_renderer\":{\"id\":\"11627\"},\"selection_policy\":{\"id\":\"12167\"}},\"id\":\"11624\",\"type\":\"GraphRenderer\"},{\"attributes\":{\"callback\":null,\"tooltips\":[[\"User\",\"@index\"],[\"Degree\",\"@degree\"]]},\"id\":\"11617\",\"type\":\"HoverTool\"}],\"root_ids\":[\"11596\"]},\"title\":\"Bokeh Application\",\"version\":\"2.3.2\"}};\n",
       "  var render_items = [{\"docid\":\"c633020c-1874-4843-91e8-016c4a770643\",\"notebook_comms_target\":\"12179\",\"root_ids\":[\"11596\"],\"roots\":{\"11596\":\"31fbce74-11f4-4115-a69b-210cc609c3ee\"}}];\n",
       "  root.Bokeh.embed.embed_items_notebook(docs_json, render_items);\n",
       "\n",
       "  }\n",
       "  if (root.Bokeh !== undefined) {\n",
       "    embed_document(root);\n",
       "  } else {\n",
       "    var attempts = 0;\n",
       "    var timer = setInterval(function(root) {\n",
       "      if (root.Bokeh !== undefined) {\n",
       "        clearInterval(timer);\n",
       "        embed_document(root);\n",
       "      } else {\n",
       "        attempts++;\n",
       "        if (attempts > 100) {\n",
       "          clearInterval(timer);\n",
       "          console.log(\"Bokeh: ERROR: Unable to run BokehJS code because BokehJS library is missing\");\n",
       "        }\n",
       "      }\n",
       "    }, 10, root)\n",
       "  }\n",
       "})(window);"
      ],
      "application/vnd.bokehjs_exec.v0+json": ""
     },
     "metadata": {
      "application/vnd.bokehjs_exec.v0+json": {
       "id": "11596"
      }
     },
     "output_type": "display_data"
    }
   ],
   "source": [
    "net_obj = nx.from_pandas_edgelist(grouped_k_core_df, 'source', 'target', 'width')# creating networkx cobject\n",
    "title = 'Posters and @tags network'\n",
    "network_plot(net_obj,title, -6, nx.kamada_kawai_layout)# detailed network visualisation"
   ]
  },
  {
   "cell_type": "code",
   "execution_count": 228,
   "id": "07a5cea6",
   "metadata": {},
   "outputs": [],
   "source": [
    "grouped_k_core_df.to_csv(\"data/k_core_7_edges.csv\", index=False)"
   ]
  },
  {
   "cell_type": "code",
   "execution_count": null,
   "id": "d5ec5423",
   "metadata": {},
   "outputs": [],
   "source": []
  },
  {
   "cell_type": "code",
   "execution_count": 264,
   "id": "80f4b1e6",
   "metadata": {},
   "outputs": [
    {
     "data": {
      "text/html": [
       "<div>\n",
       "<style scoped>\n",
       "    .dataframe tbody tr th:only-of-type {\n",
       "        vertical-align: middle;\n",
       "    }\n",
       "\n",
       "    .dataframe tbody tr th {\n",
       "        vertical-align: top;\n",
       "    }\n",
       "\n",
       "    .dataframe thead th {\n",
       "        text-align: right;\n",
       "    }\n",
       "</style>\n",
       "<table border=\"1\" class=\"dataframe\">\n",
       "  <thead>\n",
       "    <tr style=\"text-align: right;\">\n",
       "      <th></th>\n",
       "      <th>source</th>\n",
       "    </tr>\n",
       "  </thead>\n",
       "  <tbody>\n",
       "    <tr>\n",
       "      <th>0</th>\n",
       "      <td>100dianne</td>\n",
       "    </tr>\n",
       "    <tr>\n",
       "      <th>1</th>\n",
       "      <td>1americangirl</td>\n",
       "    </tr>\n",
       "    <tr>\n",
       "      <th>2</th>\n",
       "      <td>22vetsaday1</td>\n",
       "    </tr>\n",
       "    <tr>\n",
       "      <th>3</th>\n",
       "      <td>3montmonty</td>\n",
       "    </tr>\n",
       "    <tr>\n",
       "      <th>4</th>\n",
       "      <td>4pp34</td>\n",
       "    </tr>\n",
       "    <tr>\n",
       "      <th>...</th>\n",
       "      <td>...</td>\n",
       "    </tr>\n",
       "    <tr>\n",
       "      <th>722</th>\n",
       "      <td>zeenews</td>\n",
       "    </tr>\n",
       "    <tr>\n",
       "      <th>723</th>\n",
       "      <td>zephyr999999999</td>\n",
       "    </tr>\n",
       "    <tr>\n",
       "      <th>724</th>\n",
       "      <td>ziggystardad</td>\n",
       "    </tr>\n",
       "    <tr>\n",
       "      <th>725</th>\n",
       "      <td>zooeraina</td>\n",
       "    </tr>\n",
       "    <tr>\n",
       "      <th>726</th>\n",
       "      <td>zydusuniverse</td>\n",
       "    </tr>\n",
       "  </tbody>\n",
       "</table>\n",
       "<p>727 rows × 1 columns</p>\n",
       "</div>"
      ],
      "text/plain": [
       "              source\n",
       "0          100dianne\n",
       "1      1americangirl\n",
       "2        22vetsaday1\n",
       "3         3montmonty\n",
       "4              4pp34\n",
       "..               ...\n",
       "722          zeenews\n",
       "723  zephyr999999999\n",
       "724     ziggystardad\n",
       "725        zooeraina\n",
       "726    zydusuniverse\n",
       "\n",
       "[727 rows x 1 columns]"
      ]
     },
     "execution_count": 264,
     "metadata": {},
     "output_type": "execute_result"
    }
   ],
   "source": [
    "# nodes_list = grouped_k_core_df[\"target\"].values.tolist()\n",
    "\n",
    "# nodes_list.extend(grouped_k_core_df[\"target\"].values.tolist())\n",
    "\n",
    "target_df = grouped_k_core_df[[\"target\"]].copy()\n",
    "target_df = target_df.rename(columns={\"target\" : \"source\"})\n",
    "target_df\n",
    "\n",
    "source_df = grouped_k_core_df[[\"source\"]].copy()\n",
    "source_df\n",
    "\n",
    "all_nodes = pd.concat([source_df, target_df])\n",
    "unique_nodes = all_nodes.groupby(\"source\").size().reset_index(name=\"count\")[[\"source\"]]\n",
    "unique_nodes\n",
    "\n",
    "# grouped_k_core_df[[\"target\"]].rename(columns={\"target\", \"source\"})\n",
    "\n",
    "# pd.concat([grouped_k_core_df[[\"source\"]], grouped_k_core_df[[\"target\"]].copy().rename(columns={\"target\": \"source\"}) ])"
   ]
  },
  {
   "cell_type": "code",
   "execution_count": 265,
   "id": "3bd2af19",
   "metadata": {},
   "outputs": [],
   "source": [
    "unique_nodes.to_csv(\"data/k_core_7_nodes.csv\", index=False)"
   ]
  },
  {
   "cell_type": "code",
   "execution_count": null,
   "id": "2267ca77",
   "metadata": {},
   "outputs": [],
   "source": []
  },
  {
   "cell_type": "code",
   "execution_count": null,
   "id": "01042607",
   "metadata": {},
   "outputs": [],
   "source": []
  }
 ],
 "metadata": {
  "kernelspec": {
   "display_name": "Python 3",
   "language": "python",
   "name": "python3"
  },
  "language_info": {
   "codemirror_mode": {
    "name": "ipython",
    "version": 3
   },
   "file_extension": ".py",
   "mimetype": "text/x-python",
   "name": "python",
   "nbconvert_exporter": "python",
   "pygments_lexer": "ipython3",
   "version": "3.6.8"
  }
 },
 "nbformat": 4,
 "nbformat_minor": 5
}
