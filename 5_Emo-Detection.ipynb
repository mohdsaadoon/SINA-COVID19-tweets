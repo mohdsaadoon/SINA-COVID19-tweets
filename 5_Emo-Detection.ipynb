{
 "cells": [
  {
   "cell_type": "markdown",
   "metadata": {},
   "source": [
    "Author: Hnin Pwint Tin, 20 May 2021\n",
    "\n",
    "Social and Information Network Analysis, 2021 Autumn\n",
    "\n",
    "Master of Data Science and Innovation , University of Technology Sydney\n",
    "\n",
    "This is the data preparation script part-5 for network data visualisation assessment task - AT3"
   ]
  },
  {
   "cell_type": "code",
   "execution_count": 2,
   "metadata": {
    "scrolled": true
   },
   "outputs": [],
   "source": [
    "import igraph as ig\n",
    "import pandas as pd\n",
    "\n",
    "import matplotlib.pyplot as plt\n",
    "# Regular Expression Lib\n",
    "import re"
   ]
  },
  {
   "cell_type": "code",
   "execution_count": 25,
   "metadata": {},
   "outputs": [],
   "source": [
    "## Load pre-processed data\n",
    "\n",
    "# edges = pd.read_csv(\"data/Hnin_Tweeter_Api/may-3/twitter_data_analysis-05-03-15-edge-table-username-based.csv\")\n",
    "# edges = pd.read_csv(\"data/Hnin_Tweeter_Api/may-11/twitter_data_analysis-05-11-15-edge-table-username-based.csv\")\n",
    "edges = pd.read_csv(\"data/Kaggle/twitter_data_analysis-edge-table-username-based.csv\")\n",
    "\n",
    "\n",
    "# vertices = pd.read_csv(\"data/Hnin_Tweeter_Api/may-3/twitter_data_analysis-05-03-15-node-table-username-based.csv\")\n",
    "# vertices = pd.read_csv(\"data/Hnin_Tweeter_Api/may-11/twitter_data_analysis-05-11-15-node-table-username-based.csv\")\n",
    "vertices = pd.read_csv(\"data/Kaggle/twitter_data_analysis-node-table-username-based.csv\")"
   ]
  },
  {
   "cell_type": "code",
   "execution_count": 15,
   "metadata": {},
   "outputs": [
    {
     "data": {
      "text/html": [
       "<div>\n",
       "<style scoped>\n",
       "    .dataframe tbody tr th:only-of-type {\n",
       "        vertical-align: middle;\n",
       "    }\n",
       "\n",
       "    .dataframe tbody tr th {\n",
       "        vertical-align: top;\n",
       "    }\n",
       "\n",
       "    .dataframe thead th {\n",
       "        text-align: right;\n",
       "    }\n",
       "</style>\n",
       "<table border=\"1\" class=\"dataframe\">\n",
       "  <thead>\n",
       "    <tr style=\"text-align: right;\">\n",
       "      <th></th>\n",
       "      <th>Source</th>\n",
       "      <th>Target</th>\n",
       "      <th>reply_text</th>\n",
       "    </tr>\n",
       "  </thead>\n",
       "  <tbody>\n",
       "    <tr>\n",
       "      <th>0</th>\n",
       "      <td>to_fly_to_live</td>\n",
       "      <td>ANI</td>\n",
       "      <td>@ANI Isn't it the best poll promise ever?? Fre...</td>\n",
       "    </tr>\n",
       "    <tr>\n",
       "      <th>1</th>\n",
       "      <td>bak_sahil</td>\n",
       "      <td>MisseeMonis</td>\n",
       "      <td>@MisseeMonis They said vaccine for all but not...</td>\n",
       "    </tr>\n",
       "    <tr>\n",
       "      <th>2</th>\n",
       "      <td>clivebennett</td>\n",
       "      <td>theJeremyVine</td>\n",
       "      <td>@theJeremyVine And on the same day we heard th...</td>\n",
       "    </tr>\n",
       "    <tr>\n",
       "      <th>3</th>\n",
       "      <td>raquelquefois</td>\n",
       "      <td>jim_dickinson</td>\n",
       "      <td>@jim_dickinson I’ve heard he died covid HOWEVE...</td>\n",
       "    </tr>\n",
       "    <tr>\n",
       "      <th>4</th>\n",
       "      <td>hemagazineindia</td>\n",
       "      <td>HEmagazineIndia</td>\n",
       "      <td>@journoarunima @netshrink @doctorsoumya @c_ass...</td>\n",
       "    </tr>\n",
       "    <tr>\n",
       "      <th>5</th>\n",
       "      <td>sufiyan_atif</td>\n",
       "      <td>NairShilpa1308</td>\n",
       "      <td>@NairShilpa1308 @Ahmedshabbir20 And If BJP doe...</td>\n",
       "    </tr>\n",
       "    <tr>\n",
       "      <th>6</th>\n",
       "      <td>imtiyaz94433919</td>\n",
       "      <td>ANI</td>\n",
       "      <td>@ANI Covid Vaccine is not BJP's personal asset...</td>\n",
       "    </tr>\n",
       "    <tr>\n",
       "      <th>7</th>\n",
       "      <td>karwaan_of_life</td>\n",
       "      <td>TOIIndiaNews</td>\n",
       "      <td>@TOIIndiaNews Are you kidding me ???? Free Cov...</td>\n",
       "    </tr>\n",
       "    <tr>\n",
       "      <th>8</th>\n",
       "      <td>rajjjim</td>\n",
       "      <td>ANI</td>\n",
       "      <td>@ANI All other states should wait for election...</td>\n",
       "    </tr>\n",
       "    <tr>\n",
       "      <th>9</th>\n",
       "      <td>championtenza</td>\n",
       "      <td>championtenza</td>\n",
       "      <td>Then you hear a healthy looking somebody sayin...</td>\n",
       "    </tr>\n",
       "    <tr>\n",
       "      <th>10</th>\n",
       "      <td>championtenza</td>\n",
       "      <td>championtenza</td>\n",
       "      <td>Other serious side effects which they usually ...</td>\n",
       "    </tr>\n",
       "    <tr>\n",
       "      <th>11</th>\n",
       "      <td>bhaskareco67</td>\n",
       "      <td>chatukhor</td>\n",
       "      <td>@chatukhor If BJP lost the election in Bihar ,...</td>\n",
       "    </tr>\n",
       "    <tr>\n",
       "      <th>12</th>\n",
       "      <td>kanarkist</td>\n",
       "      <td>ANI</td>\n",
       "      <td>@ANI Is this a bloody joke.. This moron of a f...</td>\n",
       "    </tr>\n",
       "    <tr>\n",
       "      <th>13</th>\n",
       "      <td>badherakesh</td>\n",
       "      <td>ANI</td>\n",
       "      <td>@ANI If @BJP4Bihar doesn’t win in #Bihar will ...</td>\n",
       "    </tr>\n",
       "    <tr>\n",
       "      <th>14</th>\n",
       "      <td>deepakdeepu_</td>\n",
       "      <td>deepakdeepu_</td>\n",
       "      <td>I wonder why India didn't find the Covid Vacci...</td>\n",
       "    </tr>\n",
       "    <tr>\n",
       "      <th>15</th>\n",
       "      <td>memumbaikar42</td>\n",
       "      <td>Iamsahzad</td>\n",
       "      <td>@Iamsahzad Aap iska doosra hissay samjhe,if th...</td>\n",
       "    </tr>\n",
       "    <tr>\n",
       "      <th>16</th>\n",
       "      <td>vepeanil</td>\n",
       "      <td>suhasinih</td>\n",
       "      <td>@suhasinih Covid vaccine is oxygen for humanit...</td>\n",
       "    </tr>\n",
       "    <tr>\n",
       "      <th>17</th>\n",
       "      <td>aarifathar</td>\n",
       "      <td>TimesNow</td>\n",
       "      <td>@TimesNow @narendramodi Dear countrymen As Bih...</td>\n",
       "    </tr>\n",
       "    <tr>\n",
       "      <th>18</th>\n",
       "      <td>saurabhkadam_07</td>\n",
       "      <td>ANI</td>\n",
       "      <td>@ANI If BJP doesn't win in Bihar will they cha...</td>\n",
       "    </tr>\n",
       "    <tr>\n",
       "      <th>19</th>\n",
       "      <td>aarifathar</td>\n",
       "      <td>IndiaToday</td>\n",
       "      <td>@IndiaToday Dear countrymen As Bihar goes to t...</td>\n",
       "    </tr>\n",
       "  </tbody>\n",
       "</table>\n",
       "</div>"
      ],
      "text/plain": [
       "             Source           Target  \\\n",
       "0    to_fly_to_live              ANI   \n",
       "1         bak_sahil      MisseeMonis   \n",
       "2      clivebennett    theJeremyVine   \n",
       "3     raquelquefois    jim_dickinson   \n",
       "4   hemagazineindia  HEmagazineIndia   \n",
       "5      sufiyan_atif   NairShilpa1308   \n",
       "6   imtiyaz94433919              ANI   \n",
       "7   karwaan_of_life     TOIIndiaNews   \n",
       "8           rajjjim              ANI   \n",
       "9     championtenza    championtenza   \n",
       "10    championtenza    championtenza   \n",
       "11     bhaskareco67        chatukhor   \n",
       "12        kanarkist              ANI   \n",
       "13      badherakesh              ANI   \n",
       "14     deepakdeepu_     deepakdeepu_   \n",
       "15    memumbaikar42        Iamsahzad   \n",
       "16         vepeanil        suhasinih   \n",
       "17       aarifathar         TimesNow   \n",
       "18  saurabhkadam_07              ANI   \n",
       "19       aarifathar       IndiaToday   \n",
       "\n",
       "                                           reply_text  \n",
       "0   @ANI Isn't it the best poll promise ever?? Fre...  \n",
       "1   @MisseeMonis They said vaccine for all but not...  \n",
       "2   @theJeremyVine And on the same day we heard th...  \n",
       "3   @jim_dickinson I’ve heard he died covid HOWEVE...  \n",
       "4   @journoarunima @netshrink @doctorsoumya @c_ass...  \n",
       "5   @NairShilpa1308 @Ahmedshabbir20 And If BJP doe...  \n",
       "6   @ANI Covid Vaccine is not BJP's personal asset...  \n",
       "7   @TOIIndiaNews Are you kidding me ???? Free Cov...  \n",
       "8   @ANI All other states should wait for election...  \n",
       "9   Then you hear a healthy looking somebody sayin...  \n",
       "10  Other serious side effects which they usually ...  \n",
       "11  @chatukhor If BJP lost the election in Bihar ,...  \n",
       "12  @ANI Is this a bloody joke.. This moron of a f...  \n",
       "13  @ANI If @BJP4Bihar doesn’t win in #Bihar will ...  \n",
       "14  I wonder why India didn't find the Covid Vacci...  \n",
       "15  @Iamsahzad Aap iska doosra hissay samjhe,if th...  \n",
       "16  @suhasinih Covid vaccine is oxygen for humanit...  \n",
       "17  @TimesNow @narendramodi Dear countrymen As Bih...  \n",
       "18  @ANI If BJP doesn't win in Bihar will they cha...  \n",
       "19  @IndiaToday Dear countrymen As Bihar goes to t...  "
      ]
     },
     "execution_count": 15,
     "metadata": {},
     "output_type": "execute_result"
    }
   ],
   "source": [
    "edges.head(20)"
   ]
  },
  {
   "cell_type": "code",
   "execution_count": 7,
   "metadata": {},
   "outputs": [
    {
     "data": {
      "text/plain": [
       "(69736, 3)"
      ]
     },
     "execution_count": 7,
     "metadata": {},
     "output_type": "execute_result"
    }
   ],
   "source": [
    "edges.shape"
   ]
  },
  {
   "cell_type": "code",
   "execution_count": 10,
   "metadata": {},
   "outputs": [
    {
     "data": {
      "text/plain": [
       "51358"
      ]
     },
     "execution_count": 10,
     "metadata": {},
     "output_type": "execute_result"
    }
   ],
   "source": [
    "len(edges['Source'].unique())"
   ]
  },
  {
   "cell_type": "code",
   "execution_count": 12,
   "metadata": {},
   "outputs": [
    {
     "data": {
      "text/plain": [
       "40431"
      ]
     },
     "execution_count": 12,
     "metadata": {},
     "output_type": "execute_result"
    }
   ],
   "source": [
    "len(edges['Target'].unique())"
   ]
  },
  {
   "cell_type": "code",
   "execution_count": 13,
   "metadata": {},
   "outputs": [
    {
     "data": {
      "text/plain": [
       "(91789, 1)"
      ]
     },
     "execution_count": 13,
     "metadata": {},
     "output_type": "execute_result"
    }
   ],
   "source": [
    "vertices.shape"
   ]
  },
  {
   "cell_type": "code",
   "execution_count": 24,
   "metadata": {},
   "outputs": [
    {
     "data": {
      "text/html": [
       "<div>\n",
       "<style scoped>\n",
       "    .dataframe tbody tr th:only-of-type {\n",
       "        vertical-align: middle;\n",
       "    }\n",
       "\n",
       "    .dataframe tbody tr th {\n",
       "        vertical-align: top;\n",
       "    }\n",
       "\n",
       "    .dataframe thead th {\n",
       "        text-align: right;\n",
       "    }\n",
       "</style>\n",
       "<table border=\"1\" class=\"dataframe\">\n",
       "  <thead>\n",
       "    <tr style=\"text-align: right;\">\n",
       "      <th></th>\n",
       "      <th>Target</th>\n",
       "      <th>Source</th>\n",
       "      <th>reply_text</th>\n",
       "    </tr>\n",
       "  </thead>\n",
       "  <tbody>\n",
       "    <tr>\n",
       "      <th>35999</th>\n",
       "      <td>realDonaldTrump</td>\n",
       "      <td>2003</td>\n",
       "      <td>2003</td>\n",
       "    </tr>\n",
       "    <tr>\n",
       "      <th>30528</th>\n",
       "      <td>jcho710</td>\n",
       "      <td>1442</td>\n",
       "      <td>1442</td>\n",
       "    </tr>\n",
       "    <tr>\n",
       "      <th>10408</th>\n",
       "      <td>JoeBiden</td>\n",
       "      <td>307</td>\n",
       "      <td>307</td>\n",
       "    </tr>\n",
       "    <tr>\n",
       "      <th>3598</th>\n",
       "      <td>CNN</td>\n",
       "      <td>258</td>\n",
       "      <td>258</td>\n",
       "    </tr>\n",
       "    <tr>\n",
       "      <th>22523</th>\n",
       "      <td>WhiteHouse</td>\n",
       "      <td>195</td>\n",
       "      <td>195</td>\n",
       "    </tr>\n",
       "    <tr>\n",
       "      <th>34218</th>\n",
       "      <td>narendramodi</td>\n",
       "      <td>194</td>\n",
       "      <td>194</td>\n",
       "    </tr>\n",
       "    <tr>\n",
       "      <th>13340</th>\n",
       "      <td>MattHancock</td>\n",
       "      <td>167</td>\n",
       "      <td>167</td>\n",
       "    </tr>\n",
       "    <tr>\n",
       "      <th>38687</th>\n",
       "      <td>thehill</td>\n",
       "      <td>157</td>\n",
       "      <td>157</td>\n",
       "    </tr>\n",
       "    <tr>\n",
       "      <th>14683</th>\n",
       "      <td>NYGovCuomo</td>\n",
       "      <td>146</td>\n",
       "      <td>146</td>\n",
       "    </tr>\n",
       "    <tr>\n",
       "      <th>4324</th>\n",
       "      <td>ChuckCallesto</td>\n",
       "      <td>119</td>\n",
       "      <td>119</td>\n",
       "    </tr>\n",
       "    <tr>\n",
       "      <th>29328</th>\n",
       "      <td>harleysnhotrods</td>\n",
       "      <td>118</td>\n",
       "      <td>118</td>\n",
       "    </tr>\n",
       "    <tr>\n",
       "      <th>9337</th>\n",
       "      <td>IngrahamAngle</td>\n",
       "      <td>109</td>\n",
       "      <td>109</td>\n",
       "    </tr>\n",
       "    <tr>\n",
       "      <th>23554</th>\n",
       "      <td>adarpoonawalla</td>\n",
       "      <td>106</td>\n",
       "      <td>106</td>\n",
       "    </tr>\n",
       "    <tr>\n",
       "      <th>15759</th>\n",
       "      <td>PMOIndia</td>\n",
       "      <td>104</td>\n",
       "      <td>104</td>\n",
       "    </tr>\n",
       "    <tr>\n",
       "      <th>19275</th>\n",
       "      <td>SkyNews</td>\n",
       "      <td>102</td>\n",
       "      <td>102</td>\n",
       "    </tr>\n",
       "    <tr>\n",
       "      <th>17549</th>\n",
       "      <td>Reuters</td>\n",
       "      <td>99</td>\n",
       "      <td>99</td>\n",
       "    </tr>\n",
       "    <tr>\n",
       "      <th>11094</th>\n",
       "      <td>KamalaHarris</td>\n",
       "      <td>94</td>\n",
       "      <td>94</td>\n",
       "    </tr>\n",
       "    <tr>\n",
       "      <th>7664</th>\n",
       "      <td>GOP</td>\n",
       "      <td>88</td>\n",
       "      <td>88</td>\n",
       "    </tr>\n",
       "    <tr>\n",
       "      <th>2712</th>\n",
       "      <td>BillGates</td>\n",
       "      <td>87</td>\n",
       "      <td>87</td>\n",
       "    </tr>\n",
       "    <tr>\n",
       "      <th>600</th>\n",
       "      <td>ASlavitt</td>\n",
       "      <td>84</td>\n",
       "      <td>84</td>\n",
       "    </tr>\n",
       "  </tbody>\n",
       "</table>\n",
       "</div>"
      ],
      "text/plain": [
       "                Target  Source  reply_text\n",
       "35999  realDonaldTrump    2003        2003\n",
       "30528          jcho710    1442        1442\n",
       "10408         JoeBiden     307         307\n",
       "3598               CNN     258         258\n",
       "22523       WhiteHouse     195         195\n",
       "34218     narendramodi     194         194\n",
       "13340      MattHancock     167         167\n",
       "38687          thehill     157         157\n",
       "14683       NYGovCuomo     146         146\n",
       "4324     ChuckCallesto     119         119\n",
       "29328  harleysnhotrods     118         118\n",
       "9337     IngrahamAngle     109         109\n",
       "23554   adarpoonawalla     106         106\n",
       "15759         PMOIndia     104         104\n",
       "19275          SkyNews     102         102\n",
       "17549          Reuters      99          99\n",
       "11094     KamalaHarris      94          94\n",
       "7664               GOP      88          88\n",
       "2712         BillGates      87          87\n",
       "600           ASlavitt      84          84"
      ]
     },
     "execution_count": 24,
     "metadata": {},
     "output_type": "execute_result"
    }
   ],
   "source": [
    "reply_count_df = edges.groupby(['Target']).count().reset_index()\n",
    "reply_count_df = reply_count_df.sort_values(by='Source', ascending=False)\n",
    "reply_count_df.head(20)"
   ]
  },
  {
   "cell_type": "code",
   "execution_count": 4,
   "metadata": {},
   "outputs": [
    {
     "name": "stderr",
     "output_type": "stream",
     "text": [
      "C:\\Hnin\\lib\\site-packages\\igraph\\__init__.py:3446: UserWarning: In 'edges' NA elements were replaced with string \"NA\"\n",
      "  warn(\"In 'edges' NA elements were replaced with string \\\"NA\\\"\")\n",
      "UsageError: Line magic function `%%time` not found.\n"
     ]
    }
   ],
   "source": [
    "g = ig.Graph.DataFrame(edges[['Source', 'Target']], directed=False)\n",
    "\n",
    "%%time\n",
    "layout = g.layout(layout='fruchterman_reingold')\n",
    "layout\n",
    "\n",
    "fig, ax = plt.subplots(figsize=(20,20))\n",
    "ig.plot(g, layout=layout, target=ax)"
   ]
  },
  {
   "cell_type": "markdown",
   "metadata": {},
   "source": [
    "###  Text Data cleaning"
   ]
  },
  {
   "cell_type": "code",
   "execution_count": null,
   "metadata": {},
   "outputs": [],
   "source": [
    "#### Removing Http urls\n",
    "edges[\"reply_text_cleaned\"] = edges['reply_text'].map(lambda x:  re.sub(r'\\bhttps?:\\/\\/.*[\\r\\n]*', '', x))\n",
    "\n",
    "# print(edges['reply_text'][4])\n",
    "print(edges['reply_text_cleaned'][302])"
   ]
  },
  {
   "cell_type": "code",
   "execution_count": 112,
   "metadata": {},
   "outputs": [
    {
     "name": "stdout",
     "output_type": "stream",
     "text": [
      " It's not a game! COVID-19 is deadly! COVID-19 Still Killing! No COVID vaccine! There were 1,336,561 deaths in the US between March 1 &amp; August 1, study said – a 20% over normality! That's been reported &amp; verified! #StillBelieveTrumpHandledCOVIDCorrectly ?  \n"
     ]
    }
   ],
   "source": [
    "#### Removing mention tag @\n",
    "edges[\"reply_text_cleaned\"] = edges['reply_text_cleaned'].map(lambda x:  re.sub(r'@[A-Za-z0-9,_]*', '', x))\n",
    "print(edges['reply_text_cleaned'][302])"
   ]
  },
  {
   "cell_type": "code",
   "execution_count": 114,
   "metadata": {},
   "outputs": [
    {
     "name": "stdout",
     "output_type": "stream",
     "text": [
      " It's not a game! COVID-19 is deadly! COVID-19 Still Killing! No COVID vaccine! There were 1,336,561 deaths in the US between March 1 &amp; August 1, study said – a 20% over normality! That's been reported &amp; verified!  ?  \n"
     ]
    }
   ],
   "source": [
    "#### Removing mention tag #\n",
    "edges[\"reply_text_cleaned\"] = edges['reply_text_cleaned'].map(lambda x:  re.sub(r'#[A-Za-z0-9,_]*', '', x))\n",
    "print(edges['reply_text_cleaned'][302])"
   ]
  },
  {
   "cell_type": "code",
   "execution_count": 115,
   "metadata": {},
   "outputs": [
    {
     "name": "stdout",
     "output_type": "stream",
     "text": [
      " It's not a game! COVID-19 is deadly! COVID-19 Still Killing! No COVID vaccine! There were 1,336,561 deaths in the US between March 1 &amp; August 1, study said – a 20% over normality! That's been reported &amp; verified!  ?  \n"
     ]
    }
   ],
   "source": [
    "#### Removing emjii encoding Tried to remove emoji encoding - \\xf0\\x9f\\x99\\x8f\\xf0\\x9f\\x99\\x8f\\xf0\\x9f\\x99\\x8f, but it is wrong approach\n",
    "edges[\"reply_text_cleaned\"] = edges['reply_text_cleaned'].map(lambda x:  re.sub(r'[\\\\][x][0-9,a-f,A-F][0-9,a-f,A-F]*', '', x))\n",
    "print(edges['reply_text_cleaned'][302])\n",
    "# ([\\\\][x][0-9,a-f,A-F][0-9,a-f,A-F])"
   ]
  },
  {
   "cell_type": "code",
   "execution_count": 78,
   "metadata": {},
   "outputs": [
    {
     "name": "stdout",
     "output_type": "stream",
     "text": [
      "b' I got vaccinated in Sir HN Reliance hospital on 07/05/2021. But my vaccination status is not yet update\\xe2\\x80\\xa6 \n"
     ]
    }
   ],
   "source": [
    "### Decode the text for future emotion text detection for emojii icons\n",
    "# edges['decoded_text'] = edges['reply_text_cleaned'].map(lambda x: x.encode('utf-8').decode('utf-8'))\n",
    "# print(edges['decoded_text'][302])"
   ]
  },
  {
   "cell_type": "code",
   "execution_count": 116,
   "metadata": {},
   "outputs": [
    {
     "name": "stdout",
     "output_type": "stream",
     "text": [
      "@ANI All other states should wait for elections in order to get covid vaccine 🤣🤣🤣\n",
      " All other states should wait for elections in order to get covid vaccine 🤣🤣🤣\n"
     ]
    }
   ],
   "source": [
    "## Exmine the text cleaning result\n",
    "print(edges['reply_text'][8])\n",
    "print(edges['reply_text_cleaned'][8])\n",
    "# print(edges['decoded_text'][8])\n",
    "\n",
    "#### Store the result here into the Drive"
   ]
  },
  {
   "cell_type": "markdown",
   "metadata": {},
   "source": [
    "### Decoded cleaned Text to Emotion using text2emotion"
   ]
  },
  {
   "cell_type": "code",
   "execution_count": 117,
   "metadata": {},
   "outputs": [],
   "source": [
    "import text2emotion as te\n",
    "\n",
    "## Add Emotion Grade into Dataframe\n",
    "edges['emotion_grade'] = edges['reply_text_cleaned'].map(lambda x: te.get_emotion(x))"
   ]
  },
  {
   "cell_type": "code",
   "execution_count": 122,
   "metadata": {
    "scrolled": true
   },
   "outputs": [
    {
     "data": {
      "text/html": [
       "<div>\n",
       "<style scoped>\n",
       "    .dataframe tbody tr th:only-of-type {\n",
       "        vertical-align: middle;\n",
       "    }\n",
       "\n",
       "    .dataframe tbody tr th {\n",
       "        vertical-align: top;\n",
       "    }\n",
       "\n",
       "    .dataframe thead th {\n",
       "        text-align: right;\n",
       "    }\n",
       "</style>\n",
       "<table border=\"1\" class=\"dataframe\">\n",
       "  <thead>\n",
       "    <tr style=\"text-align: right;\">\n",
       "      <th></th>\n",
       "      <th>Source</th>\n",
       "      <th>Target</th>\n",
       "      <th>reply_text</th>\n",
       "      <th>reply_text_cleaned</th>\n",
       "      <th>emotion_grade</th>\n",
       "      <th>emotion_grade_max</th>\n",
       "    </tr>\n",
       "  </thead>\n",
       "  <tbody>\n",
       "    <tr>\n",
       "      <th>0</th>\n",
       "      <td>to_fly_to_live</td>\n",
       "      <td>ANI</td>\n",
       "      <td>@ANI Isn't it the best poll promise ever?? Fre...</td>\n",
       "      <td>Isn't it the best poll promise ever?? Free Co...</td>\n",
       "      <td>{'Happy': 0.11, 'Angry': 0.0, 'Surprise': 0.33...</td>\n",
       "      <td>Surprise</td>\n",
       "    </tr>\n",
       "    <tr>\n",
       "      <th>1</th>\n",
       "      <td>bak_sahil</td>\n",
       "      <td>MisseeMonis</td>\n",
       "      <td>@MisseeMonis They said vaccine for all but not...</td>\n",
       "      <td>They said vaccine for all but not when. Free ...</td>\n",
       "      <td>{'Happy': 0.5, 'Angry': 0.0, 'Surprise': 0.25,...</td>\n",
       "      <td>Happy</td>\n",
       "    </tr>\n",
       "    <tr>\n",
       "      <th>2</th>\n",
       "      <td>clivebennett</td>\n",
       "      <td>theJeremyVine</td>\n",
       "      <td>@theJeremyVine And on the same day we heard th...</td>\n",
       "      <td>And on the same day we heard that a Covid vac...</td>\n",
       "      <td>{'Happy': 0.33, 'Angry': 0.0, 'Surprise': 0.0,...</td>\n",
       "      <td>Happy</td>\n",
       "    </tr>\n",
       "    <tr>\n",
       "      <th>3</th>\n",
       "      <td>raquelquefois</td>\n",
       "      <td>jim_dickinson</td>\n",
       "      <td>@jim_dickinson I’ve heard he died covid HOWEVE...</td>\n",
       "      <td>I’ve heard he died covid HOWEVER he hadn’t be...</td>\n",
       "      <td>{'Happy': 0.0, 'Angry': 0.0, 'Surprise': 0.5, ...</td>\n",
       "      <td>Surprise</td>\n",
       "    </tr>\n",
       "    <tr>\n",
       "      <th>4</th>\n",
       "      <td>hemagazineindia</td>\n",
       "      <td>HEmagazineIndia</td>\n",
       "      <td>@journoarunima @netshrink @doctorsoumya @c_ass...</td>\n",
       "      <td>6. AstraZeneca trial volunteer in Brazi...</td>\n",
       "      <td>{'Happy': 0.0, 'Angry': 0.0, 'Surprise': 0.0, ...</td>\n",
       "      <td>Fear</td>\n",
       "    </tr>\n",
       "  </tbody>\n",
       "</table>\n",
       "</div>"
      ],
      "text/plain": [
       "            Source           Target  \\\n",
       "0   to_fly_to_live              ANI   \n",
       "1        bak_sahil      MisseeMonis   \n",
       "2     clivebennett    theJeremyVine   \n",
       "3    raquelquefois    jim_dickinson   \n",
       "4  hemagazineindia  HEmagazineIndia   \n",
       "\n",
       "                                          reply_text  \\\n",
       "0  @ANI Isn't it the best poll promise ever?? Fre...   \n",
       "1  @MisseeMonis They said vaccine for all but not...   \n",
       "2  @theJeremyVine And on the same day we heard th...   \n",
       "3  @jim_dickinson I’ve heard he died covid HOWEVE...   \n",
       "4  @journoarunima @netshrink @doctorsoumya @c_ass...   \n",
       "\n",
       "                                  reply_text_cleaned  \\\n",
       "0   Isn't it the best poll promise ever?? Free Co...   \n",
       "1   They said vaccine for all but not when. Free ...   \n",
       "2   And on the same day we heard that a Covid vac...   \n",
       "3   I’ve heard he died covid HOWEVER he hadn’t be...   \n",
       "4         6. AstraZeneca trial volunteer in Brazi...   \n",
       "\n",
       "                                       emotion_grade emotion_grade_max  \n",
       "0  {'Happy': 0.11, 'Angry': 0.0, 'Surprise': 0.33...          Surprise  \n",
       "1  {'Happy': 0.5, 'Angry': 0.0, 'Surprise': 0.25,...             Happy  \n",
       "2  {'Happy': 0.33, 'Angry': 0.0, 'Surprise': 0.0,...             Happy  \n",
       "3  {'Happy': 0.0, 'Angry': 0.0, 'Surprise': 0.5, ...          Surprise  \n",
       "4  {'Happy': 0.0, 'Angry': 0.0, 'Surprise': 0.0, ...              Fear  "
      ]
     },
     "execution_count": 122,
     "metadata": {},
     "output_type": "execute_result"
    }
   ],
   "source": [
    "edges.head()"
   ]
  },
  {
   "cell_type": "code",
   "execution_count": 123,
   "metadata": {},
   "outputs": [],
   "source": [
    "edges.to_csv(\"data/Kaggle/twitter_data_analysis-edge-table-username-based-emotion.csv\", index=False)"
   ]
  },
  {
   "cell_type": "code",
   "execution_count": 121,
   "metadata": {},
   "outputs": [],
   "source": [
    "edges[\"emotion_grade_max\"] = edges['emotion_grade'].map(lambda x: 'neutral' if ( max(x.values()) == 0)  \n",
    "                                                        else max(x, key=x.get))"
   ]
  },
  {
   "cell_type": "code",
   "execution_count": 60,
   "metadata": {},
   "outputs": [
    {
     "name": "stdout",
     "output_type": "stream",
     "text": [
      "key3\n"
     ]
    }
   ],
   "source": [
    "stats = {'key1':20, 'key2':35, 'key3': 44}\n",
    "max_key = max(stats, key = stats.get)\n",
    "print(max_key)"
   ]
  },
  {
   "cell_type": "code",
   "execution_count": 75,
   "metadata": {},
   "outputs": [],
   "source": [
    "#### Drop the mid-processed columns , to save the memory space\n",
    "edges = edges.drop(columns=['decoded_text'])"
   ]
  },
  {
   "cell_type": "code",
   "execution_count": 92,
   "metadata": {},
   "outputs": [
    {
     "data": {
      "text/html": [
       "<div>\n",
       "<style scoped>\n",
       "    .dataframe tbody tr th:only-of-type {\n",
       "        vertical-align: middle;\n",
       "    }\n",
       "\n",
       "    .dataframe tbody tr th {\n",
       "        vertical-align: top;\n",
       "    }\n",
       "\n",
       "    .dataframe thead th {\n",
       "        text-align: right;\n",
       "    }\n",
       "</style>\n",
       "<table border=\"1\" class=\"dataframe\">\n",
       "  <thead>\n",
       "    <tr style=\"text-align: right;\">\n",
       "      <th></th>\n",
       "      <th>Source</th>\n",
       "      <th>Target</th>\n",
       "      <th>reply_text</th>\n",
       "      <th>reply_text_cleaned</th>\n",
       "      <th>emotion_grade</th>\n",
       "      <th>emotion_grade_max</th>\n",
       "    </tr>\n",
       "  </thead>\n",
       "  <tbody>\n",
       "    <tr>\n",
       "      <th>0</th>\n",
       "      <td>Bhagyas58431318</td>\n",
       "      <td>PragativadiNews</td>\n",
       "      <td>b'@PragativadiNews @Naveen_Odisha @CMO_Odisha ...</td>\n",
       "      <td>b'    Thank you sir,your fight against covid i...</td>\n",
       "      <td>{'Happy': 0.33, 'Angry': 0.0, 'Surprise': 0.33...</td>\n",
       "      <td>Happy</td>\n",
       "    </tr>\n",
       "    <tr>\n",
       "      <th>1</th>\n",
       "      <td>iamshramana1997</td>\n",
       "      <td>PragativadiNews</td>\n",
       "      <td>b'@PragativadiNews But online classes at KIIT ...</td>\n",
       "      <td>b' But online classes at KIIT are still going ...</td>\n",
       "      <td>{'Happy': 0.0, 'Angry': 0.0, 'Surprise': 0.5, ...</td>\n",
       "      <td>Surprise</td>\n",
       "    </tr>\n",
       "    <tr>\n",
       "      <th>2</th>\n",
       "      <td>KAUSTUB43759729</td>\n",
       "      <td>Sahana0207Kumar</td>\n",
       "      <td>b'@Sahana0207Kumar Ishant and bumrah in place ...</td>\n",
       "      <td>b' Ishant and bumrah in place of siraj and sha...</td>\n",
       "      <td>{'Happy': 0.0, 'Angry': 0.0, 'Surprise': 0.0, ...</td>\n",
       "      <td>Fear</td>\n",
       "    </tr>\n",
       "    <tr>\n",
       "      <th>3</th>\n",
       "      <td>Selva091076</td>\n",
       "      <td>Sahana0207Kumar</td>\n",
       "      <td>b'@Sahana0207Kumar Stay strong India \\xf0\\x9f\\...</td>\n",
       "      <td>b' Stay strong India '</td>\n",
       "      <td>{'Happy': 0.5, 'Angry': 0.5, 'Surprise': 0.0, ...</td>\n",
       "      <td>Happy</td>\n",
       "    </tr>\n",
       "    <tr>\n",
       "      <th>4</th>\n",
       "      <td>Sahana0207Kumar</td>\n",
       "      <td>Sahana0207Kumar</td>\n",
       "      <td>b'Stay Strong Hindustan\\xf0\\x9f\\x92\\xaa\\xf0\\x9...</td>\n",
       "      <td>b'Stay Strong HindustanWe will all together de...</td>\n",
       "      <td>{'Happy': 0.33, 'Angry': 0.33, 'Surprise': 0.0...</td>\n",
       "      <td>Happy</td>\n",
       "    </tr>\n",
       "    <tr>\n",
       "      <th>5</th>\n",
       "      <td>Myself_chanduu</td>\n",
       "      <td>Iam_Sudarshann</td>\n",
       "      <td>b'@Iam_Sudarshann Thanchu'</td>\n",
       "      <td>b' Thanchu'</td>\n",
       "      <td>{'Happy': 0, 'Angry': 0, 'Surprise': 0, 'Sad':...</td>\n",
       "      <td>neutral</td>\n",
       "    </tr>\n",
       "    <tr>\n",
       "      <th>6</th>\n",
       "      <td>JamesBond_oo7_</td>\n",
       "      <td>Iam_Sudarshann</td>\n",
       "      <td>b\"@Iam_Sudarshann I don't think so. let's see\"</td>\n",
       "      <td>b\" I don't think so. let's see\"</td>\n",
       "      <td>{'Happy': 0.0, 'Angry': 0.0, 'Surprise': 0.0, ...</td>\n",
       "      <td>Sad</td>\n",
       "    </tr>\n",
       "    <tr>\n",
       "      <th>7</th>\n",
       "      <td>MANI_BUNNY_CULT</td>\n",
       "      <td>Iam_Sudarshann</td>\n",
       "      <td>b'@Iam_Sudarshann @RusthumHere Link'</td>\n",
       "      <td>b'  Link'</td>\n",
       "      <td>{'Happy': 0, 'Angry': 0, 'Surprise': 0, 'Sad':...</td>\n",
       "      <td>neutral</td>\n",
       "    </tr>\n",
       "    <tr>\n",
       "      <th>8</th>\n",
       "      <td>JamesBond_oo7_</td>\n",
       "      <td>Iam_Sudarshann</td>\n",
       "      <td>b'@Iam_Sudarshann \\xf0\\x9f\\xa5\\xb2Thanks Anna'</td>\n",
       "      <td>b' Thanks Anna'</td>\n",
       "      <td>{'Happy': 0, 'Angry': 0, 'Surprise': 0, 'Sad':...</td>\n",
       "      <td>neutral</td>\n",
       "    </tr>\n",
       "    <tr>\n",
       "      <th>9</th>\n",
       "      <td>pratyu87</td>\n",
       "      <td>Iam_Sudarshann</td>\n",
       "      <td>b'@Iam_Sudarshann @Arjun55743275 @Naresh_varam...</td>\n",
       "      <td>b'    Thnq'</td>\n",
       "      <td>{'Happy': 0, 'Angry': 0, 'Surprise': 0, 'Sad':...</td>\n",
       "      <td>neutral</td>\n",
       "    </tr>\n",
       "  </tbody>\n",
       "</table>\n",
       "</div>"
      ],
      "text/plain": [
       "            Source           Target  \\\n",
       "0  Bhagyas58431318  PragativadiNews   \n",
       "1  iamshramana1997  PragativadiNews   \n",
       "2  KAUSTUB43759729  Sahana0207Kumar   \n",
       "3      Selva091076  Sahana0207Kumar   \n",
       "4  Sahana0207Kumar  Sahana0207Kumar   \n",
       "5   Myself_chanduu   Iam_Sudarshann   \n",
       "6   JamesBond_oo7_   Iam_Sudarshann   \n",
       "7  MANI_BUNNY_CULT   Iam_Sudarshann   \n",
       "8   JamesBond_oo7_   Iam_Sudarshann   \n",
       "9         pratyu87   Iam_Sudarshann   \n",
       "\n",
       "                                          reply_text  \\\n",
       "0  b'@PragativadiNews @Naveen_Odisha @CMO_Odisha ...   \n",
       "1  b'@PragativadiNews But online classes at KIIT ...   \n",
       "2  b'@Sahana0207Kumar Ishant and bumrah in place ...   \n",
       "3  b'@Sahana0207Kumar Stay strong India \\xf0\\x9f\\...   \n",
       "4  b'Stay Strong Hindustan\\xf0\\x9f\\x92\\xaa\\xf0\\x9...   \n",
       "5                         b'@Iam_Sudarshann Thanchu'   \n",
       "6     b\"@Iam_Sudarshann I don't think so. let's see\"   \n",
       "7               b'@Iam_Sudarshann @RusthumHere Link'   \n",
       "8     b'@Iam_Sudarshann \\xf0\\x9f\\xa5\\xb2Thanks Anna'   \n",
       "9  b'@Iam_Sudarshann @Arjun55743275 @Naresh_varam...   \n",
       "\n",
       "                                  reply_text_cleaned  \\\n",
       "0  b'    Thank you sir,your fight against covid i...   \n",
       "1  b' But online classes at KIIT are still going ...   \n",
       "2  b' Ishant and bumrah in place of siraj and sha...   \n",
       "3                             b' Stay strong India '   \n",
       "4  b'Stay Strong HindustanWe will all together de...   \n",
       "5                                        b' Thanchu'   \n",
       "6                    b\" I don't think so. let's see\"   \n",
       "7                                          b'  Link'   \n",
       "8                                    b' Thanks Anna'   \n",
       "9                                        b'    Thnq'   \n",
       "\n",
       "                                       emotion_grade emotion_grade_max  \n",
       "0  {'Happy': 0.33, 'Angry': 0.0, 'Surprise': 0.33...             Happy  \n",
       "1  {'Happy': 0.0, 'Angry': 0.0, 'Surprise': 0.5, ...          Surprise  \n",
       "2  {'Happy': 0.0, 'Angry': 0.0, 'Surprise': 0.0, ...              Fear  \n",
       "3  {'Happy': 0.5, 'Angry': 0.5, 'Surprise': 0.0, ...             Happy  \n",
       "4  {'Happy': 0.33, 'Angry': 0.33, 'Surprise': 0.0...             Happy  \n",
       "5  {'Happy': 0, 'Angry': 0, 'Surprise': 0, 'Sad':...           neutral  \n",
       "6  {'Happy': 0.0, 'Angry': 0.0, 'Surprise': 0.0, ...               Sad  \n",
       "7  {'Happy': 0, 'Angry': 0, 'Surprise': 0, 'Sad':...           neutral  \n",
       "8  {'Happy': 0, 'Angry': 0, 'Surprise': 0, 'Sad':...           neutral  \n",
       "9  {'Happy': 0, 'Angry': 0, 'Surprise': 0, 'Sad':...           neutral  "
      ]
     },
     "execution_count": 92,
     "metadata": {},
     "output_type": "execute_result"
    }
   ],
   "source": [
    "# edges.to_csv(\"data/Hnin_Tweeter_Api/may-11/temp_emotion_result.csv\", index= False)\n",
    "edges.head(10)"
   ]
  },
  {
   "cell_type": "markdown",
   "metadata": {},
   "source": [
    "### Save the final result "
   ]
  },
  {
   "cell_type": "code",
   "execution_count": 93,
   "metadata": {},
   "outputs": [],
   "source": [
    "edges.head(4)\n",
    "### Save the result\n",
    "edges.to_csv(\"data/Hnin_Tweeter_Api/may-11/twitter_data_analysis-05-11-15-edge-table-username-based-emotion.csv\", index=False)"
   ]
  },
  {
   "cell_type": "markdown",
   "metadata": {},
   "source": [
    "### Unit Tests"
   ]
  },
  {
   "cell_type": "code",
   "execution_count": 65,
   "metadata": {},
   "outputs": [
    {
     "data": {
      "text/plain": [
       "dict_values(['Ford', 'Mustang', 1964])"
      ]
     },
     "execution_count": 65,
     "metadata": {},
     "output_type": "execute_result"
    }
   ],
   "source": [
    "car = {\n",
    "  \"brand\": \"Ford\",\n",
    "  \"model\": \"Mustang\",\n",
    "  \"year\": 1964\n",
    "}\n",
    "\n",
    "x = car.values()\n",
    "x"
   ]
  },
  {
   "cell_type": "code",
   "execution_count": 190,
   "metadata": {},
   "outputs": [
    {
     "name": "stdout",
     "output_type": "stream",
     "text": [
      "@Sahana0207Kumar Stay strong India 🇮🇳\n",
      "<class 'str'>\n"
     ]
    },
    {
     "data": {
      "text/plain": [
       "{'Happy': 0.5, 'Angry': 0.5, 'Surprise': 0.0, 'Sad': 0.0, 'Fear': 0.0}"
      ]
     },
     "execution_count": 190,
     "metadata": {},
     "output_type": "execute_result"
    }
   ],
   "source": [
    "# text = b'@mayareddykp @kpbrindareddy Always welcome sister\\xf0\\x9f\\x99\\x8f\\xf0\\x9f\\x99\\x8f\\xf0\\x9f\\x99\\x8f'\n",
    "# text = b'@PragativadiNews But online classes at KIIT are still going on. Why?! \\xf0\\x9f\\x98\\xb6'\n",
    "text = b'@Sahana0207Kumar Stay strong India \\xf0\\x9f\\x87\\xae\\xf0\\x9f\\x87\\xb3'\n",
    "# text = b' \\xf0\\x9f\\xa5\\xb2 Thanks Anna'\n",
    "\n",
    "decoded_text = text.decode('utf-8')\n",
    "print(decoded_text)\n",
    "print(type(decoded_text))\n",
    "te.get_emotion(decoded_text)"
   ]
  },
  {
   "cell_type": "code",
   "execution_count": 94,
   "metadata": {},
   "outputs": [
    {
     "data": {
      "text/html": [
       "<div>\n",
       "<style scoped>\n",
       "    .dataframe tbody tr th:only-of-type {\n",
       "        vertical-align: middle;\n",
       "    }\n",
       "\n",
       "    .dataframe tbody tr th {\n",
       "        vertical-align: top;\n",
       "    }\n",
       "\n",
       "    .dataframe thead th {\n",
       "        text-align: right;\n",
       "    }\n",
       "</style>\n",
       "<table border=\"1\" class=\"dataframe\">\n",
       "  <thead>\n",
       "    <tr style=\"text-align: right;\">\n",
       "      <th></th>\n",
       "      <th>Id</th>\n",
       "      <th>label</th>\n",
       "    </tr>\n",
       "  </thead>\n",
       "  <tbody>\n",
       "    <tr>\n",
       "      <th>0</th>\n",
       "      <td>Bhagyas58431318</td>\n",
       "      <td>b'@PragativadiNews @Naveen_Odisha @CMO_Odisha ...</td>\n",
       "    </tr>\n",
       "    <tr>\n",
       "      <th>1</th>\n",
       "      <td>iamshramana1997</td>\n",
       "      <td>b'@PragativadiNews But online classes at KIIT ...</td>\n",
       "    </tr>\n",
       "    <tr>\n",
       "      <th>2</th>\n",
       "      <td>KAUSTUB43759729</td>\n",
       "      <td>b'@Sahana0207Kumar Ishant and bumrah in place ...</td>\n",
       "    </tr>\n",
       "    <tr>\n",
       "      <th>3</th>\n",
       "      <td>Selva091076</td>\n",
       "      <td>b'@Sahana0207Kumar Stay strong India \\xf0\\x9f\\...</td>\n",
       "    </tr>\n",
       "    <tr>\n",
       "      <th>4</th>\n",
       "      <td>Sahana0207Kumar</td>\n",
       "      <td>b'Stay Strong Hindustan\\xf0\\x9f\\x92\\xaa\\xf0\\x9...</td>\n",
       "    </tr>\n",
       "  </tbody>\n",
       "</table>\n",
       "</div>"
      ],
      "text/plain": [
       "                Id                                              label\n",
       "0  Bhagyas58431318  b'@PragativadiNews @Naveen_Odisha @CMO_Odisha ...\n",
       "1  iamshramana1997  b'@PragativadiNews But online classes at KIIT ...\n",
       "2  KAUSTUB43759729  b'@Sahana0207Kumar Ishant and bumrah in place ...\n",
       "3      Selva091076  b'@Sahana0207Kumar Stay strong India \\xf0\\x9f\\...\n",
       "4  Sahana0207Kumar  b'Stay Strong Hindustan\\xf0\\x9f\\x92\\xaa\\xf0\\x9..."
      ]
     },
     "execution_count": 94,
     "metadata": {},
     "output_type": "execute_result"
    }
   ],
   "source": [
    "### Copy the emo result to nodes\n",
    "df_node_table = pd.read_csv(\"data/Hnin_Tweeter_Api/may-11/twitter_data_analysis-05-11-15-node-table-username-based.csv\")\n",
    "\n"
   ]
  },
  {
   "cell_type": "code",
   "execution_count": 96,
   "metadata": {},
   "outputs": [
    {
     "data": {
      "text/plain": [
       "(1723, 6)"
      ]
     },
     "execution_count": 96,
     "metadata": {},
     "output_type": "execute_result"
    }
   ],
   "source": [
    "df_node_table.shape\n",
    "edges.shape"
   ]
  },
  {
   "cell_type": "code",
   "execution_count": 100,
   "metadata": {},
   "outputs": [],
   "source": [
    "df_node_table[\"label_cleaned\"] = df_node_table['label'].map(lambda x:  re.sub(r'\\bhttps?:\\/\\/.*[\\r\\n]*', '', x))\n",
    "\n",
    "df_node_table[\"label_cleaned\"] = df_node_table['label_cleaned'].map(lambda x:  re.sub(r'@[A-Za-z0-9,_]*', '', x))\n",
    "\n",
    "df_node_table[\"label_cleaned\"] = df_node_table['label_cleaned'].map(lambda x:  re.sub(r'[\\\\][x][0-9,a-f,A-F][0-9,a-f,A-F]*', '', x))\n"
   ]
  },
  {
   "cell_type": "code",
   "execution_count": 104,
   "metadata": {},
   "outputs": [],
   "source": [
    "### Adding \"Neutral\" emotion when all values are zeros\n",
    "df_node_table[\"emotion_grade_max\"] = df_node_table['emotion_grade'].map(lambda x: 'neutral' if ( max(x.values()) == 0)  \n",
    "                                                         else max(x, key=x.get))"
   ]
  },
  {
   "cell_type": "code",
   "execution_count": 107,
   "metadata": {},
   "outputs": [],
   "source": [
    "### Save the final result to CSV\n",
    "df_node_table.to_csv(\"data/Hnin_Tweeter_Api/may-11/twitter_data_analysis-05-11-15-node-table-username-based-emotion.csv\", index=False)\n"
   ]
  },
  {
   "cell_type": "code",
   "execution_count": 37,
   "metadata": {},
   "outputs": [
    {
     "data": {
      "text/html": [
       "<div>\n",
       "<style scoped>\n",
       "    .dataframe tbody tr th:only-of-type {\n",
       "        vertical-align: middle;\n",
       "    }\n",
       "\n",
       "    .dataframe tbody tr th {\n",
       "        vertical-align: top;\n",
       "    }\n",
       "\n",
       "    .dataframe thead th {\n",
       "        text-align: right;\n",
       "    }\n",
       "</style>\n",
       "<table border=\"1\" class=\"dataframe\">\n",
       "  <thead>\n",
       "    <tr style=\"text-align: right;\">\n",
       "      <th></th>\n",
       "      <th>Target</th>\n",
       "      <th>Source</th>\n",
       "      <th>reply_text</th>\n",
       "      <th>reply_text_cleaned</th>\n",
       "      <th>emotion_grade</th>\n",
       "      <th>emotion_grade_max</th>\n",
       "    </tr>\n",
       "  </thead>\n",
       "  <tbody>\n",
       "    <tr>\n",
       "      <th>6</th>\n",
       "      <td>JPulasaria</td>\n",
       "      <td>403</td>\n",
       "      <td>403</td>\n",
       "      <td>403</td>\n",
       "      <td>403</td>\n",
       "      <td>403</td>\n",
       "    </tr>\n",
       "    <tr>\n",
       "      <th>2</th>\n",
       "      <td>BertyThomas</td>\n",
       "      <td>363</td>\n",
       "      <td>363</td>\n",
       "      <td>363</td>\n",
       "      <td>363</td>\n",
       "      <td>363</td>\n",
       "    </tr>\n",
       "    <tr>\n",
       "      <th>10</th>\n",
       "      <td>RFhospital</td>\n",
       "      <td>305</td>\n",
       "      <td>305</td>\n",
       "      <td>305</td>\n",
       "      <td>305</td>\n",
       "      <td>305</td>\n",
       "    </tr>\n",
       "    <tr>\n",
       "      <th>13</th>\n",
       "      <td>logicalkpmurthy</td>\n",
       "      <td>238</td>\n",
       "      <td>238</td>\n",
       "      <td>238</td>\n",
       "      <td>238</td>\n",
       "      <td>238</td>\n",
       "    </tr>\n",
       "    <tr>\n",
       "      <th>7</th>\n",
       "      <td>Kalingatv</td>\n",
       "      <td>136</td>\n",
       "      <td>136</td>\n",
       "      <td>136</td>\n",
       "      <td>136</td>\n",
       "      <td>136</td>\n",
       "    </tr>\n",
       "    <tr>\n",
       "      <th>4</th>\n",
       "      <td>IamAlone__SM</td>\n",
       "      <td>126</td>\n",
       "      <td>126</td>\n",
       "      <td>126</td>\n",
       "      <td>126</td>\n",
       "      <td>126</td>\n",
       "    </tr>\n",
       "    <tr>\n",
       "      <th>11</th>\n",
       "      <td>RashminPulekar</td>\n",
       "      <td>64</td>\n",
       "      <td>64</td>\n",
       "      <td>64</td>\n",
       "      <td>64</td>\n",
       "      <td>64</td>\n",
       "    </tr>\n",
       "    <tr>\n",
       "      <th>0</th>\n",
       "      <td>Arshad_shannu</td>\n",
       "      <td>33</td>\n",
       "      <td>33</td>\n",
       "      <td>33</td>\n",
       "      <td>33</td>\n",
       "      <td>33</td>\n",
       "    </tr>\n",
       "    <tr>\n",
       "      <th>5</th>\n",
       "      <td>Iam_Sudarshann</td>\n",
       "      <td>16</td>\n",
       "      <td>16</td>\n",
       "      <td>16</td>\n",
       "      <td>16</td>\n",
       "      <td>16</td>\n",
       "    </tr>\n",
       "    <tr>\n",
       "      <th>1</th>\n",
       "      <td>Ashwani_sadhu</td>\n",
       "      <td>14</td>\n",
       "      <td>14</td>\n",
       "      <td>14</td>\n",
       "      <td>14</td>\n",
       "      <td>14</td>\n",
       "    </tr>\n",
       "    <tr>\n",
       "      <th>8</th>\n",
       "      <td>NxtGenEngineer</td>\n",
       "      <td>10</td>\n",
       "      <td>10</td>\n",
       "      <td>10</td>\n",
       "      <td>10</td>\n",
       "      <td>10</td>\n",
       "    </tr>\n",
       "    <tr>\n",
       "      <th>3</th>\n",
       "      <td>GomathiRaghava4</td>\n",
       "      <td>9</td>\n",
       "      <td>9</td>\n",
       "      <td>9</td>\n",
       "      <td>9</td>\n",
       "      <td>9</td>\n",
       "    </tr>\n",
       "    <tr>\n",
       "      <th>12</th>\n",
       "      <td>Sahana0207Kumar</td>\n",
       "      <td>3</td>\n",
       "      <td>3</td>\n",
       "      <td>3</td>\n",
       "      <td>3</td>\n",
       "      <td>3</td>\n",
       "    </tr>\n",
       "    <tr>\n",
       "      <th>9</th>\n",
       "      <td>PragativadiNews</td>\n",
       "      <td>2</td>\n",
       "      <td>2</td>\n",
       "      <td>2</td>\n",
       "      <td>2</td>\n",
       "      <td>2</td>\n",
       "    </tr>\n",
       "    <tr>\n",
       "      <th>14</th>\n",
       "      <td>wittyshaman</td>\n",
       "      <td>1</td>\n",
       "      <td>1</td>\n",
       "      <td>1</td>\n",
       "      <td>1</td>\n",
       "      <td>1</td>\n",
       "    </tr>\n",
       "  </tbody>\n",
       "</table>\n",
       "</div>"
      ],
      "text/plain": [
       "             Target  Source  reply_text  reply_text_cleaned  emotion_grade  \\\n",
       "6        JPulasaria     403         403                 403            403   \n",
       "2       BertyThomas     363         363                 363            363   \n",
       "10       RFhospital     305         305                 305            305   \n",
       "13  logicalkpmurthy     238         238                 238            238   \n",
       "7         Kalingatv     136         136                 136            136   \n",
       "4      IamAlone__SM     126         126                 126            126   \n",
       "11   RashminPulekar      64          64                  64             64   \n",
       "0     Arshad_shannu      33          33                  33             33   \n",
       "5    Iam_Sudarshann      16          16                  16             16   \n",
       "1     Ashwani_sadhu      14          14                  14             14   \n",
       "8    NxtGenEngineer      10          10                  10             10   \n",
       "3   GomathiRaghava4       9           9                   9              9   \n",
       "12  Sahana0207Kumar       3           3                   3              3   \n",
       "9   PragativadiNews       2           2                   2              2   \n",
       "14      wittyshaman       1           1                   1              1   \n",
       "\n",
       "    emotion_grade_max  \n",
       "6                 403  \n",
       "2                 363  \n",
       "10                305  \n",
       "13                238  \n",
       "7                 136  \n",
       "4                 126  \n",
       "11                 64  \n",
       "0                  33  \n",
       "5                  16  \n",
       "1                  14  \n",
       "8                  10  \n",
       "3                   9  \n",
       "12                  3  \n",
       "9                   2  \n",
       "14                  1  "
      ]
     },
     "execution_count": 37,
     "metadata": {},
     "output_type": "execute_result"
    }
   ],
   "source": [
    "edge_table = pd.read_csv(\"data/Hnin_Tweeter_Api/may-11/twitter_data_analysis-05-11-15-edge-table-username-based-emotion.csv\")\n",
    "reply_count_df = edge_table.groupby(['Target']).count().reset_index()\n",
    "reply_count_df = reply_count_df.sort_values(by='Source', ascending=False)\n",
    "reply_count_df"
   ]
  },
  {
   "cell_type": "code",
   "execution_count": 39,
   "metadata": {},
   "outputs": [
    {
     "data": {
      "text/plain": [
       "937"
      ]
     },
     "execution_count": 39,
     "metadata": {},
     "output_type": "execute_result"
    }
   ],
   "source": [
    "edge_table.shape #1723\n",
    "len(edge_table['Target'].unique()) #15\n",
    "len(edge_table['Source'].unique()) # 937"
   ]
  },
  {
   "cell_type": "markdown",
   "metadata": {},
   "source": [
    "### Unit Testing for Emotion"
   ]
  },
  {
   "cell_type": "code",
   "execution_count": 54,
   "metadata": {},
   "outputs": [
    {
     "data": {
      "text/plain": [
       "'Happy'"
      ]
     },
     "execution_count": 54,
     "metadata": {},
     "output_type": "execute_result"
    }
   ],
   "source": [
    "x = {'Happy': 0, 'Angry': 0, 'Surprise': 0, 'Sad': 0, 'Fear': 0}\n",
    "result =  'neutral' if ( ((max(x, key=x.get) == 0))) else max(x, key=x.get)\n",
    "result"
   ]
  },
  {
   "cell_type": "code",
   "execution_count": 195,
   "metadata": {},
   "outputs": [
    {
     "name": "stdout",
     "output_type": "stream",
     "text": [
      "<class 'bytes'>\n",
      "thank you so much 🙏🏻\n",
      "{'Happy': 0, 'Angry': 0, 'Surprise': 0, 'Sad': 0, 'Fear': 0}\n"
     ]
    },
    {
     "data": {
      "text/plain": [
       "{'Happy': 1.0, 'Angry': 0.0, 'Surprise': 0.0, 'Sad': 0.0, 'Fear': 0.0}"
      ]
     },
     "execution_count": 195,
     "metadata": {},
     "output_type": "execute_result"
    }
   ],
   "source": [
    "import text2emotion as te\n",
    "\n",
    "#test_text_2 = b' \\xf0\\x9f\\xa5\\xb2 Thanks Anna'\n",
    "# test_text_2 = b' Public be like\\xf0\\x9f\\x9a\\xb6\\xe2\\x80\\x8d'\n",
    "# test_text = b' Great work. Your telegram channel is a life saver in this chaos. Thank you for what you have done \\xf0\\x9f\\x99\\x8f\\xf0\\x9f\\x8f\\xbb'\n",
    "test_text_2 = b'thank you so much \\xf0\\x9f\\x99\\x8f\\xf0\\x9f\\x8f\\xbb'\n",
    "\n",
    "print(type(test_text_2))\n",
    "\n",
    "decoded_text = test_text_2.decode('utf-8')\n",
    "print(decoded_text)\n",
    "print(te.get_emotion(decoded_text))\n",
    "\n",
    "\n",
    "text = \"Day was pretty amazing😃😃\"\n",
    "te.get_emotion(text)"
   ]
  },
  {
   "cell_type": "code",
   "execution_count": 97,
   "metadata": {},
   "outputs": [],
   "source": [
    "clean_tweets_list = edges['decoded_text']\n",
    "emotion_list = []\n",
    "\n",
    "for tweet in clean_tweets_list:\n",
    "#     decoded_text = test_text.decode('utf-8')\n",
    "    emotion_list.append(te.get_emotion(tweet))"
   ]
  },
  {
   "cell_type": "code",
   "execution_count": 99,
   "metadata": {},
   "outputs": [],
   "source": [
    "len(emotion_list)\n",
    "edges['emotion_result'] = emotion_list"
   ]
  },
  {
   "cell_type": "code",
   "execution_count": 101,
   "metadata": {},
   "outputs": [
    {
     "data": {
      "text/plain": [
       "{'Happy': 0.0, 'Angry': 0.0, 'Surprise': 0.0, 'Sad': 1.0, 'Fear': 0.0}"
      ]
     },
     "execution_count": 101,
     "metadata": {},
     "output_type": "execute_result"
    }
   ],
   "source": [
    "edges['emotion_result'][6]"
   ]
  },
  {
   "cell_type": "code",
   "execution_count": 26,
   "metadata": {},
   "outputs": [
    {
     "name": "stdout",
     "output_type": "stream",
     "text": [
      "😍\n",
      "😁\n"
     ]
    }
   ],
   "source": [
    "# emotion_list\n",
    "print(\"\\U0001F60D\")\n",
    "print(\"\\U0001F601\")\n"
   ]
  },
  {
   "cell_type": "markdown",
   "metadata": {},
   "source": [
    "### Unit Testing "
   ]
  },
  {
   "cell_type": "code",
   "execution_count": null,
   "metadata": {},
   "outputs": [],
   "source": [
    "a_dictionary = {'Happy': 0.5, 'Angry': 0.5, 'Surprise': 0.0, 'Sad': 0.0, 'Fear': 0.0}\n",
    "\n",
    "max_key = max(a_dictionary, key=a_dictionary.get)\n",
    "max_key"
   ]
  }
 ],
 "metadata": {
  "kernelspec": {
   "display_name": "Python 3",
   "language": "python",
   "name": "python3"
  },
  "language_info": {
   "codemirror_mode": {
    "name": "ipython",
    "version": 3
   },
   "file_extension": ".py",
   "mimetype": "text/x-python",
   "name": "python",
   "nbconvert_exporter": "python",
   "pygments_lexer": "ipython3",
   "version": "3.8.5"
  }
 },
 "nbformat": 4,
 "nbformat_minor": 2
}
